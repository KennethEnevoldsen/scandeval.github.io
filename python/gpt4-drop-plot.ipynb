{
 "cells": [
  {
   "cell_type": "code",
   "execution_count": 1,
   "id": "60800e06-f7ce-48a9-b05d-8af9c52aeb12",
   "metadata": {},
   "outputs": [],
   "source": [
    "import pandas as pd\n",
    "from pathlib import Path\n",
    "import re\n",
    "import matplotlib.pyplot as plt\n",
    "import matplotlib.patches as mpatches\n",
    "\n",
    "plt.style.use('ggplot')"
   ]
  },
  {
   "cell_type": "code",
   "execution_count": 2,
   "id": "1e6ba825-14e6-4f08-8a49-f2f003300cfb",
   "metadata": {},
   "outputs": [
    {
     "data": {
      "text/plain": [
       "'https://scandeval.com/{language}-nlg.csv'"
      ]
     },
     "execution_count": 2,
     "metadata": {},
     "output_type": "execute_result"
    }
   ],
   "source": [
    "CSV_PATHS = 'https://scandeval.com/{language}-nlg.csv'\n",
    "#CSV_PATHS = str(Path.home() / \"gitsky\" / \"scandeval.com\" / \"{language}-nlg-test.csv\")\n",
    "CSV_PATHS"
   ]
  },
  {
   "cell_type": "code",
   "execution_count": 3,
   "id": "36c795da-3fcb-4b7d-a51d-296be7c1b5cf",
   "metadata": {},
   "outputs": [
    {
     "data": {
      "text/html": [
       "<div>\n",
       "<style scoped>\n",
       "    .dataframe tbody tr th:only-of-type {\n",
       "        vertical-align: middle;\n",
       "    }\n",
       "\n",
       "    .dataframe tbody tr th {\n",
       "        vertical-align: top;\n",
       "    }\n",
       "\n",
       "    .dataframe thead th {\n",
       "        text-align: right;\n",
       "    }\n",
       "</style>\n",
       "<table border=\"1\" class=\"dataframe\">\n",
       "  <thead>\n",
       "    <tr style=\"text-align: right;\">\n",
       "      <th></th>\n",
       "      <th>danish</th>\n",
       "      <th>norwegian</th>\n",
       "      <th>swedish</th>\n",
       "      <th>german</th>\n",
       "      <th>dutch</th>\n",
       "      <th>english</th>\n",
       "      <th>icelandic</th>\n",
       "    </tr>\n",
       "  </thead>\n",
       "  <tbody>\n",
       "    <tr>\n",
       "      <th>gpt-4</th>\n",
       "      <td>1.12</td>\n",
       "      <td>1.17</td>\n",
       "      <td>1.10</td>\n",
       "      <td>1.18</td>\n",
       "      <td>1.14</td>\n",
       "      <td>1.22</td>\n",
       "      <td>1.54</td>\n",
       "    </tr>\n",
       "    <tr>\n",
       "      <th>gpt-4-turbo</th>\n",
       "      <td>1.20</td>\n",
       "      <td>1.26</td>\n",
       "      <td>1.19</td>\n",
       "      <td>1.33</td>\n",
       "      <td>1.45</td>\n",
       "      <td>1.16</td>\n",
       "      <td>1.19</td>\n",
       "    </tr>\n",
       "    <tr>\n",
       "      <th>gpt-4o</th>\n",
       "      <td>1.23</td>\n",
       "      <td>1.31</td>\n",
       "      <td>1.18</td>\n",
       "      <td>1.44</td>\n",
       "      <td>1.54</td>\n",
       "      <td>1.36</td>\n",
       "      <td>1.17</td>\n",
       "    </tr>\n",
       "    <tr>\n",
       "      <th>llama-2-70b</th>\n",
       "      <td>1.73</td>\n",
       "      <td>2.25</td>\n",
       "      <td>1.85</td>\n",
       "      <td>1.71</td>\n",
       "      <td>2.15</td>\n",
       "      <td>1.54</td>\n",
       "      <td>3.32</td>\n",
       "    </tr>\n",
       "    <tr>\n",
       "      <th>llama-3-70b</th>\n",
       "      <td>1.46</td>\n",
       "      <td>1.45</td>\n",
       "      <td>1.38</td>\n",
       "      <td>1.36</td>\n",
       "      <td>1.34</td>\n",
       "      <td>1.33</td>\n",
       "      <td>2.45</td>\n",
       "    </tr>\n",
       "  </tbody>\n",
       "</table>\n",
       "</div>"
      ],
      "text/plain": [
       "             danish  norwegian  swedish  german  dutch  english  icelandic\n",
       "gpt-4          1.12       1.17     1.10    1.18   1.14     1.22       1.54\n",
       "gpt-4-turbo    1.20       1.26     1.19    1.33   1.45     1.16       1.19\n",
       "gpt-4o         1.23       1.31     1.18    1.44   1.54     1.36       1.17\n",
       "llama-2-70b    1.73       2.25     1.85    1.71   2.15     1.54       3.32\n",
       "llama-3-70b    1.46       1.45     1.38    1.36   1.34     1.33       2.45"
      ]
     },
     "execution_count": 3,
     "metadata": {},
     "output_type": "execute_result"
    }
   ],
   "source": [
    "gpt4_models = {\n",
    "    \"gpt-4-0613\": \"gpt-4\",\n",
    "    \"gpt-4-1106-preview\": \"gpt-4-turbo\",\n",
    "    \"gpt-4o-2024-05-13\": \"gpt-4o\",\n",
    "}\n",
    "llama_models = {\n",
    "    \"meta-llama/Llama-2-70b-hf\": \"llama-2-70b\",\n",
    "    \"meta-llama/Meta-Llama-3-70B\": \"llama-3-70b\",\n",
    "}\n",
    "\n",
    "all_models = list(gpt4_models.keys()) + list(llama_models.keys())\n",
    "all_new_models = list(gpt4_models.values()) + list(llama_models.values())\n",
    "\n",
    "results_dict = dict()\n",
    "for language in ['danish', 'norwegian', 'swedish', 'german', 'dutch', 'english', 'icelandic']:\n",
    "    df = (\n",
    "        pd\n",
    "        .read_csv(CSV_PATHS.format(language=language))\n",
    "        .query('merge == False')\n",
    "        .set_index('model_id')\n",
    "    )\n",
    "    df.index = df.index.map(lambda x: re.sub('\\(.*\\)', '', x).strip())\n",
    "    scores = df['rank']\n",
    "\n",
    "    for model in gpt4_models:\n",
    "        if model not in scores:\n",
    "            scores.loc[model] = scores.loc[list(gpt4_models.keys())[0]]\n",
    "            \n",
    "    for model in llama_models:\n",
    "        if model not in scores:\n",
    "            scores.loc[model] = scores.loc[list(llama_models.keys())[0]]\n",
    "            \n",
    "    scores = scores.loc[all_models]\n",
    "    results_dict[language] = scores.tolist()\n",
    "\n",
    "df = pd.DataFrame(results_dict, index=all_new_models)\n",
    "df"
   ]
  },
  {
   "cell_type": "code",
   "execution_count": 4,
   "id": "d49eb020-ccc9-45f1-ae34-3ac04999ae5c",
   "metadata": {},
   "outputs": [
    {
     "data": {
      "text/plain": [
       "danish       1.12\n",
       "norwegian    1.17\n",
       "swedish      1.10\n",
       "german       1.18\n",
       "dutch        1.14\n",
       "english      1.22\n",
       "icelandic    1.54\n",
       "Name: gpt-4, dtype: float64"
      ]
     },
     "execution_count": 4,
     "metadata": {},
     "output_type": "execute_result"
    }
   ],
   "source": [
    "gpt4_values = df.loc[list(gpt4_models.values())[0]]\n",
    "gpt4_values"
   ]
  },
  {
   "cell_type": "code",
   "execution_count": 5,
   "id": "10595c05-7121-4cba-be66-708e1a8239dc",
   "metadata": {},
   "outputs": [
    {
     "data": {
      "text/html": [
       "<div>\n",
       "<style scoped>\n",
       "    .dataframe tbody tr th:only-of-type {\n",
       "        vertical-align: middle;\n",
       "    }\n",
       "\n",
       "    .dataframe tbody tr th {\n",
       "        vertical-align: top;\n",
       "    }\n",
       "\n",
       "    .dataframe thead th {\n",
       "        text-align: right;\n",
       "    }\n",
       "</style>\n",
       "<table border=\"1\" class=\"dataframe\">\n",
       "  <thead>\n",
       "    <tr style=\"text-align: right;\">\n",
       "      <th></th>\n",
       "      <th>danish</th>\n",
       "      <th>norwegian</th>\n",
       "      <th>swedish</th>\n",
       "      <th>german</th>\n",
       "      <th>dutch</th>\n",
       "      <th>english</th>\n",
       "      <th>icelandic</th>\n",
       "    </tr>\n",
       "  </thead>\n",
       "  <tbody>\n",
       "    <tr>\n",
       "      <th>gpt-4</th>\n",
       "      <td>0.00</td>\n",
       "      <td>0.00</td>\n",
       "      <td>0.00</td>\n",
       "      <td>0.00</td>\n",
       "      <td>0.00</td>\n",
       "      <td>0.00</td>\n",
       "      <td>0.00</td>\n",
       "    </tr>\n",
       "    <tr>\n",
       "      <th>gpt-4-turbo</th>\n",
       "      <td>-0.08</td>\n",
       "      <td>-0.09</td>\n",
       "      <td>-0.09</td>\n",
       "      <td>-0.15</td>\n",
       "      <td>-0.31</td>\n",
       "      <td>0.06</td>\n",
       "      <td>0.35</td>\n",
       "    </tr>\n",
       "    <tr>\n",
       "      <th>gpt-4o</th>\n",
       "      <td>-0.11</td>\n",
       "      <td>-0.14</td>\n",
       "      <td>-0.08</td>\n",
       "      <td>-0.26</td>\n",
       "      <td>-0.40</td>\n",
       "      <td>-0.14</td>\n",
       "      <td>0.37</td>\n",
       "    </tr>\n",
       "  </tbody>\n",
       "</table>\n",
       "</div>"
      ],
      "text/plain": [
       "             danish  norwegian  swedish  german  dutch  english  icelandic\n",
       "gpt-4          0.00       0.00     0.00    0.00   0.00     0.00       0.00\n",
       "gpt-4-turbo   -0.08      -0.09    -0.09   -0.15  -0.31     0.06       0.35\n",
       "gpt-4o        -0.11      -0.14    -0.08   -0.26  -0.40    -0.14       0.37"
      ]
     },
     "execution_count": 5,
     "metadata": {},
     "output_type": "execute_result"
    }
   ],
   "source": [
    "gpt4_df = df.loc[list(gpt4_models.values())]\n",
    "gpt4_df = gpt4_values - gpt4_df\n",
    "gpt4_df"
   ]
  },
  {
   "cell_type": "code",
   "execution_count": 6,
   "id": "5e6aa2dd-47d9-4080-ace5-a651fbbaf704",
   "metadata": {},
   "outputs": [
    {
     "data": {
      "text/html": [
       "<div>\n",
       "<style scoped>\n",
       "    .dataframe tbody tr th:only-of-type {\n",
       "        vertical-align: middle;\n",
       "    }\n",
       "\n",
       "    .dataframe tbody tr th {\n",
       "        vertical-align: top;\n",
       "    }\n",
       "\n",
       "    .dataframe thead th {\n",
       "        text-align: right;\n",
       "    }\n",
       "</style>\n",
       "<table border=\"1\" class=\"dataframe\">\n",
       "  <thead>\n",
       "    <tr style=\"text-align: right;\">\n",
       "      <th></th>\n",
       "      <th>danish</th>\n",
       "      <th>norwegian</th>\n",
       "      <th>swedish</th>\n",
       "      <th>german</th>\n",
       "      <th>dutch</th>\n",
       "      <th>english</th>\n",
       "      <th>icelandic</th>\n",
       "    </tr>\n",
       "  </thead>\n",
       "  <tbody>\n",
       "    <tr>\n",
       "      <th>llama-2-70b</th>\n",
       "      <td>-0.61</td>\n",
       "      <td>-1.08</td>\n",
       "      <td>-0.75</td>\n",
       "      <td>-0.53</td>\n",
       "      <td>-1.01</td>\n",
       "      <td>-0.32</td>\n",
       "      <td>-1.78</td>\n",
       "    </tr>\n",
       "    <tr>\n",
       "      <th>llama-3-70b</th>\n",
       "      <td>-0.34</td>\n",
       "      <td>-0.28</td>\n",
       "      <td>-0.28</td>\n",
       "      <td>-0.18</td>\n",
       "      <td>-0.20</td>\n",
       "      <td>-0.11</td>\n",
       "      <td>-0.91</td>\n",
       "    </tr>\n",
       "  </tbody>\n",
       "</table>\n",
       "</div>"
      ],
      "text/plain": [
       "             danish  norwegian  swedish  german  dutch  english  icelandic\n",
       "llama-2-70b   -0.61      -1.08    -0.75   -0.53  -1.01    -0.32      -1.78\n",
       "llama-3-70b   -0.34      -0.28    -0.28   -0.18  -0.20    -0.11      -0.91"
      ]
     },
     "execution_count": 6,
     "metadata": {},
     "output_type": "execute_result"
    }
   ],
   "source": [
    "llama_df = df.loc[list(llama_models.values())]\n",
    "llama_df = gpt4_values - llama_df\n",
    "llama_df"
   ]
  },
  {
   "cell_type": "code",
   "execution_count": 7,
   "id": "c1a584e7-d3cd-4c2e-abb5-96c0034361d6",
   "metadata": {},
   "outputs": [
    {
     "data": {
      "image/png": "[encoded data removed]",
      "text/plain": [
       "<Figure size 500x400 with 1 Axes>"
      ]
     },
     "metadata": {},
     "output_type": "display_data"
    }
   ],
   "source": [
    "#fig, ax = plt.subplots(nrows=1, ncols=2, figsize=(10, 4))\n",
    "plt.figure(figsize=(5,4))\n",
    "\n",
    "plt.plot(gpt4_df.english, label=\"English\", color='red')\n",
    "plt.plot(gpt4_df.swedish, label=\"Swedish\", color='blue')\n",
    "plt.plot(gpt4_df.danish, label=\"Danish\", color='green')\n",
    "plt.plot(gpt4_df.german, label=\"German\", color='orange')\n",
    "plt.plot(gpt4_df.norwegian, label=\"Norwegian\", color='pink')\n",
    "plt.plot(gpt4_df.dutch, label=\"Dutch\", color='purple')\n",
    "plt.plot(gpt4_df.icelandic, label=\"Icelandic\", color='gray')\n",
    "plt.ylim(-0.5, 0.5)\n",
    "\n",
    "# ax[1].plot(llama_df.english, color='red')\n",
    "# ax[1].plot(llama_df.swedish, color='blue')\n",
    "# ax[1].plot(llama_df.danish, color='green')\n",
    "# ax[1].plot(llama_df.german, color='orange')\n",
    "# ax[1].plot(llama_df.norwegian, color='pink')\n",
    "# ax[1].plot(llama_df.dutch, color='purple')\n",
    "# ax[1].plot(llama_df.icelandic, color='gray')\n",
    "# ax[1].set_ylim(-0.5, 0.1)\n",
    "\n",
    "plt.ylabel('ScandEval rank relative to GPT-4-0613', fontsize=10)\n",
    "plt.legend(bbox_to_anchor=(1.05, 0.68))\n",
    "\n",
    "plt.savefig('gpt4-drop.png', bbox_inches=\"tight\", dpi=300)\n",
    "plt.show()"
   ]
  }
 ],
 "metadata": {
  "kernelspec": {
   "display_name": "Python 3 (ipykernel)",
   "language": "python",
   "name": "python3"
  },
  "language_info": {
   "codemirror_mode": {
    "name": "ipython",
    "version": 3
   },
   "file_extension": ".py",
   "mimetype": "text/x-python",
   "name": "python",
   "nbconvert_exporter": "python",
   "pygments_lexer": "ipython3",
   "version": "3.10.14"
  }
 },
 "nbformat": 4,
 "nbformat_minor": 5
}
