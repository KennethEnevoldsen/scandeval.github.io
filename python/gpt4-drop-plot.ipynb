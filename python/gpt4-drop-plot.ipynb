{
 "cells": [
  {
   "cell_type": "code",
   "execution_count": null,
   "id": "60800e06-f7ce-48a9-b05d-8af9c52aeb12",
   "metadata": {},
   "outputs": [],
   "source": [
    "import pandas as pd\n",
    "from pathlib import Path\n",
    "import re\n",
    "import matplotlib.pyplot as plt\n",
    "import matplotlib.patches as mpatches\n",
    "\n",
    "plt.style.use('ggplot')"
   ]
  },
  {
   "cell_type": "code",
   "execution_count": null,
   "id": "1e6ba825-14e6-4f08-8a49-f2f003300cfb",
   "metadata": {},
   "outputs": [],
   "source": [
    "CSV_PATHS = 'https://scandeval.com/{language}-nlg.csv'\n",
    "# CSV_PATHS = str(Path.home() / \"gitsky\" / \"scandeval.com\" / \"{language}-nlg-test.csv\")\n",
    "CSV_PATHS"
   ]
  },
  {
   "cell_type": "code",
   "execution_count": null,
   "id": "04ab7ffe-6580-4fab-a937-9a8d6d2091ad",
   "metadata": {},
   "outputs": [],
   "source": [
    "LANGUAGES = ['da', 'no', 'sv', 'de', 'nl', 'en']"
   ]
  },
  {
   "cell_type": "code",
   "execution_count": null,
   "id": "f9fcd1ed-ed59-4bce-9761-3e5f63f48419",
   "metadata": {},
   "outputs": [],
   "source": [
    "models = {\n",
    "    \"gpt-4-0613\": \"gpt-4\",\n",
    "    \"gpt-4-1106-preview\": \"gpt-4-turbo\",\n",
    "    \"gpt-4o-2024-05-13\": \"gpt-4o\",\n",
    "    \"meta-llama/Llama-2-70b-hf\": \"llama-2-70b\",\n",
    "    \"meta-llama/Meta-Llama-3-70B\": \"llama-3-70b\",\n",
    "}\n",
    "\n",
    "all_models = list(models.keys())\n",
    "all_new_models = list(models.values())\n",
    "\n",
    "results_dict = dict()\n",
    "for language in LANGUAGES:\n",
    "    df = (\n",
    "        pd\n",
    "        .read_csv(CSV_PATHS.format(language=\"germanic\"))\n",
    "        .query('merge == False')\n",
    "        .set_index('model_id')\n",
    "    )\n",
    "    df.index = df.index.map(lambda x: re.sub('\\(.*\\)', '', x).strip())\n",
    "    scores = df[f'{language}_rank']\n",
    "\n",
    "    for model in gpt4_models:\n",
    "        if model not in scores:\n",
    "            scores.loc[model] = scores.loc[list(gpt4_models.keys())[0]]\n",
    "            \n",
    "    scores = scores.loc[all_models]\n",
    "    results_dict[language] = scores.tolist()\n",
    "\n",
    "df = pd.DataFrame(results_dict, index=all_new_models)\n",
    "df"
   ]
  },
  {
   "cell_type": "code",
   "execution_count": null,
   "id": "d49eb020-ccc9-45f1-ae34-3ac04999ae5c",
   "metadata": {},
   "outputs": [],
   "source": [
    "gpt4_models = {model_id: model_name for model_id, model_name in models.items() if \"gpt-4\" in model_name}\n",
    "gpt4_values = df.loc[list(gpt4_models.values())[0]]\n",
    "gpt4_values"
   ]
  },
  {
   "cell_type": "code",
   "execution_count": null,
   "id": "10595c05-7121-4cba-be66-708e1a8239dc",
   "metadata": {},
   "outputs": [],
   "source": [
    "gpt4_df = df.loc[list(gpt4_models.values())]\n",
    "gpt4_df = gpt4_values - gpt4_df\n",
    "gpt4_df[\"germanic\"] = gpt4_df.mean(axis=1)\n",
    "gpt4_df"
   ]
  },
  {
   "cell_type": "code",
   "execution_count": null,
   "id": "5f917121-3b54-467d-ac74-4d3bfce77317",
   "metadata": {},
   "outputs": [],
   "source": [
    "plt.figure(figsize=(5,4))\n",
    "\n",
    "plt.plot(gpt4_df.en, label=\"English\", color='red')\n",
    "plt.plot(gpt4_df.da, label=\"Danish\", color='blue')\n",
    "plt.plot(gpt4_df.sv, label=\"Swedish\", color='purple')\n",
    "plt.plot(gpt4_df.no, label=\"Norwegian\", color='black')\n",
    "plt.plot(gpt4_df.de, label=\"German\", color='green')\n",
    "plt.plot(gpt4_df.nl, label=\"Dutch\", color='yellow')\n",
    "\n",
    "plt.fill_between(x=gpt4_df.index.tolist(), y1=-0.4, y2=0.0, facecolor='red', alpha=0.05, label=\"Worse than GPT-4\")\n",
    "\n",
    "plt.title(\"LLM Performance of GPT-4 models\")\n",
    "plt.ylim(-0.4, 0.1)\n",
    "plt.ylabel('Negative ScandEval rank relative to GPT-4', fontsize=10)\n",
    "plt.legend(bbox_to_anchor=(1, 1))\n",
    "\n",
    "plt.savefig('gpt4-drop.png', bbox_inches=\"tight\", dpi=300)\n",
    "plt.show()"
   ]
  },
  {
   "cell_type": "code",
   "execution_count": null,
   "id": "c22ce102-1e46-4f5b-8c92-f91ad7535d91",
   "metadata": {},
   "outputs": [],
   "source": [
    "df[\"mean\"] = df.mean(axis=1)\n",
    "df"
   ]
  },
  {
   "cell_type": "code",
   "execution_count": null,
   "id": "396eda12-6dc5-4de5-b9aa-48060edc0607",
   "metadata": {},
   "outputs": [],
   "source": [
    "plt.figure(figsize=(5,4))\n",
    "plt.title('ScandEval Germanic Rank (lower is better)', fontsize=13)\n",
    "\n",
    "gpt4_model_names = [model_name for model_name in models.values() if \"gpt-4\" in model_name]\n",
    "plt.bar(x=gpt4_model_names, height=df.loc[gpt4_model_names, \"mean\"])\n",
    "\n",
    "llama_model_names = [model_name for model_name in models.values() if \"llama\" in model_name]\n",
    "plt.bar(x=llama_model_names, height=df.loc[llama_model_names, \"mean\"])\n",
    "\n",
    "plt.axhline(y=df.loc[\"gpt-4o\", \"mean\"], linestyle=\"--\")\n",
    "\n",
    "plt.xticks(rotation=20)\n",
    "plt.ylim(0.9, 2.0)\n",
    "plt.savefig('gpt4-llama.png', bbox_inches=\"tight\", dpi=300)\n",
    "plt.show()"
   ]
  }
 ],
 "metadata": {
  "kernelspec": {
   "display_name": "Python 3 (ipykernel)",
   "language": "python",
   "name": "python3"
  },
  "language_info": {
   "codemirror_mode": {
    "name": "ipython",
    "version": 3
   },
   "file_extension": ".py",
   "mimetype": "text/x-python",
   "name": "python",
   "nbconvert_exporter": "python",
   "pygments_lexer": "ipython3",
   "version": "3.10.14"
  }
 },
 "nbformat": 4,
 "nbformat_minor": 5
}
