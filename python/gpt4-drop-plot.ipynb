{
 "cells": [
  {
   "cell_type": "code",
   "execution_count": 1,
   "id": "60800e06-f7ce-48a9-b05d-8af9c52aeb12",
   "metadata": {},
   "outputs": [],
   "source": [
    "import pandas as pd\n",
    "from pathlib import Path\n",
    "import re\n",
    "import matplotlib.pyplot as plt\n",
    "import matplotlib.patches as mpatches\n",
    "\n",
    "plt.style.use('ggplot')"
   ]
  },
  {
   "cell_type": "code",
   "execution_count": 2,
   "id": "1e6ba825-14e6-4f08-8a49-f2f003300cfb",
   "metadata": {},
   "outputs": [
    {
     "data": {
      "text/plain": [
       "'/Users/dan/gitsky/scandeval.com/{language}-nlg-test.csv'"
      ]
     },
     "execution_count": 2,
     "metadata": {},
     "output_type": "execute_result"
    }
   ],
   "source": [
    "#CSV_PATHS = 'https://scandeval.com/{language}-nlg.csv'\n",
    "CSV_PATHS = str(Path.home() / \"gitsky\" / \"scandeval.com\" / \"{language}-nlg-test.csv\")\n",
    "CSV_PATHS"
   ]
  },
  {
   "cell_type": "code",
   "execution_count": 38,
   "id": "04ab7ffe-6580-4fab-a937-9a8d6d2091ad",
   "metadata": {},
   "outputs": [],
   "source": [
    "LANGUAGES = ['danish', 'norwegian', 'swedish', 'german', 'dutch', 'english']"
   ]
  },
  {
   "cell_type": "code",
   "execution_count": 39,
   "id": "36c795da-3fcb-4b7d-a51d-296be7c1b5cf",
   "metadata": {},
   "outputs": [
    {
     "data": {
      "text/html": [
       "<div>\n",
       "<style scoped>\n",
       "    .dataframe tbody tr th:only-of-type {\n",
       "        vertical-align: middle;\n",
       "    }\n",
       "\n",
       "    .dataframe tbody tr th {\n",
       "        vertical-align: top;\n",
       "    }\n",
       "\n",
       "    .dataframe thead th {\n",
       "        text-align: right;\n",
       "    }\n",
       "</style>\n",
       "<table border=\"1\" class=\"dataframe\">\n",
       "  <thead>\n",
       "    <tr style=\"text-align: right;\">\n",
       "      <th></th>\n",
       "      <th>danish</th>\n",
       "      <th>norwegian</th>\n",
       "      <th>swedish</th>\n",
       "      <th>german</th>\n",
       "      <th>dutch</th>\n",
       "      <th>english</th>\n",
       "    </tr>\n",
       "  </thead>\n",
       "  <tbody>\n",
       "    <tr>\n",
       "      <th>gpt-4</th>\n",
       "      <td>1.12</td>\n",
       "      <td>1.18</td>\n",
       "      <td>1.19</td>\n",
       "      <td>1.18</td>\n",
       "      <td>1.14</td>\n",
       "      <td>1.22</td>\n",
       "    </tr>\n",
       "    <tr>\n",
       "      <th>gpt-4-turbo</th>\n",
       "      <td>1.19</td>\n",
       "      <td>1.27</td>\n",
       "      <td>1.27</td>\n",
       "      <td>1.33</td>\n",
       "      <td>1.45</td>\n",
       "      <td>1.16</td>\n",
       "    </tr>\n",
       "    <tr>\n",
       "      <th>gpt-4o</th>\n",
       "      <td>1.23</td>\n",
       "      <td>1.33</td>\n",
       "      <td>1.25</td>\n",
       "      <td>1.44</td>\n",
       "      <td>1.54</td>\n",
       "      <td>1.36</td>\n",
       "    </tr>\n",
       "  </tbody>\n",
       "</table>\n",
       "</div>"
      ],
      "text/plain": [
       "             danish  norwegian  swedish  german  dutch  english\n",
       "gpt-4          1.12       1.18     1.19    1.18   1.14     1.22\n",
       "gpt-4-turbo    1.19       1.27     1.27    1.33   1.45     1.16\n",
       "gpt-4o         1.23       1.33     1.25    1.44   1.54     1.36"
      ]
     },
     "execution_count": 39,
     "metadata": {},
     "output_type": "execute_result"
    }
   ],
   "source": [
    "gpt4_models = {\n",
    "    \"gpt-4-0613\": \"gpt-4\",\n",
    "    \"gpt-4-1106-preview\": \"gpt-4-turbo\",\n",
    "    \"gpt-4o-2024-05-13\": \"gpt-4o\",\n",
    "}\n",
    "\n",
    "all_models = list(gpt4_models.keys())\n",
    "all_new_models = list(gpt4_models.values())\n",
    "\n",
    "results_dict = dict()\n",
    "for language in LANGUAGES:\n",
    "    df = (\n",
    "        pd\n",
    "        .read_csv(CSV_PATHS.format(language=language))\n",
    "        .query('merge == False')\n",
    "        .set_index('model_id')\n",
    "    )\n",
    "    df.index = df.index.map(lambda x: re.sub('\\(.*\\)', '', x).strip())\n",
    "    scores = df['rank']\n",
    "\n",
    "    for model in gpt4_models:\n",
    "        if model not in scores:\n",
    "            scores.loc[model] = scores.loc[list(gpt4_models.keys())[0]]\n",
    "            \n",
    "    scores = scores.loc[all_models]\n",
    "    results_dict[language] = scores.tolist()\n",
    "\n",
    "df = pd.DataFrame(results_dict, index=all_new_models)\n",
    "df"
   ]
  },
  {
   "cell_type": "code",
   "execution_count": 40,
   "id": "d49eb020-ccc9-45f1-ae34-3ac04999ae5c",
   "metadata": {},
   "outputs": [
    {
     "data": {
      "text/plain": [
       "danish       1.12\n",
       "norwegian    1.18\n",
       "swedish      1.19\n",
       "german       1.18\n",
       "dutch        1.14\n",
       "english      1.22\n",
       "Name: gpt-4, dtype: float64"
      ]
     },
     "execution_count": 40,
     "metadata": {},
     "output_type": "execute_result"
    }
   ],
   "source": [
    "gpt4_values = df.loc[list(gpt4_models.values())[0]]\n",
    "gpt4_values"
   ]
  },
  {
   "cell_type": "code",
   "execution_count": 41,
   "id": "10595c05-7121-4cba-be66-708e1a8239dc",
   "metadata": {},
   "outputs": [
    {
     "data": {
      "text/html": [
       "<div>\n",
       "<style scoped>\n",
       "    .dataframe tbody tr th:only-of-type {\n",
       "        vertical-align: middle;\n",
       "    }\n",
       "\n",
       "    .dataframe tbody tr th {\n",
       "        vertical-align: top;\n",
       "    }\n",
       "\n",
       "    .dataframe thead th {\n",
       "        text-align: right;\n",
       "    }\n",
       "</style>\n",
       "<table border=\"1\" class=\"dataframe\">\n",
       "  <thead>\n",
       "    <tr style=\"text-align: right;\">\n",
       "      <th></th>\n",
       "      <th>danish</th>\n",
       "      <th>norwegian</th>\n",
       "      <th>swedish</th>\n",
       "      <th>german</th>\n",
       "      <th>dutch</th>\n",
       "      <th>english</th>\n",
       "      <th>germanic</th>\n",
       "    </tr>\n",
       "  </thead>\n",
       "  <tbody>\n",
       "    <tr>\n",
       "      <th>gpt-4</th>\n",
       "      <td>0.00</td>\n",
       "      <td>0.00</td>\n",
       "      <td>0.00</td>\n",
       "      <td>0.00</td>\n",
       "      <td>0.00</td>\n",
       "      <td>0.00</td>\n",
       "      <td>0.000</td>\n",
       "    </tr>\n",
       "    <tr>\n",
       "      <th>gpt-4-turbo</th>\n",
       "      <td>-0.07</td>\n",
       "      <td>-0.09</td>\n",
       "      <td>-0.08</td>\n",
       "      <td>-0.15</td>\n",
       "      <td>-0.31</td>\n",
       "      <td>0.06</td>\n",
       "      <td>-0.140</td>\n",
       "    </tr>\n",
       "    <tr>\n",
       "      <th>gpt-4o</th>\n",
       "      <td>-0.11</td>\n",
       "      <td>-0.15</td>\n",
       "      <td>-0.06</td>\n",
       "      <td>-0.26</td>\n",
       "      <td>-0.40</td>\n",
       "      <td>-0.14</td>\n",
       "      <td>-0.196</td>\n",
       "    </tr>\n",
       "  </tbody>\n",
       "</table>\n",
       "</div>"
      ],
      "text/plain": [
       "             danish  norwegian  swedish  german  dutch  english  germanic\n",
       "gpt-4          0.00       0.00     0.00    0.00   0.00     0.00     0.000\n",
       "gpt-4-turbo   -0.07      -0.09    -0.08   -0.15  -0.31     0.06    -0.140\n",
       "gpt-4o        -0.11      -0.15    -0.06   -0.26  -0.40    -0.14    -0.196"
      ]
     },
     "execution_count": 41,
     "metadata": {},
     "output_type": "execute_result"
    }
   ],
   "source": [
    "gpt4_df = df.loc[list(gpt4_models.values())]\n",
    "gpt4_df = gpt4_values - gpt4_df\n",
    "gpt4_df[\"germanic\"] = gpt4_df.drop(columns=\"english\").mean(axis=1)\n",
    "gpt4_df"
   ]
  },
  {
   "cell_type": "code",
   "execution_count": 42,
   "id": "c1a584e7-d3cd-4c2e-abb5-96c0034361d6",
   "metadata": {},
   "outputs": [
    {
     "data": {
      "image/png": "[encoded data removed]",
      "text/plain": [
       "<Figure size 500x400 with 1 Axes>"
      ]
     },
     "metadata": {},
     "output_type": "display_data"
    }
   ],
   "source": [
    "plt.figure(figsize=(5,4))\n",
    "\n",
    "plt.plot(gpt4_df.english, label=\"English\", color='red')\n",
    "plt.plot(gpt4_df.germanic, label=\"Mean Germanic\", color='dodgerblue')\n",
    "\n",
    "plt.title(\"LLM Performance of GPT-4 models\")\n",
    "plt.ylim(-0.25, 0.1)\n",
    "plt.ylabel('ScandEval rank relative to GPT-4-0613', fontsize=10)\n",
    "plt.legend()\n",
    "\n",
    "plt.savefig('gpt4-drop.png', bbox_inches=\"tight\", dpi=300)\n",
    "plt.show()"
   ]
  }
 ],
 "metadata": {
  "kernelspec": {
   "display_name": "Python 3 (ipykernel)",
   "language": "python",
   "name": "python3"
  },
  "language_info": {
   "codemirror_mode": {
    "name": "ipython",
    "version": 3
   },
   "file_extension": ".py",
   "mimetype": "text/x-python",
   "name": "python",
   "nbconvert_exporter": "python",
   "pygments_lexer": "ipython3",
   "version": "3.10.14"
  }
 },
 "nbformat": 4,
 "nbformat_minor": 5
}
