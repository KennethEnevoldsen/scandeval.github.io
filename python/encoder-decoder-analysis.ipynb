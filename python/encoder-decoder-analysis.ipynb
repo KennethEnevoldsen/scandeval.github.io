{
 "cells": [
  {
   "cell_type": "code",
   "execution_count": 66,
   "id": "4c64a2ba-fed6-4df7-a98b-d18b0028e0dc",
   "metadata": {},
   "outputs": [],
   "source": [
    "LANGUAGE = 'english'"
   ]
  },
  {
   "cell_type": "markdown",
   "id": "e72944f3-da8e-468a-8116-d8df90844920",
   "metadata": {
    "jp-MarkdownHeadingCollapsed": true
   },
   "source": [
    "### Setting Up"
   ]
  },
  {
   "cell_type": "code",
   "execution_count": 67,
   "id": "5b28808d-d8a6-47ba-9d73-5d09579c61f2",
   "metadata": {},
   "outputs": [],
   "source": [
    "import pandas as pd\n",
    "import seaborn as sns\n",
    "import plotly.express as px\n",
    "from umap import UMAP\n",
    "import matplotlib.pyplot as plt\n",
    "import numpy as np\n",
    "plt.style.use('ggplot')"
   ]
  },
  {
   "cell_type": "code",
   "execution_count": 68,
   "id": "f8ac3474-7346-4734-b500-c88cd7f1664d",
   "metadata": {},
   "outputs": [],
   "source": [
    "def load_results_dataframe(language: str) -> pd.DataFrame:\n",
    "    df = pd.read_csv(f'https://scandeval.com/{language}-nlu.csv')\n",
    "\n",
    "    datasets = ['model_id', 'rank']\n",
    "    for task in ['ner', 'sent', 'la', 'qa']:\n",
    "        datasets.extend([\n",
    "            dataset\n",
    "            for dataset in df.columns\n",
    "            if dataset_to_task.get(dataset) == task\n",
    "        ])\n",
    "    df = df[datasets]\n",
    "    \n",
    "    df['generative'] = df.model_id.map(lambda x: \"few-shot\" in x)\n",
    "    df.set_index('model_id', inplace=True)\n",
    "    \n",
    "    return df"
   ]
  },
  {
   "cell_type": "code",
   "execution_count": 69,
   "id": "77f00b44-55ce-402d-97f8-7a2d321fb097",
   "metadata": {},
   "outputs": [],
   "source": [
    "dataset_to_task = dict(\n",
    "    # Danish\n",
    "    dansk='ner',\n",
    "    angry_tweets='sent',\n",
    "    scala_da='la',\n",
    "    scandiqa_da='qa',\n",
    "\n",
    "    # Norwegian\n",
    "    norne_nb='ner',\n",
    "    norne_nn='ner',\n",
    "    norec='sent',\n",
    "    scala_nb='la',\n",
    "    scala_nn='la',\n",
    "    norquad='qa',\n",
    "\n",
    "    # Swedish\n",
    "    suc3='ner',\n",
    "    swerec='sent',\n",
    "    scala_sv='la',\n",
    "    scandiqa_sv='qa',\n",
    "\n",
    "    # Icelandic\n",
    "    mim_gold_ner='ner',\n",
    "    scala_is='la',\n",
    "    nqii='qa',\n",
    "\n",
    "    # Faroese\n",
    "    fone='ner',\n",
    "    scala_fo='la',\n",
    "\n",
    "    # German\n",
    "    germeval='ner',\n",
    "    sb10k='sent',\n",
    "    scala_de='la',\n",
    "    germanquad='qa',\n",
    "\n",
    "    # Dutch\n",
    "    conll_nl='ner',\n",
    "    dutch_social='sent',\n",
    "    scala_nl='la',\n",
    "    squad_nl='qa',\n",
    "\n",
    "    # English\n",
    "    conll_en='ner',\n",
    "    sst5='sent',\n",
    "    scala_en='la',\n",
    "    squad='qa',\n",
    ")\n",
    "language_title = LANGUAGE.replace('-', ' ').title()"
   ]
  },
  {
   "cell_type": "code",
   "execution_count": 70,
   "id": "4b566a32-7053-4b65-a72f-179750856760",
   "metadata": {},
   "outputs": [
    {
     "data": {
      "text/html": [
       "<div>\n",
       "<style scoped>\n",
       "    .dataframe tbody tr th:only-of-type {\n",
       "        vertical-align: middle;\n",
       "    }\n",
       "\n",
       "    .dataframe tbody tr th {\n",
       "        vertical-align: top;\n",
       "    }\n",
       "\n",
       "    .dataframe thead th {\n",
       "        text-align: right;\n",
       "    }\n",
       "</style>\n",
       "<table border=\"1\" class=\"dataframe\">\n",
       "  <thead>\n",
       "    <tr style=\"text-align: right;\">\n",
       "      <th></th>\n",
       "      <th>rank</th>\n",
       "      <th>conll_en</th>\n",
       "      <th>sst5</th>\n",
       "      <th>scala_en</th>\n",
       "      <th>squad</th>\n",
       "      <th>generative</th>\n",
       "    </tr>\n",
       "    <tr>\n",
       "      <th>model_id</th>\n",
       "      <th></th>\n",
       "      <th></th>\n",
       "      <th></th>\n",
       "      <th></th>\n",
       "      <th></th>\n",
       "      <th></th>\n",
       "    </tr>\n",
       "  </thead>\n",
       "  <tbody>\n",
       "    <tr>\n",
       "      <th>microsoft/deberta-v3-large</th>\n",
       "      <td>1.09</td>\n",
       "      <td>91.88</td>\n",
       "      <td>64.04</td>\n",
       "      <td>75.10</td>\n",
       "      <td>74.47</td>\n",
       "      <td>False</td>\n",
       "    </tr>\n",
       "    <tr>\n",
       "      <th>microsoft/deberta-v3-base</th>\n",
       "      <td>1.28</td>\n",
       "      <td>91.57</td>\n",
       "      <td>61.66</td>\n",
       "      <td>68.74</td>\n",
       "      <td>68.69</td>\n",
       "      <td>False</td>\n",
       "    </tr>\n",
       "    <tr>\n",
       "      <th>google/electra-base-discriminator</th>\n",
       "      <td>1.39</td>\n",
       "      <td>89.83</td>\n",
       "      <td>63.55</td>\n",
       "      <td>67.87</td>\n",
       "      <td>58.27</td>\n",
       "      <td>False</td>\n",
       "    </tr>\n",
       "    <tr>\n",
       "      <th>FacebookAI/roberta-large</th>\n",
       "      <td>1.42</td>\n",
       "      <td>91.53</td>\n",
       "      <td>62.92</td>\n",
       "      <td>48.77</td>\n",
       "      <td>71.23</td>\n",
       "      <td>False</td>\n",
       "    </tr>\n",
       "    <tr>\n",
       "      <th>gpt-4-0613 (few-shot, val)</th>\n",
       "      <td>1.44</td>\n",
       "      <td>78.06</td>\n",
       "      <td>69.06</td>\n",
       "      <td>55.76</td>\n",
       "      <td>67.35</td>\n",
       "      <td>True</td>\n",
       "    </tr>\n",
       "  </tbody>\n",
       "</table>\n",
       "</div>"
      ],
      "text/plain": [
       "                                   rank  conll_en   sst5  scala_en  squad  \\\n",
       "model_id                                                                    \n",
       "microsoft/deberta-v3-large         1.09     91.88  64.04     75.10  74.47   \n",
       "microsoft/deberta-v3-base          1.28     91.57  61.66     68.74  68.69   \n",
       "google/electra-base-discriminator  1.39     89.83  63.55     67.87  58.27   \n",
       "FacebookAI/roberta-large           1.42     91.53  62.92     48.77  71.23   \n",
       "gpt-4-0613 (few-shot, val)         1.44     78.06  69.06     55.76  67.35   \n",
       "\n",
       "                                   generative  \n",
       "model_id                                       \n",
       "microsoft/deberta-v3-large              False  \n",
       "microsoft/deberta-v3-base               False  \n",
       "google/electra-base-discriminator       False  \n",
       "FacebookAI/roberta-large                False  \n",
       "gpt-4-0613 (few-shot, val)               True  "
      ]
     },
     "execution_count": 70,
     "metadata": {},
     "output_type": "execute_result"
    }
   ],
   "source": [
    "df = load_results_dataframe(language=LANGUAGE)\n",
    "df.head()"
   ]
  },
  {
   "cell_type": "markdown",
   "id": "7245054d-4af0-4dca-a65d-c17f5d17db0c",
   "metadata": {},
   "source": [
    "## Plots"
   ]
  },
  {
   "cell_type": "code",
   "execution_count": 71,
   "id": "67c68697-b69b-44f2-b620-a265c5712345",
   "metadata": {},
   "outputs": [
    {
     "data": {
      "image/png": "[encoded data removed]",
      "text/plain": [
       "<Figure size 375x250 with 2 Axes>"
      ]
     },
     "metadata": {},
     "output_type": "display_data"
    }
   ],
   "source": [
    "num_datasets = len(df.columns) - 1\n",
    "plt.figure(figsize=(3 * num_datasets / 4, 2 * num_datasets / 4))\n",
    "sns.heatmap(\n",
    "    df.drop(columns='rank').corr(), \n",
    "    annot=True, \n",
    "    fmt=\".0%\", \n",
    "    vmin=-1, \n",
    "    vmax=1, \n",
    "    cmap=sns.diverging_palette(145, 300, s=60, as_cmap=True)\n",
    ")\n",
    "plt.title(f\"Correlations of {language_title} Model Performance\", fontsize=11)\n",
    "plt.savefig(f\"/Users/dan/Downloads/correlation-{LANGUAGE}.png\", bbox_inches='tight')\n",
    "plt.show()"
   ]
  },
  {
   "cell_type": "code",
   "execution_count": 74,
   "id": "784afb6e-a03a-4395-8c85-625a809d56a2",
   "metadata": {},
   "outputs": [
    {
     "name": "stdout",
     "output_type": "stream",
     "text": [
      "Using 38 neighbours.\n"
     ]
    },
    {
     "data": {
      "application/vnd.plotly.v1+json": {
       "config": {
        "plotlyServerURL": "https://plot.ly"
       },
       "data": [
        {
         "hovertemplate": "<b>%{hovertext}</b><br><br>Generative=False<br>x=%{x}<br>y=%{y}<br>size=%{marker.size}<br>Rank Score=%{marker.color}<extra></extra>",
         "hovertext": [
          "microsoft/deberta-v3-large",
          "microsoft/deberta-v3-base",
          "google/electra-base-discriminator",
          "FacebookAI/roberta-large",
          "intfloat/multilingual-e5-large",
          "FacebookAI/roberta-base",
          "microsoft/mdeberta-v3-base",
          "google-bert/bert-large-cased",
          "AI-Sweden-Models/roberta-large-1160k",
          "AI-Sweden-Models/roberta-large-1350k",
          "google-bert/bert-large-uncased",
          "intfloat/multilingual-e5-base",
          "distilbert/distilroberta-base",
          "setu4993/LaBSE",
          "google/electra-large-discriminator",
          "google-bert/bert-base-uncased",
          "FacebookAI/xlm-roberta-large",
          "google-bert/bert-base-multilingual-cased",
          "distilbert/distilbert-base-cased",
          "Twitter/twhin-bert-large",
          "Twitter/twhin-bert-base",
          "distilbert/distilbert-base-multilingual-cased",
          "Geotrend/distilbert-base-25lang-cased",
          "sentence-transformers/distilbert-multilingual-nli-stsb-quora-ranking",
          "sentence-transformers/quora-distilbert-multilingual",
          "EuropeanParliament/EUBERT",
          "sentence-transformers/distiluse-base-multilingual-cased-v2",
          "sentence-transformers/distiluse-base-multilingual-cased",
          "sentence-transformers/distiluse-base-multilingual-cased-v1",
          "dbmdz/bert-tiny-historic-multilingual-cased",
          "3ebdola/Dialectal-Arabic-XLM-R-Base",
          "fresh-xlm-roberta-base",
          "fresh-electra-small"
         ],
         "legendgroup": "False",
         "marker": {
          "color": [
           1.09,
           1.28,
           1.39,
           1.42,
           1.48,
           1.5,
           1.52,
           1.54,
           1.56,
           1.62,
           1.65,
           1.7,
           1.75,
           1.76,
           1.8,
           1.81,
           1.84,
           2.06,
           2.14,
           2.15,
           2.32,
           2.43,
           2.49,
           2.99,
           2.99,
           3.04,
           3.36,
           3.36,
           3.38,
           3.52,
           3.79,
           4.23,
           4.3
          ],
          "coloraxis": "coloraxis",
          "size": [
           20,
           20,
           20,
           20,
           20,
           20,
           20,
           20,
           20,
           20,
           20,
           20,
           20,
           20,
           20,
           20,
           20,
           20,
           20,
           20,
           20,
           20,
           20,
           20,
           20,
           20,
           20,
           20,
           20,
           20,
           20,
           20,
           20
          ],
          "sizemode": "area",
          "sizeref": 0.24691358024691357,
          "symbol": "star"
         },
         "mode": "markers",
         "name": "False",
         "orientation": "v",
         "showlegend": true,
         "type": "scatter",
         "x": [
          9.581745147705078,
          9.657520294189453,
          9.93222427368164,
          9.74831771850586,
          10.222423553466797,
          9.976428031921387,
          10.058749198913574,
          10.227402687072754,
          9.518500328063965,
          10.05315113067627,
          10.300950050354004,
          10.391215324401855,
          10.640310287475586,
          10.690960884094238,
          9.355022430419922,
          11.096657752990723,
          10.59203052520752,
          10.890032768249512,
          11.558342933654785,
          11.278082847595215,
          11.71812915802002,
          11.896197319030762,
          11.945684432983398,
          12.836276054382324,
          12.956645011901855,
          12.247483253479004,
          12.907315254211426,
          12.79689884185791,
          13.01602554321289,
          12.63698673248291,
          12.554295539855957,
          12.867696762084961,
          13.100359916687012
         ],
         "xaxis": "x",
         "y": [
          1.916710376739502,
          2.082538604736328,
          2.2400355339050293,
          1.542335033416748,
          1.9335458278656006,
          2.476799726486206,
          2.0156521797180176,
          2.1765573024749756,
          1.5507442951202393,
          1.3988929986953735,
          2.625631093978882,
          2.3852996826171875,
          2.4869799613952637,
          2.1141905784606934,
          1.0376240015029907,
          2.281287670135498,
          1.3012253046035767,
          1.493208408355713,
          1.8185569047927856,
          1.2444401979446411,
          1.1811169385910034,
          1.5566397905349731,
          1.2985631227493286,
          0.8173090815544128,
          0.8873170018196106,
          0.9855989217758179,
          0.5648527145385742,
          0.24888399243354797,
          0.43971309065818787,
          0.3560837507247925,
          0.18878605961799622,
          -0.4075142741203308,
          -0.3278746008872986
         ],
         "yaxis": "y"
        },
        {
         "hovertemplate": "<b>%{hovertext}</b><br><br>Generative=True<br>x=%{x}<br>y=%{y}<br>size=%{marker.size}<br>Rank Score=%{marker.color}<extra></extra>",
         "hovertext": [
          "gpt-4-0613 (few-shot, val)",
          "VAGOsolutions/SauerkrautLM-7b-LaserChat (few-shot)",
          "Nexusflow/Starling-LM-7B-beta (few-shot)",
          "upstage/SOLAR-10.7B-v1.0 (few-shot)",
          "VAGOsolutions/FC-SauerkrautLM-7b-beta (few-shot)",
          "gpt-3.5-turbo-0613 (few-shot, val)",
          "mistralai/Mistral-7B-v0.1 (few-shot)",
          "alpindale/Mistral-7B-v0.2-hf (few-shot)",
          "VAGOsolutions/SauerkrautLM-7b-HerO (few-shot, val)",
          "robinsmits/Qwen1.5-7B-Dutch-Chat-Sft-Bf16 (few-shot)",
          "occiglot/occiglot-7b-de-en-instruct (few-shot)",
          "timpal0l/Mistral-7B-v0.1-flashback-v2 (few-shot)",
          "mistralai/Mistral-7B-Instruct-v0.1 (few-shot)",
          "01-ai/Yi-6B (few-shot)",
          "RuterNorway/Llama-2-13b-chat-norwegian (few-shot)",
          "occiglot/occiglot-7b-de-en (few-shot)",
          "danish-foundation-models/munin-7b-v0.1dev0 (few-shot)",
          "cstr/Spaetzle-v8-7b (few-shot, val)",
          "mlabonne/NeuralBeagle14-7B (few-shot, val)",
          "occiglot/occiglot-7b-eu5-instruct (few-shot)",
          "Qwen/Qwen1.5-4B-Chat (few-shot)",
          "Qwen/Qwen1.5-4B (few-shot)",
          "meta-llama/Llama-2-7b-chat-hf (few-shot)",
          "meta-llama/Llama-2-7b-hf (few-shot)",
          "mistralai/Mistral-7B-Instruct-v0.2 (few-shot)",
          "mlabonne/AlphaMonarch-7B (few-shot, val)",
          "occiglot/occiglot-7b-eu5 (few-shot)",
          "microsoft/phi-2 (few-shot)",
          "Rijgersberg/GEITje-7B (few-shot)",
          "AI-Sweden-Models/gpt-sw3-20b-instruct (few-shot)",
          "AI-Sweden-Models/gpt-sw3-20b (few-shot)",
          "Qwen/Qwen1.5-1.8B (few-shot)",
          "Qwen/Qwen1.5-1.8B-Chat (few-shot)",
          "allenai/OLMo-7B (few-shot)",
          "google/gemma-2b (few-shot)",
          "VAGOsolutions/SauerkrautLM-Gemma-2b (few-shot)",
          "allenai/OLMo-7B-Twin-2T (few-shot)",
          "google/gemma-2b-it (few-shot)",
          "LumiOpen/Viking-13B (few-shot)",
          "Qwen/Qwen1.5-0.5B-Chat (few-shot)",
          "Qwen/Qwen1.5-0.5B (few-shot)",
          "allenai/OLMo-1B (few-shot)",
          "RuterNorway/Llama-2-7b-chat-norwegian (few-shot)",
          "ai-forever/mGPT (few-shot)",
          "RJuro/kanelsnegl-v0.1 (few-shot)"
         ],
         "legendgroup": "True",
         "marker": {
          "color": [
           1.44,
           1.55,
           1.6,
           1.64,
           1.68,
           1.74,
           1.85,
           1.91,
           1.93,
           1.93,
           1.97,
           2.01,
           2.02,
           2.03,
           2.03,
           2.03,
           2.07,
           2.08,
           2.08,
           2.09,
           2.1,
           2.11,
           2.16,
           2.16,
           2.16,
           2.17,
           2.21,
           2.3,
           2.31,
           2.44,
           2.45,
           2.5,
           2.67,
           2.71,
           2.74,
           2.76,
           2.81,
           2.81,
           2.86,
           2.93,
           2.97,
           2.99,
           3.69,
           4.57,
           4.68
          ],
          "coloraxis": "coloraxis",
          "size": [
           20,
           20,
           20,
           20,
           20,
           20,
           20,
           20,
           20,
           20,
           20,
           20,
           20,
           20,
           20,
           20,
           20,
           20,
           20,
           20,
           20,
           20,
           20,
           20,
           20,
           20,
           20,
           20,
           20,
           20,
           20,
           20,
           20,
           20,
           20,
           20,
           20,
           20,
           20,
           20,
           20,
           20,
           20,
           20,
           20
          ],
          "sizemode": "area",
          "sizeref": 0.24691358024691357,
          "symbol": "square"
         },
         "mode": "markers",
         "name": "True",
         "orientation": "v",
         "showlegend": true,
         "type": "scatter",
         "x": [
          9.525031089782715,
          9.498045921325684,
          9.299544334411621,
          9.102014541625977,
          9.389121055603027,
          9.471982955932617,
          9.847702026367188,
          9.631026268005371,
          9.731403350830078,
          9.633045196533203,
          9.989381790161133,
          10.056097984313965,
          9.391840934753418,
          10.00481128692627,
          9.917725563049316,
          9.879314422607422,
          10.235629081726074,
          10.371417999267578,
          10.27563762664795,
          10.329038619995117,
          9.402313232421875,
          9.529193878173828,
          10.193453788757324,
          10.531229972839355,
          9.850638389587402,
          10.266035079956055,
          10.505361557006836,
          11.206647872924805,
          11.08893871307373,
          11.803221702575684,
          11.7111234664917,
          11.9830961227417,
          12.083355903625488,
          12.256052017211914,
          12.311751365661621,
          12.382192611694336,
          12.672623634338379,
          12.225669860839844,
          12.476612091064453,
          12.772940635681152,
          12.67236614227295,
          12.907240867614746,
          12.919195175170898,
          12.890701293945312,
          12.703747749328613
         ],
         "xaxis": "x",
         "y": [
          0.8993341326713562,
          0.184640035033226,
          0.2805097997188568,
          -0.033084530383348465,
          -0.2252991646528244,
          -0.060593653470277786,
          -1.5212891101837158,
          -1.9261466264724731,
          -0.6690227389335632,
          -0.5958526730537415,
          -1.977358341217041,
          -1.76280677318573,
          -1.2766612768173218,
          -2.2792558670043945,
          -0.923188328742981,
          -2.258606433868408,
          -2.039407253265381,
          -0.4868381917476654,
          -0.57879239320755,
          -2.2667112350463867,
          -1.5413172245025635,
          -1.6967304944992065,
          -1.2877143621444702,
          -2.0414276123046875,
          -0.8694057464599609,
          -0.24996431171894073,
          -2.388009548187256,
          -2.3994734287261963,
          -2.182901382446289,
          -2.4567174911499023,
          -2.1737325191497803,
          -2.423173666000366,
          -1.9676004648208618,
          -2.2766597270965576,
          -2.7133700847625732,
          -2.6312899589538574,
          -2.258957862854004,
          -1.9793514013290405,
          -1.5981682538986206,
          -2.035008430480957,
          -1.8418623208999634,
          -1.8663513660430908,
          -1.28546142578125,
          -0.7922552227973938,
          -0.47680407762527466
         ],
         "yaxis": "y"
        }
       ],
       "layout": {
        "coloraxis": {
         "cmax": 4,
         "cmin": 1,
         "colorbar": {
          "dtick": 1,
          "len": 0.8,
          "ticks": "outside",
          "title": {
           "text": "Rank Score"
          },
          "x": 1.03,
          "y": 0.78,
          "yanchor": "top"
         },
         "colorscale": [
          [
           0,
           "#0d0887"
          ],
          [
           0.1111111111111111,
           "#46039f"
          ],
          [
           0.2222222222222222,
           "#7201a8"
          ],
          [
           0.3333333333333333,
           "#9c179e"
          ],
          [
           0.4444444444444444,
           "#bd3786"
          ],
          [
           0.5555555555555556,
           "#d8576b"
          ],
          [
           0.6666666666666666,
           "#ed7953"
          ],
          [
           0.7777777777777778,
           "#fb9f3a"
          ],
          [
           0.8888888888888888,
           "#fdca26"
          ],
          [
           1,
           "#f0f921"
          ]
         ]
        },
        "height": 600,
        "legend": {
         "itemsizing": "constant",
         "title": {
          "text": "Generative"
         },
         "tracegroupgap": 0,
         "traceorder": "reversed"
        },
        "template": {
         "data": {
          "bar": [
           {
            "error_x": {
             "color": "#2a3f5f"
            },
            "error_y": {
             "color": "#2a3f5f"
            },
            "marker": {
             "line": {
              "color": "#E5ECF6",
              "width": 0.5
             },
             "pattern": {
              "fillmode": "overlay",
              "size": 10,
              "solidity": 0.2
             }
            },
            "type": "bar"
           }
          ],
          "barpolar": [
           {
            "marker": {
             "line": {
              "color": "#E5ECF6",
              "width": 0.5
             },
             "pattern": {
              "fillmode": "overlay",
              "size": 10,
              "solidity": 0.2
             }
            },
            "type": "barpolar"
           }
          ],
          "carpet": [
           {
            "aaxis": {
             "endlinecolor": "#2a3f5f",
             "gridcolor": "white",
             "linecolor": "white",
             "minorgridcolor": "white",
             "startlinecolor": "#2a3f5f"
            },
            "baxis": {
             "endlinecolor": "#2a3f5f",
             "gridcolor": "white",
             "linecolor": "white",
             "minorgridcolor": "white",
             "startlinecolor": "#2a3f5f"
            },
            "type": "carpet"
           }
          ],
          "choropleth": [
           {
            "colorbar": {
             "outlinewidth": 0,
             "ticks": ""
            },
            "type": "choropleth"
           }
          ],
          "contour": [
           {
            "colorbar": {
             "outlinewidth": 0,
             "ticks": ""
            },
            "colorscale": [
             [
              0,
              "#0d0887"
             ],
             [
              0.1111111111111111,
              "#46039f"
             ],
             [
              0.2222222222222222,
              "#7201a8"
             ],
             [
              0.3333333333333333,
              "#9c179e"
             ],
             [
              0.4444444444444444,
              "#bd3786"
             ],
             [
              0.5555555555555556,
              "#d8576b"
             ],
             [
              0.6666666666666666,
              "#ed7953"
             ],
             [
              0.7777777777777778,
              "#fb9f3a"
             ],
             [
              0.8888888888888888,
              "#fdca26"
             ],
             [
              1,
              "#f0f921"
             ]
            ],
            "type": "contour"
           }
          ],
          "contourcarpet": [
           {
            "colorbar": {
             "outlinewidth": 0,
             "ticks": ""
            },
            "type": "contourcarpet"
           }
          ],
          "heatmap": [
           {
            "colorbar": {
             "outlinewidth": 0,
             "ticks": ""
            },
            "colorscale": [
             [
              0,
              "#0d0887"
             ],
             [
              0.1111111111111111,
              "#46039f"
             ],
             [
              0.2222222222222222,
              "#7201a8"
             ],
             [
              0.3333333333333333,
              "#9c179e"
             ],
             [
              0.4444444444444444,
              "#bd3786"
             ],
             [
              0.5555555555555556,
              "#d8576b"
             ],
             [
              0.6666666666666666,
              "#ed7953"
             ],
             [
              0.7777777777777778,
              "#fb9f3a"
             ],
             [
              0.8888888888888888,
              "#fdca26"
             ],
             [
              1,
              "#f0f921"
             ]
            ],
            "type": "heatmap"
           }
          ],
          "heatmapgl": [
           {
            "colorbar": {
             "outlinewidth": 0,
             "ticks": ""
            },
            "colorscale": [
             [
              0,
              "#0d0887"
             ],
             [
              0.1111111111111111,
              "#46039f"
             ],
             [
              0.2222222222222222,
              "#7201a8"
             ],
             [
              0.3333333333333333,
              "#9c179e"
             ],
             [
              0.4444444444444444,
              "#bd3786"
             ],
             [
              0.5555555555555556,
              "#d8576b"
             ],
             [
              0.6666666666666666,
              "#ed7953"
             ],
             [
              0.7777777777777778,
              "#fb9f3a"
             ],
             [
              0.8888888888888888,
              "#fdca26"
             ],
             [
              1,
              "#f0f921"
             ]
            ],
            "type": "heatmapgl"
           }
          ],
          "histogram": [
           {
            "marker": {
             "pattern": {
              "fillmode": "overlay",
              "size": 10,
              "solidity": 0.2
             }
            },
            "type": "histogram"
           }
          ],
          "histogram2d": [
           {
            "colorbar": {
             "outlinewidth": 0,
             "ticks": ""
            },
            "colorscale": [
             [
              0,
              "#0d0887"
             ],
             [
              0.1111111111111111,
              "#46039f"
             ],
             [
              0.2222222222222222,
              "#7201a8"
             ],
             [
              0.3333333333333333,
              "#9c179e"
             ],
             [
              0.4444444444444444,
              "#bd3786"
             ],
             [
              0.5555555555555556,
              "#d8576b"
             ],
             [
              0.6666666666666666,
              "#ed7953"
             ],
             [
              0.7777777777777778,
              "#fb9f3a"
             ],
             [
              0.8888888888888888,
              "#fdca26"
             ],
             [
              1,
              "#f0f921"
             ]
            ],
            "type": "histogram2d"
           }
          ],
          "histogram2dcontour": [
           {
            "colorbar": {
             "outlinewidth": 0,
             "ticks": ""
            },
            "colorscale": [
             [
              0,
              "#0d0887"
             ],
             [
              0.1111111111111111,
              "#46039f"
             ],
             [
              0.2222222222222222,
              "#7201a8"
             ],
             [
              0.3333333333333333,
              "#9c179e"
             ],
             [
              0.4444444444444444,
              "#bd3786"
             ],
             [
              0.5555555555555556,
              "#d8576b"
             ],
             [
              0.6666666666666666,
              "#ed7953"
             ],
             [
              0.7777777777777778,
              "#fb9f3a"
             ],
             [
              0.8888888888888888,
              "#fdca26"
             ],
             [
              1,
              "#f0f921"
             ]
            ],
            "type": "histogram2dcontour"
           }
          ],
          "mesh3d": [
           {
            "colorbar": {
             "outlinewidth": 0,
             "ticks": ""
            },
            "type": "mesh3d"
           }
          ],
          "parcoords": [
           {
            "line": {
             "colorbar": {
              "outlinewidth": 0,
              "ticks": ""
             }
            },
            "type": "parcoords"
           }
          ],
          "pie": [
           {
            "automargin": true,
            "type": "pie"
           }
          ],
          "scatter": [
           {
            "fillpattern": {
             "fillmode": "overlay",
             "size": 10,
             "solidity": 0.2
            },
            "type": "scatter"
           }
          ],
          "scatter3d": [
           {
            "line": {
             "colorbar": {
              "outlinewidth": 0,
              "ticks": ""
             }
            },
            "marker": {
             "colorbar": {
              "outlinewidth": 0,
              "ticks": ""
             }
            },
            "type": "scatter3d"
           }
          ],
          "scattercarpet": [
           {
            "marker": {
             "colorbar": {
              "outlinewidth": 0,
              "ticks": ""
             }
            },
            "type": "scattercarpet"
           }
          ],
          "scattergeo": [
           {
            "marker": {
             "colorbar": {
              "outlinewidth": 0,
              "ticks": ""
             }
            },
            "type": "scattergeo"
           }
          ],
          "scattergl": [
           {
            "marker": {
             "colorbar": {
              "outlinewidth": 0,
              "ticks": ""
             }
            },
            "type": "scattergl"
           }
          ],
          "scattermapbox": [
           {
            "marker": {
             "colorbar": {
              "outlinewidth": 0,
              "ticks": ""
             }
            },
            "type": "scattermapbox"
           }
          ],
          "scatterpolar": [
           {
            "marker": {
             "colorbar": {
              "outlinewidth": 0,
              "ticks": ""
             }
            },
            "type": "scatterpolar"
           }
          ],
          "scatterpolargl": [
           {
            "marker": {
             "colorbar": {
              "outlinewidth": 0,
              "ticks": ""
             }
            },
            "type": "scatterpolargl"
           }
          ],
          "scatterternary": [
           {
            "marker": {
             "colorbar": {
              "outlinewidth": 0,
              "ticks": ""
             }
            },
            "type": "scatterternary"
           }
          ],
          "surface": [
           {
            "colorbar": {
             "outlinewidth": 0,
             "ticks": ""
            },
            "colorscale": [
             [
              0,
              "#0d0887"
             ],
             [
              0.1111111111111111,
              "#46039f"
             ],
             [
              0.2222222222222222,
              "#7201a8"
             ],
             [
              0.3333333333333333,
              "#9c179e"
             ],
             [
              0.4444444444444444,
              "#bd3786"
             ],
             [
              0.5555555555555556,
              "#d8576b"
             ],
             [
              0.6666666666666666,
              "#ed7953"
             ],
             [
              0.7777777777777778,
              "#fb9f3a"
             ],
             [
              0.8888888888888888,
              "#fdca26"
             ],
             [
              1,
              "#f0f921"
             ]
            ],
            "type": "surface"
           }
          ],
          "table": [
           {
            "cells": {
             "fill": {
              "color": "#EBF0F8"
             },
             "line": {
              "color": "white"
             }
            },
            "header": {
             "fill": {
              "color": "#C8D4E3"
             },
             "line": {
              "color": "white"
             }
            },
            "type": "table"
           }
          ]
         },
         "layout": {
          "annotationdefaults": {
           "arrowcolor": "#2a3f5f",
           "arrowhead": 0,
           "arrowwidth": 1
          },
          "autotypenumbers": "strict",
          "coloraxis": {
           "colorbar": {
            "outlinewidth": 0,
            "ticks": ""
           }
          },
          "colorscale": {
           "diverging": [
            [
             0,
             "#8e0152"
            ],
            [
             0.1,
             "#c51b7d"
            ],
            [
             0.2,
             "#de77ae"
            ],
            [
             0.3,
             "#f1b6da"
            ],
            [
             0.4,
             "#fde0ef"
            ],
            [
             0.5,
             "#f7f7f7"
            ],
            [
             0.6,
             "#e6f5d0"
            ],
            [
             0.7,
             "#b8e186"
            ],
            [
             0.8,
             "#7fbc41"
            ],
            [
             0.9,
             "#4d9221"
            ],
            [
             1,
             "#276419"
            ]
           ],
           "sequential": [
            [
             0,
             "#0d0887"
            ],
            [
             0.1111111111111111,
             "#46039f"
            ],
            [
             0.2222222222222222,
             "#7201a8"
            ],
            [
             0.3333333333333333,
             "#9c179e"
            ],
            [
             0.4444444444444444,
             "#bd3786"
            ],
            [
             0.5555555555555556,
             "#d8576b"
            ],
            [
             0.6666666666666666,
             "#ed7953"
            ],
            [
             0.7777777777777778,
             "#fb9f3a"
            ],
            [
             0.8888888888888888,
             "#fdca26"
            ],
            [
             1,
             "#f0f921"
            ]
           ],
           "sequentialminus": [
            [
             0,
             "#0d0887"
            ],
            [
             0.1111111111111111,
             "#46039f"
            ],
            [
             0.2222222222222222,
             "#7201a8"
            ],
            [
             0.3333333333333333,
             "#9c179e"
            ],
            [
             0.4444444444444444,
             "#bd3786"
            ],
            [
             0.5555555555555556,
             "#d8576b"
            ],
            [
             0.6666666666666666,
             "#ed7953"
            ],
            [
             0.7777777777777778,
             "#fb9f3a"
            ],
            [
             0.8888888888888888,
             "#fdca26"
            ],
            [
             1,
             "#f0f921"
            ]
           ]
          },
          "colorway": [
           "#636efa",
           "#EF553B",
           "#00cc96",
           "#ab63fa",
           "#FFA15A",
           "#19d3f3",
           "#FF6692",
           "#B6E880",
           "#FF97FF",
           "#FECB52"
          ],
          "font": {
           "color": "#2a3f5f"
          },
          "geo": {
           "bgcolor": "white",
           "lakecolor": "white",
           "landcolor": "#E5ECF6",
           "showlakes": true,
           "showland": true,
           "subunitcolor": "white"
          },
          "hoverlabel": {
           "align": "left"
          },
          "hovermode": "closest",
          "mapbox": {
           "style": "light"
          },
          "paper_bgcolor": "white",
          "plot_bgcolor": "#E5ECF6",
          "polar": {
           "angularaxis": {
            "gridcolor": "white",
            "linecolor": "white",
            "ticks": ""
           },
           "bgcolor": "#E5ECF6",
           "radialaxis": {
            "gridcolor": "white",
            "linecolor": "white",
            "ticks": ""
           }
          },
          "scene": {
           "xaxis": {
            "backgroundcolor": "#E5ECF6",
            "gridcolor": "white",
            "gridwidth": 2,
            "linecolor": "white",
            "showbackground": true,
            "ticks": "",
            "zerolinecolor": "white"
           },
           "yaxis": {
            "backgroundcolor": "#E5ECF6",
            "gridcolor": "white",
            "gridwidth": 2,
            "linecolor": "white",
            "showbackground": true,
            "ticks": "",
            "zerolinecolor": "white"
           },
           "zaxis": {
            "backgroundcolor": "#E5ECF6",
            "gridcolor": "white",
            "gridwidth": 2,
            "linecolor": "white",
            "showbackground": true,
            "ticks": "",
            "zerolinecolor": "white"
           }
          },
          "shapedefaults": {
           "line": {
            "color": "#2a3f5f"
           }
          },
          "ternary": {
           "aaxis": {
            "gridcolor": "white",
            "linecolor": "white",
            "ticks": ""
           },
           "baxis": {
            "gridcolor": "white",
            "linecolor": "white",
            "ticks": ""
           },
           "bgcolor": "#E5ECF6",
           "caxis": {
            "gridcolor": "white",
            "linecolor": "white",
            "ticks": ""
           }
          },
          "title": {
           "x": 0.05
          },
          "xaxis": {
           "automargin": true,
           "gridcolor": "white",
           "linecolor": "white",
           "ticks": "",
           "title": {
            "standoff": 15
           },
           "zerolinecolor": "white",
           "zerolinewidth": 2
          },
          "yaxis": {
           "automargin": true,
           "gridcolor": "white",
           "linecolor": "white",
           "ticks": "",
           "title": {
            "standoff": 15
           },
           "zerolinecolor": "white",
           "zerolinewidth": 2
          }
         }
        },
        "title": {
         "text": "UMAP Projection of English Model Performance"
        },
        "width": 800,
        "xaxis": {
         "anchor": "y",
         "autorange": true,
         "domain": [
          0,
          1
         ],
         "range": [
          8.818822734954134,
          13.383551723358854
         ],
         "title": {
          "text": "x"
         },
         "type": "linear"
        },
        "yaxis": {
         "anchor": "x",
         "autorange": true,
         "domain": [
          0,
          1
         ],
         "range": [
          -3.126012103193911,
          3.0382731124102196
         ],
         "title": {
          "text": "y"
         },
         "type": "linear"
        }
       }
      },
      "image/png": "[encoded data removed]",
      "text/html": [
       "<div>                            <div id=\"3c9dc253-27d1-44d7-afbe-6a0b43deb5f7\" class=\"plotly-graph-div\" style=\"height:600px; width:800px;\"></div>            <script type=\"text/javascript\">                require([\"plotly\"], function(Plotly) {                    window.PLOTLYENV=window.PLOTLYENV || {};                                    if (document.getElementById(\"3c9dc253-27d1-44d7-afbe-6a0b43deb5f7\")) {                    Plotly.newPlot(                        \"3c9dc253-27d1-44d7-afbe-6a0b43deb5f7\",                        [{\"hovertemplate\":\"\\u003cb\\u003e%{hovertext}\\u003c\\u002fb\\u003e\\u003cbr\\u003e\\u003cbr\\u003eGenerative=False\\u003cbr\\u003ex=%{x}\\u003cbr\\u003ey=%{y}\\u003cbr\\u003esize=%{marker.size}\\u003cbr\\u003eRank Score=%{marker.color}\\u003cextra\\u003e\\u003c\\u002fextra\\u003e\",\"hovertext\":[\"microsoft\\u002fdeberta-v3-large\",\"microsoft\\u002fdeberta-v3-base\",\"google\\u002felectra-base-discriminator\",\"FacebookAI\\u002froberta-large\",\"intfloat\\u002fmultilingual-e5-large\",\"FacebookAI\\u002froberta-base\",\"microsoft\\u002fmdeberta-v3-base\",\"google-bert\\u002fbert-large-cased\",\"AI-Sweden-Models\\u002froberta-large-1160k\",\"AI-Sweden-Models\\u002froberta-large-1350k\",\"google-bert\\u002fbert-large-uncased\",\"intfloat\\u002fmultilingual-e5-base\",\"distilbert\\u002fdistilroberta-base\",\"setu4993\\u002fLaBSE\",\"google\\u002felectra-large-discriminator\",\"google-bert\\u002fbert-base-uncased\",\"FacebookAI\\u002fxlm-roberta-large\",\"google-bert\\u002fbert-base-multilingual-cased\",\"distilbert\\u002fdistilbert-base-cased\",\"Twitter\\u002ftwhin-bert-large\",\"Twitter\\u002ftwhin-bert-base\",\"distilbert\\u002fdistilbert-base-multilingual-cased\",\"Geotrend\\u002fdistilbert-base-25lang-cased\",\"sentence-transformers\\u002fdistilbert-multilingual-nli-stsb-quora-ranking\",\"sentence-transformers\\u002fquora-distilbert-multilingual\",\"EuropeanParliament\\u002fEUBERT\",\"sentence-transformers\\u002fdistiluse-base-multilingual-cased-v2\",\"sentence-transformers\\u002fdistiluse-base-multilingual-cased\",\"sentence-transformers\\u002fdistiluse-base-multilingual-cased-v1\",\"dbmdz\\u002fbert-tiny-historic-multilingual-cased\",\"3ebdola\\u002fDialectal-Arabic-XLM-R-Base\",\"fresh-xlm-roberta-base\",\"fresh-electra-small\"],\"legendgroup\":\"False\",\"marker\":{\"color\":[1.09,1.28,1.39,1.42,1.48,1.5,1.52,1.54,1.56,1.62,1.65,1.7,1.75,1.76,1.8,1.81,1.84,2.06,2.14,2.15,2.32,2.43,2.49,2.99,2.99,3.04,3.36,3.36,3.38,3.52,3.79,4.23,4.3],\"coloraxis\":\"coloraxis\",\"size\":[20,20,20,20,20,20,20,20,20,20,20,20,20,20,20,20,20,20,20,20,20,20,20,20,20,20,20,20,20,20,20,20,20],\"sizemode\":\"area\",\"sizeref\":0.24691358024691357,\"symbol\":\"star\"},\"mode\":\"markers\",\"name\":\"False\",\"orientation\":\"v\",\"showlegend\":true,\"x\":[9.581745147705078,9.657520294189453,9.93222427368164,9.74831771850586,10.222423553466797,9.976428031921387,10.058749198913574,10.227402687072754,9.518500328063965,10.05315113067627,10.300950050354004,10.391215324401855,10.640310287475586,10.690960884094238,9.355022430419922,11.096657752990723,10.59203052520752,10.890032768249512,11.558342933654785,11.278082847595215,11.71812915802002,11.896197319030762,11.945684432983398,12.836276054382324,12.956645011901855,12.247483253479004,12.907315254211426,12.79689884185791,13.01602554321289,12.63698673248291,12.554295539855957,12.867696762084961,13.100359916687012],\"xaxis\":\"x\",\"y\":[1.916710376739502,2.082538604736328,2.2400355339050293,1.542335033416748,1.9335458278656006,2.476799726486206,2.0156521797180176,2.1765573024749756,1.5507442951202393,1.3988929986953735,2.625631093978882,2.3852996826171875,2.4869799613952637,2.1141905784606934,1.0376240015029907,2.281287670135498,1.3012253046035767,1.493208408355713,1.8185569047927856,1.2444401979446411,1.1811169385910034,1.5566397905349731,1.2985631227493286,0.8173090815544128,0.8873170018196106,0.9855989217758179,0.5648527145385742,0.24888399243354797,0.43971309065818787,0.3560837507247925,0.18878605961799622,-0.4075142741203308,-0.3278746008872986],\"yaxis\":\"y\",\"type\":\"scatter\"},{\"hovertemplate\":\"\\u003cb\\u003e%{hovertext}\\u003c\\u002fb\\u003e\\u003cbr\\u003e\\u003cbr\\u003eGenerative=True\\u003cbr\\u003ex=%{x}\\u003cbr\\u003ey=%{y}\\u003cbr\\u003esize=%{marker.size}\\u003cbr\\u003eRank Score=%{marker.color}\\u003cextra\\u003e\\u003c\\u002fextra\\u003e\",\"hovertext\":[\"gpt-4-0613 (few-shot, val)\",\"VAGOsolutions\\u002fSauerkrautLM-7b-LaserChat (few-shot)\",\"Nexusflow\\u002fStarling-LM-7B-beta (few-shot)\",\"upstage\\u002fSOLAR-10.7B-v1.0 (few-shot)\",\"VAGOsolutions\\u002fFC-SauerkrautLM-7b-beta (few-shot)\",\"gpt-3.5-turbo-0613 (few-shot, val)\",\"mistralai\\u002fMistral-7B-v0.1 (few-shot)\",\"alpindale\\u002fMistral-7B-v0.2-hf (few-shot)\",\"VAGOsolutions\\u002fSauerkrautLM-7b-HerO (few-shot, val)\",\"robinsmits\\u002fQwen1.5-7B-Dutch-Chat-Sft-Bf16 (few-shot)\",\"occiglot\\u002focciglot-7b-de-en-instruct (few-shot)\",\"timpal0l\\u002fMistral-7B-v0.1-flashback-v2 (few-shot)\",\"mistralai\\u002fMistral-7B-Instruct-v0.1 (few-shot)\",\"01-ai\\u002fYi-6B (few-shot)\",\"RuterNorway\\u002fLlama-2-13b-chat-norwegian (few-shot)\",\"occiglot\\u002focciglot-7b-de-en (few-shot)\",\"danish-foundation-models\\u002fmunin-7b-v0.1dev0 (few-shot)\",\"cstr\\u002fSpaetzle-v8-7b (few-shot, val)\",\"mlabonne\\u002fNeuralBeagle14-7B (few-shot, val)\",\"occiglot\\u002focciglot-7b-eu5-instruct (few-shot)\",\"Qwen\\u002fQwen1.5-4B-Chat (few-shot)\",\"Qwen\\u002fQwen1.5-4B (few-shot)\",\"meta-llama\\u002fLlama-2-7b-chat-hf (few-shot)\",\"meta-llama\\u002fLlama-2-7b-hf (few-shot)\",\"mistralai\\u002fMistral-7B-Instruct-v0.2 (few-shot)\",\"mlabonne\\u002fAlphaMonarch-7B (few-shot, val)\",\"occiglot\\u002focciglot-7b-eu5 (few-shot)\",\"microsoft\\u002fphi-2 (few-shot)\",\"Rijgersberg\\u002fGEITje-7B (few-shot)\",\"AI-Sweden-Models\\u002fgpt-sw3-20b-instruct (few-shot)\",\"AI-Sweden-Models\\u002fgpt-sw3-20b (few-shot)\",\"Qwen\\u002fQwen1.5-1.8B (few-shot)\",\"Qwen\\u002fQwen1.5-1.8B-Chat (few-shot)\",\"allenai\\u002fOLMo-7B (few-shot)\",\"google\\u002fgemma-2b (few-shot)\",\"VAGOsolutions\\u002fSauerkrautLM-Gemma-2b (few-shot)\",\"allenai\\u002fOLMo-7B-Twin-2T (few-shot)\",\"google\\u002fgemma-2b-it (few-shot)\",\"LumiOpen\\u002fViking-13B (few-shot)\",\"Qwen\\u002fQwen1.5-0.5B-Chat (few-shot)\",\"Qwen\\u002fQwen1.5-0.5B (few-shot)\",\"allenai\\u002fOLMo-1B (few-shot)\",\"RuterNorway\\u002fLlama-2-7b-chat-norwegian (few-shot)\",\"ai-forever\\u002fmGPT (few-shot)\",\"RJuro\\u002fkanelsnegl-v0.1 (few-shot)\"],\"legendgroup\":\"True\",\"marker\":{\"color\":[1.44,1.55,1.6,1.64,1.68,1.74,1.85,1.91,1.93,1.93,1.97,2.01,2.02,2.03,2.03,2.03,2.07,2.08,2.08,2.09,2.1,2.11,2.16,2.16,2.16,2.17,2.21,2.3,2.31,2.44,2.45,2.5,2.67,2.71,2.74,2.76,2.81,2.81,2.86,2.93,2.97,2.99,3.69,4.57,4.68],\"coloraxis\":\"coloraxis\",\"size\":[20,20,20,20,20,20,20,20,20,20,20,20,20,20,20,20,20,20,20,20,20,20,20,20,20,20,20,20,20,20,20,20,20,20,20,20,20,20,20,20,20,20,20,20,20],\"sizemode\":\"area\",\"sizeref\":0.24691358024691357,\"symbol\":\"square\"},\"mode\":\"markers\",\"name\":\"True\",\"orientation\":\"v\",\"showlegend\":true,\"x\":[9.525031089782715,9.498045921325684,9.299544334411621,9.102014541625977,9.389121055603027,9.471982955932617,9.847702026367188,9.631026268005371,9.731403350830078,9.633045196533203,9.989381790161133,10.056097984313965,9.391840934753418,10.00481128692627,9.917725563049316,9.879314422607422,10.235629081726074,10.371417999267578,10.27563762664795,10.329038619995117,9.402313232421875,9.529193878173828,10.193453788757324,10.531229972839355,9.850638389587402,10.266035079956055,10.505361557006836,11.206647872924805,11.08893871307373,11.803221702575684,11.7111234664917,11.9830961227417,12.083355903625488,12.256052017211914,12.311751365661621,12.382192611694336,12.672623634338379,12.225669860839844,12.476612091064453,12.772940635681152,12.67236614227295,12.907240867614746,12.919195175170898,12.890701293945312,12.703747749328613],\"xaxis\":\"x\",\"y\":[0.8993341326713562,0.184640035033226,0.2805097997188568,-0.033084530383348465,-0.2252991646528244,-0.060593653470277786,-1.5212891101837158,-1.9261466264724731,-0.6690227389335632,-0.5958526730537415,-1.977358341217041,-1.76280677318573,-1.2766612768173218,-2.2792558670043945,-0.923188328742981,-2.258606433868408,-2.039407253265381,-0.4868381917476654,-0.57879239320755,-2.2667112350463867,-1.5413172245025635,-1.6967304944992065,-1.2877143621444702,-2.0414276123046875,-0.8694057464599609,-0.24996431171894073,-2.388009548187256,-2.3994734287261963,-2.182901382446289,-2.4567174911499023,-2.1737325191497803,-2.423173666000366,-1.9676004648208618,-2.2766597270965576,-2.7133700847625732,-2.6312899589538574,-2.258957862854004,-1.9793514013290405,-1.5981682538986206,-2.035008430480957,-1.8418623208999634,-1.8663513660430908,-1.28546142578125,-0.7922552227973938,-0.47680407762527466],\"yaxis\":\"y\",\"type\":\"scatter\"}],                        {\"template\":{\"data\":{\"histogram2dcontour\":[{\"type\":\"histogram2dcontour\",\"colorbar\":{\"outlinewidth\":0,\"ticks\":\"\"},\"colorscale\":[[0.0,\"#0d0887\"],[0.1111111111111111,\"#46039f\"],[0.2222222222222222,\"#7201a8\"],[0.3333333333333333,\"#9c179e\"],[0.4444444444444444,\"#bd3786\"],[0.5555555555555556,\"#d8576b\"],[0.6666666666666666,\"#ed7953\"],[0.7777777777777778,\"#fb9f3a\"],[0.8888888888888888,\"#fdca26\"],[1.0,\"#f0f921\"]]}],\"choropleth\":[{\"type\":\"choropleth\",\"colorbar\":{\"outlinewidth\":0,\"ticks\":\"\"}}],\"histogram2d\":[{\"type\":\"histogram2d\",\"colorbar\":{\"outlinewidth\":0,\"ticks\":\"\"},\"colorscale\":[[0.0,\"#0d0887\"],[0.1111111111111111,\"#46039f\"],[0.2222222222222222,\"#7201a8\"],[0.3333333333333333,\"#9c179e\"],[0.4444444444444444,\"#bd3786\"],[0.5555555555555556,\"#d8576b\"],[0.6666666666666666,\"#ed7953\"],[0.7777777777777778,\"#fb9f3a\"],[0.8888888888888888,\"#fdca26\"],[1.0,\"#f0f921\"]]}],\"heatmap\":[{\"type\":\"heatmap\",\"colorbar\":{\"outlinewidth\":0,\"ticks\":\"\"},\"colorscale\":[[0.0,\"#0d0887\"],[0.1111111111111111,\"#46039f\"],[0.2222222222222222,\"#7201a8\"],[0.3333333333333333,\"#9c179e\"],[0.4444444444444444,\"#bd3786\"],[0.5555555555555556,\"#d8576b\"],[0.6666666666666666,\"#ed7953\"],[0.7777777777777778,\"#fb9f3a\"],[0.8888888888888888,\"#fdca26\"],[1.0,\"#f0f921\"]]}],\"heatmapgl\":[{\"type\":\"heatmapgl\",\"colorbar\":{\"outlinewidth\":0,\"ticks\":\"\"},\"colorscale\":[[0.0,\"#0d0887\"],[0.1111111111111111,\"#46039f\"],[0.2222222222222222,\"#7201a8\"],[0.3333333333333333,\"#9c179e\"],[0.4444444444444444,\"#bd3786\"],[0.5555555555555556,\"#d8576b\"],[0.6666666666666666,\"#ed7953\"],[0.7777777777777778,\"#fb9f3a\"],[0.8888888888888888,\"#fdca26\"],[1.0,\"#f0f921\"]]}],\"contourcarpet\":[{\"type\":\"contourcarpet\",\"colorbar\":{\"outlinewidth\":0,\"ticks\":\"\"}}],\"contour\":[{\"type\":\"contour\",\"colorbar\":{\"outlinewidth\":0,\"ticks\":\"\"},\"colorscale\":[[0.0,\"#0d0887\"],[0.1111111111111111,\"#46039f\"],[0.2222222222222222,\"#7201a8\"],[0.3333333333333333,\"#9c179e\"],[0.4444444444444444,\"#bd3786\"],[0.5555555555555556,\"#d8576b\"],[0.6666666666666666,\"#ed7953\"],[0.7777777777777778,\"#fb9f3a\"],[0.8888888888888888,\"#fdca26\"],[1.0,\"#f0f921\"]]}],\"surface\":[{\"type\":\"surface\",\"colorbar\":{\"outlinewidth\":0,\"ticks\":\"\"},\"colorscale\":[[0.0,\"#0d0887\"],[0.1111111111111111,\"#46039f\"],[0.2222222222222222,\"#7201a8\"],[0.3333333333333333,\"#9c179e\"],[0.4444444444444444,\"#bd3786\"],[0.5555555555555556,\"#d8576b\"],[0.6666666666666666,\"#ed7953\"],[0.7777777777777778,\"#fb9f3a\"],[0.8888888888888888,\"#fdca26\"],[1.0,\"#f0f921\"]]}],\"mesh3d\":[{\"type\":\"mesh3d\",\"colorbar\":{\"outlinewidth\":0,\"ticks\":\"\"}}],\"scatter\":[{\"fillpattern\":{\"fillmode\":\"overlay\",\"size\":10,\"solidity\":0.2},\"type\":\"scatter\"}],\"parcoords\":[{\"type\":\"parcoords\",\"line\":{\"colorbar\":{\"outlinewidth\":0,\"ticks\":\"\"}}}],\"scatterpolargl\":[{\"type\":\"scatterpolargl\",\"marker\":{\"colorbar\":{\"outlinewidth\":0,\"ticks\":\"\"}}}],\"bar\":[{\"error_x\":{\"color\":\"#2a3f5f\"},\"error_y\":{\"color\":\"#2a3f5f\"},\"marker\":{\"line\":{\"color\":\"#E5ECF6\",\"width\":0.5},\"pattern\":{\"fillmode\":\"overlay\",\"size\":10,\"solidity\":0.2}},\"type\":\"bar\"}],\"scattergeo\":[{\"type\":\"scattergeo\",\"marker\":{\"colorbar\":{\"outlinewidth\":0,\"ticks\":\"\"}}}],\"scatterpolar\":[{\"type\":\"scatterpolar\",\"marker\":{\"colorbar\":{\"outlinewidth\":0,\"ticks\":\"\"}}}],\"histogram\":[{\"marker\":{\"pattern\":{\"fillmode\":\"overlay\",\"size\":10,\"solidity\":0.2}},\"type\":\"histogram\"}],\"scattergl\":[{\"type\":\"scattergl\",\"marker\":{\"colorbar\":{\"outlinewidth\":0,\"ticks\":\"\"}}}],\"scatter3d\":[{\"type\":\"scatter3d\",\"line\":{\"colorbar\":{\"outlinewidth\":0,\"ticks\":\"\"}},\"marker\":{\"colorbar\":{\"outlinewidth\":0,\"ticks\":\"\"}}}],\"scattermapbox\":[{\"type\":\"scattermapbox\",\"marker\":{\"colorbar\":{\"outlinewidth\":0,\"ticks\":\"\"}}}],\"scatterternary\":[{\"type\":\"scatterternary\",\"marker\":{\"colorbar\":{\"outlinewidth\":0,\"ticks\":\"\"}}}],\"scattercarpet\":[{\"type\":\"scattercarpet\",\"marker\":{\"colorbar\":{\"outlinewidth\":0,\"ticks\":\"\"}}}],\"carpet\":[{\"aaxis\":{\"endlinecolor\":\"#2a3f5f\",\"gridcolor\":\"white\",\"linecolor\":\"white\",\"minorgridcolor\":\"white\",\"startlinecolor\":\"#2a3f5f\"},\"baxis\":{\"endlinecolor\":\"#2a3f5f\",\"gridcolor\":\"white\",\"linecolor\":\"white\",\"minorgridcolor\":\"white\",\"startlinecolor\":\"#2a3f5f\"},\"type\":\"carpet\"}],\"table\":[{\"cells\":{\"fill\":{\"color\":\"#EBF0F8\"},\"line\":{\"color\":\"white\"}},\"header\":{\"fill\":{\"color\":\"#C8D4E3\"},\"line\":{\"color\":\"white\"}},\"type\":\"table\"}],\"barpolar\":[{\"marker\":{\"line\":{\"color\":\"#E5ECF6\",\"width\":0.5},\"pattern\":{\"fillmode\":\"overlay\",\"size\":10,\"solidity\":0.2}},\"type\":\"barpolar\"}],\"pie\":[{\"automargin\":true,\"type\":\"pie\"}]},\"layout\":{\"autotypenumbers\":\"strict\",\"colorway\":[\"#636efa\",\"#EF553B\",\"#00cc96\",\"#ab63fa\",\"#FFA15A\",\"#19d3f3\",\"#FF6692\",\"#B6E880\",\"#FF97FF\",\"#FECB52\"],\"font\":{\"color\":\"#2a3f5f\"},\"hovermode\":\"closest\",\"hoverlabel\":{\"align\":\"left\"},\"paper_bgcolor\":\"white\",\"plot_bgcolor\":\"#E5ECF6\",\"polar\":{\"bgcolor\":\"#E5ECF6\",\"angularaxis\":{\"gridcolor\":\"white\",\"linecolor\":\"white\",\"ticks\":\"\"},\"radialaxis\":{\"gridcolor\":\"white\",\"linecolor\":\"white\",\"ticks\":\"\"}},\"ternary\":{\"bgcolor\":\"#E5ECF6\",\"aaxis\":{\"gridcolor\":\"white\",\"linecolor\":\"white\",\"ticks\":\"\"},\"baxis\":{\"gridcolor\":\"white\",\"linecolor\":\"white\",\"ticks\":\"\"},\"caxis\":{\"gridcolor\":\"white\",\"linecolor\":\"white\",\"ticks\":\"\"}},\"coloraxis\":{\"colorbar\":{\"outlinewidth\":0,\"ticks\":\"\"}},\"colorscale\":{\"sequential\":[[0.0,\"#0d0887\"],[0.1111111111111111,\"#46039f\"],[0.2222222222222222,\"#7201a8\"],[0.3333333333333333,\"#9c179e\"],[0.4444444444444444,\"#bd3786\"],[0.5555555555555556,\"#d8576b\"],[0.6666666666666666,\"#ed7953\"],[0.7777777777777778,\"#fb9f3a\"],[0.8888888888888888,\"#fdca26\"],[1.0,\"#f0f921\"]],\"sequentialminus\":[[0.0,\"#0d0887\"],[0.1111111111111111,\"#46039f\"],[0.2222222222222222,\"#7201a8\"],[0.3333333333333333,\"#9c179e\"],[0.4444444444444444,\"#bd3786\"],[0.5555555555555556,\"#d8576b\"],[0.6666666666666666,\"#ed7953\"],[0.7777777777777778,\"#fb9f3a\"],[0.8888888888888888,\"#fdca26\"],[1.0,\"#f0f921\"]],\"diverging\":[[0,\"#8e0152\"],[0.1,\"#c51b7d\"],[0.2,\"#de77ae\"],[0.3,\"#f1b6da\"],[0.4,\"#fde0ef\"],[0.5,\"#f7f7f7\"],[0.6,\"#e6f5d0\"],[0.7,\"#b8e186\"],[0.8,\"#7fbc41\"],[0.9,\"#4d9221\"],[1,\"#276419\"]]},\"xaxis\":{\"gridcolor\":\"white\",\"linecolor\":\"white\",\"ticks\":\"\",\"title\":{\"standoff\":15},\"zerolinecolor\":\"white\",\"automargin\":true,\"zerolinewidth\":2},\"yaxis\":{\"gridcolor\":\"white\",\"linecolor\":\"white\",\"ticks\":\"\",\"title\":{\"standoff\":15},\"zerolinecolor\":\"white\",\"automargin\":true,\"zerolinewidth\":2},\"scene\":{\"xaxis\":{\"backgroundcolor\":\"#E5ECF6\",\"gridcolor\":\"white\",\"linecolor\":\"white\",\"showbackground\":true,\"ticks\":\"\",\"zerolinecolor\":\"white\",\"gridwidth\":2},\"yaxis\":{\"backgroundcolor\":\"#E5ECF6\",\"gridcolor\":\"white\",\"linecolor\":\"white\",\"showbackground\":true,\"ticks\":\"\",\"zerolinecolor\":\"white\",\"gridwidth\":2},\"zaxis\":{\"backgroundcolor\":\"#E5ECF6\",\"gridcolor\":\"white\",\"linecolor\":\"white\",\"showbackground\":true,\"ticks\":\"\",\"zerolinecolor\":\"white\",\"gridwidth\":2}},\"shapedefaults\":{\"line\":{\"color\":\"#2a3f5f\"}},\"annotationdefaults\":{\"arrowcolor\":\"#2a3f5f\",\"arrowhead\":0,\"arrowwidth\":1},\"geo\":{\"bgcolor\":\"white\",\"landcolor\":\"#E5ECF6\",\"subunitcolor\":\"white\",\"showland\":true,\"showlakes\":true,\"lakecolor\":\"white\"},\"title\":{\"x\":0.05},\"mapbox\":{\"style\":\"light\"}}},\"xaxis\":{\"anchor\":\"y\",\"domain\":[0.0,1.0],\"title\":{\"text\":\"x\"}},\"yaxis\":{\"anchor\":\"x\",\"domain\":[0.0,1.0],\"title\":{\"text\":\"y\"}},\"coloraxis\":{\"colorbar\":{\"title\":{\"text\":\"Rank Score\"},\"yanchor\":\"top\",\"y\":0.78,\"x\":1.03,\"ticks\":\"outside\",\"len\":0.8,\"dtick\":1},\"colorscale\":[[0.0,\"#0d0887\"],[0.1111111111111111,\"#46039f\"],[0.2222222222222222,\"#7201a8\"],[0.3333333333333333,\"#9c179e\"],[0.4444444444444444,\"#bd3786\"],[0.5555555555555556,\"#d8576b\"],[0.6666666666666666,\"#ed7953\"],[0.7777777777777778,\"#fb9f3a\"],[0.8888888888888888,\"#fdca26\"],[1.0,\"#f0f921\"]],\"cmin\":1,\"cmax\":4},\"legend\":{\"title\":{\"text\":\"Generative\"},\"tracegroupgap\":0,\"itemsizing\":\"constant\",\"traceorder\":\"reversed\"},\"title\":{\"text\":\"UMAP Projection of English Model Performance\"},\"height\":600,\"width\":800},                        {\"responsive\": true}                    ).then(function(){\n",
       "                            \n",
       "var gd = document.getElementById('3c9dc253-27d1-44d7-afbe-6a0b43deb5f7');\n",
       "var x = new MutationObserver(function (mutations, observer) {{\n",
       "        var display = window.getComputedStyle(gd).display;\n",
       "        if (!display || display === 'none') {{\n",
       "            console.log([gd, 'removed!']);\n",
       "            Plotly.purge(gd);\n",
       "            observer.disconnect();\n",
       "        }}\n",
       "}});\n",
       "\n",
       "// Listen for the removal of the full notebook cells\n",
       "var notebookContainer = gd.closest('#notebook-container');\n",
       "if (notebookContainer) {{\n",
       "    x.observe(notebookContainer, {childList: true});\n",
       "}}\n",
       "\n",
       "// Listen for the clearing of the current output cell\n",
       "var outputEl = gd.closest('.output');\n",
       "if (outputEl) {{\n",
       "    x.observe(outputEl, {childList: true});\n",
       "}}\n",
       "\n",
       "                        })                };                });            </script>        </div>"
      ]
     },
     "metadata": {},
     "output_type": "display_data"
    }
   ],
   "source": [
    "n_neighbours = (len(df) - 1) // 2\n",
    "print(f\"Using {n_neighbours} neighbours.\")\n",
    "umap = UMAP(n_neighbors=n_neighbours, n_components=2, random_state=4242, n_jobs=1)\n",
    "umap_projection = umap.fit_transform(df.drop(columns=[\"generative\", \"rank\"]))\n",
    "\n",
    "if df.generative.iloc[0]:\n",
    "    symbol_sequence = [\"square\", \"star\"]\n",
    "    traceorder = \"normal\"\n",
    "else:\n",
    "    symbol_sequence = [\"star\", \"square\"]\n",
    "    traceorder = \"reversed\"\n",
    "\n",
    "fig = px.scatter(\n",
    "    x=umap_projection[:, 0], \n",
    "    y=umap_projection[:, 1], \n",
    "    color=df['rank'],\n",
    "    color_continuous_scale=px.colors.sequential.Plasma,\n",
    "    range_color=[1, 4],\n",
    "    symbol=df.generative,\n",
    "    symbol_sequence=symbol_sequence,\n",
    "    size=[20] * len(df),\n",
    "    size_max=9,\n",
    "    hover_name=df.index.tolist(),\n",
    "    width=800,\n",
    "    height=600,\n",
    "    title=f\"UMAP Projection of {language_title} Model Performance\",\n",
    "    labels=dict(color=\"Rank Score\", symbol='Generative'),\n",
    "    template='plotly',\n",
    ")\n",
    "fig.update_layout(\n",
    "    coloraxis_colorbar=dict(\n",
    "        yanchor=\"top\", y=0.78, x=1.03, ticks=\"outside\", len=0.8, dtick=1\n",
    "    ),\n",
    "    legend_traceorder=traceorder,\n",
    ")"
   ]
  }
 ],
 "metadata": {
  "kernelspec": {
   "display_name": "Python 3 (ipykernel)",
   "language": "python",
   "name": "python3"
  },
  "language_info": {
   "codemirror_mode": {
    "name": "ipython",
    "version": 3
   },
   "file_extension": ".py",
   "mimetype": "text/x-python",
   "name": "python",
   "nbconvert_exporter": "python",
   "pygments_lexer": "ipython3",
   "version": "3.10.14"
  }
 },
 "nbformat": 4,
 "nbformat_minor": 5
}
