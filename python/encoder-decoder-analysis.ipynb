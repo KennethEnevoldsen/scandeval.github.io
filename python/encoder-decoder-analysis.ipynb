{
 "cells": [
  {
   "cell_type": "code",
   "execution_count": 1,
   "id": "5b28808d-d8a6-47ba-9d73-5d09579c61f2",
   "metadata": {},
   "outputs": [],
   "source": [
    "import pandas as pd\n",
    "import seaborn as sns\n",
    "import plotly.express as px\n",
    "from sklearn.decomposition import PCA\n",
    "from sklearn.manifold import TSNE\n",
    "from umap import UMAP"
   ]
  },
  {
   "cell_type": "code",
   "execution_count": 61,
   "id": "77f00b44-55ce-402d-97f8-7a2d321fb097",
   "metadata": {},
   "outputs": [],
   "source": [
    "dataset_to_task = dict(\n",
    "    dansk='ner',\n",
    "    angry_tweets='sent',\n",
    "    scala_da='la',\n",
    "    scandiqa_da='qa',\n",
    "    norne_nb='ner',\n",
    "    norne_nn='ner',\n",
    "    norec='sent',\n",
    "    scala_nb='la',\n",
    "    scala_nn='la',\n",
    "    norquad='qa',\n",
    "    suc3='ner',\n",
    "    swerec='sent',\n",
    "    scala_sv='la',\n",
    "    scandiqa_sv='qa',\n",
    "    conll_en='ner',\n",
    "    sst5='sent',\n",
    "    scala_en='la',\n",
    "    squad='qa',\n",
    ")"
   ]
  },
  {
   "cell_type": "code",
   "execution_count": 62,
   "id": "f8ac3474-7346-4734-b500-c88cd7f1664d",
   "metadata": {},
   "outputs": [],
   "source": [
    "def load_results_dataframe(language: str) -> pd.DataFrame:\n",
    "    df = pd.read_csv(f'https://scandeval.com/{language}-nlu.csv')\n",
    "\n",
    "    df.drop(\n",
    "        columns=[\n",
    "            \"num_model_parameters\", \n",
    "            \"vocabulary_size\", \n",
    "            \"max_sequence_length\", \n",
    "            \"speed\",\n",
    "        ] + [col for col in df.columns if \"rank\" in col], \n",
    "        inplace=True,\n",
    "    )\n",
    "    \n",
    "    datasets = ['model_id']\n",
    "    for task in ['ner', 'sent', 'la', 'qa']:\n",
    "        datasets.extend([\n",
    "            dataset\n",
    "            for dataset in df.columns\n",
    "            if dataset_to_task.get(dataset) == task\n",
    "        ])\n",
    "    df = df[datasets]\n",
    "    \n",
    "    df['generative'] = df.model_id.map(lambda x: \"few-shot\" in x)\n",
    "    df.set_index('model_id', inplace=True)\n",
    "    \n",
    "    return df"
   ]
  },
  {
   "cell_type": "code",
   "execution_count": 75,
   "id": "4b566a32-7053-4b65-a72f-179750856760",
   "metadata": {},
   "outputs": [
    {
     "data": {
      "text/html": [
       "<div>\n",
       "<style scoped>\n",
       "    .dataframe tbody tr th:only-of-type {\n",
       "        vertical-align: middle;\n",
       "    }\n",
       "\n",
       "    .dataframe tbody tr th {\n",
       "        vertical-align: top;\n",
       "    }\n",
       "\n",
       "    .dataframe thead th {\n",
       "        text-align: right;\n",
       "    }\n",
       "</style>\n",
       "<table border=\"1\" class=\"dataframe\">\n",
       "  <thead>\n",
       "    <tr style=\"text-align: right;\">\n",
       "      <th></th>\n",
       "      <th>dansk</th>\n",
       "      <th>norne_nb</th>\n",
       "      <th>norne_nn</th>\n",
       "      <th>suc3</th>\n",
       "      <th>angry_tweets</th>\n",
       "      <th>norec</th>\n",
       "      <th>swerec</th>\n",
       "      <th>scala_da</th>\n",
       "      <th>scala_nb</th>\n",
       "      <th>scala_nn</th>\n",
       "      <th>scala_sv</th>\n",
       "      <th>scandiqa_da</th>\n",
       "      <th>norquad</th>\n",
       "      <th>scandiqa_sv</th>\n",
       "      <th>generative</th>\n",
       "    </tr>\n",
       "    <tr>\n",
       "      <th>model_id</th>\n",
       "      <th></th>\n",
       "      <th></th>\n",
       "      <th></th>\n",
       "      <th></th>\n",
       "      <th></th>\n",
       "      <th></th>\n",
       "      <th></th>\n",
       "      <th></th>\n",
       "      <th></th>\n",
       "      <th></th>\n",
       "      <th></th>\n",
       "      <th></th>\n",
       "      <th></th>\n",
       "      <th></th>\n",
       "      <th></th>\n",
       "    </tr>\n",
       "  </thead>\n",
       "  <tbody>\n",
       "    <tr>\n",
       "      <th>gpt-4-0613 (few-shot, val)</th>\n",
       "      <td>64.94</td>\n",
       "      <td>81.16</td>\n",
       "      <td>75.75</td>\n",
       "      <td>76.86</td>\n",
       "      <td>59.97</td>\n",
       "      <td>72.72</td>\n",
       "      <td>79.19</td>\n",
       "      <td>71.56</td>\n",
       "      <td>77.30</td>\n",
       "      <td>57.18</td>\n",
       "      <td>80.93</td>\n",
       "      <td>49.82</td>\n",
       "      <td>49.93</td>\n",
       "      <td>56.50</td>\n",
       "      <td>True</td>\n",
       "    </tr>\n",
       "    <tr>\n",
       "      <th>AI-Sweden-Models/roberta-large-1160k</th>\n",
       "      <td>74.16</td>\n",
       "      <td>92.01</td>\n",
       "      <td>87.17</td>\n",
       "      <td>82.65</td>\n",
       "      <td>51.20</td>\n",
       "      <td>60.11</td>\n",
       "      <td>77.25</td>\n",
       "      <td>73.87</td>\n",
       "      <td>72.85</td>\n",
       "      <td>65.56</td>\n",
       "      <td>77.90</td>\n",
       "      <td>49.34</td>\n",
       "      <td>60.38</td>\n",
       "      <td>49.64</td>\n",
       "      <td>False</td>\n",
       "    </tr>\n",
       "    <tr>\n",
       "      <th>ltg/norbert3-large</th>\n",
       "      <td>73.62</td>\n",
       "      <td>93.12</td>\n",
       "      <td>89.39</td>\n",
       "      <td>79.01</td>\n",
       "      <td>48.29</td>\n",
       "      <td>64.62</td>\n",
       "      <td>75.32</td>\n",
       "      <td>71.55</td>\n",
       "      <td>77.97</td>\n",
       "      <td>76.30</td>\n",
       "      <td>69.11</td>\n",
       "      <td>48.59</td>\n",
       "      <td>66.03</td>\n",
       "      <td>48.88</td>\n",
       "      <td>False</td>\n",
       "    </tr>\n",
       "    <tr>\n",
       "      <th>AI-Sweden-Models/roberta-large-1350k</th>\n",
       "      <td>75.22</td>\n",
       "      <td>92.49</td>\n",
       "      <td>87.22</td>\n",
       "      <td>82.97</td>\n",
       "      <td>49.94</td>\n",
       "      <td>58.77</td>\n",
       "      <td>77.37</td>\n",
       "      <td>72.59</td>\n",
       "      <td>76.30</td>\n",
       "      <td>64.11</td>\n",
       "      <td>73.81</td>\n",
       "      <td>48.97</td>\n",
       "      <td>60.69</td>\n",
       "      <td>49.50</td>\n",
       "      <td>False</td>\n",
       "    </tr>\n",
       "    <tr>\n",
       "      <th>danish-foundation-models/encoder-large-v1</th>\n",
       "      <td>74.60</td>\n",
       "      <td>88.66</td>\n",
       "      <td>84.59</td>\n",
       "      <td>74.18</td>\n",
       "      <td>51.42</td>\n",
       "      <td>55.59</td>\n",
       "      <td>75.11</td>\n",
       "      <td>76.11</td>\n",
       "      <td>71.43</td>\n",
       "      <td>53.30</td>\n",
       "      <td>64.11</td>\n",
       "      <td>47.42</td>\n",
       "      <td>57.38</td>\n",
       "      <td>46.79</td>\n",
       "      <td>False</td>\n",
       "    </tr>\n",
       "  </tbody>\n",
       "</table>\n",
       "</div>"
      ],
      "text/plain": [
       "                                           dansk  norne_nb  norne_nn   suc3  \\\n",
       "model_id                                                                      \n",
       "gpt-4-0613 (few-shot, val)                 64.94     81.16     75.75  76.86   \n",
       "AI-Sweden-Models/roberta-large-1160k       74.16     92.01     87.17  82.65   \n",
       "ltg/norbert3-large                         73.62     93.12     89.39  79.01   \n",
       "AI-Sweden-Models/roberta-large-1350k       75.22     92.49     87.22  82.97   \n",
       "danish-foundation-models/encoder-large-v1  74.60     88.66     84.59  74.18   \n",
       "\n",
       "                                           angry_tweets  norec  swerec  \\\n",
       "model_id                                                                 \n",
       "gpt-4-0613 (few-shot, val)                        59.97  72.72   79.19   \n",
       "AI-Sweden-Models/roberta-large-1160k              51.20  60.11   77.25   \n",
       "ltg/norbert3-large                                48.29  64.62   75.32   \n",
       "AI-Sweden-Models/roberta-large-1350k              49.94  58.77   77.37   \n",
       "danish-foundation-models/encoder-large-v1         51.42  55.59   75.11   \n",
       "\n",
       "                                           scala_da  scala_nb  scala_nn  \\\n",
       "model_id                                                                  \n",
       "gpt-4-0613 (few-shot, val)                    71.56     77.30     57.18   \n",
       "AI-Sweden-Models/roberta-large-1160k          73.87     72.85     65.56   \n",
       "ltg/norbert3-large                            71.55     77.97     76.30   \n",
       "AI-Sweden-Models/roberta-large-1350k          72.59     76.30     64.11   \n",
       "danish-foundation-models/encoder-large-v1     76.11     71.43     53.30   \n",
       "\n",
       "                                           scala_sv  scandiqa_da  norquad  \\\n",
       "model_id                                                                    \n",
       "gpt-4-0613 (few-shot, val)                    80.93        49.82    49.93   \n",
       "AI-Sweden-Models/roberta-large-1160k          77.90        49.34    60.38   \n",
       "ltg/norbert3-large                            69.11        48.59    66.03   \n",
       "AI-Sweden-Models/roberta-large-1350k          73.81        48.97    60.69   \n",
       "danish-foundation-models/encoder-large-v1     64.11        47.42    57.38   \n",
       "\n",
       "                                           scandiqa_sv  generative  \n",
       "model_id                                                            \n",
       "gpt-4-0613 (few-shot, val)                       56.50        True  \n",
       "AI-Sweden-Models/roberta-large-1160k             49.64       False  \n",
       "ltg/norbert3-large                               48.88       False  \n",
       "AI-Sweden-Models/roberta-large-1350k             49.50       False  \n",
       "danish-foundation-models/encoder-large-v1        46.79       False  "
      ]
     },
     "execution_count": 75,
     "metadata": {},
     "output_type": "execute_result"
    }
   ],
   "source": [
    "df = load_results_dataframe(language=\"mainland-scandinavian\")\n",
    "df.head()"
   ]
  },
  {
   "cell_type": "code",
   "execution_count": 76,
   "id": "67c68697-b69b-44f2-b620-a265c5712345",
   "metadata": {},
   "outputs": [
    {
     "data": {
      "text/plain": [
       "<Axes: >"
      ]
     },
     "execution_count": 76,
     "metadata": {},
     "output_type": "execute_result"
    },
    {
     "data": {
      "image/png": "[encoded data removed]",
      "text/plain": [
       "<Figure size 640x480 with 2 Axes>"
      ]
     },
     "metadata": {},
     "output_type": "display_data"
    }
   ],
   "source": [
    "sns.heatmap(\n",
    "    df.corr(), \n",
    "    annot=True, \n",
    "    fmt=\".1f\", \n",
    "    vmin=-1, \n",
    "    vmax=1, \n",
    "    cmap=sns.diverging_palette(145, 300, s=60, as_cmap=True),\n",
    ")"
   ]
  },
  {
   "cell_type": "code",
   "execution_count": 77,
   "id": "175b5fd9-ff81-44d0-88bb-d906703aa96d",
   "metadata": {},
   "outputs": [
    {
     "data": {
      "application/vnd.plotly.v1+json": {
       "config": {
        "plotlyServerURL": "https://plot.ly"
       },
       "data": [
        {
         "hovertemplate": "<b>%{hovertext}</b><br><br>Generative=True<br>x=%{x}<br>y=%{y}<extra></extra>",
         "hovertext": [
          "gpt-4-0613 (few-shot, val)",
          "gpt-3.5-turbo-0613 (few-shot)",
          "gpt-3.5-turbo-0613 (few-shot, val)",
          "RJuro/munin-neuralbeagle-7b (few-shot, val)",
          "timpal0l/BeagleCatMunin (few-shot, val)",
          "birgermoell/Flashback-Bellman (few-shot, val)",
          "merge-crew/da-sv-dare-ties-density-0.9 (few-shot, val)",
          "merge-crew/da-sv-slerp (few-shot, val)",
          "merge-crew/da-sv-task-arithmetic (few-shot, val)",
          "mhenrichsen/danskgpt-chat-v2.1 (few-shot)",
          "Mabeck/Heidrun-Mistral-7B-chat (few-shot)",
          "birgermoell/BeagleCatMunin-Flashback-Bellman (few-shot, val)",
          "birgermoell/Rapid-Cycling (few-shot, val)",
          "timpal0l/BeagleCatMunin2 (few-shot, val)",
          "mlabonne/NeuralBeagle14-7B (few-shot, val)",
          "merge-crew/da-sv-ties (few-shot, val)",
          "birgermoell/Munin-NeuralBeagle-NorskGPT (few-shot, val)",
          "birgermoell/WestLake-Munin-Cat-NorskGPT (few-shot, val)",
          "merge-crew/da-sv-dare-ties-density-0.6 (few-shot, val)",
          "RJuro/munin-neuralbeagle-SkoleGPTOpenOrca-7b (few-shot, val)",
          "timpal0l/tyr (few-shot, val)",
          "Mabeck/Heidrun-Mistral-7B-base (few-shot)",
          "ThatsGroes/munin-SkoleGPTOpenOrca-7b-16bit (few-shot)",
          "KennethEnevoldsen/munin_mistral-7b (few-shot, val)",
          "bineric/NorskGPT-Mistral-7b (few-shot)",
          "danish-foundation-models/munin-7b-v0.1dev0 (few-shot)",
          "timpal0l/Mistral-7B-v0.1-flashback-v2 (few-shot)",
          "mhenrichsen/hestenettetLM (few-shot)",
          "birgermoell/NeuralBeagle-Flashback (few-shot, val)",
          "RuterNorway/Llama-2-13b-chat-norwegian (few-shot)",
          "mistralai/Mistral-7B-Instruct-v0.2 (few-shot)",
          "neph1/bellman-7b-mistral-instruct-v0.2 (few-shot)",
          "mistralai/Mistral-7B-v0.1 (few-shot)",
          "occiglot/occiglot-7b-eu5-instruct (few-shot)",
          "mistralai/Mistral-7B-Instruct-v0.1 (few-shot)",
          "bineric/NorskGPT-Llama-7B-v0.1 (few-shot)",
          "occiglot/occiglot-7b-eu5 (few-shot)",
          "timpal0l/njord-alpha (few-shot)",
          "danish-foundation-models/munin-7b-alpha (few-shot)",
          "merge-crew/da-sv-dare-ties-density-0.3 (few-shot, val)",
          "meta-llama/Llama-2-7b-chat-hf (few-shot)",
          "tollefj/nordavind-7b-instruct-warm (few-shot)",
          "timpal0l/Mistral-7B-v0.1-flashback-v2-instruct (few-shot)",
          "AI-Sweden-Models/gpt-sw3-20b (few-shot)",
          "norallm/normistral-7b-warm (few-shot)",
          "meta-llama/Llama-2-7b-hf (few-shot)",
          "Qwen/Qwen1.5-4B-Chat (few-shot)",
          "01-ai/Yi-6B (few-shot)",
          "google/gemma-2b (few-shot)",
          "Qwen/Qwen1.5-4B (few-shot)",
          "AI-Sweden-Models/gpt-sw3-1.3b-instruct (few-shot)",
          "AI-Sweden-Models/gpt-sw3-6.7b-v2 (few-shot)",
          "AI-Sweden-Models/gpt-sw3-6.7b-v2-instruct (few-shot)",
          "AI-Sweden-Models/gpt-sw3-1.3b (few-shot)",
          "AI-Sweden-Models/gpt-sw3-6.7b (few-shot)",
          "google/gemma-2b-it (few-shot)",
          "norallm/normistral-7b-scratch (few-shot)",
          "mhenrichsen/danskgpt-tiny-chat (few-shot)",
          "NbAiLab/nb-gpt-j-6B-alpaca (few-shot)",
          "AI-Sweden-Models/gpt-sw3-356m-instruct (few-shot)",
          "Qwen/Qwen1.5-1.8B (few-shot)",
          "Qwen/Qwen1.5-1.8B-Chat (few-shot)",
          "HPLT/gpt-7b-nordic-prerelease (few-shot)",
          "AI-Sweden-Models/gpt-sw3-356m (few-shot)",
          "RuterNorway/Llama-2-7b-chat-norwegian (few-shot)",
          "mhenrichsen/danskgpt-tiny (few-shot)",
          "Qwen/Qwen1.5-0.5B-Chat (few-shot)",
          "allenai/OLMo-1B (few-shot)",
          "Qwen/Qwen1.5-0.5B (few-shot)",
          "NbAiLab/nb-gpt-j-6B-v2 (few-shot)",
          "AI-Sweden-Models/gpt-sw3-126m-instruct (few-shot)",
          "NbAiLab/nb-gpt-j-6B@sharded (few-shot)",
          "AI-Sweden-Models/gpt-sw3-126m (few-shot)",
          "RJuro/kanelsnegl-v0.1 (few-shot)",
          "RJuro/kanelsnegl-v0.2 (few-shot)",
          "ai-forever/mGPT (few-shot)",
          "peter-sk/gpt-neox-da (few-shot)"
         ],
         "legendgroup": "True",
         "marker": {
          "color": "#636efa",
          "symbol": "circle"
         },
         "mode": "markers",
         "name": "True",
         "orientation": "v",
         "showlegend": true,
         "type": "scatter",
         "x": [
          -103.64250340078074,
          -62.87822909446399,
          -66.45646136646243,
          -7.3465833264591565,
          1.2563006094905467,
          3.86290009998149,
          0.010937845722747312,
          6.803888949914808,
          6.837424627025908,
          3.322404218238203,
          -0.26722605577590447,
          5.60903947510354,
          4.619104711297618,
          2.89249645077722,
          -4.593112319574387,
          7.478940460429025,
          4.04150328953506,
          4.04150328953506,
          14.817775606650851,
          8.673895777408779,
          15.682841444122484,
          17.62164211300101,
          19.75824777214179,
          30.210684666641306,
          10.919760716633947,
          9.930806957878499,
          12.957966510455082,
          25.961425466679227,
          13.18594018588286,
          19.946385313835865,
          14.433752885234151,
          14.117718596486705,
          23.246688050825828,
          38.08888162404372,
          24.161628917366897,
          31.96957288085971,
          41.45733532983671,
          37.809792021279556,
          40.61612445953673,
          41.647215541431976,
          39.157618971455435,
          42.96978172659134,
          32.81404835347264,
          44.18943464404533,
          43.07434307807043,
          47.95476790567479,
          58.05146338543175,
          46.71408818198074,
          79.23571932014198,
          62.89642695252393,
          77.03116678677533,
          61.173409778641826,
          74.1022590144813,
          92.2863971369869,
          81.44885298801827,
          70.81569767076252,
          88.01806565396652,
          79.07997918883542,
          85.1369579224379,
          90.75601026916249,
          88.92095082435293,
          80.52604885349254,
          106.71267361289556,
          81.68471224305733,
          98.26011201765942,
          92.69177752345011,
          102.97915709540345,
          97.73097671590118,
          98.38391045216153,
          120.54526502114132,
          98.02449852238219,
          128.02680040721404,
          123.99537637200982,
          131.36010941929547,
          133.24970212160682,
          136.66181261842775,
          137.48071769528192
         ],
         "xaxis": "x",
         "y": [
          -13.653887675674058,
          -22.271743585941355,
          -18.654663270782326,
          -42.11930228165519,
          -43.89866070821125,
          -44.86717165607719,
          -41.400294911407265,
          -46.03849264324746,
          -46.17135310007439,
          -45.28296638833131,
          -42.8898109422331,
          -44.71184981580829,
          -42.136852335211884,
          -44.90275463813584,
          -30.874768018431368,
          -42.946457441107036,
          -46.57523256296567,
          -46.57523256296567,
          -48.407296586348515,
          -43.97010045795324,
          -48.40659311620016,
          -41.325976567542874,
          -45.43390974870154,
          -54.850237388872685,
          -47.98036175499467,
          -36.252685635369964,
          -29.696318944189823,
          -48.92935672647317,
          -30.50568150099556,
          -39.20590921179142,
          -24.784348927257525,
          -23.426051508786912,
          -29.461942650714285,
          -50.12294107846823,
          -31.37649298585447,
          -40.31546301783225,
          -49.937972070186,
          -25.41513811956386,
          -37.26954830825784,
          -36.12338773741784,
          -34.37413580274395,
          -37.482963333790494,
          -28.761768263741505,
          -32.99696893594062,
          -31.673740479744943,
          -23.384407751196953,
          -35.27435684236718,
          -33.7670330947276,
          -34.997958392905105,
          -19.510193760548,
          -28.25458835605874,
          -8.24164343182886,
          -21.955632422759553,
          -24.566508757592743,
          -22.438618044650124,
          -9.895798646311956,
          -17.2821511691742,
          -5.302084777786739,
          -8.55129092365948,
          -8.891923367251753,
          -10.141897042769342,
          -5.823006831016207,
          -16.99208507236607,
          3.339191851857463,
          6.771975003126861,
          31.402409836624475,
          16.61439710716589,
          30.39033600521328,
          21.343244409344088,
          36.08468733337328,
          39.01242542688976,
          45.42737878035649,
          53.37915744514299,
          54.95997938836291,
          58.20662319032233,
          61.408004484542474,
          66.27221670131624
         ],
         "yaxis": "y"
        },
        {
         "hovertemplate": "<b>%{hovertext}</b><br><br>Generative=False<br>x=%{x}<br>y=%{y}<extra></extra>",
         "hovertext": [
          "AI-Sweden-Models/roberta-large-1160k",
          "ltg/norbert3-large",
          "AI-Sweden-Models/roberta-large-1350k",
          "danish-foundation-models/encoder-large-v1",
          "KennethEnevoldsen/dfm-sentence-encoder-large-1",
          "KennethEnevoldsen/dfm-sentence-encoder-large-2",
          "google/rembert",
          "intfloat/multilingual-e5-large",
          "NbAiLab/nb-roberta-base-scandi",
          "microsoft/mdeberta-v3-base",
          "NbAiLab/nb-roberta-base-scandi-1e4",
          "ltg/norbert3-base",
          "sentence-transformers/use-cmlm-multilingual",
          "FacebookAI/xlm-roberta-large",
          "KennethEnevoldsen/dfm-sentence-encoder-medium-3",
          "vesteinn/ScandiBERT-no-faroese",
          "NbAiLab/nb-bert-base",
          "vesteinn/FoBERT",
          "pere/roberta-debug-8",
          "pere/roberta-base-exp-8",
          "setu4993/LaBSE",
          "pere/roberta-debug-32",
          "pere/roberta-base-exp-32",
          "AI-Sweden-Models/bert-large-nordic-pile-1M-steps",
          "pere/roberta-base-exp-32B",
          "vesteinn/DanskBERT",
          "ltg/norbert3-small",
          "KBLab/megatron-bert-large-swedish-cased-165k",
          "AI-Nordics/bert-large-swedish-cased",
          "cardiffnlp/twitter-xlm-roberta-base",
          "KBLab/megatron-bert-large-swedish-cased-110k",
          "microsoft/infoxlm-large",
          "google-bert/bert-base-multilingual-uncased",
          "KB/bert-base-swedish-cased",
          "KBLab/megatron-bert-base-swedish-cased-600k",
          "Geotrend/bert-base-en-fr-de-no-da-cased",
          "google-bert/bert-base-multilingual-cased",
          "Geotrend/bert-base-25lang-cased",
          "Geotrend/bert-base-en-no-cased",
          "KBLab/bert-base-swedish-cased",
          "microsoft/xlm-align-base",
          "facebook/xlm-v-base",
          "Geotrend/bert-base-en-da-cased",
          "jonfd/electra-small-nordic",
          "Geotrend/bert-base-da-cased",
          "microsoft/infoxlm-base",
          "KBLab/megatron-bert-base-swedish-cased-125k",
          "clips/mfaq",
          "jhu-clsp/bernice",
          "flax-community/nordic-roberta-wiki",
          "DDSC/roberta-base-scandinavian",
          "KBLab/bert-base-swedish-cased-new",
          "sentence-transformers/paraphrase-xlm-r-multilingual-v1",
          "sentence-transformers/paraphrase-multilingual-mpnet-base-v2",
          "flax-community/swe-roberta-wiki-oscar",
          "sentence-transformers/stsb-xlm-r-multilingual",
          "distilbert/distilbert-base-multilingual-cased",
          "Geotrend/distilbert-base-25lang-cased",
          "Geotrend/distilbert-base-en-fr-de-no-da-cased",
          "Geotrend/distilbert-base-en-no-cased",
          "Geotrend/distilbert-base-en-da-cased",
          "Twitter/twhin-bert-large",
          "Geotrend/distilbert-base-da-cased",
          "sarnikowski/convbert-medium-small-da-cased",
          "Addedk/kbbert-distilled-cased",
          "danish-foundation-models/encoder-medium-v1",
          "sentence-transformers/paraphrase-multilingual-MiniLM-L12-v2",
          "jannikskytt/MeDa-Bert",
          "DDSC/roberta-base-danish",
          "Maltehb/danish-bert-botxo",
          "ltg/norbert3-xs",
          "birgermoell/roberta-swedish-scandi",
          "Addedk/mbert-swedish-distilled-cased",
          "sarnikowski/electra-small-discriminator-da-256-cased",
          "sarnikowski/convbert-small-da-cased",
          "dbmdz/bert-base-historic-multilingual-cased",
          "sentence-transformers/distilbert-multilingual-nli-stsb-quora-ranking",
          "sentence-transformers/quora-distilbert-multilingual",
          "Maltehb/aelaectra-danish-electra-small-cased",
          "dbmdz/bert-medium-historic-multilingual-cased",
          "Maltehb/aelaectra-danish-electra-small-uncased",
          "jjzha/dajobbert-base-uncased",
          "sentence-transformers/distiluse-base-multilingual-cased-v1",
          "KBLab/albert-base-swedish-cased-alpha",
          "dbmdz/bert-mini-historic-multilingual-cased",
          "jannesg/bertsson",
          "alexanderfalk/danbert-small-cased",
          "3ebdola/Dialectal-Arabic-XLM-R-Base",
          "RabotaRu/HRBert-mini",
          "fresh-xlm-roberta-base",
          "fresh-electra-small"
         ],
         "legendgroup": "False",
         "marker": {
          "color": "#EF553B",
          "symbol": "circle"
         },
         "mode": "markers",
         "name": "False",
         "orientation": "v",
         "showlegend": true,
         "type": "scatter",
         "x": [
          -114.79782430602548,
          -116.47133943075276,
          -114.01281830096518,
          -100.01955268508615,
          -99.59112459263831,
          -100.0111154892077,
          -100.74419255196429,
          -87.80605423004619,
          -106.71778131650586,
          -102.22726766021195,
          -105.53430306833005,
          -97.37031125275819,
          -87.00954889767132,
          -82.874845067007,
          -102.96408219440059,
          -101.13481436659376,
          -102.23316289801858,
          -98.06295899949738,
          -96.9526042116347,
          -91.33532201897243,
          -84.06463831615693,
          -93.74068160487403,
          -86.19345677006294,
          -71.23820169351994,
          -78.41725437396775,
          -66.0980627931209,
          -75.02915584992454,
          -53.17213861564713,
          -54.38580541471959,
          -67.05971355239794,
          -47.1394865664768,
          -28.27165444430643,
          -55.733397115016366,
          -56.247192540931394,
          -41.967451266355106,
          -47.025514269190936,
          -51.63232187826313,
          -48.90262496768442,
          -47.603933246116156,
          -55.1619301899653,
          -27.232058104687813,
          -47.64857387761186,
          -44.44265198470604,
          -79.82810978020083,
          -40.854868239896454,
          -20.5236204127953,
          -35.09913902400054,
          -34.51180802878495,
          -47.50690572352151,
          -46.00893184487709,
          -12.747230580767843,
          -26.661668138503043,
          -35.293969088052165,
          -28.40124692906463,
          -30.118363558394094,
          -29.05365947340789,
          -32.45686219613763,
          -28.573435522767166,
          -29.474149914446887,
          -29.441164952116786,
          -26.575336054676786,
          -7.480057084164785,
          -27.097195209835647,
          -26.101692723961342,
          -19.146644188148958,
          -1.3197243544973445,
          -15.611086550485576,
          -1.8048376352135254,
          8.593729793555982,
          -1.9210948667885477,
          1.0981103449712486,
          -5.463892166081119,
          -16.52010714034515,
          -17.2040648646898,
          -13.770899846496008,
          11.290859803159298,
          7.029862557558344,
          7.08468104849328,
          -15.852602683384426,
          13.98025505185658,
          1.8192268955738744,
          16.586231211299303,
          39.991985281369324,
          36.24287242742826,
          41.34124877696823,
          55.21512434579435,
          66.80763829785471,
          57.45555768016426,
          84.79193755167302,
          96.75407045274767,
          105.67039848306905
         ],
         "xaxis": "x",
         "y": [
          -7.829165712735417,
          -8.317729859327082,
          -7.376510391062655,
          -5.666907593552198,
          -4.19335475609638,
          -3.639347007703402,
          -1.7376117416997725,
          -14.141909870462937,
          15.227677246125007,
          4.625182681329219,
          17.374651539610838,
          -0.25137715126887916,
          -7.516590736302345,
          -10.576263553653083,
          17.63258722648521,
          15.28891547514083,
          19.466757145872243,
          18.337141962508674,
          18.007851804870825,
          15.705410215425426,
          0.8229968781975562,
          22.51991396963331,
          10.547834648220832,
          2.5505721344855004,
          19.083586541806625,
          9.434813045004105,
          12.184499945430034,
          -6.469432976657549,
          -1.5743385596164525,
          24.3838698870353,
          -5.708708536419074,
          -28.786468367711517,
          11.242033239982169,
          17.720301683201832,
          1.8281716156505492,
          3.077563925581565,
          4.9992737184359815,
          4.486840364290475,
          3.667338506951435,
          17.537140988020052,
          -15.777472172150944,
          8.76641298404668,
          3.8224863689592286,
          62.80224999234074,
          6.3462240383180895,
          -13.095953303224443,
          11.881091583291054,
          25.970647400923582,
          42.25705272773753,
          37.46180443232301,
          1.4099205292698367,
          9.760136498311551,
          33.35113891095324,
          27.354574957986856,
          25.201753169534047,
          30.064593358286487,
          23.156180317192984,
          21.203872842015546,
          22.766688956698818,
          23.46402778826216,
          22.216976315838608,
          4.53726324319979,
          24.933943181107153,
          37.08842946393671,
          25.617200893424567,
          18.04457493169381,
          29.79875026079724,
          19.844061264247188,
          2.9024548011889344,
          27.561025585161147,
          5.676036542262842,
          23.72143698030474,
          32.916525280308065,
          46.00682207560772,
          41.623216421472186,
          11.82569830504633,
          25.701898820408672,
          26.446266425023758,
          65.9016338800771,
          18.438790175605316,
          61.04486837446196,
          37.670156020893764,
          29.272444970312804,
          32.59078088931043,
          31.068628729337732,
          27.61865565154924,
          46.551160654388795,
          46.90233755014074,
          45.42434686016304,
          47.66229586463159,
          46.374615751322175
         ],
         "yaxis": "y"
        }
       ],
       "layout": {
        "height": 500,
        "legend": {
         "title": {
          "text": "Generative"
         },
         "tracegroupgap": 0
        },
        "template": {
         "data": {
          "bar": [
           {
            "error_x": {
             "color": "#2a3f5f"
            },
            "error_y": {
             "color": "#2a3f5f"
            },
            "marker": {
             "line": {
              "color": "#E5ECF6",
              "width": 0.5
             },
             "pattern": {
              "fillmode": "overlay",
              "size": 10,
              "solidity": 0.2
             }
            },
            "type": "bar"
           }
          ],
          "barpolar": [
           {
            "marker": {
             "line": {
              "color": "#E5ECF6",
              "width": 0.5
             },
             "pattern": {
              "fillmode": "overlay",
              "size": 10,
              "solidity": 0.2
             }
            },
            "type": "barpolar"
           }
          ],
          "carpet": [
           {
            "aaxis": {
             "endlinecolor": "#2a3f5f",
             "gridcolor": "white",
             "linecolor": "white",
             "minorgridcolor": "white",
             "startlinecolor": "#2a3f5f"
            },
            "baxis": {
             "endlinecolor": "#2a3f5f",
             "gridcolor": "white",
             "linecolor": "white",
             "minorgridcolor": "white",
             "startlinecolor": "#2a3f5f"
            },
            "type": "carpet"
           }
          ],
          "choropleth": [
           {
            "colorbar": {
             "outlinewidth": 0,
             "ticks": ""
            },
            "type": "choropleth"
           }
          ],
          "contour": [
           {
            "colorbar": {
             "outlinewidth": 0,
             "ticks": ""
            },
            "colorscale": [
             [
              0,
              "#0d0887"
             ],
             [
              0.1111111111111111,
              "#46039f"
             ],
             [
              0.2222222222222222,
              "#7201a8"
             ],
             [
              0.3333333333333333,
              "#9c179e"
             ],
             [
              0.4444444444444444,
              "#bd3786"
             ],
             [
              0.5555555555555556,
              "#d8576b"
             ],
             [
              0.6666666666666666,
              "#ed7953"
             ],
             [
              0.7777777777777778,
              "#fb9f3a"
             ],
             [
              0.8888888888888888,
              "#fdca26"
             ],
             [
              1,
              "#f0f921"
             ]
            ],
            "type": "contour"
           }
          ],
          "contourcarpet": [
           {
            "colorbar": {
             "outlinewidth": 0,
             "ticks": ""
            },
            "type": "contourcarpet"
           }
          ],
          "heatmap": [
           {
            "colorbar": {
             "outlinewidth": 0,
             "ticks": ""
            },
            "colorscale": [
             [
              0,
              "#0d0887"
             ],
             [
              0.1111111111111111,
              "#46039f"
             ],
             [
              0.2222222222222222,
              "#7201a8"
             ],
             [
              0.3333333333333333,
              "#9c179e"
             ],
             [
              0.4444444444444444,
              "#bd3786"
             ],
             [
              0.5555555555555556,
              "#d8576b"
             ],
             [
              0.6666666666666666,
              "#ed7953"
             ],
             [
              0.7777777777777778,
              "#fb9f3a"
             ],
             [
              0.8888888888888888,
              "#fdca26"
             ],
             [
              1,
              "#f0f921"
             ]
            ],
            "type": "heatmap"
           }
          ],
          "heatmapgl": [
           {
            "colorbar": {
             "outlinewidth": 0,
             "ticks": ""
            },
            "colorscale": [
             [
              0,
              "#0d0887"
             ],
             [
              0.1111111111111111,
              "#46039f"
             ],
             [
              0.2222222222222222,
              "#7201a8"
             ],
             [
              0.3333333333333333,
              "#9c179e"
             ],
             [
              0.4444444444444444,
              "#bd3786"
             ],
             [
              0.5555555555555556,
              "#d8576b"
             ],
             [
              0.6666666666666666,
              "#ed7953"
             ],
             [
              0.7777777777777778,
              "#fb9f3a"
             ],
             [
              0.8888888888888888,
              "#fdca26"
             ],
             [
              1,
              "#f0f921"
             ]
            ],
            "type": "heatmapgl"
           }
          ],
          "histogram": [
           {
            "marker": {
             "pattern": {
              "fillmode": "overlay",
              "size": 10,
              "solidity": 0.2
             }
            },
            "type": "histogram"
           }
          ],
          "histogram2d": [
           {
            "colorbar": {
             "outlinewidth": 0,
             "ticks": ""
            },
            "colorscale": [
             [
              0,
              "#0d0887"
             ],
             [
              0.1111111111111111,
              "#46039f"
             ],
             [
              0.2222222222222222,
              "#7201a8"
             ],
             [
              0.3333333333333333,
              "#9c179e"
             ],
             [
              0.4444444444444444,
              "#bd3786"
             ],
             [
              0.5555555555555556,
              "#d8576b"
             ],
             [
              0.6666666666666666,
              "#ed7953"
             ],
             [
              0.7777777777777778,
              "#fb9f3a"
             ],
             [
              0.8888888888888888,
              "#fdca26"
             ],
             [
              1,
              "#f0f921"
             ]
            ],
            "type": "histogram2d"
           }
          ],
          "histogram2dcontour": [
           {
            "colorbar": {
             "outlinewidth": 0,
             "ticks": ""
            },
            "colorscale": [
             [
              0,
              "#0d0887"
             ],
             [
              0.1111111111111111,
              "#46039f"
             ],
             [
              0.2222222222222222,
              "#7201a8"
             ],
             [
              0.3333333333333333,
              "#9c179e"
             ],
             [
              0.4444444444444444,
              "#bd3786"
             ],
             [
              0.5555555555555556,
              "#d8576b"
             ],
             [
              0.6666666666666666,
              "#ed7953"
             ],
             [
              0.7777777777777778,
              "#fb9f3a"
             ],
             [
              0.8888888888888888,
              "#fdca26"
             ],
             [
              1,
              "#f0f921"
             ]
            ],
            "type": "histogram2dcontour"
           }
          ],
          "mesh3d": [
           {
            "colorbar": {
             "outlinewidth": 0,
             "ticks": ""
            },
            "type": "mesh3d"
           }
          ],
          "parcoords": [
           {
            "line": {
             "colorbar": {
              "outlinewidth": 0,
              "ticks": ""
             }
            },
            "type": "parcoords"
           }
          ],
          "pie": [
           {
            "automargin": true,
            "type": "pie"
           }
          ],
          "scatter": [
           {
            "fillpattern": {
             "fillmode": "overlay",
             "size": 10,
             "solidity": 0.2
            },
            "type": "scatter"
           }
          ],
          "scatter3d": [
           {
            "line": {
             "colorbar": {
              "outlinewidth": 0,
              "ticks": ""
             }
            },
            "marker": {
             "colorbar": {
              "outlinewidth": 0,
              "ticks": ""
             }
            },
            "type": "scatter3d"
           }
          ],
          "scattercarpet": [
           {
            "marker": {
             "colorbar": {
              "outlinewidth": 0,
              "ticks": ""
             }
            },
            "type": "scattercarpet"
           }
          ],
          "scattergeo": [
           {
            "marker": {
             "colorbar": {
              "outlinewidth": 0,
              "ticks": ""
             }
            },
            "type": "scattergeo"
           }
          ],
          "scattergl": [
           {
            "marker": {
             "colorbar": {
              "outlinewidth": 0,
              "ticks": ""
             }
            },
            "type": "scattergl"
           }
          ],
          "scattermapbox": [
           {
            "marker": {
             "colorbar": {
              "outlinewidth": 0,
              "ticks": ""
             }
            },
            "type": "scattermapbox"
           }
          ],
          "scatterpolar": [
           {
            "marker": {
             "colorbar": {
              "outlinewidth": 0,
              "ticks": ""
             }
            },
            "type": "scatterpolar"
           }
          ],
          "scatterpolargl": [
           {
            "marker": {
             "colorbar": {
              "outlinewidth": 0,
              "ticks": ""
             }
            },
            "type": "scatterpolargl"
           }
          ],
          "scatterternary": [
           {
            "marker": {
             "colorbar": {
              "outlinewidth": 0,
              "ticks": ""
             }
            },
            "type": "scatterternary"
           }
          ],
          "surface": [
           {
            "colorbar": {
             "outlinewidth": 0,
             "ticks": ""
            },
            "colorscale": [
             [
              0,
              "#0d0887"
             ],
             [
              0.1111111111111111,
              "#46039f"
             ],
             [
              0.2222222222222222,
              "#7201a8"
             ],
             [
              0.3333333333333333,
              "#9c179e"
             ],
             [
              0.4444444444444444,
              "#bd3786"
             ],
             [
              0.5555555555555556,
              "#d8576b"
             ],
             [
              0.6666666666666666,
              "#ed7953"
             ],
             [
              0.7777777777777778,
              "#fb9f3a"
             ],
             [
              0.8888888888888888,
              "#fdca26"
             ],
             [
              1,
              "#f0f921"
             ]
            ],
            "type": "surface"
           }
          ],
          "table": [
           {
            "cells": {
             "fill": {
              "color": "#EBF0F8"
             },
             "line": {
              "color": "white"
             }
            },
            "header": {
             "fill": {
              "color": "#C8D4E3"
             },
             "line": {
              "color": "white"
             }
            },
            "type": "table"
           }
          ]
         },
         "layout": {
          "annotationdefaults": {
           "arrowcolor": "#2a3f5f",
           "arrowhead": 0,
           "arrowwidth": 1
          },
          "autotypenumbers": "strict",
          "coloraxis": {
           "colorbar": {
            "outlinewidth": 0,
            "ticks": ""
           }
          },
          "colorscale": {
           "diverging": [
            [
             0,
             "#8e0152"
            ],
            [
             0.1,
             "#c51b7d"
            ],
            [
             0.2,
             "#de77ae"
            ],
            [
             0.3,
             "#f1b6da"
            ],
            [
             0.4,
             "#fde0ef"
            ],
            [
             0.5,
             "#f7f7f7"
            ],
            [
             0.6,
             "#e6f5d0"
            ],
            [
             0.7,
             "#b8e186"
            ],
            [
             0.8,
             "#7fbc41"
            ],
            [
             0.9,
             "#4d9221"
            ],
            [
             1,
             "#276419"
            ]
           ],
           "sequential": [
            [
             0,
             "#0d0887"
            ],
            [
             0.1111111111111111,
             "#46039f"
            ],
            [
             0.2222222222222222,
             "#7201a8"
            ],
            [
             0.3333333333333333,
             "#9c179e"
            ],
            [
             0.4444444444444444,
             "#bd3786"
            ],
            [
             0.5555555555555556,
             "#d8576b"
            ],
            [
             0.6666666666666666,
             "#ed7953"
            ],
            [
             0.7777777777777778,
             "#fb9f3a"
            ],
            [
             0.8888888888888888,
             "#fdca26"
            ],
            [
             1,
             "#f0f921"
            ]
           ],
           "sequentialminus": [
            [
             0,
             "#0d0887"
            ],
            [
             0.1111111111111111,
             "#46039f"
            ],
            [
             0.2222222222222222,
             "#7201a8"
            ],
            [
             0.3333333333333333,
             "#9c179e"
            ],
            [
             0.4444444444444444,
             "#bd3786"
            ],
            [
             0.5555555555555556,
             "#d8576b"
            ],
            [
             0.6666666666666666,
             "#ed7953"
            ],
            [
             0.7777777777777778,
             "#fb9f3a"
            ],
            [
             0.8888888888888888,
             "#fdca26"
            ],
            [
             1,
             "#f0f921"
            ]
           ]
          },
          "colorway": [
           "#636efa",
           "#EF553B",
           "#00cc96",
           "#ab63fa",
           "#FFA15A",
           "#19d3f3",
           "#FF6692",
           "#B6E880",
           "#FF97FF",
           "#FECB52"
          ],
          "font": {
           "color": "#2a3f5f"
          },
          "geo": {
           "bgcolor": "white",
           "lakecolor": "white",
           "landcolor": "#E5ECF6",
           "showlakes": true,
           "showland": true,
           "subunitcolor": "white"
          },
          "hoverlabel": {
           "align": "left"
          },
          "hovermode": "closest",
          "mapbox": {
           "style": "light"
          },
          "paper_bgcolor": "white",
          "plot_bgcolor": "#E5ECF6",
          "polar": {
           "angularaxis": {
            "gridcolor": "white",
            "linecolor": "white",
            "ticks": ""
           },
           "bgcolor": "#E5ECF6",
           "radialaxis": {
            "gridcolor": "white",
            "linecolor": "white",
            "ticks": ""
           }
          },
          "scene": {
           "xaxis": {
            "backgroundcolor": "#E5ECF6",
            "gridcolor": "white",
            "gridwidth": 2,
            "linecolor": "white",
            "showbackground": true,
            "ticks": "",
            "zerolinecolor": "white"
           },
           "yaxis": {
            "backgroundcolor": "#E5ECF6",
            "gridcolor": "white",
            "gridwidth": 2,
            "linecolor": "white",
            "showbackground": true,
            "ticks": "",
            "zerolinecolor": "white"
           },
           "zaxis": {
            "backgroundcolor": "#E5ECF6",
            "gridcolor": "white",
            "gridwidth": 2,
            "linecolor": "white",
            "showbackground": true,
            "ticks": "",
            "zerolinecolor": "white"
           }
          },
          "shapedefaults": {
           "line": {
            "color": "#2a3f5f"
           }
          },
          "ternary": {
           "aaxis": {
            "gridcolor": "white",
            "linecolor": "white",
            "ticks": ""
           },
           "baxis": {
            "gridcolor": "white",
            "linecolor": "white",
            "ticks": ""
           },
           "bgcolor": "#E5ECF6",
           "caxis": {
            "gridcolor": "white",
            "linecolor": "white",
            "ticks": ""
           }
          },
          "title": {
           "x": 0.05
          },
          "xaxis": {
           "automargin": true,
           "gridcolor": "white",
           "linecolor": "white",
           "ticks": "",
           "title": {
            "standoff": 15
           },
           "zerolinecolor": "white",
           "zerolinewidth": 2
          },
          "yaxis": {
           "automargin": true,
           "gridcolor": "white",
           "linecolor": "white",
           "ticks": "",
           "title": {
            "standoff": 15
           },
           "zerolinecolor": "white",
           "zerolinewidth": 2
          }
         }
        },
        "title": {
         "text": "PCA Projection of Model Performance"
        },
        "width": 650,
        "xaxis": {
         "anchor": "y",
         "autorange": true,
         "domain": [
          0,
          1
         ],
         "range": [
          -133.1375186692634,
          154.14689693379253
         ],
         "title": {
          "text": "x"
         },
         "type": "linear"
        },
        "yaxis": {
         "anchor": "x",
         "autorange": true,
         "domain": [
          0,
          1
         ],
         "range": [
          -63.37846722231736,
          74.80044653476091
         ],
         "title": {
          "text": "y"
         },
         "type": "linear"
        }
       }
      },
      "image/png": "[encoded data removed]",
      "text/html": [
       "<div>                            <div id=\"9e3d3f43-4a0d-4de4-8a44-4e2c81e3014e\" class=\"plotly-graph-div\" style=\"height:500px; width:650px;\"></div>            <script type=\"text/javascript\">                require([\"plotly\"], function(Plotly) {                    window.PLOTLYENV=window.PLOTLYENV || {};                                    if (document.getElementById(\"9e3d3f43-4a0d-4de4-8a44-4e2c81e3014e\")) {                    Plotly.newPlot(                        \"9e3d3f43-4a0d-4de4-8a44-4e2c81e3014e\",                        [{\"hovertemplate\":\"\\u003cb\\u003e%{hovertext}\\u003c\\u002fb\\u003e\\u003cbr\\u003e\\u003cbr\\u003eGenerative=True\\u003cbr\\u003ex=%{x}\\u003cbr\\u003ey=%{y}\\u003cextra\\u003e\\u003c\\u002fextra\\u003e\",\"hovertext\":[\"gpt-4-0613 (few-shot, val)\",\"gpt-3.5-turbo-0613 (few-shot)\",\"gpt-3.5-turbo-0613 (few-shot, val)\",\"RJuro\\u002fmunin-neuralbeagle-7b (few-shot, val)\",\"timpal0l\\u002fBeagleCatMunin (few-shot, val)\",\"birgermoell\\u002fFlashback-Bellman (few-shot, val)\",\"merge-crew\\u002fda-sv-dare-ties-density-0.9 (few-shot, val)\",\"merge-crew\\u002fda-sv-slerp (few-shot, val)\",\"merge-crew\\u002fda-sv-task-arithmetic (few-shot, val)\",\"mhenrichsen\\u002fdanskgpt-chat-v2.1 (few-shot)\",\"Mabeck\\u002fHeidrun-Mistral-7B-chat (few-shot)\",\"birgermoell\\u002fBeagleCatMunin-Flashback-Bellman (few-shot, val)\",\"birgermoell\\u002fRapid-Cycling (few-shot, val)\",\"timpal0l\\u002fBeagleCatMunin2 (few-shot, val)\",\"mlabonne\\u002fNeuralBeagle14-7B (few-shot, val)\",\"merge-crew\\u002fda-sv-ties (few-shot, val)\",\"birgermoell\\u002fMunin-NeuralBeagle-NorskGPT (few-shot, val)\",\"birgermoell\\u002fWestLake-Munin-Cat-NorskGPT (few-shot, val)\",\"merge-crew\\u002fda-sv-dare-ties-density-0.6 (few-shot, val)\",\"RJuro\\u002fmunin-neuralbeagle-SkoleGPTOpenOrca-7b (few-shot, val)\",\"timpal0l\\u002ftyr (few-shot, val)\",\"Mabeck\\u002fHeidrun-Mistral-7B-base (few-shot)\",\"ThatsGroes\\u002fmunin-SkoleGPTOpenOrca-7b-16bit (few-shot)\",\"KennethEnevoldsen\\u002fmunin_mistral-7b (few-shot, val)\",\"bineric\\u002fNorskGPT-Mistral-7b (few-shot)\",\"danish-foundation-models\\u002fmunin-7b-v0.1dev0 (few-shot)\",\"timpal0l\\u002fMistral-7B-v0.1-flashback-v2 (few-shot)\",\"mhenrichsen\\u002fhestenettetLM (few-shot)\",\"birgermoell\\u002fNeuralBeagle-Flashback (few-shot, val)\",\"RuterNorway\\u002fLlama-2-13b-chat-norwegian (few-shot)\",\"mistralai\\u002fMistral-7B-Instruct-v0.2 (few-shot)\",\"neph1\\u002fbellman-7b-mistral-instruct-v0.2 (few-shot)\",\"mistralai\\u002fMistral-7B-v0.1 (few-shot)\",\"occiglot\\u002focciglot-7b-eu5-instruct (few-shot)\",\"mistralai\\u002fMistral-7B-Instruct-v0.1 (few-shot)\",\"bineric\\u002fNorskGPT-Llama-7B-v0.1 (few-shot)\",\"occiglot\\u002focciglot-7b-eu5 (few-shot)\",\"timpal0l\\u002fnjord-alpha (few-shot)\",\"danish-foundation-models\\u002fmunin-7b-alpha (few-shot)\",\"merge-crew\\u002fda-sv-dare-ties-density-0.3 (few-shot, val)\",\"meta-llama\\u002fLlama-2-7b-chat-hf (few-shot)\",\"tollefj\\u002fnordavind-7b-instruct-warm (few-shot)\",\"timpal0l\\u002fMistral-7B-v0.1-flashback-v2-instruct (few-shot)\",\"AI-Sweden-Models\\u002fgpt-sw3-20b (few-shot)\",\"norallm\\u002fnormistral-7b-warm (few-shot)\",\"meta-llama\\u002fLlama-2-7b-hf (few-shot)\",\"Qwen\\u002fQwen1.5-4B-Chat (few-shot)\",\"01-ai\\u002fYi-6B (few-shot)\",\"google\\u002fgemma-2b (few-shot)\",\"Qwen\\u002fQwen1.5-4B (few-shot)\",\"AI-Sweden-Models\\u002fgpt-sw3-1.3b-instruct (few-shot)\",\"AI-Sweden-Models\\u002fgpt-sw3-6.7b-v2 (few-shot)\",\"AI-Sweden-Models\\u002fgpt-sw3-6.7b-v2-instruct (few-shot)\",\"AI-Sweden-Models\\u002fgpt-sw3-1.3b (few-shot)\",\"AI-Sweden-Models\\u002fgpt-sw3-6.7b (few-shot)\",\"google\\u002fgemma-2b-it (few-shot)\",\"norallm\\u002fnormistral-7b-scratch (few-shot)\",\"mhenrichsen\\u002fdanskgpt-tiny-chat (few-shot)\",\"NbAiLab\\u002fnb-gpt-j-6B-alpaca (few-shot)\",\"AI-Sweden-Models\\u002fgpt-sw3-356m-instruct (few-shot)\",\"Qwen\\u002fQwen1.5-1.8B (few-shot)\",\"Qwen\\u002fQwen1.5-1.8B-Chat (few-shot)\",\"HPLT\\u002fgpt-7b-nordic-prerelease (few-shot)\",\"AI-Sweden-Models\\u002fgpt-sw3-356m (few-shot)\",\"RuterNorway\\u002fLlama-2-7b-chat-norwegian (few-shot)\",\"mhenrichsen\\u002fdanskgpt-tiny (few-shot)\",\"Qwen\\u002fQwen1.5-0.5B-Chat (few-shot)\",\"allenai\\u002fOLMo-1B (few-shot)\",\"Qwen\\u002fQwen1.5-0.5B (few-shot)\",\"NbAiLab\\u002fnb-gpt-j-6B-v2 (few-shot)\",\"AI-Sweden-Models\\u002fgpt-sw3-126m-instruct (few-shot)\",\"NbAiLab\\u002fnb-gpt-j-6B@sharded (few-shot)\",\"AI-Sweden-Models\\u002fgpt-sw3-126m (few-shot)\",\"RJuro\\u002fkanelsnegl-v0.1 (few-shot)\",\"RJuro\\u002fkanelsnegl-v0.2 (few-shot)\",\"ai-forever\\u002fmGPT (few-shot)\",\"peter-sk\\u002fgpt-neox-da (few-shot)\"],\"legendgroup\":\"True\",\"marker\":{\"color\":\"#636efa\",\"symbol\":\"circle\"},\"mode\":\"markers\",\"name\":\"True\",\"orientation\":\"v\",\"showlegend\":true,\"x\":[-103.64250340078074,-62.87822909446399,-66.45646136646243,-7.3465833264591565,1.2563006094905467,3.86290009998149,0.010937845722747312,6.803888949914808,6.837424627025908,3.322404218238203,-0.26722605577590447,5.60903947510354,4.619104711297618,2.89249645077722,-4.593112319574387,7.478940460429025,4.04150328953506,4.04150328953506,14.817775606650851,8.673895777408779,15.682841444122484,17.62164211300101,19.75824777214179,30.210684666641306,10.919760716633947,9.930806957878499,12.957966510455082,25.961425466679227,13.18594018588286,19.946385313835865,14.433752885234151,14.117718596486705,23.246688050825828,38.08888162404372,24.161628917366897,31.96957288085971,41.45733532983671,37.809792021279556,40.61612445953673,41.647215541431976,39.157618971455435,42.96978172659134,32.81404835347264,44.18943464404533,43.07434307807043,47.95476790567479,58.05146338543175,46.71408818198074,79.23571932014198,62.89642695252393,77.03116678677533,61.173409778641826,74.1022590144813,92.2863971369869,81.44885298801827,70.81569767076252,88.01806565396652,79.07997918883542,85.1369579224379,90.75601026916249,88.92095082435293,80.52604885349254,106.71267361289556,81.68471224305733,98.26011201765942,92.69177752345011,102.97915709540345,97.73097671590118,98.38391045216153,120.54526502114132,98.02449852238219,128.02680040721404,123.99537637200982,131.36010941929547,133.24970212160682,136.66181261842775,137.48071769528192],\"xaxis\":\"x\",\"y\":[-13.653887675674058,-22.271743585941355,-18.654663270782326,-42.11930228165519,-43.89866070821125,-44.86717165607719,-41.400294911407265,-46.03849264324746,-46.17135310007439,-45.28296638833131,-42.8898109422331,-44.71184981580829,-42.136852335211884,-44.90275463813584,-30.874768018431368,-42.946457441107036,-46.57523256296567,-46.57523256296567,-48.407296586348515,-43.97010045795324,-48.40659311620016,-41.325976567542874,-45.43390974870154,-54.850237388872685,-47.98036175499467,-36.252685635369964,-29.696318944189823,-48.92935672647317,-30.50568150099556,-39.20590921179142,-24.784348927257525,-23.426051508786912,-29.461942650714285,-50.12294107846823,-31.37649298585447,-40.31546301783225,-49.937972070186,-25.41513811956386,-37.26954830825784,-36.12338773741784,-34.37413580274395,-37.482963333790494,-28.761768263741505,-32.99696893594062,-31.673740479744943,-23.384407751196953,-35.27435684236718,-33.7670330947276,-34.997958392905105,-19.510193760548,-28.25458835605874,-8.24164343182886,-21.955632422759553,-24.566508757592743,-22.438618044650124,-9.895798646311956,-17.2821511691742,-5.302084777786739,-8.55129092365948,-8.891923367251753,-10.141897042769342,-5.823006831016207,-16.99208507236607,3.339191851857463,6.771975003126861,31.402409836624475,16.61439710716589,30.39033600521328,21.343244409344088,36.08468733337328,39.01242542688976,45.42737878035649,53.37915744514299,54.95997938836291,58.20662319032233,61.408004484542474,66.27221670131624],\"yaxis\":\"y\",\"type\":\"scatter\"},{\"hovertemplate\":\"\\u003cb\\u003e%{hovertext}\\u003c\\u002fb\\u003e\\u003cbr\\u003e\\u003cbr\\u003eGenerative=False\\u003cbr\\u003ex=%{x}\\u003cbr\\u003ey=%{y}\\u003cextra\\u003e\\u003c\\u002fextra\\u003e\",\"hovertext\":[\"AI-Sweden-Models\\u002froberta-large-1160k\",\"ltg\\u002fnorbert3-large\",\"AI-Sweden-Models\\u002froberta-large-1350k\",\"danish-foundation-models\\u002fencoder-large-v1\",\"KennethEnevoldsen\\u002fdfm-sentence-encoder-large-1\",\"KennethEnevoldsen\\u002fdfm-sentence-encoder-large-2\",\"google\\u002frembert\",\"intfloat\\u002fmultilingual-e5-large\",\"NbAiLab\\u002fnb-roberta-base-scandi\",\"microsoft\\u002fmdeberta-v3-base\",\"NbAiLab\\u002fnb-roberta-base-scandi-1e4\",\"ltg\\u002fnorbert3-base\",\"sentence-transformers\\u002fuse-cmlm-multilingual\",\"FacebookAI\\u002fxlm-roberta-large\",\"KennethEnevoldsen\\u002fdfm-sentence-encoder-medium-3\",\"vesteinn\\u002fScandiBERT-no-faroese\",\"NbAiLab\\u002fnb-bert-base\",\"vesteinn\\u002fFoBERT\",\"pere\\u002froberta-debug-8\",\"pere\\u002froberta-base-exp-8\",\"setu4993\\u002fLaBSE\",\"pere\\u002froberta-debug-32\",\"pere\\u002froberta-base-exp-32\",\"AI-Sweden-Models\\u002fbert-large-nordic-pile-1M-steps\",\"pere\\u002froberta-base-exp-32B\",\"vesteinn\\u002fDanskBERT\",\"ltg\\u002fnorbert3-small\",\"KBLab\\u002fmegatron-bert-large-swedish-cased-165k\",\"AI-Nordics\\u002fbert-large-swedish-cased\",\"cardiffnlp\\u002ftwitter-xlm-roberta-base\",\"KBLab\\u002fmegatron-bert-large-swedish-cased-110k\",\"microsoft\\u002finfoxlm-large\",\"google-bert\\u002fbert-base-multilingual-uncased\",\"KB\\u002fbert-base-swedish-cased\",\"KBLab\\u002fmegatron-bert-base-swedish-cased-600k\",\"Geotrend\\u002fbert-base-en-fr-de-no-da-cased\",\"google-bert\\u002fbert-base-multilingual-cased\",\"Geotrend\\u002fbert-base-25lang-cased\",\"Geotrend\\u002fbert-base-en-no-cased\",\"KBLab\\u002fbert-base-swedish-cased\",\"microsoft\\u002fxlm-align-base\",\"facebook\\u002fxlm-v-base\",\"Geotrend\\u002fbert-base-en-da-cased\",\"jonfd\\u002felectra-small-nordic\",\"Geotrend\\u002fbert-base-da-cased\",\"microsoft\\u002finfoxlm-base\",\"KBLab\\u002fmegatron-bert-base-swedish-cased-125k\",\"clips\\u002fmfaq\",\"jhu-clsp\\u002fbernice\",\"flax-community\\u002fnordic-roberta-wiki\",\"DDSC\\u002froberta-base-scandinavian\",\"KBLab\\u002fbert-base-swedish-cased-new\",\"sentence-transformers\\u002fparaphrase-xlm-r-multilingual-v1\",\"sentence-transformers\\u002fparaphrase-multilingual-mpnet-base-v2\",\"flax-community\\u002fswe-roberta-wiki-oscar\",\"sentence-transformers\\u002fstsb-xlm-r-multilingual\",\"distilbert\\u002fdistilbert-base-multilingual-cased\",\"Geotrend\\u002fdistilbert-base-25lang-cased\",\"Geotrend\\u002fdistilbert-base-en-fr-de-no-da-cased\",\"Geotrend\\u002fdistilbert-base-en-no-cased\",\"Geotrend\\u002fdistilbert-base-en-da-cased\",\"Twitter\\u002ftwhin-bert-large\",\"Geotrend\\u002fdistilbert-base-da-cased\",\"sarnikowski\\u002fconvbert-medium-small-da-cased\",\"Addedk\\u002fkbbert-distilled-cased\",\"danish-foundation-models\\u002fencoder-medium-v1\",\"sentence-transformers\\u002fparaphrase-multilingual-MiniLM-L12-v2\",\"jannikskytt\\u002fMeDa-Bert\",\"DDSC\\u002froberta-base-danish\",\"Maltehb\\u002fdanish-bert-botxo\",\"ltg\\u002fnorbert3-xs\",\"birgermoell\\u002froberta-swedish-scandi\",\"Addedk\\u002fmbert-swedish-distilled-cased\",\"sarnikowski\\u002felectra-small-discriminator-da-256-cased\",\"sarnikowski\\u002fconvbert-small-da-cased\",\"dbmdz\\u002fbert-base-historic-multilingual-cased\",\"sentence-transformers\\u002fdistilbert-multilingual-nli-stsb-quora-ranking\",\"sentence-transformers\\u002fquora-distilbert-multilingual\",\"Maltehb\\u002faelaectra-danish-electra-small-cased\",\"dbmdz\\u002fbert-medium-historic-multilingual-cased\",\"Maltehb\\u002faelaectra-danish-electra-small-uncased\",\"jjzha\\u002fdajobbert-base-uncased\",\"sentence-transformers\\u002fdistiluse-base-multilingual-cased-v1\",\"KBLab\\u002falbert-base-swedish-cased-alpha\",\"dbmdz\\u002fbert-mini-historic-multilingual-cased\",\"jannesg\\u002fbertsson\",\"alexanderfalk\\u002fdanbert-small-cased\",\"3ebdola\\u002fDialectal-Arabic-XLM-R-Base\",\"RabotaRu\\u002fHRBert-mini\",\"fresh-xlm-roberta-base\",\"fresh-electra-small\"],\"legendgroup\":\"False\",\"marker\":{\"color\":\"#EF553B\",\"symbol\":\"circle\"},\"mode\":\"markers\",\"name\":\"False\",\"orientation\":\"v\",\"showlegend\":true,\"x\":[-114.79782430602548,-116.47133943075276,-114.01281830096518,-100.01955268508615,-99.59112459263831,-100.0111154892077,-100.74419255196429,-87.80605423004619,-106.71778131650586,-102.22726766021195,-105.53430306833005,-97.37031125275819,-87.00954889767132,-82.874845067007,-102.96408219440059,-101.13481436659376,-102.23316289801858,-98.06295899949738,-96.9526042116347,-91.33532201897243,-84.06463831615693,-93.74068160487403,-86.19345677006294,-71.23820169351994,-78.41725437396775,-66.0980627931209,-75.02915584992454,-53.17213861564713,-54.38580541471959,-67.05971355239794,-47.1394865664768,-28.27165444430643,-55.733397115016366,-56.247192540931394,-41.967451266355106,-47.025514269190936,-51.63232187826313,-48.90262496768442,-47.603933246116156,-55.1619301899653,-27.232058104687813,-47.64857387761186,-44.44265198470604,-79.82810978020083,-40.854868239896454,-20.5236204127953,-35.09913902400054,-34.51180802878495,-47.50690572352151,-46.00893184487709,-12.747230580767843,-26.661668138503043,-35.293969088052165,-28.40124692906463,-30.118363558394094,-29.05365947340789,-32.45686219613763,-28.573435522767166,-29.474149914446887,-29.441164952116786,-26.575336054676786,-7.480057084164785,-27.097195209835647,-26.101692723961342,-19.146644188148958,-1.3197243544973445,-15.611086550485576,-1.8048376352135254,8.593729793555982,-1.9210948667885477,1.0981103449712486,-5.463892166081119,-16.52010714034515,-17.2040648646898,-13.770899846496008,11.290859803159298,7.029862557558344,7.08468104849328,-15.852602683384426,13.98025505185658,1.8192268955738744,16.586231211299303,39.991985281369324,36.24287242742826,41.34124877696823,55.21512434579435,66.80763829785471,57.45555768016426,84.79193755167302,96.75407045274767,105.67039848306905],\"xaxis\":\"x\",\"y\":[-7.829165712735417,-8.317729859327082,-7.376510391062655,-5.666907593552198,-4.19335475609638,-3.639347007703402,-1.7376117416997725,-14.141909870462937,15.227677246125007,4.625182681329219,17.374651539610838,-0.25137715126887916,-7.516590736302345,-10.576263553653083,17.63258722648521,15.28891547514083,19.466757145872243,18.337141962508674,18.007851804870825,15.705410215425426,0.8229968781975562,22.51991396963331,10.547834648220832,2.5505721344855004,19.083586541806625,9.434813045004105,12.184499945430034,-6.469432976657549,-1.5743385596164525,24.3838698870353,-5.708708536419074,-28.786468367711517,11.242033239982169,17.720301683201832,1.8281716156505492,3.077563925581565,4.9992737184359815,4.486840364290475,3.667338506951435,17.537140988020052,-15.777472172150944,8.76641298404668,3.8224863689592286,62.80224999234074,6.3462240383180895,-13.095953303224443,11.881091583291054,25.970647400923582,42.25705272773753,37.46180443232301,1.4099205292698367,9.760136498311551,33.35113891095324,27.354574957986856,25.201753169534047,30.064593358286487,23.156180317192984,21.203872842015546,22.766688956698818,23.46402778826216,22.216976315838608,4.53726324319979,24.933943181107153,37.08842946393671,25.617200893424567,18.04457493169381,29.79875026079724,19.844061264247188,2.9024548011889344,27.561025585161147,5.676036542262842,23.72143698030474,32.916525280308065,46.00682207560772,41.623216421472186,11.82569830504633,25.701898820408672,26.446266425023758,65.9016338800771,18.438790175605316,61.04486837446196,37.670156020893764,29.272444970312804,32.59078088931043,31.068628729337732,27.61865565154924,46.551160654388795,46.90233755014074,45.42434686016304,47.66229586463159,46.374615751322175],\"yaxis\":\"y\",\"type\":\"scatter\"}],                        {\"template\":{\"data\":{\"histogram2dcontour\":[{\"type\":\"histogram2dcontour\",\"colorbar\":{\"outlinewidth\":0,\"ticks\":\"\"},\"colorscale\":[[0.0,\"#0d0887\"],[0.1111111111111111,\"#46039f\"],[0.2222222222222222,\"#7201a8\"],[0.3333333333333333,\"#9c179e\"],[0.4444444444444444,\"#bd3786\"],[0.5555555555555556,\"#d8576b\"],[0.6666666666666666,\"#ed7953\"],[0.7777777777777778,\"#fb9f3a\"],[0.8888888888888888,\"#fdca26\"],[1.0,\"#f0f921\"]]}],\"choropleth\":[{\"type\":\"choropleth\",\"colorbar\":{\"outlinewidth\":0,\"ticks\":\"\"}}],\"histogram2d\":[{\"type\":\"histogram2d\",\"colorbar\":{\"outlinewidth\":0,\"ticks\":\"\"},\"colorscale\":[[0.0,\"#0d0887\"],[0.1111111111111111,\"#46039f\"],[0.2222222222222222,\"#7201a8\"],[0.3333333333333333,\"#9c179e\"],[0.4444444444444444,\"#bd3786\"],[0.5555555555555556,\"#d8576b\"],[0.6666666666666666,\"#ed7953\"],[0.7777777777777778,\"#fb9f3a\"],[0.8888888888888888,\"#fdca26\"],[1.0,\"#f0f921\"]]}],\"heatmap\":[{\"type\":\"heatmap\",\"colorbar\":{\"outlinewidth\":0,\"ticks\":\"\"},\"colorscale\":[[0.0,\"#0d0887\"],[0.1111111111111111,\"#46039f\"],[0.2222222222222222,\"#7201a8\"],[0.3333333333333333,\"#9c179e\"],[0.4444444444444444,\"#bd3786\"],[0.5555555555555556,\"#d8576b\"],[0.6666666666666666,\"#ed7953\"],[0.7777777777777778,\"#fb9f3a\"],[0.8888888888888888,\"#fdca26\"],[1.0,\"#f0f921\"]]}],\"heatmapgl\":[{\"type\":\"heatmapgl\",\"colorbar\":{\"outlinewidth\":0,\"ticks\":\"\"},\"colorscale\":[[0.0,\"#0d0887\"],[0.1111111111111111,\"#46039f\"],[0.2222222222222222,\"#7201a8\"],[0.3333333333333333,\"#9c179e\"],[0.4444444444444444,\"#bd3786\"],[0.5555555555555556,\"#d8576b\"],[0.6666666666666666,\"#ed7953\"],[0.7777777777777778,\"#fb9f3a\"],[0.8888888888888888,\"#fdca26\"],[1.0,\"#f0f921\"]]}],\"contourcarpet\":[{\"type\":\"contourcarpet\",\"colorbar\":{\"outlinewidth\":0,\"ticks\":\"\"}}],\"contour\":[{\"type\":\"contour\",\"colorbar\":{\"outlinewidth\":0,\"ticks\":\"\"},\"colorscale\":[[0.0,\"#0d0887\"],[0.1111111111111111,\"#46039f\"],[0.2222222222222222,\"#7201a8\"],[0.3333333333333333,\"#9c179e\"],[0.4444444444444444,\"#bd3786\"],[0.5555555555555556,\"#d8576b\"],[0.6666666666666666,\"#ed7953\"],[0.7777777777777778,\"#fb9f3a\"],[0.8888888888888888,\"#fdca26\"],[1.0,\"#f0f921\"]]}],\"surface\":[{\"type\":\"surface\",\"colorbar\":{\"outlinewidth\":0,\"ticks\":\"\"},\"colorscale\":[[0.0,\"#0d0887\"],[0.1111111111111111,\"#46039f\"],[0.2222222222222222,\"#7201a8\"],[0.3333333333333333,\"#9c179e\"],[0.4444444444444444,\"#bd3786\"],[0.5555555555555556,\"#d8576b\"],[0.6666666666666666,\"#ed7953\"],[0.7777777777777778,\"#fb9f3a\"],[0.8888888888888888,\"#fdca26\"],[1.0,\"#f0f921\"]]}],\"mesh3d\":[{\"type\":\"mesh3d\",\"colorbar\":{\"outlinewidth\":0,\"ticks\":\"\"}}],\"scatter\":[{\"fillpattern\":{\"fillmode\":\"overlay\",\"size\":10,\"solidity\":0.2},\"type\":\"scatter\"}],\"parcoords\":[{\"type\":\"parcoords\",\"line\":{\"colorbar\":{\"outlinewidth\":0,\"ticks\":\"\"}}}],\"scatterpolargl\":[{\"type\":\"scatterpolargl\",\"marker\":{\"colorbar\":{\"outlinewidth\":0,\"ticks\":\"\"}}}],\"bar\":[{\"error_x\":{\"color\":\"#2a3f5f\"},\"error_y\":{\"color\":\"#2a3f5f\"},\"marker\":{\"line\":{\"color\":\"#E5ECF6\",\"width\":0.5},\"pattern\":{\"fillmode\":\"overlay\",\"size\":10,\"solidity\":0.2}},\"type\":\"bar\"}],\"scattergeo\":[{\"type\":\"scattergeo\",\"marker\":{\"colorbar\":{\"outlinewidth\":0,\"ticks\":\"\"}}}],\"scatterpolar\":[{\"type\":\"scatterpolar\",\"marker\":{\"colorbar\":{\"outlinewidth\":0,\"ticks\":\"\"}}}],\"histogram\":[{\"marker\":{\"pattern\":{\"fillmode\":\"overlay\",\"size\":10,\"solidity\":0.2}},\"type\":\"histogram\"}],\"scattergl\":[{\"type\":\"scattergl\",\"marker\":{\"colorbar\":{\"outlinewidth\":0,\"ticks\":\"\"}}}],\"scatter3d\":[{\"type\":\"scatter3d\",\"line\":{\"colorbar\":{\"outlinewidth\":0,\"ticks\":\"\"}},\"marker\":{\"colorbar\":{\"outlinewidth\":0,\"ticks\":\"\"}}}],\"scattermapbox\":[{\"type\":\"scattermapbox\",\"marker\":{\"colorbar\":{\"outlinewidth\":0,\"ticks\":\"\"}}}],\"scatterternary\":[{\"type\":\"scatterternary\",\"marker\":{\"colorbar\":{\"outlinewidth\":0,\"ticks\":\"\"}}}],\"scattercarpet\":[{\"type\":\"scattercarpet\",\"marker\":{\"colorbar\":{\"outlinewidth\":0,\"ticks\":\"\"}}}],\"carpet\":[{\"aaxis\":{\"endlinecolor\":\"#2a3f5f\",\"gridcolor\":\"white\",\"linecolor\":\"white\",\"minorgridcolor\":\"white\",\"startlinecolor\":\"#2a3f5f\"},\"baxis\":{\"endlinecolor\":\"#2a3f5f\",\"gridcolor\":\"white\",\"linecolor\":\"white\",\"minorgridcolor\":\"white\",\"startlinecolor\":\"#2a3f5f\"},\"type\":\"carpet\"}],\"table\":[{\"cells\":{\"fill\":{\"color\":\"#EBF0F8\"},\"line\":{\"color\":\"white\"}},\"header\":{\"fill\":{\"color\":\"#C8D4E3\"},\"line\":{\"color\":\"white\"}},\"type\":\"table\"}],\"barpolar\":[{\"marker\":{\"line\":{\"color\":\"#E5ECF6\",\"width\":0.5},\"pattern\":{\"fillmode\":\"overlay\",\"size\":10,\"solidity\":0.2}},\"type\":\"barpolar\"}],\"pie\":[{\"automargin\":true,\"type\":\"pie\"}]},\"layout\":{\"autotypenumbers\":\"strict\",\"colorway\":[\"#636efa\",\"#EF553B\",\"#00cc96\",\"#ab63fa\",\"#FFA15A\",\"#19d3f3\",\"#FF6692\",\"#B6E880\",\"#FF97FF\",\"#FECB52\"],\"font\":{\"color\":\"#2a3f5f\"},\"hovermode\":\"closest\",\"hoverlabel\":{\"align\":\"left\"},\"paper_bgcolor\":\"white\",\"plot_bgcolor\":\"#E5ECF6\",\"polar\":{\"bgcolor\":\"#E5ECF6\",\"angularaxis\":{\"gridcolor\":\"white\",\"linecolor\":\"white\",\"ticks\":\"\"},\"radialaxis\":{\"gridcolor\":\"white\",\"linecolor\":\"white\",\"ticks\":\"\"}},\"ternary\":{\"bgcolor\":\"#E5ECF6\",\"aaxis\":{\"gridcolor\":\"white\",\"linecolor\":\"white\",\"ticks\":\"\"},\"baxis\":{\"gridcolor\":\"white\",\"linecolor\":\"white\",\"ticks\":\"\"},\"caxis\":{\"gridcolor\":\"white\",\"linecolor\":\"white\",\"ticks\":\"\"}},\"coloraxis\":{\"colorbar\":{\"outlinewidth\":0,\"ticks\":\"\"}},\"colorscale\":{\"sequential\":[[0.0,\"#0d0887\"],[0.1111111111111111,\"#46039f\"],[0.2222222222222222,\"#7201a8\"],[0.3333333333333333,\"#9c179e\"],[0.4444444444444444,\"#bd3786\"],[0.5555555555555556,\"#d8576b\"],[0.6666666666666666,\"#ed7953\"],[0.7777777777777778,\"#fb9f3a\"],[0.8888888888888888,\"#fdca26\"],[1.0,\"#f0f921\"]],\"sequentialminus\":[[0.0,\"#0d0887\"],[0.1111111111111111,\"#46039f\"],[0.2222222222222222,\"#7201a8\"],[0.3333333333333333,\"#9c179e\"],[0.4444444444444444,\"#bd3786\"],[0.5555555555555556,\"#d8576b\"],[0.6666666666666666,\"#ed7953\"],[0.7777777777777778,\"#fb9f3a\"],[0.8888888888888888,\"#fdca26\"],[1.0,\"#f0f921\"]],\"diverging\":[[0,\"#8e0152\"],[0.1,\"#c51b7d\"],[0.2,\"#de77ae\"],[0.3,\"#f1b6da\"],[0.4,\"#fde0ef\"],[0.5,\"#f7f7f7\"],[0.6,\"#e6f5d0\"],[0.7,\"#b8e186\"],[0.8,\"#7fbc41\"],[0.9,\"#4d9221\"],[1,\"#276419\"]]},\"xaxis\":{\"gridcolor\":\"white\",\"linecolor\":\"white\",\"ticks\":\"\",\"title\":{\"standoff\":15},\"zerolinecolor\":\"white\",\"automargin\":true,\"zerolinewidth\":2},\"yaxis\":{\"gridcolor\":\"white\",\"linecolor\":\"white\",\"ticks\":\"\",\"title\":{\"standoff\":15},\"zerolinecolor\":\"white\",\"automargin\":true,\"zerolinewidth\":2},\"scene\":{\"xaxis\":{\"backgroundcolor\":\"#E5ECF6\",\"gridcolor\":\"white\",\"linecolor\":\"white\",\"showbackground\":true,\"ticks\":\"\",\"zerolinecolor\":\"white\",\"gridwidth\":2},\"yaxis\":{\"backgroundcolor\":\"#E5ECF6\",\"gridcolor\":\"white\",\"linecolor\":\"white\",\"showbackground\":true,\"ticks\":\"\",\"zerolinecolor\":\"white\",\"gridwidth\":2},\"zaxis\":{\"backgroundcolor\":\"#E5ECF6\",\"gridcolor\":\"white\",\"linecolor\":\"white\",\"showbackground\":true,\"ticks\":\"\",\"zerolinecolor\":\"white\",\"gridwidth\":2}},\"shapedefaults\":{\"line\":{\"color\":\"#2a3f5f\"}},\"annotationdefaults\":{\"arrowcolor\":\"#2a3f5f\",\"arrowhead\":0,\"arrowwidth\":1},\"geo\":{\"bgcolor\":\"white\",\"landcolor\":\"#E5ECF6\",\"subunitcolor\":\"white\",\"showland\":true,\"showlakes\":true,\"lakecolor\":\"white\"},\"title\":{\"x\":0.05},\"mapbox\":{\"style\":\"light\"}}},\"xaxis\":{\"anchor\":\"y\",\"domain\":[0.0,1.0],\"title\":{\"text\":\"x\"}},\"yaxis\":{\"anchor\":\"x\",\"domain\":[0.0,1.0],\"title\":{\"text\":\"y\"}},\"legend\":{\"title\":{\"text\":\"Generative\"},\"tracegroupgap\":0},\"title\":{\"text\":\"PCA Projection of Model Performance\"},\"height\":500,\"width\":650},                        {\"responsive\": true}                    ).then(function(){\n",
       "                            \n",
       "var gd = document.getElementById('9e3d3f43-4a0d-4de4-8a44-4e2c81e3014e');\n",
       "var x = new MutationObserver(function (mutations, observer) {{\n",
       "        var display = window.getComputedStyle(gd).display;\n",
       "        if (!display || display === 'none') {{\n",
       "            console.log([gd, 'removed!']);\n",
       "            Plotly.purge(gd);\n",
       "            observer.disconnect();\n",
       "        }}\n",
       "}});\n",
       "\n",
       "// Listen for the removal of the full notebook cells\n",
       "var notebookContainer = gd.closest('#notebook-container');\n",
       "if (notebookContainer) {{\n",
       "    x.observe(notebookContainer, {childList: true});\n",
       "}}\n",
       "\n",
       "// Listen for the clearing of the current output cell\n",
       "var outputEl = gd.closest('.output');\n",
       "if (outputEl) {{\n",
       "    x.observe(outputEl, {childList: true});\n",
       "}}\n",
       "\n",
       "                        })                };                });            </script>        </div>"
      ]
     },
     "metadata": {},
     "output_type": "display_data"
    }
   ],
   "source": [
    "pca = PCA(n_components=2)\n",
    "pca_projection = pca.fit_transform(df.drop(columns=\"generative\"))\n",
    "px.scatter(\n",
    "    x=pca_projection[:, 0], \n",
    "    y=pca_projection[:, 1], \n",
    "    color=df.generative,\n",
    "    hover_name=df.index.tolist(),\n",
    "    width=650,\n",
    "    height=500,\n",
    "    title=\"PCA Projection of Model Performance\",\n",
    "    labels=dict(color=\"Generative\"),\n",
    ")"
   ]
  },
  {
   "cell_type": "code",
   "execution_count": 78,
   "id": "305f85ea-418f-4c86-8745-82c571860556",
   "metadata": {},
   "outputs": [
    {
     "data": {
      "application/vnd.plotly.v1+json": {
       "config": {
        "plotlyServerURL": "https://plot.ly"
       },
       "data": [
        {
         "hovertemplate": "<b>%{hovertext}</b><br><br>Generative=True<br>x=%{x}<br>y=%{y}<extra></extra>",
         "hovertext": [
          "gpt-4-0613 (few-shot, val)",
          "gpt-3.5-turbo-0613 (few-shot)",
          "gpt-3.5-turbo-0613 (few-shot, val)",
          "RJuro/munin-neuralbeagle-7b (few-shot, val)",
          "timpal0l/BeagleCatMunin (few-shot, val)",
          "birgermoell/Flashback-Bellman (few-shot, val)",
          "merge-crew/da-sv-dare-ties-density-0.9 (few-shot, val)",
          "merge-crew/da-sv-slerp (few-shot, val)",
          "merge-crew/da-sv-task-arithmetic (few-shot, val)",
          "mhenrichsen/danskgpt-chat-v2.1 (few-shot)",
          "Mabeck/Heidrun-Mistral-7B-chat (few-shot)",
          "birgermoell/BeagleCatMunin-Flashback-Bellman (few-shot, val)",
          "birgermoell/Rapid-Cycling (few-shot, val)",
          "timpal0l/BeagleCatMunin2 (few-shot, val)",
          "mlabonne/NeuralBeagle14-7B (few-shot, val)",
          "merge-crew/da-sv-ties (few-shot, val)",
          "birgermoell/Munin-NeuralBeagle-NorskGPT (few-shot, val)",
          "birgermoell/WestLake-Munin-Cat-NorskGPT (few-shot, val)",
          "merge-crew/da-sv-dare-ties-density-0.6 (few-shot, val)",
          "RJuro/munin-neuralbeagle-SkoleGPTOpenOrca-7b (few-shot, val)",
          "timpal0l/tyr (few-shot, val)",
          "Mabeck/Heidrun-Mistral-7B-base (few-shot)",
          "ThatsGroes/munin-SkoleGPTOpenOrca-7b-16bit (few-shot)",
          "KennethEnevoldsen/munin_mistral-7b (few-shot, val)",
          "bineric/NorskGPT-Mistral-7b (few-shot)",
          "danish-foundation-models/munin-7b-v0.1dev0 (few-shot)",
          "timpal0l/Mistral-7B-v0.1-flashback-v2 (few-shot)",
          "mhenrichsen/hestenettetLM (few-shot)",
          "birgermoell/NeuralBeagle-Flashback (few-shot, val)",
          "RuterNorway/Llama-2-13b-chat-norwegian (few-shot)",
          "mistralai/Mistral-7B-Instruct-v0.2 (few-shot)",
          "neph1/bellman-7b-mistral-instruct-v0.2 (few-shot)",
          "mistralai/Mistral-7B-v0.1 (few-shot)",
          "occiglot/occiglot-7b-eu5-instruct (few-shot)",
          "mistralai/Mistral-7B-Instruct-v0.1 (few-shot)",
          "bineric/NorskGPT-Llama-7B-v0.1 (few-shot)",
          "occiglot/occiglot-7b-eu5 (few-shot)",
          "timpal0l/njord-alpha (few-shot)",
          "danish-foundation-models/munin-7b-alpha (few-shot)",
          "merge-crew/da-sv-dare-ties-density-0.3 (few-shot, val)",
          "meta-llama/Llama-2-7b-chat-hf (few-shot)",
          "tollefj/nordavind-7b-instruct-warm (few-shot)",
          "timpal0l/Mistral-7B-v0.1-flashback-v2-instruct (few-shot)",
          "AI-Sweden-Models/gpt-sw3-20b (few-shot)",
          "norallm/normistral-7b-warm (few-shot)",
          "meta-llama/Llama-2-7b-hf (few-shot)",
          "Qwen/Qwen1.5-4B-Chat (few-shot)",
          "01-ai/Yi-6B (few-shot)",
          "google/gemma-2b (few-shot)",
          "Qwen/Qwen1.5-4B (few-shot)",
          "AI-Sweden-Models/gpt-sw3-1.3b-instruct (few-shot)",
          "AI-Sweden-Models/gpt-sw3-6.7b-v2 (few-shot)",
          "AI-Sweden-Models/gpt-sw3-6.7b-v2-instruct (few-shot)",
          "AI-Sweden-Models/gpt-sw3-1.3b (few-shot)",
          "AI-Sweden-Models/gpt-sw3-6.7b (few-shot)",
          "google/gemma-2b-it (few-shot)",
          "norallm/normistral-7b-scratch (few-shot)",
          "mhenrichsen/danskgpt-tiny-chat (few-shot)",
          "NbAiLab/nb-gpt-j-6B-alpaca (few-shot)",
          "AI-Sweden-Models/gpt-sw3-356m-instruct (few-shot)",
          "Qwen/Qwen1.5-1.8B (few-shot)",
          "Qwen/Qwen1.5-1.8B-Chat (few-shot)",
          "HPLT/gpt-7b-nordic-prerelease (few-shot)",
          "AI-Sweden-Models/gpt-sw3-356m (few-shot)",
          "RuterNorway/Llama-2-7b-chat-norwegian (few-shot)",
          "mhenrichsen/danskgpt-tiny (few-shot)",
          "Qwen/Qwen1.5-0.5B-Chat (few-shot)",
          "allenai/OLMo-1B (few-shot)",
          "Qwen/Qwen1.5-0.5B (few-shot)",
          "NbAiLab/nb-gpt-j-6B-v2 (few-shot)",
          "AI-Sweden-Models/gpt-sw3-126m-instruct (few-shot)",
          "NbAiLab/nb-gpt-j-6B@sharded (few-shot)",
          "AI-Sweden-Models/gpt-sw3-126m (few-shot)",
          "RJuro/kanelsnegl-v0.1 (few-shot)",
          "RJuro/kanelsnegl-v0.2 (few-shot)",
          "ai-forever/mGPT (few-shot)",
          "peter-sk/gpt-neox-da (few-shot)"
         ],
         "legendgroup": "True",
         "marker": {
          "color": "#636efa",
          "symbol": "circle"
         },
         "mode": "markers",
         "name": "True",
         "orientation": "v",
         "showlegend": true,
         "type": "scatter",
         "x": [
          -14.248276710510254,
          -11.125656127929688,
          -11.232332229614258,
          11.958745956420898,
          11.687273025512695,
          11.303662300109863,
          11.630056381225586,
          12.18342113494873,
          12.188905715942383,
          12.39162826538086,
          11.670646667480469,
          11.190752029418945,
          11.173144340515137,
          11.283985137939453,
          11.783416748046875,
          11.19385051727295,
          11.374305725097656,
          11.37441349029541,
          10.814895629882812,
          11.531891822814941,
          10.5870943069458,
          10.368939399719238,
          10.389811515808105,
          9.438815116882324,
          11.051297187805176,
          11.111607551574707,
          10.871252059936523,
          9.444497108459473,
          9.668204307556152,
          9.893458366394043,
          9.890307426452637,
          9.83184814453125,
          9.309292793273926,
          8.714920043945312,
          9.310624122619629,
          8.719520568847656,
          8.527234077453613,
          7.207178592681885,
          6.750359058380127,
          7.380820274353027,
          8.2071533203125,
          7.40321159362793,
          8.568977355957031,
          6.526486873626709,
          7.868165016174316,
          7.59224271774292,
          6.007115364074707,
          8.218663215637207,
          4.203693389892578,
          3.987248420715332,
          4.233342170715332,
          4.699669361114502,
          4.33896541595459,
          3.6024951934814453,
          3.858957290649414,
          3.403346300125122,
          3.5114102363586426,
          2.9987614154815674,
          3.2567336559295654,
          3.0237953662872314,
          2.9032528400421143,
          3.0120229721069336,
          2.8846917152404785,
          2.57397723197937,
          1.9010642766952515,
          0.9545477628707886,
          1.5575511455535889,
          0.9972352385520935,
          1.4718838930130005,
          0.25723859667778015,
          0.9210397005081177,
          -0.21651557087898254,
          0.20440338551998138,
          -0.4541130065917969,
          -0.45772454142570496,
          -0.16817402839660645,
          -0.327543705701828
         ],
         "xaxis": "x",
         "y": [
          7.29203462600708,
          6.906607151031494,
          6.881507396697998,
          -3.7604055404663086,
          -5.0996575355529785,
          -4.419171333312988,
          -5.950384616851807,
          -5.441359043121338,
          -5.406282424926758,
          -4.5669989585876465,
          -4.260009288787842,
          -4.303218364715576,
          -4.281172275543213,
          -3.395230770111084,
          -3.562913179397583,
          -5.56410551071167,
          -2.6114230155944824,
          -2.611447811126709,
          -5.18353271484375,
          -4.749557971954346,
          -4.595795154571533,
          -5.2756242752075195,
          -5.329695224761963,
          -5.511083126068115,
          -2.709469795227051,
          -6.5752058029174805,
          -6.2046661376953125,
          -5.197940349578857,
          -2.7600631713867188,
          -4.47600793838501,
          -3.773472547531128,
          -3.445725440979004,
          -4.422344207763672,
          -5.332284450531006,
          -4.749659061431885,
          -4.29748010635376,
          -5.307166576385498,
          -6.818146228790283,
          -4.898075103759766,
          -5.376414775848389,
          -5.061875820159912,
          -5.343730926513672,
          -6.102005958557129,
          -5.452485084533691,
          -5.5996904373168945,
          -6.131590366363525,
          -5.3660736083984375,
          -6.95454216003418,
          -6.261666774749756,
          -3.5831737518310547,
          -5.852700710296631,
          -5.7066426277160645,
          -5.186261177062988,
          -6.254166126251221,
          -5.238911151885986,
          -4.490686416625977,
          -6.0421648025512695,
          -4.714025020599365,
          -5.523288249969482,
          -5.763840675354004,
          -5.422336101531982,
          -4.963988780975342,
          -6.480452060699463,
          -4.559010028839111,
          -5.063254356384277,
          -4.174942493438721,
          -5.055493354797363,
          -4.32216739654541,
          -4.731975555419922,
          -5.201456069946289,
          -4.760019302368164,
          -5.104106426239014,
          -5.50722599029541,
          -5.137153148651123,
          -5.341196537017822,
          -5.873266220092773,
          -5.818079471588135
         ],
         "yaxis": "y"
        },
        {
         "hovertemplate": "<b>%{hovertext}</b><br><br>Generative=False<br>x=%{x}<br>y=%{y}<extra></extra>",
         "hovertext": [
          "AI-Sweden-Models/roberta-large-1160k",
          "ltg/norbert3-large",
          "AI-Sweden-Models/roberta-large-1350k",
          "danish-foundation-models/encoder-large-v1",
          "KennethEnevoldsen/dfm-sentence-encoder-large-1",
          "KennethEnevoldsen/dfm-sentence-encoder-large-2",
          "google/rembert",
          "intfloat/multilingual-e5-large",
          "NbAiLab/nb-roberta-base-scandi",
          "microsoft/mdeberta-v3-base",
          "NbAiLab/nb-roberta-base-scandi-1e4",
          "ltg/norbert3-base",
          "sentence-transformers/use-cmlm-multilingual",
          "FacebookAI/xlm-roberta-large",
          "KennethEnevoldsen/dfm-sentence-encoder-medium-3",
          "vesteinn/ScandiBERT-no-faroese",
          "NbAiLab/nb-bert-base",
          "vesteinn/FoBERT",
          "pere/roberta-debug-8",
          "pere/roberta-base-exp-8",
          "setu4993/LaBSE",
          "pere/roberta-debug-32",
          "pere/roberta-base-exp-32",
          "AI-Sweden-Models/bert-large-nordic-pile-1M-steps",
          "pere/roberta-base-exp-32B",
          "vesteinn/DanskBERT",
          "ltg/norbert3-small",
          "KBLab/megatron-bert-large-swedish-cased-165k",
          "AI-Nordics/bert-large-swedish-cased",
          "cardiffnlp/twitter-xlm-roberta-base",
          "KBLab/megatron-bert-large-swedish-cased-110k",
          "microsoft/infoxlm-large",
          "google-bert/bert-base-multilingual-uncased",
          "KB/bert-base-swedish-cased",
          "KBLab/megatron-bert-base-swedish-cased-600k",
          "Geotrend/bert-base-en-fr-de-no-da-cased",
          "google-bert/bert-base-multilingual-cased",
          "Geotrend/bert-base-25lang-cased",
          "Geotrend/bert-base-en-no-cased",
          "KBLab/bert-base-swedish-cased",
          "microsoft/xlm-align-base",
          "facebook/xlm-v-base",
          "Geotrend/bert-base-en-da-cased",
          "jonfd/electra-small-nordic",
          "Geotrend/bert-base-da-cased",
          "microsoft/infoxlm-base",
          "KBLab/megatron-bert-base-swedish-cased-125k",
          "clips/mfaq",
          "jhu-clsp/bernice",
          "flax-community/nordic-roberta-wiki",
          "DDSC/roberta-base-scandinavian",
          "KBLab/bert-base-swedish-cased-new",
          "sentence-transformers/paraphrase-xlm-r-multilingual-v1",
          "sentence-transformers/paraphrase-multilingual-mpnet-base-v2",
          "flax-community/swe-roberta-wiki-oscar",
          "sentence-transformers/stsb-xlm-r-multilingual",
          "distilbert/distilbert-base-multilingual-cased",
          "Geotrend/distilbert-base-25lang-cased",
          "Geotrend/distilbert-base-en-fr-de-no-da-cased",
          "Geotrend/distilbert-base-en-no-cased",
          "Geotrend/distilbert-base-en-da-cased",
          "Twitter/twhin-bert-large",
          "Geotrend/distilbert-base-da-cased",
          "sarnikowski/convbert-medium-small-da-cased",
          "Addedk/kbbert-distilled-cased",
          "danish-foundation-models/encoder-medium-v1",
          "sentence-transformers/paraphrase-multilingual-MiniLM-L12-v2",
          "jannikskytt/MeDa-Bert",
          "DDSC/roberta-base-danish",
          "Maltehb/danish-bert-botxo",
          "ltg/norbert3-xs",
          "birgermoell/roberta-swedish-scandi",
          "Addedk/mbert-swedish-distilled-cased",
          "sarnikowski/electra-small-discriminator-da-256-cased",
          "sarnikowski/convbert-small-da-cased",
          "dbmdz/bert-base-historic-multilingual-cased",
          "sentence-transformers/distilbert-multilingual-nli-stsb-quora-ranking",
          "sentence-transformers/quora-distilbert-multilingual",
          "Maltehb/aelaectra-danish-electra-small-cased",
          "dbmdz/bert-medium-historic-multilingual-cased",
          "Maltehb/aelaectra-danish-electra-small-uncased",
          "jjzha/dajobbert-base-uncased",
          "sentence-transformers/distiluse-base-multilingual-cased-v1",
          "KBLab/albert-base-swedish-cased-alpha",
          "dbmdz/bert-mini-historic-multilingual-cased",
          "jannesg/bertsson",
          "alexanderfalk/danbert-small-cased",
          "3ebdola/Dialectal-Arabic-XLM-R-Base",
          "RabotaRu/HRBert-mini",
          "fresh-xlm-roberta-base",
          "fresh-electra-small"
         ],
         "legendgroup": "False",
         "marker": {
          "color": "#EF553B",
          "symbol": "circle"
         },
         "mode": "markers",
         "name": "False",
         "orientation": "v",
         "showlegend": true,
         "type": "scatter",
         "x": [
          -14.388649940490723,
          -14.741692543029785,
          -14.295145988464355,
          -13.29562759399414,
          -13.68852710723877,
          -13.601778984069824,
          -13.259023666381836,
          -12.082258224487305,
          -14.213951110839844,
          -13.541964530944824,
          -14.232028007507324,
          -12.960465431213379,
          -12.27161693572998,
          -11.863602638244629,
          -14.171266555786133,
          -13.824151992797852,
          -13.923418998718262,
          -13.533727645874023,
          -13.454097747802734,
          -13.148120880126953,
          -12.160070419311523,
          -13.542884826660156,
          -12.509566307067871,
          -8.93136978149414,
          -11.83039665222168,
          -10.735196113586426,
          -11.940031051635742,
          -7.864607334136963,
          -8.122261047363281,
          -10.231191635131836,
          -7.562225818634033,
          -0.388353168964386,
          -8.989646911621094,
          -7.517490386962891,
          -7.251712799072266,
          -7.838746547698975,
          -8.207527160644531,
          -8.143688201904297,
          -7.969830513000488,
          -7.492029666900635,
          -0.709873378276825,
          -8.21828842163086,
          -7.637049674987793,
          -12.70422077178955,
          -7.42551326751709,
          -0.7698405385017395,
          -6.787588596343994,
          -4.329028129577637,
          -5.362529277801514,
          -5.927723407745361,
          -4.95025110244751,
          -6.268472194671631,
          -4.705723762512207,
          -4.353011608123779,
          -5.912115573883057,
          -4.526832103729248,
          -6.293135166168213,
          -5.933192253112793,
          -6.1185126304626465,
          -6.147798538208008,
          -5.895204067230225,
          -2.2724449634552,
          -5.852363586425781,
          -2.858243942260742,
          -5.346815586090088,
          -1.9270564317703247,
          -4.079791069030762,
          -1.9140995740890503,
          -1.9970905780792236,
          -2.1577374935150146,
          -2.0072264671325684,
          -5.186670780181885,
          -4.813103199005127,
          -2.6127588748931885,
          -2.654771566390991,
          -2.8573617935180664,
          -2.979829788208008,
          -2.990048885345459,
          -2.284303903579712,
          -2.7759385108947754,
          -1.9565129280090332,
          -1.9001882076263428,
          -1.6305569410324097,
          -1.8319789171218872,
          -1.607905387878418,
          -1.3124866485595703,
          -0.3374169170856476,
          -1.211538553237915,
          0.02292744815349579,
          0.041214488446712494,
          -0.14079558849334717
         ],
         "xaxis": "x",
         "y": [
          6.6033501625061035,
          6.318277835845947,
          6.579272270202637,
          6.840478420257568,
          6.616555690765381,
          6.716814041137695,
          6.4915008544921875,
          6.729238510131836,
          5.560737133026123,
          6.097458362579346,
          5.3687214851379395,
          5.717757701873779,
          6.30996036529541,
          6.175070285797119,
          5.052519798278809,
          5.751938819885254,
          4.846951484680176,
          5.444126129150391,
          5.295848369598389,
          5.019891738891602,
          5.865371227264404,
          4.869386196136475,
          4.95754337310791,
          6.680887222290039,
          4.8804545402526855,
          5.103525638580322,
          4.854027271270752,
          7.091922760009766,
          6.757590293884277,
          5.19111967086792,
          7.20613956451416,
          2.62233829498291,
          4.711464881896973,
          6.618199825286865,
          7.011990070343018,
          4.270253658294678,
          4.767710208892822,
          4.543987274169922,
          4.238122940063477,
          6.620692729949951,
          2.610902786254883,
          3.525834321975708,
          4.38798189163208,
          8.306981086730957,
          4.262307167053223,
          2.589350461959839,
          6.862762451171875,
          4.434978485107422,
          5.286857604980469,
          5.274630069732666,
          2.9621620178222656,
          7.309539794921875,
          5.01295280456543,
          4.81846809387207,
          6.542779445648193,
          4.929470539093018,
          4.243983268737793,
          3.9658820629119873,
          4.040200233459473,
          4.076857566833496,
          3.9056427478790283,
          2.4570722579956055,
          4.095280647277832,
          5.794073104858398,
          6.405294895172119,
          5.1830573081970215,
          4.351236343383789,
          5.142480373382568,
          2.28656005859375,
          5.1655073165893555,
          2.4052135944366455,
          6.44170618057251,
          3.826547622680664,
          6.027702331542969,
          5.697905540466309,
          1.4253243207931519,
          2.4953742027282715,
          2.4982917308807373,
          6.353168964385986,
          1.4362834692001343,
          6.230346202850342,
          4.897758960723877,
          -0.2680528461933136,
          -0.1844833493232727,
          -0.36435699462890625,
          -0.8914915323257446,
          -2.757843017578125,
          -1.1263833045959473,
          -3.449179172515869,
          -3.9478721618652344,
          -4.247901439666748
         ],
         "yaxis": "y"
        }
       ],
       "layout": {
        "height": 500,
        "legend": {
         "title": {
          "text": "Generative"
         },
         "tracegroupgap": 0
        },
        "template": {
         "data": {
          "bar": [
           {
            "error_x": {
             "color": "#2a3f5f"
            },
            "error_y": {
             "color": "#2a3f5f"
            },
            "marker": {
             "line": {
              "color": "#E5ECF6",
              "width": 0.5
             },
             "pattern": {
              "fillmode": "overlay",
              "size": 10,
              "solidity": 0.2
             }
            },
            "type": "bar"
           }
          ],
          "barpolar": [
           {
            "marker": {
             "line": {
              "color": "#E5ECF6",
              "width": 0.5
             },
             "pattern": {
              "fillmode": "overlay",
              "size": 10,
              "solidity": 0.2
             }
            },
            "type": "barpolar"
           }
          ],
          "carpet": [
           {
            "aaxis": {
             "endlinecolor": "#2a3f5f",
             "gridcolor": "white",
             "linecolor": "white",
             "minorgridcolor": "white",
             "startlinecolor": "#2a3f5f"
            },
            "baxis": {
             "endlinecolor": "#2a3f5f",
             "gridcolor": "white",
             "linecolor": "white",
             "minorgridcolor": "white",
             "startlinecolor": "#2a3f5f"
            },
            "type": "carpet"
           }
          ],
          "choropleth": [
           {
            "colorbar": {
             "outlinewidth": 0,
             "ticks": ""
            },
            "type": "choropleth"
           }
          ],
          "contour": [
           {
            "colorbar": {
             "outlinewidth": 0,
             "ticks": ""
            },
            "colorscale": [
             [
              0,
              "#0d0887"
             ],
             [
              0.1111111111111111,
              "#46039f"
             ],
             [
              0.2222222222222222,
              "#7201a8"
             ],
             [
              0.3333333333333333,
              "#9c179e"
             ],
             [
              0.4444444444444444,
              "#bd3786"
             ],
             [
              0.5555555555555556,
              "#d8576b"
             ],
             [
              0.6666666666666666,
              "#ed7953"
             ],
             [
              0.7777777777777778,
              "#fb9f3a"
             ],
             [
              0.8888888888888888,
              "#fdca26"
             ],
             [
              1,
              "#f0f921"
             ]
            ],
            "type": "contour"
           }
          ],
          "contourcarpet": [
           {
            "colorbar": {
             "outlinewidth": 0,
             "ticks": ""
            },
            "type": "contourcarpet"
           }
          ],
          "heatmap": [
           {
            "colorbar": {
             "outlinewidth": 0,
             "ticks": ""
            },
            "colorscale": [
             [
              0,
              "#0d0887"
             ],
             [
              0.1111111111111111,
              "#46039f"
             ],
             [
              0.2222222222222222,
              "#7201a8"
             ],
             [
              0.3333333333333333,
              "#9c179e"
             ],
             [
              0.4444444444444444,
              "#bd3786"
             ],
             [
              0.5555555555555556,
              "#d8576b"
             ],
             [
              0.6666666666666666,
              "#ed7953"
             ],
             [
              0.7777777777777778,
              "#fb9f3a"
             ],
             [
              0.8888888888888888,
              "#fdca26"
             ],
             [
              1,
              "#f0f921"
             ]
            ],
            "type": "heatmap"
           }
          ],
          "heatmapgl": [
           {
            "colorbar": {
             "outlinewidth": 0,
             "ticks": ""
            },
            "colorscale": [
             [
              0,
              "#0d0887"
             ],
             [
              0.1111111111111111,
              "#46039f"
             ],
             [
              0.2222222222222222,
              "#7201a8"
             ],
             [
              0.3333333333333333,
              "#9c179e"
             ],
             [
              0.4444444444444444,
              "#bd3786"
             ],
             [
              0.5555555555555556,
              "#d8576b"
             ],
             [
              0.6666666666666666,
              "#ed7953"
             ],
             [
              0.7777777777777778,
              "#fb9f3a"
             ],
             [
              0.8888888888888888,
              "#fdca26"
             ],
             [
              1,
              "#f0f921"
             ]
            ],
            "type": "heatmapgl"
           }
          ],
          "histogram": [
           {
            "marker": {
             "pattern": {
              "fillmode": "overlay",
              "size": 10,
              "solidity": 0.2
             }
            },
            "type": "histogram"
           }
          ],
          "histogram2d": [
           {
            "colorbar": {
             "outlinewidth": 0,
             "ticks": ""
            },
            "colorscale": [
             [
              0,
              "#0d0887"
             ],
             [
              0.1111111111111111,
              "#46039f"
             ],
             [
              0.2222222222222222,
              "#7201a8"
             ],
             [
              0.3333333333333333,
              "#9c179e"
             ],
             [
              0.4444444444444444,
              "#bd3786"
             ],
             [
              0.5555555555555556,
              "#d8576b"
             ],
             [
              0.6666666666666666,
              "#ed7953"
             ],
             [
              0.7777777777777778,
              "#fb9f3a"
             ],
             [
              0.8888888888888888,
              "#fdca26"
             ],
             [
              1,
              "#f0f921"
             ]
            ],
            "type": "histogram2d"
           }
          ],
          "histogram2dcontour": [
           {
            "colorbar": {
             "outlinewidth": 0,
             "ticks": ""
            },
            "colorscale": [
             [
              0,
              "#0d0887"
             ],
             [
              0.1111111111111111,
              "#46039f"
             ],
             [
              0.2222222222222222,
              "#7201a8"
             ],
             [
              0.3333333333333333,
              "#9c179e"
             ],
             [
              0.4444444444444444,
              "#bd3786"
             ],
             [
              0.5555555555555556,
              "#d8576b"
             ],
             [
              0.6666666666666666,
              "#ed7953"
             ],
             [
              0.7777777777777778,
              "#fb9f3a"
             ],
             [
              0.8888888888888888,
              "#fdca26"
             ],
             [
              1,
              "#f0f921"
             ]
            ],
            "type": "histogram2dcontour"
           }
          ],
          "mesh3d": [
           {
            "colorbar": {
             "outlinewidth": 0,
             "ticks": ""
            },
            "type": "mesh3d"
           }
          ],
          "parcoords": [
           {
            "line": {
             "colorbar": {
              "outlinewidth": 0,
              "ticks": ""
             }
            },
            "type": "parcoords"
           }
          ],
          "pie": [
           {
            "automargin": true,
            "type": "pie"
           }
          ],
          "scatter": [
           {
            "fillpattern": {
             "fillmode": "overlay",
             "size": 10,
             "solidity": 0.2
            },
            "type": "scatter"
           }
          ],
          "scatter3d": [
           {
            "line": {
             "colorbar": {
              "outlinewidth": 0,
              "ticks": ""
             }
            },
            "marker": {
             "colorbar": {
              "outlinewidth": 0,
              "ticks": ""
             }
            },
            "type": "scatter3d"
           }
          ],
          "scattercarpet": [
           {
            "marker": {
             "colorbar": {
              "outlinewidth": 0,
              "ticks": ""
             }
            },
            "type": "scattercarpet"
           }
          ],
          "scattergeo": [
           {
            "marker": {
             "colorbar": {
              "outlinewidth": 0,
              "ticks": ""
             }
            },
            "type": "scattergeo"
           }
          ],
          "scattergl": [
           {
            "marker": {
             "colorbar": {
              "outlinewidth": 0,
              "ticks": ""
             }
            },
            "type": "scattergl"
           }
          ],
          "scattermapbox": [
           {
            "marker": {
             "colorbar": {
              "outlinewidth": 0,
              "ticks": ""
             }
            },
            "type": "scattermapbox"
           }
          ],
          "scatterpolar": [
           {
            "marker": {
             "colorbar": {
              "outlinewidth": 0,
              "ticks": ""
             }
            },
            "type": "scatterpolar"
           }
          ],
          "scatterpolargl": [
           {
            "marker": {
             "colorbar": {
              "outlinewidth": 0,
              "ticks": ""
             }
            },
            "type": "scatterpolargl"
           }
          ],
          "scatterternary": [
           {
            "marker": {
             "colorbar": {
              "outlinewidth": 0,
              "ticks": ""
             }
            },
            "type": "scatterternary"
           }
          ],
          "surface": [
           {
            "colorbar": {
             "outlinewidth": 0,
             "ticks": ""
            },
            "colorscale": [
             [
              0,
              "#0d0887"
             ],
             [
              0.1111111111111111,
              "#46039f"
             ],
             [
              0.2222222222222222,
              "#7201a8"
             ],
             [
              0.3333333333333333,
              "#9c179e"
             ],
             [
              0.4444444444444444,
              "#bd3786"
             ],
             [
              0.5555555555555556,
              "#d8576b"
             ],
             [
              0.6666666666666666,
              "#ed7953"
             ],
             [
              0.7777777777777778,
              "#fb9f3a"
             ],
             [
              0.8888888888888888,
              "#fdca26"
             ],
             [
              1,
              "#f0f921"
             ]
            ],
            "type": "surface"
           }
          ],
          "table": [
           {
            "cells": {
             "fill": {
              "color": "#EBF0F8"
             },
             "line": {
              "color": "white"
             }
            },
            "header": {
             "fill": {
              "color": "#C8D4E3"
             },
             "line": {
              "color": "white"
             }
            },
            "type": "table"
           }
          ]
         },
         "layout": {
          "annotationdefaults": {
           "arrowcolor": "#2a3f5f",
           "arrowhead": 0,
           "arrowwidth": 1
          },
          "autotypenumbers": "strict",
          "coloraxis": {
           "colorbar": {
            "outlinewidth": 0,
            "ticks": ""
           }
          },
          "colorscale": {
           "diverging": [
            [
             0,
             "#8e0152"
            ],
            [
             0.1,
             "#c51b7d"
            ],
            [
             0.2,
             "#de77ae"
            ],
            [
             0.3,
             "#f1b6da"
            ],
            [
             0.4,
             "#fde0ef"
            ],
            [
             0.5,
             "#f7f7f7"
            ],
            [
             0.6,
             "#e6f5d0"
            ],
            [
             0.7,
             "#b8e186"
            ],
            [
             0.8,
             "#7fbc41"
            ],
            [
             0.9,
             "#4d9221"
            ],
            [
             1,
             "#276419"
            ]
           ],
           "sequential": [
            [
             0,
             "#0d0887"
            ],
            [
             0.1111111111111111,
             "#46039f"
            ],
            [
             0.2222222222222222,
             "#7201a8"
            ],
            [
             0.3333333333333333,
             "#9c179e"
            ],
            [
             0.4444444444444444,
             "#bd3786"
            ],
            [
             0.5555555555555556,
             "#d8576b"
            ],
            [
             0.6666666666666666,
             "#ed7953"
            ],
            [
             0.7777777777777778,
             "#fb9f3a"
            ],
            [
             0.8888888888888888,
             "#fdca26"
            ],
            [
             1,
             "#f0f921"
            ]
           ],
           "sequentialminus": [
            [
             0,
             "#0d0887"
            ],
            [
             0.1111111111111111,
             "#46039f"
            ],
            [
             0.2222222222222222,
             "#7201a8"
            ],
            [
             0.3333333333333333,
             "#9c179e"
            ],
            [
             0.4444444444444444,
             "#bd3786"
            ],
            [
             0.5555555555555556,
             "#d8576b"
            ],
            [
             0.6666666666666666,
             "#ed7953"
            ],
            [
             0.7777777777777778,
             "#fb9f3a"
            ],
            [
             0.8888888888888888,
             "#fdca26"
            ],
            [
             1,
             "#f0f921"
            ]
           ]
          },
          "colorway": [
           "#636efa",
           "#EF553B",
           "#00cc96",
           "#ab63fa",
           "#FFA15A",
           "#19d3f3",
           "#FF6692",
           "#B6E880",
           "#FF97FF",
           "#FECB52"
          ],
          "font": {
           "color": "#2a3f5f"
          },
          "geo": {
           "bgcolor": "white",
           "lakecolor": "white",
           "landcolor": "#E5ECF6",
           "showlakes": true,
           "showland": true,
           "subunitcolor": "white"
          },
          "hoverlabel": {
           "align": "left"
          },
          "hovermode": "closest",
          "mapbox": {
           "style": "light"
          },
          "paper_bgcolor": "white",
          "plot_bgcolor": "#E5ECF6",
          "polar": {
           "angularaxis": {
            "gridcolor": "white",
            "linecolor": "white",
            "ticks": ""
           },
           "bgcolor": "#E5ECF6",
           "radialaxis": {
            "gridcolor": "white",
            "linecolor": "white",
            "ticks": ""
           }
          },
          "scene": {
           "xaxis": {
            "backgroundcolor": "#E5ECF6",
            "gridcolor": "white",
            "gridwidth": 2,
            "linecolor": "white",
            "showbackground": true,
            "ticks": "",
            "zerolinecolor": "white"
           },
           "yaxis": {
            "backgroundcolor": "#E5ECF6",
            "gridcolor": "white",
            "gridwidth": 2,
            "linecolor": "white",
            "showbackground": true,
            "ticks": "",
            "zerolinecolor": "white"
           },
           "zaxis": {
            "backgroundcolor": "#E5ECF6",
            "gridcolor": "white",
            "gridwidth": 2,
            "linecolor": "white",
            "showbackground": true,
            "ticks": "",
            "zerolinecolor": "white"
           }
          },
          "shapedefaults": {
           "line": {
            "color": "#2a3f5f"
           }
          },
          "ternary": {
           "aaxis": {
            "gridcolor": "white",
            "linecolor": "white",
            "ticks": ""
           },
           "baxis": {
            "gridcolor": "white",
            "linecolor": "white",
            "ticks": ""
           },
           "bgcolor": "#E5ECF6",
           "caxis": {
            "gridcolor": "white",
            "linecolor": "white",
            "ticks": ""
           }
          },
          "title": {
           "x": 0.05
          },
          "xaxis": {
           "automargin": true,
           "gridcolor": "white",
           "linecolor": "white",
           "ticks": "",
           "title": {
            "standoff": 15
           },
           "zerolinecolor": "white",
           "zerolinewidth": 2
          },
          "yaxis": {
           "automargin": true,
           "gridcolor": "white",
           "linecolor": "white",
           "ticks": "",
           "title": {
            "standoff": 15
           },
           "zerolinecolor": "white",
           "zerolinewidth": 2
          }
         }
        },
        "title": {
         "text": "T-SNE Projection of Model Performance"
        },
        "width": 650,
        "xaxis": {
         "anchor": "y",
         "autorange": true,
         "domain": [
          0,
          1
         ],
         "range": [
          -16.522378208846437,
          14.172313931197511
         ],
         "title": {
          "text": "x"
         },
         "type": "linear"
        },
        "yaxis": {
         "anchor": "x",
         "autorange": true,
         "domain": [
          0,
          1
         ],
         "range": [
          -8.029105739797501,
          9.381544666494278
         ],
         "title": {
          "text": "y"
         },
         "type": "linear"
        }
       }
      },
      "image/png": "[encoded data removed]",
      "text/html": [
       "<div>                            <div id=\"c3f89ae4-8c27-4709-a5b1-a06a025a6708\" class=\"plotly-graph-div\" style=\"height:500px; width:650px;\"></div>            <script type=\"text/javascript\">                require([\"plotly\"], function(Plotly) {                    window.PLOTLYENV=window.PLOTLYENV || {};                                    if (document.getElementById(\"c3f89ae4-8c27-4709-a5b1-a06a025a6708\")) {                    Plotly.newPlot(                        \"c3f89ae4-8c27-4709-a5b1-a06a025a6708\",                        [{\"hovertemplate\":\"\\u003cb\\u003e%{hovertext}\\u003c\\u002fb\\u003e\\u003cbr\\u003e\\u003cbr\\u003eGenerative=True\\u003cbr\\u003ex=%{x}\\u003cbr\\u003ey=%{y}\\u003cextra\\u003e\\u003c\\u002fextra\\u003e\",\"hovertext\":[\"gpt-4-0613 (few-shot, val)\",\"gpt-3.5-turbo-0613 (few-shot)\",\"gpt-3.5-turbo-0613 (few-shot, val)\",\"RJuro\\u002fmunin-neuralbeagle-7b (few-shot, val)\",\"timpal0l\\u002fBeagleCatMunin (few-shot, val)\",\"birgermoell\\u002fFlashback-Bellman (few-shot, val)\",\"merge-crew\\u002fda-sv-dare-ties-density-0.9 (few-shot, val)\",\"merge-crew\\u002fda-sv-slerp (few-shot, val)\",\"merge-crew\\u002fda-sv-task-arithmetic (few-shot, val)\",\"mhenrichsen\\u002fdanskgpt-chat-v2.1 (few-shot)\",\"Mabeck\\u002fHeidrun-Mistral-7B-chat (few-shot)\",\"birgermoell\\u002fBeagleCatMunin-Flashback-Bellman (few-shot, val)\",\"birgermoell\\u002fRapid-Cycling (few-shot, val)\",\"timpal0l\\u002fBeagleCatMunin2 (few-shot, val)\",\"mlabonne\\u002fNeuralBeagle14-7B (few-shot, val)\",\"merge-crew\\u002fda-sv-ties (few-shot, val)\",\"birgermoell\\u002fMunin-NeuralBeagle-NorskGPT (few-shot, val)\",\"birgermoell\\u002fWestLake-Munin-Cat-NorskGPT (few-shot, val)\",\"merge-crew\\u002fda-sv-dare-ties-density-0.6 (few-shot, val)\",\"RJuro\\u002fmunin-neuralbeagle-SkoleGPTOpenOrca-7b (few-shot, val)\",\"timpal0l\\u002ftyr (few-shot, val)\",\"Mabeck\\u002fHeidrun-Mistral-7B-base (few-shot)\",\"ThatsGroes\\u002fmunin-SkoleGPTOpenOrca-7b-16bit (few-shot)\",\"KennethEnevoldsen\\u002fmunin_mistral-7b (few-shot, val)\",\"bineric\\u002fNorskGPT-Mistral-7b (few-shot)\",\"danish-foundation-models\\u002fmunin-7b-v0.1dev0 (few-shot)\",\"timpal0l\\u002fMistral-7B-v0.1-flashback-v2 (few-shot)\",\"mhenrichsen\\u002fhestenettetLM (few-shot)\",\"birgermoell\\u002fNeuralBeagle-Flashback (few-shot, val)\",\"RuterNorway\\u002fLlama-2-13b-chat-norwegian (few-shot)\",\"mistralai\\u002fMistral-7B-Instruct-v0.2 (few-shot)\",\"neph1\\u002fbellman-7b-mistral-instruct-v0.2 (few-shot)\",\"mistralai\\u002fMistral-7B-v0.1 (few-shot)\",\"occiglot\\u002focciglot-7b-eu5-instruct (few-shot)\",\"mistralai\\u002fMistral-7B-Instruct-v0.1 (few-shot)\",\"bineric\\u002fNorskGPT-Llama-7B-v0.1 (few-shot)\",\"occiglot\\u002focciglot-7b-eu5 (few-shot)\",\"timpal0l\\u002fnjord-alpha (few-shot)\",\"danish-foundation-models\\u002fmunin-7b-alpha (few-shot)\",\"merge-crew\\u002fda-sv-dare-ties-density-0.3 (few-shot, val)\",\"meta-llama\\u002fLlama-2-7b-chat-hf (few-shot)\",\"tollefj\\u002fnordavind-7b-instruct-warm (few-shot)\",\"timpal0l\\u002fMistral-7B-v0.1-flashback-v2-instruct (few-shot)\",\"AI-Sweden-Models\\u002fgpt-sw3-20b (few-shot)\",\"norallm\\u002fnormistral-7b-warm (few-shot)\",\"meta-llama\\u002fLlama-2-7b-hf (few-shot)\",\"Qwen\\u002fQwen1.5-4B-Chat (few-shot)\",\"01-ai\\u002fYi-6B (few-shot)\",\"google\\u002fgemma-2b (few-shot)\",\"Qwen\\u002fQwen1.5-4B (few-shot)\",\"AI-Sweden-Models\\u002fgpt-sw3-1.3b-instruct (few-shot)\",\"AI-Sweden-Models\\u002fgpt-sw3-6.7b-v2 (few-shot)\",\"AI-Sweden-Models\\u002fgpt-sw3-6.7b-v2-instruct (few-shot)\",\"AI-Sweden-Models\\u002fgpt-sw3-1.3b (few-shot)\",\"AI-Sweden-Models\\u002fgpt-sw3-6.7b (few-shot)\",\"google\\u002fgemma-2b-it (few-shot)\",\"norallm\\u002fnormistral-7b-scratch (few-shot)\",\"mhenrichsen\\u002fdanskgpt-tiny-chat (few-shot)\",\"NbAiLab\\u002fnb-gpt-j-6B-alpaca (few-shot)\",\"AI-Sweden-Models\\u002fgpt-sw3-356m-instruct (few-shot)\",\"Qwen\\u002fQwen1.5-1.8B (few-shot)\",\"Qwen\\u002fQwen1.5-1.8B-Chat (few-shot)\",\"HPLT\\u002fgpt-7b-nordic-prerelease (few-shot)\",\"AI-Sweden-Models\\u002fgpt-sw3-356m (few-shot)\",\"RuterNorway\\u002fLlama-2-7b-chat-norwegian (few-shot)\",\"mhenrichsen\\u002fdanskgpt-tiny (few-shot)\",\"Qwen\\u002fQwen1.5-0.5B-Chat (few-shot)\",\"allenai\\u002fOLMo-1B (few-shot)\",\"Qwen\\u002fQwen1.5-0.5B (few-shot)\",\"NbAiLab\\u002fnb-gpt-j-6B-v2 (few-shot)\",\"AI-Sweden-Models\\u002fgpt-sw3-126m-instruct (few-shot)\",\"NbAiLab\\u002fnb-gpt-j-6B@sharded (few-shot)\",\"AI-Sweden-Models\\u002fgpt-sw3-126m (few-shot)\",\"RJuro\\u002fkanelsnegl-v0.1 (few-shot)\",\"RJuro\\u002fkanelsnegl-v0.2 (few-shot)\",\"ai-forever\\u002fmGPT (few-shot)\",\"peter-sk\\u002fgpt-neox-da (few-shot)\"],\"legendgroup\":\"True\",\"marker\":{\"color\":\"#636efa\",\"symbol\":\"circle\"},\"mode\":\"markers\",\"name\":\"True\",\"orientation\":\"v\",\"showlegend\":true,\"x\":[-14.248276710510254,-11.125656127929688,-11.232332229614258,11.958745956420898,11.687273025512695,11.303662300109863,11.630056381225586,12.18342113494873,12.188905715942383,12.39162826538086,11.670646667480469,11.190752029418945,11.173144340515137,11.283985137939453,11.783416748046875,11.19385051727295,11.374305725097656,11.37441349029541,10.814895629882812,11.531891822814941,10.5870943069458,10.368939399719238,10.389811515808105,9.438815116882324,11.051297187805176,11.111607551574707,10.871252059936523,9.444497108459473,9.668204307556152,9.893458366394043,9.890307426452637,9.83184814453125,9.309292793273926,8.714920043945312,9.310624122619629,8.719520568847656,8.527234077453613,7.207178592681885,6.750359058380127,7.380820274353027,8.2071533203125,7.40321159362793,8.568977355957031,6.526486873626709,7.868165016174316,7.59224271774292,6.007115364074707,8.218663215637207,4.203693389892578,3.987248420715332,4.233342170715332,4.699669361114502,4.33896541595459,3.6024951934814453,3.858957290649414,3.403346300125122,3.5114102363586426,2.9987614154815674,3.2567336559295654,3.0237953662872314,2.9032528400421143,3.0120229721069336,2.8846917152404785,2.57397723197937,1.9010642766952515,0.9545477628707886,1.5575511455535889,0.9972352385520935,1.4718838930130005,0.25723859667778015,0.9210397005081177,-0.21651557087898254,0.20440338551998138,-0.4541130065917969,-0.45772454142570496,-0.16817402839660645,-0.327543705701828],\"xaxis\":\"x\",\"y\":[7.29203462600708,6.906607151031494,6.881507396697998,-3.7604055404663086,-5.0996575355529785,-4.419171333312988,-5.950384616851807,-5.441359043121338,-5.406282424926758,-4.5669989585876465,-4.260009288787842,-4.303218364715576,-4.281172275543213,-3.395230770111084,-3.562913179397583,-5.56410551071167,-2.6114230155944824,-2.611447811126709,-5.18353271484375,-4.749557971954346,-4.595795154571533,-5.2756242752075195,-5.329695224761963,-5.511083126068115,-2.709469795227051,-6.5752058029174805,-6.2046661376953125,-5.197940349578857,-2.7600631713867188,-4.47600793838501,-3.773472547531128,-3.445725440979004,-4.422344207763672,-5.332284450531006,-4.749659061431885,-4.29748010635376,-5.307166576385498,-6.818146228790283,-4.898075103759766,-5.376414775848389,-5.061875820159912,-5.343730926513672,-6.102005958557129,-5.452485084533691,-5.5996904373168945,-6.131590366363525,-5.3660736083984375,-6.95454216003418,-6.261666774749756,-3.5831737518310547,-5.852700710296631,-5.7066426277160645,-5.186261177062988,-6.254166126251221,-5.238911151885986,-4.490686416625977,-6.0421648025512695,-4.714025020599365,-5.523288249969482,-5.763840675354004,-5.422336101531982,-4.963988780975342,-6.480452060699463,-4.559010028839111,-5.063254356384277,-4.174942493438721,-5.055493354797363,-4.32216739654541,-4.731975555419922,-5.201456069946289,-4.760019302368164,-5.104106426239014,-5.50722599029541,-5.137153148651123,-5.341196537017822,-5.873266220092773,-5.818079471588135],\"yaxis\":\"y\",\"type\":\"scatter\"},{\"hovertemplate\":\"\\u003cb\\u003e%{hovertext}\\u003c\\u002fb\\u003e\\u003cbr\\u003e\\u003cbr\\u003eGenerative=False\\u003cbr\\u003ex=%{x}\\u003cbr\\u003ey=%{y}\\u003cextra\\u003e\\u003c\\u002fextra\\u003e\",\"hovertext\":[\"AI-Sweden-Models\\u002froberta-large-1160k\",\"ltg\\u002fnorbert3-large\",\"AI-Sweden-Models\\u002froberta-large-1350k\",\"danish-foundation-models\\u002fencoder-large-v1\",\"KennethEnevoldsen\\u002fdfm-sentence-encoder-large-1\",\"KennethEnevoldsen\\u002fdfm-sentence-encoder-large-2\",\"google\\u002frembert\",\"intfloat\\u002fmultilingual-e5-large\",\"NbAiLab\\u002fnb-roberta-base-scandi\",\"microsoft\\u002fmdeberta-v3-base\",\"NbAiLab\\u002fnb-roberta-base-scandi-1e4\",\"ltg\\u002fnorbert3-base\",\"sentence-transformers\\u002fuse-cmlm-multilingual\",\"FacebookAI\\u002fxlm-roberta-large\",\"KennethEnevoldsen\\u002fdfm-sentence-encoder-medium-3\",\"vesteinn\\u002fScandiBERT-no-faroese\",\"NbAiLab\\u002fnb-bert-base\",\"vesteinn\\u002fFoBERT\",\"pere\\u002froberta-debug-8\",\"pere\\u002froberta-base-exp-8\",\"setu4993\\u002fLaBSE\",\"pere\\u002froberta-debug-32\",\"pere\\u002froberta-base-exp-32\",\"AI-Sweden-Models\\u002fbert-large-nordic-pile-1M-steps\",\"pere\\u002froberta-base-exp-32B\",\"vesteinn\\u002fDanskBERT\",\"ltg\\u002fnorbert3-small\",\"KBLab\\u002fmegatron-bert-large-swedish-cased-165k\",\"AI-Nordics\\u002fbert-large-swedish-cased\",\"cardiffnlp\\u002ftwitter-xlm-roberta-base\",\"KBLab\\u002fmegatron-bert-large-swedish-cased-110k\",\"microsoft\\u002finfoxlm-large\",\"google-bert\\u002fbert-base-multilingual-uncased\",\"KB\\u002fbert-base-swedish-cased\",\"KBLab\\u002fmegatron-bert-base-swedish-cased-600k\",\"Geotrend\\u002fbert-base-en-fr-de-no-da-cased\",\"google-bert\\u002fbert-base-multilingual-cased\",\"Geotrend\\u002fbert-base-25lang-cased\",\"Geotrend\\u002fbert-base-en-no-cased\",\"KBLab\\u002fbert-base-swedish-cased\",\"microsoft\\u002fxlm-align-base\",\"facebook\\u002fxlm-v-base\",\"Geotrend\\u002fbert-base-en-da-cased\",\"jonfd\\u002felectra-small-nordic\",\"Geotrend\\u002fbert-base-da-cased\",\"microsoft\\u002finfoxlm-base\",\"KBLab\\u002fmegatron-bert-base-swedish-cased-125k\",\"clips\\u002fmfaq\",\"jhu-clsp\\u002fbernice\",\"flax-community\\u002fnordic-roberta-wiki\",\"DDSC\\u002froberta-base-scandinavian\",\"KBLab\\u002fbert-base-swedish-cased-new\",\"sentence-transformers\\u002fparaphrase-xlm-r-multilingual-v1\",\"sentence-transformers\\u002fparaphrase-multilingual-mpnet-base-v2\",\"flax-community\\u002fswe-roberta-wiki-oscar\",\"sentence-transformers\\u002fstsb-xlm-r-multilingual\",\"distilbert\\u002fdistilbert-base-multilingual-cased\",\"Geotrend\\u002fdistilbert-base-25lang-cased\",\"Geotrend\\u002fdistilbert-base-en-fr-de-no-da-cased\",\"Geotrend\\u002fdistilbert-base-en-no-cased\",\"Geotrend\\u002fdistilbert-base-en-da-cased\",\"Twitter\\u002ftwhin-bert-large\",\"Geotrend\\u002fdistilbert-base-da-cased\",\"sarnikowski\\u002fconvbert-medium-small-da-cased\",\"Addedk\\u002fkbbert-distilled-cased\",\"danish-foundation-models\\u002fencoder-medium-v1\",\"sentence-transformers\\u002fparaphrase-multilingual-MiniLM-L12-v2\",\"jannikskytt\\u002fMeDa-Bert\",\"DDSC\\u002froberta-base-danish\",\"Maltehb\\u002fdanish-bert-botxo\",\"ltg\\u002fnorbert3-xs\",\"birgermoell\\u002froberta-swedish-scandi\",\"Addedk\\u002fmbert-swedish-distilled-cased\",\"sarnikowski\\u002felectra-small-discriminator-da-256-cased\",\"sarnikowski\\u002fconvbert-small-da-cased\",\"dbmdz\\u002fbert-base-historic-multilingual-cased\",\"sentence-transformers\\u002fdistilbert-multilingual-nli-stsb-quora-ranking\",\"sentence-transformers\\u002fquora-distilbert-multilingual\",\"Maltehb\\u002faelaectra-danish-electra-small-cased\",\"dbmdz\\u002fbert-medium-historic-multilingual-cased\",\"Maltehb\\u002faelaectra-danish-electra-small-uncased\",\"jjzha\\u002fdajobbert-base-uncased\",\"sentence-transformers\\u002fdistiluse-base-multilingual-cased-v1\",\"KBLab\\u002falbert-base-swedish-cased-alpha\",\"dbmdz\\u002fbert-mini-historic-multilingual-cased\",\"jannesg\\u002fbertsson\",\"alexanderfalk\\u002fdanbert-small-cased\",\"3ebdola\\u002fDialectal-Arabic-XLM-R-Base\",\"RabotaRu\\u002fHRBert-mini\",\"fresh-xlm-roberta-base\",\"fresh-electra-small\"],\"legendgroup\":\"False\",\"marker\":{\"color\":\"#EF553B\",\"symbol\":\"circle\"},\"mode\":\"markers\",\"name\":\"False\",\"orientation\":\"v\",\"showlegend\":true,\"x\":[-14.388649940490723,-14.741692543029785,-14.295145988464355,-13.29562759399414,-13.68852710723877,-13.601778984069824,-13.259023666381836,-12.082258224487305,-14.213951110839844,-13.541964530944824,-14.232028007507324,-12.960465431213379,-12.27161693572998,-11.863602638244629,-14.171266555786133,-13.824151992797852,-13.923418998718262,-13.533727645874023,-13.454097747802734,-13.148120880126953,-12.160070419311523,-13.542884826660156,-12.509566307067871,-8.93136978149414,-11.83039665222168,-10.735196113586426,-11.940031051635742,-7.864607334136963,-8.122261047363281,-10.231191635131836,-7.562225818634033,-0.388353168964386,-8.989646911621094,-7.517490386962891,-7.251712799072266,-7.838746547698975,-8.207527160644531,-8.143688201904297,-7.969830513000488,-7.492029666900635,-0.709873378276825,-8.21828842163086,-7.637049674987793,-12.70422077178955,-7.42551326751709,-0.7698405385017395,-6.787588596343994,-4.329028129577637,-5.362529277801514,-5.927723407745361,-4.95025110244751,-6.268472194671631,-4.705723762512207,-4.353011608123779,-5.912115573883057,-4.526832103729248,-6.293135166168213,-5.933192253112793,-6.1185126304626465,-6.147798538208008,-5.895204067230225,-2.2724449634552,-5.852363586425781,-2.858243942260742,-5.346815586090088,-1.9270564317703247,-4.079791069030762,-1.9140995740890503,-1.9970905780792236,-2.1577374935150146,-2.0072264671325684,-5.186670780181885,-4.813103199005127,-2.6127588748931885,-2.654771566390991,-2.8573617935180664,-2.979829788208008,-2.990048885345459,-2.284303903579712,-2.7759385108947754,-1.9565129280090332,-1.9001882076263428,-1.6305569410324097,-1.8319789171218872,-1.607905387878418,-1.3124866485595703,-0.3374169170856476,-1.211538553237915,0.02292744815349579,0.041214488446712494,-0.14079558849334717],\"xaxis\":\"x\",\"y\":[6.6033501625061035,6.318277835845947,6.579272270202637,6.840478420257568,6.616555690765381,6.716814041137695,6.4915008544921875,6.729238510131836,5.560737133026123,6.097458362579346,5.3687214851379395,5.717757701873779,6.30996036529541,6.175070285797119,5.052519798278809,5.751938819885254,4.846951484680176,5.444126129150391,5.295848369598389,5.019891738891602,5.865371227264404,4.869386196136475,4.95754337310791,6.680887222290039,4.8804545402526855,5.103525638580322,4.854027271270752,7.091922760009766,6.757590293884277,5.19111967086792,7.20613956451416,2.62233829498291,4.711464881896973,6.618199825286865,7.011990070343018,4.270253658294678,4.767710208892822,4.543987274169922,4.238122940063477,6.620692729949951,2.610902786254883,3.525834321975708,4.38798189163208,8.306981086730957,4.262307167053223,2.589350461959839,6.862762451171875,4.434978485107422,5.286857604980469,5.274630069732666,2.9621620178222656,7.309539794921875,5.01295280456543,4.81846809387207,6.542779445648193,4.929470539093018,4.243983268737793,3.9658820629119873,4.040200233459473,4.076857566833496,3.9056427478790283,2.4570722579956055,4.095280647277832,5.794073104858398,6.405294895172119,5.1830573081970215,4.351236343383789,5.142480373382568,2.28656005859375,5.1655073165893555,2.4052135944366455,6.44170618057251,3.826547622680664,6.027702331542969,5.697905540466309,1.4253243207931519,2.4953742027282715,2.4982917308807373,6.353168964385986,1.4362834692001343,6.230346202850342,4.897758960723877,-0.2680528461933136,-0.1844833493232727,-0.36435699462890625,-0.8914915323257446,-2.757843017578125,-1.1263833045959473,-3.449179172515869,-3.9478721618652344,-4.247901439666748],\"yaxis\":\"y\",\"type\":\"scatter\"}],                        {\"template\":{\"data\":{\"histogram2dcontour\":[{\"type\":\"histogram2dcontour\",\"colorbar\":{\"outlinewidth\":0,\"ticks\":\"\"},\"colorscale\":[[0.0,\"#0d0887\"],[0.1111111111111111,\"#46039f\"],[0.2222222222222222,\"#7201a8\"],[0.3333333333333333,\"#9c179e\"],[0.4444444444444444,\"#bd3786\"],[0.5555555555555556,\"#d8576b\"],[0.6666666666666666,\"#ed7953\"],[0.7777777777777778,\"#fb9f3a\"],[0.8888888888888888,\"#fdca26\"],[1.0,\"#f0f921\"]]}],\"choropleth\":[{\"type\":\"choropleth\",\"colorbar\":{\"outlinewidth\":0,\"ticks\":\"\"}}],\"histogram2d\":[{\"type\":\"histogram2d\",\"colorbar\":{\"outlinewidth\":0,\"ticks\":\"\"},\"colorscale\":[[0.0,\"#0d0887\"],[0.1111111111111111,\"#46039f\"],[0.2222222222222222,\"#7201a8\"],[0.3333333333333333,\"#9c179e\"],[0.4444444444444444,\"#bd3786\"],[0.5555555555555556,\"#d8576b\"],[0.6666666666666666,\"#ed7953\"],[0.7777777777777778,\"#fb9f3a\"],[0.8888888888888888,\"#fdca26\"],[1.0,\"#f0f921\"]]}],\"heatmap\":[{\"type\":\"heatmap\",\"colorbar\":{\"outlinewidth\":0,\"ticks\":\"\"},\"colorscale\":[[0.0,\"#0d0887\"],[0.1111111111111111,\"#46039f\"],[0.2222222222222222,\"#7201a8\"],[0.3333333333333333,\"#9c179e\"],[0.4444444444444444,\"#bd3786\"],[0.5555555555555556,\"#d8576b\"],[0.6666666666666666,\"#ed7953\"],[0.7777777777777778,\"#fb9f3a\"],[0.8888888888888888,\"#fdca26\"],[1.0,\"#f0f921\"]]}],\"heatmapgl\":[{\"type\":\"heatmapgl\",\"colorbar\":{\"outlinewidth\":0,\"ticks\":\"\"},\"colorscale\":[[0.0,\"#0d0887\"],[0.1111111111111111,\"#46039f\"],[0.2222222222222222,\"#7201a8\"],[0.3333333333333333,\"#9c179e\"],[0.4444444444444444,\"#bd3786\"],[0.5555555555555556,\"#d8576b\"],[0.6666666666666666,\"#ed7953\"],[0.7777777777777778,\"#fb9f3a\"],[0.8888888888888888,\"#fdca26\"],[1.0,\"#f0f921\"]]}],\"contourcarpet\":[{\"type\":\"contourcarpet\",\"colorbar\":{\"outlinewidth\":0,\"ticks\":\"\"}}],\"contour\":[{\"type\":\"contour\",\"colorbar\":{\"outlinewidth\":0,\"ticks\":\"\"},\"colorscale\":[[0.0,\"#0d0887\"],[0.1111111111111111,\"#46039f\"],[0.2222222222222222,\"#7201a8\"],[0.3333333333333333,\"#9c179e\"],[0.4444444444444444,\"#bd3786\"],[0.5555555555555556,\"#d8576b\"],[0.6666666666666666,\"#ed7953\"],[0.7777777777777778,\"#fb9f3a\"],[0.8888888888888888,\"#fdca26\"],[1.0,\"#f0f921\"]]}],\"surface\":[{\"type\":\"surface\",\"colorbar\":{\"outlinewidth\":0,\"ticks\":\"\"},\"colorscale\":[[0.0,\"#0d0887\"],[0.1111111111111111,\"#46039f\"],[0.2222222222222222,\"#7201a8\"],[0.3333333333333333,\"#9c179e\"],[0.4444444444444444,\"#bd3786\"],[0.5555555555555556,\"#d8576b\"],[0.6666666666666666,\"#ed7953\"],[0.7777777777777778,\"#fb9f3a\"],[0.8888888888888888,\"#fdca26\"],[1.0,\"#f0f921\"]]}],\"mesh3d\":[{\"type\":\"mesh3d\",\"colorbar\":{\"outlinewidth\":0,\"ticks\":\"\"}}],\"scatter\":[{\"fillpattern\":{\"fillmode\":\"overlay\",\"size\":10,\"solidity\":0.2},\"type\":\"scatter\"}],\"parcoords\":[{\"type\":\"parcoords\",\"line\":{\"colorbar\":{\"outlinewidth\":0,\"ticks\":\"\"}}}],\"scatterpolargl\":[{\"type\":\"scatterpolargl\",\"marker\":{\"colorbar\":{\"outlinewidth\":0,\"ticks\":\"\"}}}],\"bar\":[{\"error_x\":{\"color\":\"#2a3f5f\"},\"error_y\":{\"color\":\"#2a3f5f\"},\"marker\":{\"line\":{\"color\":\"#E5ECF6\",\"width\":0.5},\"pattern\":{\"fillmode\":\"overlay\",\"size\":10,\"solidity\":0.2}},\"type\":\"bar\"}],\"scattergeo\":[{\"type\":\"scattergeo\",\"marker\":{\"colorbar\":{\"outlinewidth\":0,\"ticks\":\"\"}}}],\"scatterpolar\":[{\"type\":\"scatterpolar\",\"marker\":{\"colorbar\":{\"outlinewidth\":0,\"ticks\":\"\"}}}],\"histogram\":[{\"marker\":{\"pattern\":{\"fillmode\":\"overlay\",\"size\":10,\"solidity\":0.2}},\"type\":\"histogram\"}],\"scattergl\":[{\"type\":\"scattergl\",\"marker\":{\"colorbar\":{\"outlinewidth\":0,\"ticks\":\"\"}}}],\"scatter3d\":[{\"type\":\"scatter3d\",\"line\":{\"colorbar\":{\"outlinewidth\":0,\"ticks\":\"\"}},\"marker\":{\"colorbar\":{\"outlinewidth\":0,\"ticks\":\"\"}}}],\"scattermapbox\":[{\"type\":\"scattermapbox\",\"marker\":{\"colorbar\":{\"outlinewidth\":0,\"ticks\":\"\"}}}],\"scatterternary\":[{\"type\":\"scatterternary\",\"marker\":{\"colorbar\":{\"outlinewidth\":0,\"ticks\":\"\"}}}],\"scattercarpet\":[{\"type\":\"scattercarpet\",\"marker\":{\"colorbar\":{\"outlinewidth\":0,\"ticks\":\"\"}}}],\"carpet\":[{\"aaxis\":{\"endlinecolor\":\"#2a3f5f\",\"gridcolor\":\"white\",\"linecolor\":\"white\",\"minorgridcolor\":\"white\",\"startlinecolor\":\"#2a3f5f\"},\"baxis\":{\"endlinecolor\":\"#2a3f5f\",\"gridcolor\":\"white\",\"linecolor\":\"white\",\"minorgridcolor\":\"white\",\"startlinecolor\":\"#2a3f5f\"},\"type\":\"carpet\"}],\"table\":[{\"cells\":{\"fill\":{\"color\":\"#EBF0F8\"},\"line\":{\"color\":\"white\"}},\"header\":{\"fill\":{\"color\":\"#C8D4E3\"},\"line\":{\"color\":\"white\"}},\"type\":\"table\"}],\"barpolar\":[{\"marker\":{\"line\":{\"color\":\"#E5ECF6\",\"width\":0.5},\"pattern\":{\"fillmode\":\"overlay\",\"size\":10,\"solidity\":0.2}},\"type\":\"barpolar\"}],\"pie\":[{\"automargin\":true,\"type\":\"pie\"}]},\"layout\":{\"autotypenumbers\":\"strict\",\"colorway\":[\"#636efa\",\"#EF553B\",\"#00cc96\",\"#ab63fa\",\"#FFA15A\",\"#19d3f3\",\"#FF6692\",\"#B6E880\",\"#FF97FF\",\"#FECB52\"],\"font\":{\"color\":\"#2a3f5f\"},\"hovermode\":\"closest\",\"hoverlabel\":{\"align\":\"left\"},\"paper_bgcolor\":\"white\",\"plot_bgcolor\":\"#E5ECF6\",\"polar\":{\"bgcolor\":\"#E5ECF6\",\"angularaxis\":{\"gridcolor\":\"white\",\"linecolor\":\"white\",\"ticks\":\"\"},\"radialaxis\":{\"gridcolor\":\"white\",\"linecolor\":\"white\",\"ticks\":\"\"}},\"ternary\":{\"bgcolor\":\"#E5ECF6\",\"aaxis\":{\"gridcolor\":\"white\",\"linecolor\":\"white\",\"ticks\":\"\"},\"baxis\":{\"gridcolor\":\"white\",\"linecolor\":\"white\",\"ticks\":\"\"},\"caxis\":{\"gridcolor\":\"white\",\"linecolor\":\"white\",\"ticks\":\"\"}},\"coloraxis\":{\"colorbar\":{\"outlinewidth\":0,\"ticks\":\"\"}},\"colorscale\":{\"sequential\":[[0.0,\"#0d0887\"],[0.1111111111111111,\"#46039f\"],[0.2222222222222222,\"#7201a8\"],[0.3333333333333333,\"#9c179e\"],[0.4444444444444444,\"#bd3786\"],[0.5555555555555556,\"#d8576b\"],[0.6666666666666666,\"#ed7953\"],[0.7777777777777778,\"#fb9f3a\"],[0.8888888888888888,\"#fdca26\"],[1.0,\"#f0f921\"]],\"sequentialminus\":[[0.0,\"#0d0887\"],[0.1111111111111111,\"#46039f\"],[0.2222222222222222,\"#7201a8\"],[0.3333333333333333,\"#9c179e\"],[0.4444444444444444,\"#bd3786\"],[0.5555555555555556,\"#d8576b\"],[0.6666666666666666,\"#ed7953\"],[0.7777777777777778,\"#fb9f3a\"],[0.8888888888888888,\"#fdca26\"],[1.0,\"#f0f921\"]],\"diverging\":[[0,\"#8e0152\"],[0.1,\"#c51b7d\"],[0.2,\"#de77ae\"],[0.3,\"#f1b6da\"],[0.4,\"#fde0ef\"],[0.5,\"#f7f7f7\"],[0.6,\"#e6f5d0\"],[0.7,\"#b8e186\"],[0.8,\"#7fbc41\"],[0.9,\"#4d9221\"],[1,\"#276419\"]]},\"xaxis\":{\"gridcolor\":\"white\",\"linecolor\":\"white\",\"ticks\":\"\",\"title\":{\"standoff\":15},\"zerolinecolor\":\"white\",\"automargin\":true,\"zerolinewidth\":2},\"yaxis\":{\"gridcolor\":\"white\",\"linecolor\":\"white\",\"ticks\":\"\",\"title\":{\"standoff\":15},\"zerolinecolor\":\"white\",\"automargin\":true,\"zerolinewidth\":2},\"scene\":{\"xaxis\":{\"backgroundcolor\":\"#E5ECF6\",\"gridcolor\":\"white\",\"linecolor\":\"white\",\"showbackground\":true,\"ticks\":\"\",\"zerolinecolor\":\"white\",\"gridwidth\":2},\"yaxis\":{\"backgroundcolor\":\"#E5ECF6\",\"gridcolor\":\"white\",\"linecolor\":\"white\",\"showbackground\":true,\"ticks\":\"\",\"zerolinecolor\":\"white\",\"gridwidth\":2},\"zaxis\":{\"backgroundcolor\":\"#E5ECF6\",\"gridcolor\":\"white\",\"linecolor\":\"white\",\"showbackground\":true,\"ticks\":\"\",\"zerolinecolor\":\"white\",\"gridwidth\":2}},\"shapedefaults\":{\"line\":{\"color\":\"#2a3f5f\"}},\"annotationdefaults\":{\"arrowcolor\":\"#2a3f5f\",\"arrowhead\":0,\"arrowwidth\":1},\"geo\":{\"bgcolor\":\"white\",\"landcolor\":\"#E5ECF6\",\"subunitcolor\":\"white\",\"showland\":true,\"showlakes\":true,\"lakecolor\":\"white\"},\"title\":{\"x\":0.05},\"mapbox\":{\"style\":\"light\"}}},\"xaxis\":{\"anchor\":\"y\",\"domain\":[0.0,1.0],\"title\":{\"text\":\"x\"}},\"yaxis\":{\"anchor\":\"x\",\"domain\":[0.0,1.0],\"title\":{\"text\":\"y\"}},\"legend\":{\"title\":{\"text\":\"Generative\"},\"tracegroupgap\":0},\"title\":{\"text\":\"T-SNE Projection of Model Performance\"},\"height\":500,\"width\":650},                        {\"responsive\": true}                    ).then(function(){\n",
       "                            \n",
       "var gd = document.getElementById('c3f89ae4-8c27-4709-a5b1-a06a025a6708');\n",
       "var x = new MutationObserver(function (mutations, observer) {{\n",
       "        var display = window.getComputedStyle(gd).display;\n",
       "        if (!display || display === 'none') {{\n",
       "            console.log([gd, 'removed!']);\n",
       "            Plotly.purge(gd);\n",
       "            observer.disconnect();\n",
       "        }}\n",
       "}});\n",
       "\n",
       "// Listen for the removal of the full notebook cells\n",
       "var notebookContainer = gd.closest('#notebook-container');\n",
       "if (notebookContainer) {{\n",
       "    x.observe(notebookContainer, {childList: true});\n",
       "}}\n",
       "\n",
       "// Listen for the clearing of the current output cell\n",
       "var outputEl = gd.closest('.output');\n",
       "if (outputEl) {{\n",
       "    x.observe(outputEl, {childList: true});\n",
       "}}\n",
       "\n",
       "                        })                };                });            </script>        </div>"
      ]
     },
     "metadata": {},
     "output_type": "display_data"
    }
   ],
   "source": [
    "tsne = TSNE(n_components=2)\n",
    "tsne_projection = tsne.fit_transform(df.drop(columns=\"generative\"))\n",
    "px.scatter(\n",
    "    x=tsne_projection[:, 0], \n",
    "    y=tsne_projection[:, 1], \n",
    "    color=df.generative,\n",
    "    hover_name=df.index.tolist(),\n",
    "    width=650,\n",
    "    height=500,\n",
    "    title=\"T-SNE Projection of Model Performance\",\n",
    "    labels=dict(color=\"Generative\"),\n",
    ")"
   ]
  },
  {
   "cell_type": "code",
   "execution_count": 83,
   "id": "784afb6e-a03a-4395-8c85-625a809d56a2",
   "metadata": {},
   "outputs": [
    {
     "name": "stdout",
     "output_type": "stream",
     "text": [
      "Using 84 neighbours.\n"
     ]
    },
    {
     "data": {
      "application/vnd.plotly.v1+json": {
       "config": {
        "plotlyServerURL": "https://plot.ly"
       },
       "data": [
        {
         "hovertemplate": "<b>%{hovertext}</b><br><br>Generative=True<br>x=%{x}<br>y=%{y}<extra></extra>",
         "hovertext": [
          "gpt-4-0613 (few-shot, val)",
          "gpt-3.5-turbo-0613 (few-shot)",
          "gpt-3.5-turbo-0613 (few-shot, val)",
          "RJuro/munin-neuralbeagle-7b (few-shot, val)",
          "timpal0l/BeagleCatMunin (few-shot, val)",
          "birgermoell/Flashback-Bellman (few-shot, val)",
          "merge-crew/da-sv-dare-ties-density-0.9 (few-shot, val)",
          "merge-crew/da-sv-slerp (few-shot, val)",
          "merge-crew/da-sv-task-arithmetic (few-shot, val)",
          "mhenrichsen/danskgpt-chat-v2.1 (few-shot)",
          "Mabeck/Heidrun-Mistral-7B-chat (few-shot)",
          "birgermoell/BeagleCatMunin-Flashback-Bellman (few-shot, val)",
          "birgermoell/Rapid-Cycling (few-shot, val)",
          "timpal0l/BeagleCatMunin2 (few-shot, val)",
          "mlabonne/NeuralBeagle14-7B (few-shot, val)",
          "merge-crew/da-sv-ties (few-shot, val)",
          "birgermoell/Munin-NeuralBeagle-NorskGPT (few-shot, val)",
          "birgermoell/WestLake-Munin-Cat-NorskGPT (few-shot, val)",
          "merge-crew/da-sv-dare-ties-density-0.6 (few-shot, val)",
          "RJuro/munin-neuralbeagle-SkoleGPTOpenOrca-7b (few-shot, val)",
          "timpal0l/tyr (few-shot, val)",
          "Mabeck/Heidrun-Mistral-7B-base (few-shot)",
          "ThatsGroes/munin-SkoleGPTOpenOrca-7b-16bit (few-shot)",
          "KennethEnevoldsen/munin_mistral-7b (few-shot, val)",
          "bineric/NorskGPT-Mistral-7b (few-shot)",
          "danish-foundation-models/munin-7b-v0.1dev0 (few-shot)",
          "timpal0l/Mistral-7B-v0.1-flashback-v2 (few-shot)",
          "mhenrichsen/hestenettetLM (few-shot)",
          "birgermoell/NeuralBeagle-Flashback (few-shot, val)",
          "RuterNorway/Llama-2-13b-chat-norwegian (few-shot)",
          "mistralai/Mistral-7B-Instruct-v0.2 (few-shot)",
          "neph1/bellman-7b-mistral-instruct-v0.2 (few-shot)",
          "mistralai/Mistral-7B-v0.1 (few-shot)",
          "occiglot/occiglot-7b-eu5-instruct (few-shot)",
          "mistralai/Mistral-7B-Instruct-v0.1 (few-shot)",
          "bineric/NorskGPT-Llama-7B-v0.1 (few-shot)",
          "occiglot/occiglot-7b-eu5 (few-shot)",
          "timpal0l/njord-alpha (few-shot)",
          "danish-foundation-models/munin-7b-alpha (few-shot)",
          "merge-crew/da-sv-dare-ties-density-0.3 (few-shot, val)",
          "meta-llama/Llama-2-7b-chat-hf (few-shot)",
          "tollefj/nordavind-7b-instruct-warm (few-shot)",
          "timpal0l/Mistral-7B-v0.1-flashback-v2-instruct (few-shot)",
          "AI-Sweden-Models/gpt-sw3-20b (few-shot)",
          "norallm/normistral-7b-warm (few-shot)",
          "meta-llama/Llama-2-7b-hf (few-shot)",
          "Qwen/Qwen1.5-4B-Chat (few-shot)",
          "01-ai/Yi-6B (few-shot)",
          "google/gemma-2b (few-shot)",
          "Qwen/Qwen1.5-4B (few-shot)",
          "AI-Sweden-Models/gpt-sw3-1.3b-instruct (few-shot)",
          "AI-Sweden-Models/gpt-sw3-6.7b-v2 (few-shot)",
          "AI-Sweden-Models/gpt-sw3-6.7b-v2-instruct (few-shot)",
          "AI-Sweden-Models/gpt-sw3-1.3b (few-shot)",
          "AI-Sweden-Models/gpt-sw3-6.7b (few-shot)",
          "google/gemma-2b-it (few-shot)",
          "norallm/normistral-7b-scratch (few-shot)",
          "mhenrichsen/danskgpt-tiny-chat (few-shot)",
          "NbAiLab/nb-gpt-j-6B-alpaca (few-shot)",
          "AI-Sweden-Models/gpt-sw3-356m-instruct (few-shot)",
          "Qwen/Qwen1.5-1.8B (few-shot)",
          "Qwen/Qwen1.5-1.8B-Chat (few-shot)",
          "HPLT/gpt-7b-nordic-prerelease (few-shot)",
          "AI-Sweden-Models/gpt-sw3-356m (few-shot)",
          "RuterNorway/Llama-2-7b-chat-norwegian (few-shot)",
          "mhenrichsen/danskgpt-tiny (few-shot)",
          "Qwen/Qwen1.5-0.5B-Chat (few-shot)",
          "allenai/OLMo-1B (few-shot)",
          "Qwen/Qwen1.5-0.5B (few-shot)",
          "NbAiLab/nb-gpt-j-6B-v2 (few-shot)",
          "AI-Sweden-Models/gpt-sw3-126m-instruct (few-shot)",
          "NbAiLab/nb-gpt-j-6B@sharded (few-shot)",
          "AI-Sweden-Models/gpt-sw3-126m (few-shot)",
          "RJuro/kanelsnegl-v0.1 (few-shot)",
          "RJuro/kanelsnegl-v0.2 (few-shot)",
          "ai-forever/mGPT (few-shot)",
          "peter-sk/gpt-neox-da (few-shot)"
         ],
         "legendgroup": "True",
         "marker": {
          "color": "#636efa",
          "symbol": "circle"
         },
         "mode": "markers",
         "name": "True",
         "orientation": "v",
         "showlegend": true,
         "type": "scatter",
         "x": [
          -3.8262991905212402,
          -5.110472679138184,
          -4.929562568664551,
          -10.830690383911133,
          -11.321354866027832,
          -11.188203811645508,
          -11.712965965270996,
          -11.311148643493652,
          -11.499432563781738,
          -11.137490272521973,
          -10.986527442932129,
          -11.046283721923828,
          -10.816071510314941,
          -10.697366714477539,
          -10.871975898742676,
          -11.61733627319336,
          -10.586638450622559,
          -10.609318733215332,
          -11.35319709777832,
          -11.346128463745117,
          -11.05907154083252,
          -11.485568046569824,
          -11.610871315002441,
          -11.776310920715332,
          -10.733704566955566,
          -11.542620658874512,
          -11.885332107543945,
          -12.081106185913086,
          -11.368914604187012,
          -12.000972747802734,
          -11.624550819396973,
          -11.189048767089844,
          -12.362377166748047,
          -12.079082489013672,
          -12.218832969665527,
          -11.999957084655762,
          -12.107110977172852,
          -12.572187423706055,
          -12.405370712280273,
          -12.66880989074707,
          -12.585803985595703,
          -12.562366485595703,
          -12.424641609191895,
          -12.393983840942383,
          -12.552009582519531,
          -12.409613609313965,
          -12.719200134277344,
          -12.199904441833496,
          -12.846395492553711,
          -12.332836151123047,
          -12.7626371383667,
          -12.567228317260742,
          -12.67110824584961,
          -13.029594421386719,
          -12.874950408935547,
          -12.501189231872559,
          -12.884889602661133,
          -12.598556518554688,
          -12.628114700317383,
          -12.954913139343262,
          -12.87033462524414,
          -12.680546760559082,
          -13.049361228942871,
          -12.649333000183105,
          -12.397594451904297,
          -12.000360488891602,
          -12.500199317932129,
          -11.98752212524414,
          -12.35004997253418,
          -11.892326354980469,
          -12.207271575927734,
          -11.623987197875977,
          -11.948690414428711,
          -11.65475845336914,
          -11.749319076538086,
          -11.863997459411621,
          -11.84121322631836
         ],
         "xaxis": "x",
         "y": [
          8.259305953979492,
          8.29674243927002,
          8.326976776123047,
          7.685665130615234,
          7.628047943115234,
          7.59699821472168,
          7.68496561050415,
          7.626498222351074,
          7.447388648986816,
          7.1726274490356445,
          7.789975643157959,
          7.389378070831299,
          7.376457214355469,
          7.61838436126709,
          7.453990459442139,
          7.97163724899292,
          7.943093299865723,
          7.913959980010986,
          7.805547714233398,
          7.346537113189697,
          7.248107433319092,
          7.894173622131348,
          7.594847202301025,
          8.488826751708984,
          8.036206245422363,
          8.061736106872559,
          7.775058746337891,
          8.300878524780273,
          8.27369499206543,
          8.153793334960938,
          8.126744270324707,
          8.371086120605469,
          8.114056587219238,
          8.660154342651367,
          8.05962085723877,
          8.38640308380127,
          8.715327262878418,
          8.605173110961914,
          9.085464477539062,
          8.8193359375,
          8.727953910827637,
          9.028739929199219,
          8.386039733886719,
          9.27315902709961,
          8.768020629882812,
          8.58685302734375,
          9.415974617004395,
          8.893765449523926,
          10.238311767578125,
          10.136381149291992,
          10.135993957519531,
          9.985993385314941,
          10.15662956237793,
          10.21517276763916,
          10.334671974182129,
          10.576010704040527,
          10.390192031860352,
          10.850983619689941,
          10.576394081115723,
          10.519062995910645,
          10.560525894165039,
          10.7568998336792,
          10.54002571105957,
          11.023100852966309,
          11.072808265686035,
          11.129764556884766,
          11.267680168151855,
          10.924225807189941,
          11.130783081054688,
          11.254911422729492,
          11.322813034057617,
          11.381650924682617,
          11.581159591674805,
          11.313484191894531,
          11.415595054626465,
          11.491500854492188,
          11.40686321258545
         ],
         "yaxis": "y"
        },
        {
         "hovertemplate": "<b>%{hovertext}</b><br><br>Generative=False<br>x=%{x}<br>y=%{y}<extra></extra>",
         "hovertext": [
          "AI-Sweden-Models/roberta-large-1160k",
          "ltg/norbert3-large",
          "AI-Sweden-Models/roberta-large-1350k",
          "danish-foundation-models/encoder-large-v1",
          "KennethEnevoldsen/dfm-sentence-encoder-large-1",
          "KennethEnevoldsen/dfm-sentence-encoder-large-2",
          "google/rembert",
          "intfloat/multilingual-e5-large",
          "NbAiLab/nb-roberta-base-scandi",
          "microsoft/mdeberta-v3-base",
          "NbAiLab/nb-roberta-base-scandi-1e4",
          "ltg/norbert3-base",
          "sentence-transformers/use-cmlm-multilingual",
          "FacebookAI/xlm-roberta-large",
          "KennethEnevoldsen/dfm-sentence-encoder-medium-3",
          "vesteinn/ScandiBERT-no-faroese",
          "NbAiLab/nb-bert-base",
          "vesteinn/FoBERT",
          "pere/roberta-debug-8",
          "pere/roberta-base-exp-8",
          "setu4993/LaBSE",
          "pere/roberta-debug-32",
          "pere/roberta-base-exp-32",
          "AI-Sweden-Models/bert-large-nordic-pile-1M-steps",
          "pere/roberta-base-exp-32B",
          "vesteinn/DanskBERT",
          "ltg/norbert3-small",
          "KBLab/megatron-bert-large-swedish-cased-165k",
          "AI-Nordics/bert-large-swedish-cased",
          "cardiffnlp/twitter-xlm-roberta-base",
          "KBLab/megatron-bert-large-swedish-cased-110k",
          "microsoft/infoxlm-large",
          "google-bert/bert-base-multilingual-uncased",
          "KB/bert-base-swedish-cased",
          "KBLab/megatron-bert-base-swedish-cased-600k",
          "Geotrend/bert-base-en-fr-de-no-da-cased",
          "google-bert/bert-base-multilingual-cased",
          "Geotrend/bert-base-25lang-cased",
          "Geotrend/bert-base-en-no-cased",
          "KBLab/bert-base-swedish-cased",
          "microsoft/xlm-align-base",
          "facebook/xlm-v-base",
          "Geotrend/bert-base-en-da-cased",
          "jonfd/electra-small-nordic",
          "Geotrend/bert-base-da-cased",
          "microsoft/infoxlm-base",
          "KBLab/megatron-bert-base-swedish-cased-125k",
          "clips/mfaq",
          "jhu-clsp/bernice",
          "flax-community/nordic-roberta-wiki",
          "DDSC/roberta-base-scandinavian",
          "KBLab/bert-base-swedish-cased-new",
          "sentence-transformers/paraphrase-xlm-r-multilingual-v1",
          "sentence-transformers/paraphrase-multilingual-mpnet-base-v2",
          "flax-community/swe-roberta-wiki-oscar",
          "sentence-transformers/stsb-xlm-r-multilingual",
          "distilbert/distilbert-base-multilingual-cased",
          "Geotrend/distilbert-base-25lang-cased",
          "Geotrend/distilbert-base-en-fr-de-no-da-cased",
          "Geotrend/distilbert-base-en-no-cased",
          "Geotrend/distilbert-base-en-da-cased",
          "Twitter/twhin-bert-large",
          "Geotrend/distilbert-base-da-cased",
          "sarnikowski/convbert-medium-small-da-cased",
          "Addedk/kbbert-distilled-cased",
          "danish-foundation-models/encoder-medium-v1",
          "sentence-transformers/paraphrase-multilingual-MiniLM-L12-v2",
          "jannikskytt/MeDa-Bert",
          "DDSC/roberta-base-danish",
          "Maltehb/danish-bert-botxo",
          "ltg/norbert3-xs",
          "birgermoell/roberta-swedish-scandi",
          "Addedk/mbert-swedish-distilled-cased",
          "sarnikowski/electra-small-discriminator-da-256-cased",
          "sarnikowski/convbert-small-da-cased",
          "dbmdz/bert-base-historic-multilingual-cased",
          "sentence-transformers/distilbert-multilingual-nli-stsb-quora-ranking",
          "sentence-transformers/quora-distilbert-multilingual",
          "Maltehb/aelaectra-danish-electra-small-cased",
          "dbmdz/bert-medium-historic-multilingual-cased",
          "Maltehb/aelaectra-danish-electra-small-uncased",
          "jjzha/dajobbert-base-uncased",
          "sentence-transformers/distiluse-base-multilingual-cased-v1",
          "KBLab/albert-base-swedish-cased-alpha",
          "dbmdz/bert-mini-historic-multilingual-cased",
          "jannesg/bertsson",
          "alexanderfalk/danbert-small-cased",
          "3ebdola/Dialectal-Arabic-XLM-R-Base",
          "RabotaRu/HRBert-mini",
          "fresh-xlm-roberta-base",
          "fresh-electra-small"
         ],
         "legendgroup": "False",
         "marker": {
          "color": "#EF553B",
          "symbol": "circle"
         },
         "mode": "markers",
         "name": "False",
         "orientation": "v",
         "showlegend": true,
         "type": "scatter",
         "x": [
          -3.688129186630249,
          -3.7734439373016357,
          -3.8297276496887207,
          -4.144693851470947,
          -3.9030652046203613,
          -4.102896690368652,
          -3.9063987731933594,
          -4.583366394042969,
          -3.8837332725524902,
          -3.8094587326049805,
          -3.7114014625549316,
          -4.172913074493408,
          -4.421426773071289,
          -4.628583908081055,
          -3.7134265899658203,
          -3.733611822128296,
          -4.0100603103637695,
          -3.49816632270813,
          -3.5546536445617676,
          -3.762253522872925,
          -4.559460639953613,
          -3.663268566131592,
          -4.290283679962158,
          -6.033740520477295,
          -4.676225185394287,
          -5.1623921394348145,
          -4.530594825744629,
          -6.530869007110596,
          -6.468377113342285,
          -5.404487133026123,
          -6.727208614349365,
          -8.920689582824707,
          -5.895115375518799,
          -6.633358955383301,
          -6.743682384490967,
          -6.248963832855225,
          -6.219569683074951,
          -6.334529399871826,
          -6.073521614074707,
          -6.634850025177002,
          -8.731801986694336,
          -6.274776935577393,
          -6.530653953552246,
          -3.8830978870391846,
          -6.504172325134277,
          -8.788419723510742,
          -7.045135021209717,
          -7.52894926071167,
          -7.00074577331543,
          -6.903852462768555,
          -7.337757110595703,
          -7.117423057556152,
          -7.26933479309082,
          -7.486772537231445,
          -7.331020355224609,
          -7.482974052429199,
          -6.948109149932861,
          -7.238578796386719,
          -7.181446552276611,
          -7.018401145935059,
          -7.074693202972412,
          -8.465517044067383,
          -7.105999946594238,
          -7.7432050704956055,
          -7.526665210723877,
          -8.266195297241211,
          -7.708886623382568,
          -8.209579467773438,
          -8.480010032653809,
          -8.150280952453613,
          -8.529744148254395,
          -7.746137619018555,
          -7.481412887573242,
          -7.795546054840088,
          -7.886757850646973,
          -8.35098934173584,
          -8.33039379119873,
          -8.749100685119629,
          -7.947578430175781,
          -8.421257019042969,
          -8.045722961425781,
          -8.396844863891602,
          -9.454971313476562,
          -9.394816398620605,
          -9.551915168762207,
          -9.814249038696289,
          -11.469036102294922,
          -9.780529975891113,
          -11.568193435668945,
          -11.621453285217285,
          -11.85400104522705
         ],
         "xaxis": "x",
         "y": [
          8.31002140045166,
          8.310131072998047,
          8.204998016357422,
          8.187446594238281,
          8.27787971496582,
          8.311635971069336,
          8.310518264770508,
          8.295257568359375,
          8.761469841003418,
          8.481545448303223,
          8.561397552490234,
          8.651472091674805,
          8.590331077575684,
          8.462981224060059,
          8.709539413452148,
          8.779244422912598,
          8.72983169555664,
          8.83724308013916,
          8.767892837524414,
          8.880060195922852,
          8.655840873718262,
          8.998764038085938,
          8.93252182006836,
          8.68803882598877,
          8.920215606689453,
          8.622299194335938,
          8.932348251342773,
          8.967216491699219,
          8.833935737609863,
          8.640153884887695,
          9.055939674377441,
          8.044108390808105,
          8.160164833068848,
          8.887564659118652,
          8.874534606933594,
          7.7660064697265625,
          8.022244453430176,
          7.963153839111328,
          7.918533802032471,
          8.691731452941895,
          8.09819507598877,
          8.15896987915039,
          7.721090316772461,
          9.08602523803711,
          7.718600749969482,
          8.196911811828613,
          8.775840759277344,
          8.118855476379395,
          8.333314895629883,
          8.203330039978027,
          8.09531307220459,
          8.863618850708008,
          8.188728332519531,
          8.364592552185059,
          8.728260040283203,
          8.246536254882812,
          7.780307292938232,
          7.745490550994873,
          7.591293811798096,
          7.607180595397949,
          7.538203239440918,
          8.401223182678223,
          7.762893199920654,
          7.4755859375,
          8.677864074707031,
          7.576623916625977,
          8.127519607543945,
          7.5612640380859375,
          8.333950996398926,
          7.706841945648193,
          8.328213691711426,
          8.705572128295898,
          7.880947113037109,
          7.2477617263793945,
          7.513123989105225,
          8.866876602172852,
          8.525904655456543,
          8.649810791015625,
          7.143061637878418,
          8.84624195098877,
          7.278572082519531,
          7.881262302398682,
          9.176117897033691,
          9.246373176574707,
          9.138476371765137,
          9.495039939880371,
          10.641497611999512,
          9.474984169006348,
          10.761178970336914,
          10.96401596069336,
          10.994916915893555
         ],
         "yaxis": "y"
        }
       ],
       "layout": {
        "height": 500,
        "legend": {
         "title": {
          "text": "Generative"
         },
         "tracegroupgap": 0
        },
        "template": {
         "data": {
          "bar": [
           {
            "error_x": {
             "color": "#2a3f5f"
            },
            "error_y": {
             "color": "#2a3f5f"
            },
            "marker": {
             "line": {
              "color": "#E5ECF6",
              "width": 0.5
             },
             "pattern": {
              "fillmode": "overlay",
              "size": 10,
              "solidity": 0.2
             }
            },
            "type": "bar"
           }
          ],
          "barpolar": [
           {
            "marker": {
             "line": {
              "color": "#E5ECF6",
              "width": 0.5
             },
             "pattern": {
              "fillmode": "overlay",
              "size": 10,
              "solidity": 0.2
             }
            },
            "type": "barpolar"
           }
          ],
          "carpet": [
           {
            "aaxis": {
             "endlinecolor": "#2a3f5f",
             "gridcolor": "white",
             "linecolor": "white",
             "minorgridcolor": "white",
             "startlinecolor": "#2a3f5f"
            },
            "baxis": {
             "endlinecolor": "#2a3f5f",
             "gridcolor": "white",
             "linecolor": "white",
             "minorgridcolor": "white",
             "startlinecolor": "#2a3f5f"
            },
            "type": "carpet"
           }
          ],
          "choropleth": [
           {
            "colorbar": {
             "outlinewidth": 0,
             "ticks": ""
            },
            "type": "choropleth"
           }
          ],
          "contour": [
           {
            "colorbar": {
             "outlinewidth": 0,
             "ticks": ""
            },
            "colorscale": [
             [
              0,
              "#0d0887"
             ],
             [
              0.1111111111111111,
              "#46039f"
             ],
             [
              0.2222222222222222,
              "#7201a8"
             ],
             [
              0.3333333333333333,
              "#9c179e"
             ],
             [
              0.4444444444444444,
              "#bd3786"
             ],
             [
              0.5555555555555556,
              "#d8576b"
             ],
             [
              0.6666666666666666,
              "#ed7953"
             ],
             [
              0.7777777777777778,
              "#fb9f3a"
             ],
             [
              0.8888888888888888,
              "#fdca26"
             ],
             [
              1,
              "#f0f921"
             ]
            ],
            "type": "contour"
           }
          ],
          "contourcarpet": [
           {
            "colorbar": {
             "outlinewidth": 0,
             "ticks": ""
            },
            "type": "contourcarpet"
           }
          ],
          "heatmap": [
           {
            "colorbar": {
             "outlinewidth": 0,
             "ticks": ""
            },
            "colorscale": [
             [
              0,
              "#0d0887"
             ],
             [
              0.1111111111111111,
              "#46039f"
             ],
             [
              0.2222222222222222,
              "#7201a8"
             ],
             [
              0.3333333333333333,
              "#9c179e"
             ],
             [
              0.4444444444444444,
              "#bd3786"
             ],
             [
              0.5555555555555556,
              "#d8576b"
             ],
             [
              0.6666666666666666,
              "#ed7953"
             ],
             [
              0.7777777777777778,
              "#fb9f3a"
             ],
             [
              0.8888888888888888,
              "#fdca26"
             ],
             [
              1,
              "#f0f921"
             ]
            ],
            "type": "heatmap"
           }
          ],
          "heatmapgl": [
           {
            "colorbar": {
             "outlinewidth": 0,
             "ticks": ""
            },
            "colorscale": [
             [
              0,
              "#0d0887"
             ],
             [
              0.1111111111111111,
              "#46039f"
             ],
             [
              0.2222222222222222,
              "#7201a8"
             ],
             [
              0.3333333333333333,
              "#9c179e"
             ],
             [
              0.4444444444444444,
              "#bd3786"
             ],
             [
              0.5555555555555556,
              "#d8576b"
             ],
             [
              0.6666666666666666,
              "#ed7953"
             ],
             [
              0.7777777777777778,
              "#fb9f3a"
             ],
             [
              0.8888888888888888,
              "#fdca26"
             ],
             [
              1,
              "#f0f921"
             ]
            ],
            "type": "heatmapgl"
           }
          ],
          "histogram": [
           {
            "marker": {
             "pattern": {
              "fillmode": "overlay",
              "size": 10,
              "solidity": 0.2
             }
            },
            "type": "histogram"
           }
          ],
          "histogram2d": [
           {
            "colorbar": {
             "outlinewidth": 0,
             "ticks": ""
            },
            "colorscale": [
             [
              0,
              "#0d0887"
             ],
             [
              0.1111111111111111,
              "#46039f"
             ],
             [
              0.2222222222222222,
              "#7201a8"
             ],
             [
              0.3333333333333333,
              "#9c179e"
             ],
             [
              0.4444444444444444,
              "#bd3786"
             ],
             [
              0.5555555555555556,
              "#d8576b"
             ],
             [
              0.6666666666666666,
              "#ed7953"
             ],
             [
              0.7777777777777778,
              "#fb9f3a"
             ],
             [
              0.8888888888888888,
              "#fdca26"
             ],
             [
              1,
              "#f0f921"
             ]
            ],
            "type": "histogram2d"
           }
          ],
          "histogram2dcontour": [
           {
            "colorbar": {
             "outlinewidth": 0,
             "ticks": ""
            },
            "colorscale": [
             [
              0,
              "#0d0887"
             ],
             [
              0.1111111111111111,
              "#46039f"
             ],
             [
              0.2222222222222222,
              "#7201a8"
             ],
             [
              0.3333333333333333,
              "#9c179e"
             ],
             [
              0.4444444444444444,
              "#bd3786"
             ],
             [
              0.5555555555555556,
              "#d8576b"
             ],
             [
              0.6666666666666666,
              "#ed7953"
             ],
             [
              0.7777777777777778,
              "#fb9f3a"
             ],
             [
              0.8888888888888888,
              "#fdca26"
             ],
             [
              1,
              "#f0f921"
             ]
            ],
            "type": "histogram2dcontour"
           }
          ],
          "mesh3d": [
           {
            "colorbar": {
             "outlinewidth": 0,
             "ticks": ""
            },
            "type": "mesh3d"
           }
          ],
          "parcoords": [
           {
            "line": {
             "colorbar": {
              "outlinewidth": 0,
              "ticks": ""
             }
            },
            "type": "parcoords"
           }
          ],
          "pie": [
           {
            "automargin": true,
            "type": "pie"
           }
          ],
          "scatter": [
           {
            "fillpattern": {
             "fillmode": "overlay",
             "size": 10,
             "solidity": 0.2
            },
            "type": "scatter"
           }
          ],
          "scatter3d": [
           {
            "line": {
             "colorbar": {
              "outlinewidth": 0,
              "ticks": ""
             }
            },
            "marker": {
             "colorbar": {
              "outlinewidth": 0,
              "ticks": ""
             }
            },
            "type": "scatter3d"
           }
          ],
          "scattercarpet": [
           {
            "marker": {
             "colorbar": {
              "outlinewidth": 0,
              "ticks": ""
             }
            },
            "type": "scattercarpet"
           }
          ],
          "scattergeo": [
           {
            "marker": {
             "colorbar": {
              "outlinewidth": 0,
              "ticks": ""
             }
            },
            "type": "scattergeo"
           }
          ],
          "scattergl": [
           {
            "marker": {
             "colorbar": {
              "outlinewidth": 0,
              "ticks": ""
             }
            },
            "type": "scattergl"
           }
          ],
          "scattermapbox": [
           {
            "marker": {
             "colorbar": {
              "outlinewidth": 0,
              "ticks": ""
             }
            },
            "type": "scattermapbox"
           }
          ],
          "scatterpolar": [
           {
            "marker": {
             "colorbar": {
              "outlinewidth": 0,
              "ticks": ""
             }
            },
            "type": "scatterpolar"
           }
          ],
          "scatterpolargl": [
           {
            "marker": {
             "colorbar": {
              "outlinewidth": 0,
              "ticks": ""
             }
            },
            "type": "scatterpolargl"
           }
          ],
          "scatterternary": [
           {
            "marker": {
             "colorbar": {
              "outlinewidth": 0,
              "ticks": ""
             }
            },
            "type": "scatterternary"
           }
          ],
          "surface": [
           {
            "colorbar": {
             "outlinewidth": 0,
             "ticks": ""
            },
            "colorscale": [
             [
              0,
              "#0d0887"
             ],
             [
              0.1111111111111111,
              "#46039f"
             ],
             [
              0.2222222222222222,
              "#7201a8"
             ],
             [
              0.3333333333333333,
              "#9c179e"
             ],
             [
              0.4444444444444444,
              "#bd3786"
             ],
             [
              0.5555555555555556,
              "#d8576b"
             ],
             [
              0.6666666666666666,
              "#ed7953"
             ],
             [
              0.7777777777777778,
              "#fb9f3a"
             ],
             [
              0.8888888888888888,
              "#fdca26"
             ],
             [
              1,
              "#f0f921"
             ]
            ],
            "type": "surface"
           }
          ],
          "table": [
           {
            "cells": {
             "fill": {
              "color": "#EBF0F8"
             },
             "line": {
              "color": "white"
             }
            },
            "header": {
             "fill": {
              "color": "#C8D4E3"
             },
             "line": {
              "color": "white"
             }
            },
            "type": "table"
           }
          ]
         },
         "layout": {
          "annotationdefaults": {
           "arrowcolor": "#2a3f5f",
           "arrowhead": 0,
           "arrowwidth": 1
          },
          "autotypenumbers": "strict",
          "coloraxis": {
           "colorbar": {
            "outlinewidth": 0,
            "ticks": ""
           }
          },
          "colorscale": {
           "diverging": [
            [
             0,
             "#8e0152"
            ],
            [
             0.1,
             "#c51b7d"
            ],
            [
             0.2,
             "#de77ae"
            ],
            [
             0.3,
             "#f1b6da"
            ],
            [
             0.4,
             "#fde0ef"
            ],
            [
             0.5,
             "#f7f7f7"
            ],
            [
             0.6,
             "#e6f5d0"
            ],
            [
             0.7,
             "#b8e186"
            ],
            [
             0.8,
             "#7fbc41"
            ],
            [
             0.9,
             "#4d9221"
            ],
            [
             1,
             "#276419"
            ]
           ],
           "sequential": [
            [
             0,
             "#0d0887"
            ],
            [
             0.1111111111111111,
             "#46039f"
            ],
            [
             0.2222222222222222,
             "#7201a8"
            ],
            [
             0.3333333333333333,
             "#9c179e"
            ],
            [
             0.4444444444444444,
             "#bd3786"
            ],
            [
             0.5555555555555556,
             "#d8576b"
            ],
            [
             0.6666666666666666,
             "#ed7953"
            ],
            [
             0.7777777777777778,
             "#fb9f3a"
            ],
            [
             0.8888888888888888,
             "#fdca26"
            ],
            [
             1,
             "#f0f921"
            ]
           ],
           "sequentialminus": [
            [
             0,
             "#0d0887"
            ],
            [
             0.1111111111111111,
             "#46039f"
            ],
            [
             0.2222222222222222,
             "#7201a8"
            ],
            [
             0.3333333333333333,
             "#9c179e"
            ],
            [
             0.4444444444444444,
             "#bd3786"
            ],
            [
             0.5555555555555556,
             "#d8576b"
            ],
            [
             0.6666666666666666,
             "#ed7953"
            ],
            [
             0.7777777777777778,
             "#fb9f3a"
            ],
            [
             0.8888888888888888,
             "#fdca26"
            ],
            [
             1,
             "#f0f921"
            ]
           ]
          },
          "colorway": [
           "#636efa",
           "#EF553B",
           "#00cc96",
           "#ab63fa",
           "#FFA15A",
           "#19d3f3",
           "#FF6692",
           "#B6E880",
           "#FF97FF",
           "#FECB52"
          ],
          "font": {
           "color": "#2a3f5f"
          },
          "geo": {
           "bgcolor": "white",
           "lakecolor": "white",
           "landcolor": "#E5ECF6",
           "showlakes": true,
           "showland": true,
           "subunitcolor": "white"
          },
          "hoverlabel": {
           "align": "left"
          },
          "hovermode": "closest",
          "mapbox": {
           "style": "light"
          },
          "paper_bgcolor": "white",
          "plot_bgcolor": "#E5ECF6",
          "polar": {
           "angularaxis": {
            "gridcolor": "white",
            "linecolor": "white",
            "ticks": ""
           },
           "bgcolor": "#E5ECF6",
           "radialaxis": {
            "gridcolor": "white",
            "linecolor": "white",
            "ticks": ""
           }
          },
          "scene": {
           "xaxis": {
            "backgroundcolor": "#E5ECF6",
            "gridcolor": "white",
            "gridwidth": 2,
            "linecolor": "white",
            "showbackground": true,
            "ticks": "",
            "zerolinecolor": "white"
           },
           "yaxis": {
            "backgroundcolor": "#E5ECF6",
            "gridcolor": "white",
            "gridwidth": 2,
            "linecolor": "white",
            "showbackground": true,
            "ticks": "",
            "zerolinecolor": "white"
           },
           "zaxis": {
            "backgroundcolor": "#E5ECF6",
            "gridcolor": "white",
            "gridwidth": 2,
            "linecolor": "white",
            "showbackground": true,
            "ticks": "",
            "zerolinecolor": "white"
           }
          },
          "shapedefaults": {
           "line": {
            "color": "#2a3f5f"
           }
          },
          "ternary": {
           "aaxis": {
            "gridcolor": "white",
            "linecolor": "white",
            "ticks": ""
           },
           "baxis": {
            "gridcolor": "white",
            "linecolor": "white",
            "ticks": ""
           },
           "bgcolor": "#E5ECF6",
           "caxis": {
            "gridcolor": "white",
            "linecolor": "white",
            "ticks": ""
           }
          },
          "title": {
           "x": 0.05
          },
          "xaxis": {
           "automargin": true,
           "gridcolor": "white",
           "linecolor": "white",
           "ticks": "",
           "title": {
            "standoff": 15
           },
           "zerolinecolor": "white",
           "zerolinewidth": 2
          },
          "yaxis": {
           "automargin": true,
           "gridcolor": "white",
           "linecolor": "white",
           "ticks": "",
           "title": {
            "standoff": 15
           },
           "zerolinecolor": "white",
           "zerolinewidth": 2
          }
         }
        },
        "title": {
         "text": "UMAP Projection of Model Performance"
        },
        "width": 650,
        "xaxis": {
         "anchor": "y",
         "autorange": true,
         "domain": [
          0,
          1
         ],
         "range": [
          -13.676180038960451,
          -2.8713475126905488
         ],
         "title": {
          "text": "x"
         },
         "type": "linear"
        },
        "yaxis": {
         "anchor": "x",
         "autorange": true,
         "domain": [
          0,
          1
         ],
         "range": [
          6.830575240062095,
          11.893645989491128
         ],
         "title": {
          "text": "y"
         },
         "type": "linear"
        }
       }
      },
      "image/png": "[encoded data removed]",
      "text/html": [
       "<div>                            <div id=\"325a7caf-1a72-462f-a427-3d7c876ab79f\" class=\"plotly-graph-div\" style=\"height:500px; width:650px;\"></div>            <script type=\"text/javascript\">                require([\"plotly\"], function(Plotly) {                    window.PLOTLYENV=window.PLOTLYENV || {};                                    if (document.getElementById(\"325a7caf-1a72-462f-a427-3d7c876ab79f\")) {                    Plotly.newPlot(                        \"325a7caf-1a72-462f-a427-3d7c876ab79f\",                        [{\"hovertemplate\":\"\\u003cb\\u003e%{hovertext}\\u003c\\u002fb\\u003e\\u003cbr\\u003e\\u003cbr\\u003eGenerative=True\\u003cbr\\u003ex=%{x}\\u003cbr\\u003ey=%{y}\\u003cextra\\u003e\\u003c\\u002fextra\\u003e\",\"hovertext\":[\"gpt-4-0613 (few-shot, val)\",\"gpt-3.5-turbo-0613 (few-shot)\",\"gpt-3.5-turbo-0613 (few-shot, val)\",\"RJuro\\u002fmunin-neuralbeagle-7b (few-shot, val)\",\"timpal0l\\u002fBeagleCatMunin (few-shot, val)\",\"birgermoell\\u002fFlashback-Bellman (few-shot, val)\",\"merge-crew\\u002fda-sv-dare-ties-density-0.9 (few-shot, val)\",\"merge-crew\\u002fda-sv-slerp (few-shot, val)\",\"merge-crew\\u002fda-sv-task-arithmetic (few-shot, val)\",\"mhenrichsen\\u002fdanskgpt-chat-v2.1 (few-shot)\",\"Mabeck\\u002fHeidrun-Mistral-7B-chat (few-shot)\",\"birgermoell\\u002fBeagleCatMunin-Flashback-Bellman (few-shot, val)\",\"birgermoell\\u002fRapid-Cycling (few-shot, val)\",\"timpal0l\\u002fBeagleCatMunin2 (few-shot, val)\",\"mlabonne\\u002fNeuralBeagle14-7B (few-shot, val)\",\"merge-crew\\u002fda-sv-ties (few-shot, val)\",\"birgermoell\\u002fMunin-NeuralBeagle-NorskGPT (few-shot, val)\",\"birgermoell\\u002fWestLake-Munin-Cat-NorskGPT (few-shot, val)\",\"merge-crew\\u002fda-sv-dare-ties-density-0.6 (few-shot, val)\",\"RJuro\\u002fmunin-neuralbeagle-SkoleGPTOpenOrca-7b (few-shot, val)\",\"timpal0l\\u002ftyr (few-shot, val)\",\"Mabeck\\u002fHeidrun-Mistral-7B-base (few-shot)\",\"ThatsGroes\\u002fmunin-SkoleGPTOpenOrca-7b-16bit (few-shot)\",\"KennethEnevoldsen\\u002fmunin_mistral-7b (few-shot, val)\",\"bineric\\u002fNorskGPT-Mistral-7b (few-shot)\",\"danish-foundation-models\\u002fmunin-7b-v0.1dev0 (few-shot)\",\"timpal0l\\u002fMistral-7B-v0.1-flashback-v2 (few-shot)\",\"mhenrichsen\\u002fhestenettetLM (few-shot)\",\"birgermoell\\u002fNeuralBeagle-Flashback (few-shot, val)\",\"RuterNorway\\u002fLlama-2-13b-chat-norwegian (few-shot)\",\"mistralai\\u002fMistral-7B-Instruct-v0.2 (few-shot)\",\"neph1\\u002fbellman-7b-mistral-instruct-v0.2 (few-shot)\",\"mistralai\\u002fMistral-7B-v0.1 (few-shot)\",\"occiglot\\u002focciglot-7b-eu5-instruct (few-shot)\",\"mistralai\\u002fMistral-7B-Instruct-v0.1 (few-shot)\",\"bineric\\u002fNorskGPT-Llama-7B-v0.1 (few-shot)\",\"occiglot\\u002focciglot-7b-eu5 (few-shot)\",\"timpal0l\\u002fnjord-alpha (few-shot)\",\"danish-foundation-models\\u002fmunin-7b-alpha (few-shot)\",\"merge-crew\\u002fda-sv-dare-ties-density-0.3 (few-shot, val)\",\"meta-llama\\u002fLlama-2-7b-chat-hf (few-shot)\",\"tollefj\\u002fnordavind-7b-instruct-warm (few-shot)\",\"timpal0l\\u002fMistral-7B-v0.1-flashback-v2-instruct (few-shot)\",\"AI-Sweden-Models\\u002fgpt-sw3-20b (few-shot)\",\"norallm\\u002fnormistral-7b-warm (few-shot)\",\"meta-llama\\u002fLlama-2-7b-hf (few-shot)\",\"Qwen\\u002fQwen1.5-4B-Chat (few-shot)\",\"01-ai\\u002fYi-6B (few-shot)\",\"google\\u002fgemma-2b (few-shot)\",\"Qwen\\u002fQwen1.5-4B (few-shot)\",\"AI-Sweden-Models\\u002fgpt-sw3-1.3b-instruct (few-shot)\",\"AI-Sweden-Models\\u002fgpt-sw3-6.7b-v2 (few-shot)\",\"AI-Sweden-Models\\u002fgpt-sw3-6.7b-v2-instruct (few-shot)\",\"AI-Sweden-Models\\u002fgpt-sw3-1.3b (few-shot)\",\"AI-Sweden-Models\\u002fgpt-sw3-6.7b (few-shot)\",\"google\\u002fgemma-2b-it (few-shot)\",\"norallm\\u002fnormistral-7b-scratch (few-shot)\",\"mhenrichsen\\u002fdanskgpt-tiny-chat (few-shot)\",\"NbAiLab\\u002fnb-gpt-j-6B-alpaca (few-shot)\",\"AI-Sweden-Models\\u002fgpt-sw3-356m-instruct (few-shot)\",\"Qwen\\u002fQwen1.5-1.8B (few-shot)\",\"Qwen\\u002fQwen1.5-1.8B-Chat (few-shot)\",\"HPLT\\u002fgpt-7b-nordic-prerelease (few-shot)\",\"AI-Sweden-Models\\u002fgpt-sw3-356m (few-shot)\",\"RuterNorway\\u002fLlama-2-7b-chat-norwegian (few-shot)\",\"mhenrichsen\\u002fdanskgpt-tiny (few-shot)\",\"Qwen\\u002fQwen1.5-0.5B-Chat (few-shot)\",\"allenai\\u002fOLMo-1B (few-shot)\",\"Qwen\\u002fQwen1.5-0.5B (few-shot)\",\"NbAiLab\\u002fnb-gpt-j-6B-v2 (few-shot)\",\"AI-Sweden-Models\\u002fgpt-sw3-126m-instruct (few-shot)\",\"NbAiLab\\u002fnb-gpt-j-6B@sharded (few-shot)\",\"AI-Sweden-Models\\u002fgpt-sw3-126m (few-shot)\",\"RJuro\\u002fkanelsnegl-v0.1 (few-shot)\",\"RJuro\\u002fkanelsnegl-v0.2 (few-shot)\",\"ai-forever\\u002fmGPT (few-shot)\",\"peter-sk\\u002fgpt-neox-da (few-shot)\"],\"legendgroup\":\"True\",\"marker\":{\"color\":\"#636efa\",\"symbol\":\"circle\"},\"mode\":\"markers\",\"name\":\"True\",\"orientation\":\"v\",\"showlegend\":true,\"x\":[-3.8262991905212402,-5.110472679138184,-4.929562568664551,-10.830690383911133,-11.321354866027832,-11.188203811645508,-11.712965965270996,-11.311148643493652,-11.499432563781738,-11.137490272521973,-10.986527442932129,-11.046283721923828,-10.816071510314941,-10.697366714477539,-10.871975898742676,-11.61733627319336,-10.586638450622559,-10.609318733215332,-11.35319709777832,-11.346128463745117,-11.05907154083252,-11.485568046569824,-11.610871315002441,-11.776310920715332,-10.733704566955566,-11.542620658874512,-11.885332107543945,-12.081106185913086,-11.368914604187012,-12.000972747802734,-11.624550819396973,-11.189048767089844,-12.362377166748047,-12.079082489013672,-12.218832969665527,-11.999957084655762,-12.107110977172852,-12.572187423706055,-12.405370712280273,-12.66880989074707,-12.585803985595703,-12.562366485595703,-12.424641609191895,-12.393983840942383,-12.552009582519531,-12.409613609313965,-12.719200134277344,-12.199904441833496,-12.846395492553711,-12.332836151123047,-12.7626371383667,-12.567228317260742,-12.67110824584961,-13.029594421386719,-12.874950408935547,-12.501189231872559,-12.884889602661133,-12.598556518554688,-12.628114700317383,-12.954913139343262,-12.87033462524414,-12.680546760559082,-13.049361228942871,-12.649333000183105,-12.397594451904297,-12.000360488891602,-12.500199317932129,-11.98752212524414,-12.35004997253418,-11.892326354980469,-12.207271575927734,-11.623987197875977,-11.948690414428711,-11.65475845336914,-11.749319076538086,-11.863997459411621,-11.84121322631836],\"xaxis\":\"x\",\"y\":[8.259305953979492,8.29674243927002,8.326976776123047,7.685665130615234,7.628047943115234,7.59699821472168,7.68496561050415,7.626498222351074,7.447388648986816,7.1726274490356445,7.789975643157959,7.389378070831299,7.376457214355469,7.61838436126709,7.453990459442139,7.97163724899292,7.943093299865723,7.913959980010986,7.805547714233398,7.346537113189697,7.248107433319092,7.894173622131348,7.594847202301025,8.488826751708984,8.036206245422363,8.061736106872559,7.775058746337891,8.300878524780273,8.27369499206543,8.153793334960938,8.126744270324707,8.371086120605469,8.114056587219238,8.660154342651367,8.05962085723877,8.38640308380127,8.715327262878418,8.605173110961914,9.085464477539062,8.8193359375,8.727953910827637,9.028739929199219,8.386039733886719,9.27315902709961,8.768020629882812,8.58685302734375,9.415974617004395,8.893765449523926,10.238311767578125,10.136381149291992,10.135993957519531,9.985993385314941,10.15662956237793,10.21517276763916,10.334671974182129,10.576010704040527,10.390192031860352,10.850983619689941,10.576394081115723,10.519062995910645,10.560525894165039,10.7568998336792,10.54002571105957,11.023100852966309,11.072808265686035,11.129764556884766,11.267680168151855,10.924225807189941,11.130783081054688,11.254911422729492,11.322813034057617,11.381650924682617,11.581159591674805,11.313484191894531,11.415595054626465,11.491500854492188,11.40686321258545],\"yaxis\":\"y\",\"type\":\"scatter\"},{\"hovertemplate\":\"\\u003cb\\u003e%{hovertext}\\u003c\\u002fb\\u003e\\u003cbr\\u003e\\u003cbr\\u003eGenerative=False\\u003cbr\\u003ex=%{x}\\u003cbr\\u003ey=%{y}\\u003cextra\\u003e\\u003c\\u002fextra\\u003e\",\"hovertext\":[\"AI-Sweden-Models\\u002froberta-large-1160k\",\"ltg\\u002fnorbert3-large\",\"AI-Sweden-Models\\u002froberta-large-1350k\",\"danish-foundation-models\\u002fencoder-large-v1\",\"KennethEnevoldsen\\u002fdfm-sentence-encoder-large-1\",\"KennethEnevoldsen\\u002fdfm-sentence-encoder-large-2\",\"google\\u002frembert\",\"intfloat\\u002fmultilingual-e5-large\",\"NbAiLab\\u002fnb-roberta-base-scandi\",\"microsoft\\u002fmdeberta-v3-base\",\"NbAiLab\\u002fnb-roberta-base-scandi-1e4\",\"ltg\\u002fnorbert3-base\",\"sentence-transformers\\u002fuse-cmlm-multilingual\",\"FacebookAI\\u002fxlm-roberta-large\",\"KennethEnevoldsen\\u002fdfm-sentence-encoder-medium-3\",\"vesteinn\\u002fScandiBERT-no-faroese\",\"NbAiLab\\u002fnb-bert-base\",\"vesteinn\\u002fFoBERT\",\"pere\\u002froberta-debug-8\",\"pere\\u002froberta-base-exp-8\",\"setu4993\\u002fLaBSE\",\"pere\\u002froberta-debug-32\",\"pere\\u002froberta-base-exp-32\",\"AI-Sweden-Models\\u002fbert-large-nordic-pile-1M-steps\",\"pere\\u002froberta-base-exp-32B\",\"vesteinn\\u002fDanskBERT\",\"ltg\\u002fnorbert3-small\",\"KBLab\\u002fmegatron-bert-large-swedish-cased-165k\",\"AI-Nordics\\u002fbert-large-swedish-cased\",\"cardiffnlp\\u002ftwitter-xlm-roberta-base\",\"KBLab\\u002fmegatron-bert-large-swedish-cased-110k\",\"microsoft\\u002finfoxlm-large\",\"google-bert\\u002fbert-base-multilingual-uncased\",\"KB\\u002fbert-base-swedish-cased\",\"KBLab\\u002fmegatron-bert-base-swedish-cased-600k\",\"Geotrend\\u002fbert-base-en-fr-de-no-da-cased\",\"google-bert\\u002fbert-base-multilingual-cased\",\"Geotrend\\u002fbert-base-25lang-cased\",\"Geotrend\\u002fbert-base-en-no-cased\",\"KBLab\\u002fbert-base-swedish-cased\",\"microsoft\\u002fxlm-align-base\",\"facebook\\u002fxlm-v-base\",\"Geotrend\\u002fbert-base-en-da-cased\",\"jonfd\\u002felectra-small-nordic\",\"Geotrend\\u002fbert-base-da-cased\",\"microsoft\\u002finfoxlm-base\",\"KBLab\\u002fmegatron-bert-base-swedish-cased-125k\",\"clips\\u002fmfaq\",\"jhu-clsp\\u002fbernice\",\"flax-community\\u002fnordic-roberta-wiki\",\"DDSC\\u002froberta-base-scandinavian\",\"KBLab\\u002fbert-base-swedish-cased-new\",\"sentence-transformers\\u002fparaphrase-xlm-r-multilingual-v1\",\"sentence-transformers\\u002fparaphrase-multilingual-mpnet-base-v2\",\"flax-community\\u002fswe-roberta-wiki-oscar\",\"sentence-transformers\\u002fstsb-xlm-r-multilingual\",\"distilbert\\u002fdistilbert-base-multilingual-cased\",\"Geotrend\\u002fdistilbert-base-25lang-cased\",\"Geotrend\\u002fdistilbert-base-en-fr-de-no-da-cased\",\"Geotrend\\u002fdistilbert-base-en-no-cased\",\"Geotrend\\u002fdistilbert-base-en-da-cased\",\"Twitter\\u002ftwhin-bert-large\",\"Geotrend\\u002fdistilbert-base-da-cased\",\"sarnikowski\\u002fconvbert-medium-small-da-cased\",\"Addedk\\u002fkbbert-distilled-cased\",\"danish-foundation-models\\u002fencoder-medium-v1\",\"sentence-transformers\\u002fparaphrase-multilingual-MiniLM-L12-v2\",\"jannikskytt\\u002fMeDa-Bert\",\"DDSC\\u002froberta-base-danish\",\"Maltehb\\u002fdanish-bert-botxo\",\"ltg\\u002fnorbert3-xs\",\"birgermoell\\u002froberta-swedish-scandi\",\"Addedk\\u002fmbert-swedish-distilled-cased\",\"sarnikowski\\u002felectra-small-discriminator-da-256-cased\",\"sarnikowski\\u002fconvbert-small-da-cased\",\"dbmdz\\u002fbert-base-historic-multilingual-cased\",\"sentence-transformers\\u002fdistilbert-multilingual-nli-stsb-quora-ranking\",\"sentence-transformers\\u002fquora-distilbert-multilingual\",\"Maltehb\\u002faelaectra-danish-electra-small-cased\",\"dbmdz\\u002fbert-medium-historic-multilingual-cased\",\"Maltehb\\u002faelaectra-danish-electra-small-uncased\",\"jjzha\\u002fdajobbert-base-uncased\",\"sentence-transformers\\u002fdistiluse-base-multilingual-cased-v1\",\"KBLab\\u002falbert-base-swedish-cased-alpha\",\"dbmdz\\u002fbert-mini-historic-multilingual-cased\",\"jannesg\\u002fbertsson\",\"alexanderfalk\\u002fdanbert-small-cased\",\"3ebdola\\u002fDialectal-Arabic-XLM-R-Base\",\"RabotaRu\\u002fHRBert-mini\",\"fresh-xlm-roberta-base\",\"fresh-electra-small\"],\"legendgroup\":\"False\",\"marker\":{\"color\":\"#EF553B\",\"symbol\":\"circle\"},\"mode\":\"markers\",\"name\":\"False\",\"orientation\":\"v\",\"showlegend\":true,\"x\":[-3.688129186630249,-3.7734439373016357,-3.8297276496887207,-4.144693851470947,-3.9030652046203613,-4.102896690368652,-3.9063987731933594,-4.583366394042969,-3.8837332725524902,-3.8094587326049805,-3.7114014625549316,-4.172913074493408,-4.421426773071289,-4.628583908081055,-3.7134265899658203,-3.733611822128296,-4.0100603103637695,-3.49816632270813,-3.5546536445617676,-3.762253522872925,-4.559460639953613,-3.663268566131592,-4.290283679962158,-6.033740520477295,-4.676225185394287,-5.1623921394348145,-4.530594825744629,-6.530869007110596,-6.468377113342285,-5.404487133026123,-6.727208614349365,-8.920689582824707,-5.895115375518799,-6.633358955383301,-6.743682384490967,-6.248963832855225,-6.219569683074951,-6.334529399871826,-6.073521614074707,-6.634850025177002,-8.731801986694336,-6.274776935577393,-6.530653953552246,-3.8830978870391846,-6.504172325134277,-8.788419723510742,-7.045135021209717,-7.52894926071167,-7.00074577331543,-6.903852462768555,-7.337757110595703,-7.117423057556152,-7.26933479309082,-7.486772537231445,-7.331020355224609,-7.482974052429199,-6.948109149932861,-7.238578796386719,-7.181446552276611,-7.018401145935059,-7.074693202972412,-8.465517044067383,-7.105999946594238,-7.7432050704956055,-7.526665210723877,-8.266195297241211,-7.708886623382568,-8.209579467773438,-8.480010032653809,-8.150280952453613,-8.529744148254395,-7.746137619018555,-7.481412887573242,-7.795546054840088,-7.886757850646973,-8.35098934173584,-8.33039379119873,-8.749100685119629,-7.947578430175781,-8.421257019042969,-8.045722961425781,-8.396844863891602,-9.454971313476562,-9.394816398620605,-9.551915168762207,-9.814249038696289,-11.469036102294922,-9.780529975891113,-11.568193435668945,-11.621453285217285,-11.85400104522705],\"xaxis\":\"x\",\"y\":[8.31002140045166,8.310131072998047,8.204998016357422,8.187446594238281,8.27787971496582,8.311635971069336,8.310518264770508,8.295257568359375,8.761469841003418,8.481545448303223,8.561397552490234,8.651472091674805,8.590331077575684,8.462981224060059,8.709539413452148,8.779244422912598,8.72983169555664,8.83724308013916,8.767892837524414,8.880060195922852,8.655840873718262,8.998764038085938,8.93252182006836,8.68803882598877,8.920215606689453,8.622299194335938,8.932348251342773,8.967216491699219,8.833935737609863,8.640153884887695,9.055939674377441,8.044108390808105,8.160164833068848,8.887564659118652,8.874534606933594,7.7660064697265625,8.022244453430176,7.963153839111328,7.918533802032471,8.691731452941895,8.09819507598877,8.15896987915039,7.721090316772461,9.08602523803711,7.718600749969482,8.196911811828613,8.775840759277344,8.118855476379395,8.333314895629883,8.203330039978027,8.09531307220459,8.863618850708008,8.188728332519531,8.364592552185059,8.728260040283203,8.246536254882812,7.780307292938232,7.745490550994873,7.591293811798096,7.607180595397949,7.538203239440918,8.401223182678223,7.762893199920654,7.4755859375,8.677864074707031,7.576623916625977,8.127519607543945,7.5612640380859375,8.333950996398926,7.706841945648193,8.328213691711426,8.705572128295898,7.880947113037109,7.2477617263793945,7.513123989105225,8.866876602172852,8.525904655456543,8.649810791015625,7.143061637878418,8.84624195098877,7.278572082519531,7.881262302398682,9.176117897033691,9.246373176574707,9.138476371765137,9.495039939880371,10.641497611999512,9.474984169006348,10.761178970336914,10.96401596069336,10.994916915893555],\"yaxis\":\"y\",\"type\":\"scatter\"}],                        {\"template\":{\"data\":{\"histogram2dcontour\":[{\"type\":\"histogram2dcontour\",\"colorbar\":{\"outlinewidth\":0,\"ticks\":\"\"},\"colorscale\":[[0.0,\"#0d0887\"],[0.1111111111111111,\"#46039f\"],[0.2222222222222222,\"#7201a8\"],[0.3333333333333333,\"#9c179e\"],[0.4444444444444444,\"#bd3786\"],[0.5555555555555556,\"#d8576b\"],[0.6666666666666666,\"#ed7953\"],[0.7777777777777778,\"#fb9f3a\"],[0.8888888888888888,\"#fdca26\"],[1.0,\"#f0f921\"]]}],\"choropleth\":[{\"type\":\"choropleth\",\"colorbar\":{\"outlinewidth\":0,\"ticks\":\"\"}}],\"histogram2d\":[{\"type\":\"histogram2d\",\"colorbar\":{\"outlinewidth\":0,\"ticks\":\"\"},\"colorscale\":[[0.0,\"#0d0887\"],[0.1111111111111111,\"#46039f\"],[0.2222222222222222,\"#7201a8\"],[0.3333333333333333,\"#9c179e\"],[0.4444444444444444,\"#bd3786\"],[0.5555555555555556,\"#d8576b\"],[0.6666666666666666,\"#ed7953\"],[0.7777777777777778,\"#fb9f3a\"],[0.8888888888888888,\"#fdca26\"],[1.0,\"#f0f921\"]]}],\"heatmap\":[{\"type\":\"heatmap\",\"colorbar\":{\"outlinewidth\":0,\"ticks\":\"\"},\"colorscale\":[[0.0,\"#0d0887\"],[0.1111111111111111,\"#46039f\"],[0.2222222222222222,\"#7201a8\"],[0.3333333333333333,\"#9c179e\"],[0.4444444444444444,\"#bd3786\"],[0.5555555555555556,\"#d8576b\"],[0.6666666666666666,\"#ed7953\"],[0.7777777777777778,\"#fb9f3a\"],[0.8888888888888888,\"#fdca26\"],[1.0,\"#f0f921\"]]}],\"heatmapgl\":[{\"type\":\"heatmapgl\",\"colorbar\":{\"outlinewidth\":0,\"ticks\":\"\"},\"colorscale\":[[0.0,\"#0d0887\"],[0.1111111111111111,\"#46039f\"],[0.2222222222222222,\"#7201a8\"],[0.3333333333333333,\"#9c179e\"],[0.4444444444444444,\"#bd3786\"],[0.5555555555555556,\"#d8576b\"],[0.6666666666666666,\"#ed7953\"],[0.7777777777777778,\"#fb9f3a\"],[0.8888888888888888,\"#fdca26\"],[1.0,\"#f0f921\"]]}],\"contourcarpet\":[{\"type\":\"contourcarpet\",\"colorbar\":{\"outlinewidth\":0,\"ticks\":\"\"}}],\"contour\":[{\"type\":\"contour\",\"colorbar\":{\"outlinewidth\":0,\"ticks\":\"\"},\"colorscale\":[[0.0,\"#0d0887\"],[0.1111111111111111,\"#46039f\"],[0.2222222222222222,\"#7201a8\"],[0.3333333333333333,\"#9c179e\"],[0.4444444444444444,\"#bd3786\"],[0.5555555555555556,\"#d8576b\"],[0.6666666666666666,\"#ed7953\"],[0.7777777777777778,\"#fb9f3a\"],[0.8888888888888888,\"#fdca26\"],[1.0,\"#f0f921\"]]}],\"surface\":[{\"type\":\"surface\",\"colorbar\":{\"outlinewidth\":0,\"ticks\":\"\"},\"colorscale\":[[0.0,\"#0d0887\"],[0.1111111111111111,\"#46039f\"],[0.2222222222222222,\"#7201a8\"],[0.3333333333333333,\"#9c179e\"],[0.4444444444444444,\"#bd3786\"],[0.5555555555555556,\"#d8576b\"],[0.6666666666666666,\"#ed7953\"],[0.7777777777777778,\"#fb9f3a\"],[0.8888888888888888,\"#fdca26\"],[1.0,\"#f0f921\"]]}],\"mesh3d\":[{\"type\":\"mesh3d\",\"colorbar\":{\"outlinewidth\":0,\"ticks\":\"\"}}],\"scatter\":[{\"fillpattern\":{\"fillmode\":\"overlay\",\"size\":10,\"solidity\":0.2},\"type\":\"scatter\"}],\"parcoords\":[{\"type\":\"parcoords\",\"line\":{\"colorbar\":{\"outlinewidth\":0,\"ticks\":\"\"}}}],\"scatterpolargl\":[{\"type\":\"scatterpolargl\",\"marker\":{\"colorbar\":{\"outlinewidth\":0,\"ticks\":\"\"}}}],\"bar\":[{\"error_x\":{\"color\":\"#2a3f5f\"},\"error_y\":{\"color\":\"#2a3f5f\"},\"marker\":{\"line\":{\"color\":\"#E5ECF6\",\"width\":0.5},\"pattern\":{\"fillmode\":\"overlay\",\"size\":10,\"solidity\":0.2}},\"type\":\"bar\"}],\"scattergeo\":[{\"type\":\"scattergeo\",\"marker\":{\"colorbar\":{\"outlinewidth\":0,\"ticks\":\"\"}}}],\"scatterpolar\":[{\"type\":\"scatterpolar\",\"marker\":{\"colorbar\":{\"outlinewidth\":0,\"ticks\":\"\"}}}],\"histogram\":[{\"marker\":{\"pattern\":{\"fillmode\":\"overlay\",\"size\":10,\"solidity\":0.2}},\"type\":\"histogram\"}],\"scattergl\":[{\"type\":\"scattergl\",\"marker\":{\"colorbar\":{\"outlinewidth\":0,\"ticks\":\"\"}}}],\"scatter3d\":[{\"type\":\"scatter3d\",\"line\":{\"colorbar\":{\"outlinewidth\":0,\"ticks\":\"\"}},\"marker\":{\"colorbar\":{\"outlinewidth\":0,\"ticks\":\"\"}}}],\"scattermapbox\":[{\"type\":\"scattermapbox\",\"marker\":{\"colorbar\":{\"outlinewidth\":0,\"ticks\":\"\"}}}],\"scatterternary\":[{\"type\":\"scatterternary\",\"marker\":{\"colorbar\":{\"outlinewidth\":0,\"ticks\":\"\"}}}],\"scattercarpet\":[{\"type\":\"scattercarpet\",\"marker\":{\"colorbar\":{\"outlinewidth\":0,\"ticks\":\"\"}}}],\"carpet\":[{\"aaxis\":{\"endlinecolor\":\"#2a3f5f\",\"gridcolor\":\"white\",\"linecolor\":\"white\",\"minorgridcolor\":\"white\",\"startlinecolor\":\"#2a3f5f\"},\"baxis\":{\"endlinecolor\":\"#2a3f5f\",\"gridcolor\":\"white\",\"linecolor\":\"white\",\"minorgridcolor\":\"white\",\"startlinecolor\":\"#2a3f5f\"},\"type\":\"carpet\"}],\"table\":[{\"cells\":{\"fill\":{\"color\":\"#EBF0F8\"},\"line\":{\"color\":\"white\"}},\"header\":{\"fill\":{\"color\":\"#C8D4E3\"},\"line\":{\"color\":\"white\"}},\"type\":\"table\"}],\"barpolar\":[{\"marker\":{\"line\":{\"color\":\"#E5ECF6\",\"width\":0.5},\"pattern\":{\"fillmode\":\"overlay\",\"size\":10,\"solidity\":0.2}},\"type\":\"barpolar\"}],\"pie\":[{\"automargin\":true,\"type\":\"pie\"}]},\"layout\":{\"autotypenumbers\":\"strict\",\"colorway\":[\"#636efa\",\"#EF553B\",\"#00cc96\",\"#ab63fa\",\"#FFA15A\",\"#19d3f3\",\"#FF6692\",\"#B6E880\",\"#FF97FF\",\"#FECB52\"],\"font\":{\"color\":\"#2a3f5f\"},\"hovermode\":\"closest\",\"hoverlabel\":{\"align\":\"left\"},\"paper_bgcolor\":\"white\",\"plot_bgcolor\":\"#E5ECF6\",\"polar\":{\"bgcolor\":\"#E5ECF6\",\"angularaxis\":{\"gridcolor\":\"white\",\"linecolor\":\"white\",\"ticks\":\"\"},\"radialaxis\":{\"gridcolor\":\"white\",\"linecolor\":\"white\",\"ticks\":\"\"}},\"ternary\":{\"bgcolor\":\"#E5ECF6\",\"aaxis\":{\"gridcolor\":\"white\",\"linecolor\":\"white\",\"ticks\":\"\"},\"baxis\":{\"gridcolor\":\"white\",\"linecolor\":\"white\",\"ticks\":\"\"},\"caxis\":{\"gridcolor\":\"white\",\"linecolor\":\"white\",\"ticks\":\"\"}},\"coloraxis\":{\"colorbar\":{\"outlinewidth\":0,\"ticks\":\"\"}},\"colorscale\":{\"sequential\":[[0.0,\"#0d0887\"],[0.1111111111111111,\"#46039f\"],[0.2222222222222222,\"#7201a8\"],[0.3333333333333333,\"#9c179e\"],[0.4444444444444444,\"#bd3786\"],[0.5555555555555556,\"#d8576b\"],[0.6666666666666666,\"#ed7953\"],[0.7777777777777778,\"#fb9f3a\"],[0.8888888888888888,\"#fdca26\"],[1.0,\"#f0f921\"]],\"sequentialminus\":[[0.0,\"#0d0887\"],[0.1111111111111111,\"#46039f\"],[0.2222222222222222,\"#7201a8\"],[0.3333333333333333,\"#9c179e\"],[0.4444444444444444,\"#bd3786\"],[0.5555555555555556,\"#d8576b\"],[0.6666666666666666,\"#ed7953\"],[0.7777777777777778,\"#fb9f3a\"],[0.8888888888888888,\"#fdca26\"],[1.0,\"#f0f921\"]],\"diverging\":[[0,\"#8e0152\"],[0.1,\"#c51b7d\"],[0.2,\"#de77ae\"],[0.3,\"#f1b6da\"],[0.4,\"#fde0ef\"],[0.5,\"#f7f7f7\"],[0.6,\"#e6f5d0\"],[0.7,\"#b8e186\"],[0.8,\"#7fbc41\"],[0.9,\"#4d9221\"],[1,\"#276419\"]]},\"xaxis\":{\"gridcolor\":\"white\",\"linecolor\":\"white\",\"ticks\":\"\",\"title\":{\"standoff\":15},\"zerolinecolor\":\"white\",\"automargin\":true,\"zerolinewidth\":2},\"yaxis\":{\"gridcolor\":\"white\",\"linecolor\":\"white\",\"ticks\":\"\",\"title\":{\"standoff\":15},\"zerolinecolor\":\"white\",\"automargin\":true,\"zerolinewidth\":2},\"scene\":{\"xaxis\":{\"backgroundcolor\":\"#E5ECF6\",\"gridcolor\":\"white\",\"linecolor\":\"white\",\"showbackground\":true,\"ticks\":\"\",\"zerolinecolor\":\"white\",\"gridwidth\":2},\"yaxis\":{\"backgroundcolor\":\"#E5ECF6\",\"gridcolor\":\"white\",\"linecolor\":\"white\",\"showbackground\":true,\"ticks\":\"\",\"zerolinecolor\":\"white\",\"gridwidth\":2},\"zaxis\":{\"backgroundcolor\":\"#E5ECF6\",\"gridcolor\":\"white\",\"linecolor\":\"white\",\"showbackground\":true,\"ticks\":\"\",\"zerolinecolor\":\"white\",\"gridwidth\":2}},\"shapedefaults\":{\"line\":{\"color\":\"#2a3f5f\"}},\"annotationdefaults\":{\"arrowcolor\":\"#2a3f5f\",\"arrowhead\":0,\"arrowwidth\":1},\"geo\":{\"bgcolor\":\"white\",\"landcolor\":\"#E5ECF6\",\"subunitcolor\":\"white\",\"showland\":true,\"showlakes\":true,\"lakecolor\":\"white\"},\"title\":{\"x\":0.05},\"mapbox\":{\"style\":\"light\"}}},\"xaxis\":{\"anchor\":\"y\",\"domain\":[0.0,1.0],\"title\":{\"text\":\"x\"}},\"yaxis\":{\"anchor\":\"x\",\"domain\":[0.0,1.0],\"title\":{\"text\":\"y\"}},\"legend\":{\"title\":{\"text\":\"Generative\"},\"tracegroupgap\":0},\"title\":{\"text\":\"UMAP Projection of Model Performance\"},\"height\":500,\"width\":650},                        {\"responsive\": true}                    ).then(function(){\n",
       "                            \n",
       "var gd = document.getElementById('325a7caf-1a72-462f-a427-3d7c876ab79f');\n",
       "var x = new MutationObserver(function (mutations, observer) {{\n",
       "        var display = window.getComputedStyle(gd).display;\n",
       "        if (!display || display === 'none') {{\n",
       "            console.log([gd, 'removed!']);\n",
       "            Plotly.purge(gd);\n",
       "            observer.disconnect();\n",
       "        }}\n",
       "}});\n",
       "\n",
       "// Listen for the removal of the full notebook cells\n",
       "var notebookContainer = gd.closest('#notebook-container');\n",
       "if (notebookContainer) {{\n",
       "    x.observe(notebookContainer, {childList: true});\n",
       "}}\n",
       "\n",
       "// Listen for the clearing of the current output cell\n",
       "var outputEl = gd.closest('.output');\n",
       "if (outputEl) {{\n",
       "    x.observe(outputEl, {childList: true});\n",
       "}}\n",
       "\n",
       "                        })                };                });            </script>        </div>"
      ]
     },
     "metadata": {},
     "output_type": "display_data"
    }
   ],
   "source": [
    "N_NEIGHBOURS = len(df) // 2\n",
    "\n",
    "print(f\"Using {N_NEIGHBOURS} neighbours.\")\n",
    "umap = UMAP(n_neighbors=N_NEIGHBOURS, n_components=2, random_state=4242, n_jobs=1)\n",
    "umap_projection = umap.fit_transform(df.drop(columns=\"generative\"))\n",
    "\n",
    "px.scatter(\n",
    "    x=umap_projection[:, 0], \n",
    "    y=umap_projection[:, 1], \n",
    "    color=df.generative,\n",
    "    hover_name=df.index.tolist(),\n",
    "    width=650,\n",
    "    height=500,\n",
    "    title=f\"UMAP Projection of Model Performance\",\n",
    "    labels=dict(color=\"Generative\"),\n",
    ")"
   ]
  },
  {
   "cell_type": "code",
   "execution_count": null,
   "id": "7bf33a91-091c-48e4-878e-207caf8a9d10",
   "metadata": {},
   "outputs": [],
   "source": []
  }
 ],
 "metadata": {
  "kernelspec": {
   "display_name": "Python 3 (ipykernel)",
   "language": "python",
   "name": "python3"
  },
  "language_info": {
   "codemirror_mode": {
    "name": "ipython",
    "version": 3
   },
   "file_extension": ".py",
   "mimetype": "text/x-python",
   "name": "python",
   "nbconvert_exporter": "python",
   "pygments_lexer": "ipython3",
   "version": "3.10.14"
  }
 },
 "nbformat": 4,
 "nbformat_minor": 5
}
