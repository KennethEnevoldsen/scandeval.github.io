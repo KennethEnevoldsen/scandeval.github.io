{
 "cells": [
  {
   "cell_type": "code",
   "execution_count": 1,
   "id": "5b28808d-d8a6-47ba-9d73-5d09579c61f2",
   "metadata": {},
   "outputs": [],
   "source": [
    "import pandas as pd\n",
    "import seaborn as sns\n",
    "import plotly.express as px\n",
    "from sklearn.decomposition import PCA\n",
    "from sklearn.manifold import TSNE\n",
    "from umap import UMAP"
   ]
  },
  {
   "cell_type": "code",
   "execution_count": 2,
   "id": "f8ac3474-7346-4734-b500-c88cd7f1664d",
   "metadata": {},
   "outputs": [],
   "source": [
    "def load_results_dataframe(language: str) -> pd.DataFrame:\n",
    "    df = pd.read_csv(f'https://scandeval.com/{language}-nlu.csv')\n",
    "    df['generative'] = df.model_id.map(lambda x: \"few-shot\" in x)\n",
    "    df.set_index('model_id', inplace=True)\n",
    "    df.drop(\n",
    "        columns=[\n",
    "            \"num_model_parameters\", \n",
    "            \"vocabulary_size\", \n",
    "            \"max_sequence_length\", \n",
    "            \"speed\",\n",
    "        ] + [col for col in df.columns if \"rank\" in col], \n",
    "        inplace=True,\n",
    "    )\n",
    "    return df"
   ]
  },
  {
   "cell_type": "code",
   "execution_count": 10,
   "id": "4b566a32-7053-4b65-a72f-179750856760",
   "metadata": {},
   "outputs": [
    {
     "data": {
      "text/html": [
       "<div>\n",
       "<style scoped>\n",
       "    .dataframe tbody tr th:only-of-type {\n",
       "        vertical-align: middle;\n",
       "    }\n",
       "\n",
       "    .dataframe tbody tr th {\n",
       "        vertical-align: top;\n",
       "    }\n",
       "\n",
       "    .dataframe thead th {\n",
       "        text-align: right;\n",
       "    }\n",
       "</style>\n",
       "<table border=\"1\" class=\"dataframe\">\n",
       "  <thead>\n",
       "    <tr style=\"text-align: right;\">\n",
       "      <th></th>\n",
       "      <th>dansk</th>\n",
       "      <th>angry_tweets</th>\n",
       "      <th>scala_da</th>\n",
       "      <th>scandiqa_da</th>\n",
       "      <th>norne_nb</th>\n",
       "      <th>norne_nn</th>\n",
       "      <th>norec</th>\n",
       "      <th>scala_nb</th>\n",
       "      <th>scala_nn</th>\n",
       "      <th>norquad</th>\n",
       "      <th>suc3</th>\n",
       "      <th>swerec</th>\n",
       "      <th>scala_sv</th>\n",
       "      <th>scandiqa_sv</th>\n",
       "      <th>generative</th>\n",
       "    </tr>\n",
       "    <tr>\n",
       "      <th>model_id</th>\n",
       "      <th></th>\n",
       "      <th></th>\n",
       "      <th></th>\n",
       "      <th></th>\n",
       "      <th></th>\n",
       "      <th></th>\n",
       "      <th></th>\n",
       "      <th></th>\n",
       "      <th></th>\n",
       "      <th></th>\n",
       "      <th></th>\n",
       "      <th></th>\n",
       "      <th></th>\n",
       "      <th></th>\n",
       "      <th></th>\n",
       "    </tr>\n",
       "  </thead>\n",
       "  <tbody>\n",
       "    <tr>\n",
       "      <th>gpt-4-0613 (few-shot, val)</th>\n",
       "      <td>64.94</td>\n",
       "      <td>59.97</td>\n",
       "      <td>71.56</td>\n",
       "      <td>49.82</td>\n",
       "      <td>81.16</td>\n",
       "      <td>75.75</td>\n",
       "      <td>72.72</td>\n",
       "      <td>77.30</td>\n",
       "      <td>57.18</td>\n",
       "      <td>49.93</td>\n",
       "      <td>76.86</td>\n",
       "      <td>79.19</td>\n",
       "      <td>80.93</td>\n",
       "      <td>56.50</td>\n",
       "      <td>True</td>\n",
       "    </tr>\n",
       "    <tr>\n",
       "      <th>AI-Sweden-Models/roberta-large-1160k</th>\n",
       "      <td>74.16</td>\n",
       "      <td>51.20</td>\n",
       "      <td>73.87</td>\n",
       "      <td>49.34</td>\n",
       "      <td>92.01</td>\n",
       "      <td>87.17</td>\n",
       "      <td>60.11</td>\n",
       "      <td>72.85</td>\n",
       "      <td>65.56</td>\n",
       "      <td>60.38</td>\n",
       "      <td>82.65</td>\n",
       "      <td>77.25</td>\n",
       "      <td>77.90</td>\n",
       "      <td>49.64</td>\n",
       "      <td>False</td>\n",
       "    </tr>\n",
       "    <tr>\n",
       "      <th>ltg/norbert3-large</th>\n",
       "      <td>73.62</td>\n",
       "      <td>48.29</td>\n",
       "      <td>71.55</td>\n",
       "      <td>48.59</td>\n",
       "      <td>93.12</td>\n",
       "      <td>89.39</td>\n",
       "      <td>64.62</td>\n",
       "      <td>77.97</td>\n",
       "      <td>76.30</td>\n",
       "      <td>66.03</td>\n",
       "      <td>79.01</td>\n",
       "      <td>75.32</td>\n",
       "      <td>69.11</td>\n",
       "      <td>48.88</td>\n",
       "      <td>False</td>\n",
       "    </tr>\n",
       "    <tr>\n",
       "      <th>AI-Sweden-Models/roberta-large-1350k</th>\n",
       "      <td>75.22</td>\n",
       "      <td>49.94</td>\n",
       "      <td>72.59</td>\n",
       "      <td>48.97</td>\n",
       "      <td>92.49</td>\n",
       "      <td>87.22</td>\n",
       "      <td>58.77</td>\n",
       "      <td>76.30</td>\n",
       "      <td>64.11</td>\n",
       "      <td>60.69</td>\n",
       "      <td>82.97</td>\n",
       "      <td>77.37</td>\n",
       "      <td>73.81</td>\n",
       "      <td>49.50</td>\n",
       "      <td>False</td>\n",
       "    </tr>\n",
       "    <tr>\n",
       "      <th>danish-foundation-models/encoder-large-v1</th>\n",
       "      <td>74.60</td>\n",
       "      <td>51.42</td>\n",
       "      <td>76.11</td>\n",
       "      <td>47.42</td>\n",
       "      <td>88.66</td>\n",
       "      <td>84.59</td>\n",
       "      <td>55.59</td>\n",
       "      <td>71.43</td>\n",
       "      <td>53.30</td>\n",
       "      <td>57.38</td>\n",
       "      <td>74.18</td>\n",
       "      <td>75.11</td>\n",
       "      <td>64.11</td>\n",
       "      <td>46.79</td>\n",
       "      <td>False</td>\n",
       "    </tr>\n",
       "  </tbody>\n",
       "</table>\n",
       "</div>"
      ],
      "text/plain": [
       "                                           dansk  angry_tweets  scala_da  \\\n",
       "model_id                                                                   \n",
       "gpt-4-0613 (few-shot, val)                 64.94         59.97     71.56   \n",
       "AI-Sweden-Models/roberta-large-1160k       74.16         51.20     73.87   \n",
       "ltg/norbert3-large                         73.62         48.29     71.55   \n",
       "AI-Sweden-Models/roberta-large-1350k       75.22         49.94     72.59   \n",
       "danish-foundation-models/encoder-large-v1  74.60         51.42     76.11   \n",
       "\n",
       "                                           scandiqa_da  norne_nb  norne_nn  \\\n",
       "model_id                                                                     \n",
       "gpt-4-0613 (few-shot, val)                       49.82     81.16     75.75   \n",
       "AI-Sweden-Models/roberta-large-1160k             49.34     92.01     87.17   \n",
       "ltg/norbert3-large                               48.59     93.12     89.39   \n",
       "AI-Sweden-Models/roberta-large-1350k             48.97     92.49     87.22   \n",
       "danish-foundation-models/encoder-large-v1        47.42     88.66     84.59   \n",
       "\n",
       "                                           norec  scala_nb  scala_nn  norquad  \\\n",
       "model_id                                                                        \n",
       "gpt-4-0613 (few-shot, val)                 72.72     77.30     57.18    49.93   \n",
       "AI-Sweden-Models/roberta-large-1160k       60.11     72.85     65.56    60.38   \n",
       "ltg/norbert3-large                         64.62     77.97     76.30    66.03   \n",
       "AI-Sweden-Models/roberta-large-1350k       58.77     76.30     64.11    60.69   \n",
       "danish-foundation-models/encoder-large-v1  55.59     71.43     53.30    57.38   \n",
       "\n",
       "                                            suc3  swerec  scala_sv  \\\n",
       "model_id                                                             \n",
       "gpt-4-0613 (few-shot, val)                 76.86   79.19     80.93   \n",
       "AI-Sweden-Models/roberta-large-1160k       82.65   77.25     77.90   \n",
       "ltg/norbert3-large                         79.01   75.32     69.11   \n",
       "AI-Sweden-Models/roberta-large-1350k       82.97   77.37     73.81   \n",
       "danish-foundation-models/encoder-large-v1  74.18   75.11     64.11   \n",
       "\n",
       "                                           scandiqa_sv  generative  \n",
       "model_id                                                            \n",
       "gpt-4-0613 (few-shot, val)                       56.50        True  \n",
       "AI-Sweden-Models/roberta-large-1160k             49.64       False  \n",
       "ltg/norbert3-large                               48.88       False  \n",
       "AI-Sweden-Models/roberta-large-1350k             49.50       False  \n",
       "danish-foundation-models/encoder-large-v1        46.79       False  "
      ]
     },
     "execution_count": 10,
     "metadata": {},
     "output_type": "execute_result"
    }
   ],
   "source": [
    "df = load_results_dataframe(language=\"mainland-scandinavian\")\n",
    "df.head()"
   ]
  },
  {
   "cell_type": "code",
   "execution_count": 11,
   "id": "67c68697-b69b-44f2-b620-a265c5712345",
   "metadata": {},
   "outputs": [
    {
     "data": {
      "text/plain": [
       "<Axes: >"
      ]
     },
     "execution_count": 11,
     "metadata": {},
     "output_type": "execute_result"
    },
    {
     "data": {
      "image/png": "[encoded data removed]",
      "text/plain": [
       "<Figure size 640x480 with 2 Axes>"
      ]
     },
     "metadata": {},
     "output_type": "display_data"
    }
   ],
   "source": [
    "sns.heatmap(\n",
    "    df.corr(), \n",
    "    annot=True, \n",
    "    fmt=\".1f\", \n",
    "    vmin=-1, \n",
    "    vmax=1, \n",
    "    cmap=sns.diverging_palette(145, 300, s=60, as_cmap=True),\n",
    ")"
   ]
  },
  {
   "cell_type": "code",
   "execution_count": 12,
   "id": "175b5fd9-ff81-44d0-88bb-d906703aa96d",
   "metadata": {},
   "outputs": [
    {
     "data": {
      "application/vnd.plotly.v1+json": {
       "config": {
        "plotlyServerURL": "https://plot.ly"
       },
       "data": [
        {
         "hovertemplate": "<b>%{hovertext}</b><br><br>Generative=True<br>x=%{x}<br>y=%{y}<extra></extra>",
         "hovertext": [
          "gpt-4-0613 (few-shot, val)",
          "gpt-3.5-turbo-0613 (few-shot)",
          "gpt-3.5-turbo-0613 (few-shot, val)",
          "RJuro/munin-neuralbeagle-7b (few-shot, val)",
          "timpal0l/BeagleCatMunin (few-shot, val)",
          "merge-crew/da-sv-dare-ties-density-0.9 (few-shot, val)",
          "merge-crew/da-sv-slerp (few-shot, val)",
          "merge-crew/da-sv-task-arithmetic (few-shot, val)",
          "birgermoell/Flashback-Bellman (few-shot, val)",
          "mhenrichsen/danskgpt-chat-v2.1 (few-shot)",
          "Mabeck/Heidrun-Mistral-7B-chat (few-shot)",
          "birgermoell/BeagleCatMunin-Flashback-Bellman (few-shot, val)",
          "birgermoell/Rapid-Cycling (few-shot, val)",
          "mlabonne/NeuralBeagle14-7B (few-shot, val)",
          "timpal0l/BeagleCatMunin2 (few-shot, val)",
          "merge-crew/da-sv-ties (few-shot, val)",
          "birgermoell/Munin-NeuralBeagle-NorskGPT (few-shot, val)",
          "birgermoell/WestLake-Munin-Cat-NorskGPT (few-shot, val)",
          "merge-crew/da-sv-dare-ties-density-0.6 (few-shot, val)",
          "RJuro/munin-neuralbeagle-SkoleGPTOpenOrca-7b (few-shot, val)",
          "bineric/NorskGPT-Mistral-7b (few-shot)",
          "Mabeck/Heidrun-Mistral-7B-base (few-shot)",
          "ThatsGroes/munin-SkoleGPTOpenOrca-7b-16bit (few-shot)",
          "KennethEnevoldsen/munin_mistral-7b (few-shot, val)",
          "timpal0l/Mistral-7B-v0.1-flashback-v2 (few-shot)",
          "birgermoell/NeuralBeagle-Flashback (few-shot, val)",
          "RuterNorway/Llama-2-13b-chat-norwegian (few-shot)",
          "mistralai/Mistral-7B-Instruct-v0.2 (few-shot)",
          "mistralai/Mistral-7B-v0.1 (few-shot)",
          "mistralai/Mistral-7B-Instruct-v0.1 (few-shot)",
          "occiglot/occiglot-7b-eu5 (few-shot)",
          "neph1/bellman-7b-mistral-instruct-v0.2 (few-shot)",
          "merge-crew/da-sv-dare-ties-density-0.3 (few-shot, val)",
          "meta-llama/Llama-2-7b-chat-hf (few-shot)",
          "AI-Sweden-Models/gpt-sw3-20b (few-shot)",
          "norallm/normistral-7b-warm (few-shot)",
          "danish-foundation-models/munin-7b-alpha (few-shot)",
          "Qwen/Qwen1.5-4B-Chat (few-shot)",
          "meta-llama/Llama-2-7b-hf (few-shot)",
          "01-ai/Yi-6B (few-shot)",
          "google/gemma-2b (few-shot)",
          "Qwen/Qwen1.5-4B (few-shot)",
          "occiglot/occiglot-7b-eu5-instruct (few-shot)",
          "AI-Sweden-Models/gpt-sw3-6.7b-v2 (few-shot)",
          "AI-Sweden-Models/gpt-sw3-1.3b-instruct (few-shot)",
          "AI-Sweden-Models/gpt-sw3-1.3b (few-shot)",
          "AI-Sweden-Models/gpt-sw3-6.7b (few-shot)",
          "norallm/normistral-7b-scratch (few-shot)",
          "google/gemma-2b-it (few-shot)",
          "AI-Sweden-Models/gpt-sw3-6.7b-v2-instruct (few-shot)",
          "NbAiLab/nb-gpt-j-6B-alpaca (few-shot)",
          "AI-Sweden-Models/gpt-sw3-356m-instruct (few-shot)",
          "Qwen/Qwen1.5-1.8B (few-shot)",
          "Qwen/Qwen1.5-1.8B-Chat (few-shot)",
          "AI-Sweden-Models/gpt-sw3-356m (few-shot)",
          "mhenrichsen/danskgpt-tiny-chat (few-shot)",
          "RuterNorway/Llama-2-7b-chat-norwegian (few-shot)",
          "mhenrichsen/danskgpt-tiny (few-shot)",
          "Qwen/Qwen1.5-0.5B-Chat (few-shot)",
          "allenai/OLMo-1B (few-shot)",
          "Qwen/Qwen1.5-0.5B (few-shot)",
          "NbAiLab/nb-gpt-j-6B-v2 (few-shot)",
          "AI-Sweden-Models/gpt-sw3-126m-instruct (few-shot)",
          "NbAiLab/nb-gpt-j-6B@sharded (few-shot)",
          "AI-Sweden-Models/gpt-sw3-126m (few-shot)",
          "RJuro/kanelsnegl-v0.1 (few-shot)",
          "RJuro/kanelsnegl-v0.2 (few-shot)",
          "ai-forever/mGPT (few-shot)",
          "peter-sk/gpt-neox-da (few-shot)"
         ],
         "legendgroup": "True",
         "marker": {
          "color": "#636efa",
          "symbol": "circle"
         },
         "mode": "markers",
         "name": "True",
         "orientation": "v",
         "showlegend": true,
         "type": "scatter",
         "x": [
          -102.74730283199717,
          -62.01647220820747,
          -65.48192229233904,
          -6.788701866430724,
          1.6791596309809593,
          0.3700718154523456,
          7.178975285558159,
          7.218918233047753,
          4.355055565089054,
          3.8535329528414373,
          0.2122671261879452,
          6.0706762372642915,
          5.161588096987534,
          -3.6406614551327654,
          3.4649275878745582,
          7.819399762913281,
          4.622125749658361,
          4.622125749658361,
          15.128852867741204,
          9.229704566454073,
          11.429184964034453,
          18.10129693635381,
          20.191155360988457,
          30.327510727997087,
          13.70149447090675,
          14.033083248948351,
          20.6032562360606,
          15.367619915409868,
          24.233786599266,
          24.897172499499824,
          41.73498183254807,
          16.8978060156316,
          42.13788450712218,
          39.83228885372425,
          44.63831830461567,
          43.88304063420912,
          35.76737147362527,
          58.52111642142428,
          49.05298844192792,
          47.4953190672729,
          79.57867852174579,
          63.907869049209566,
          48.87071711406009,
          62.467781774927246,
          77.65520891071536,
          92.84439526901059,
          82.15420043468157,
          88.94248686325544,
          72.12091782000275,
          77.45058524089247,
          86.38479521168628,
          91.95870841272438,
          90.00486314149558,
          81.89292291241841,
          83.40332690779873,
          85.42458304937813,
          99.9559993862146,
          95.31749911230536,
          104.92958215818602,
          100.25318250375878,
          100.5545105376642,
          123.04314509554818,
          100.8329125543394,
          130.82105532966105,
          127.10415301142747,
          134.39451004625306,
          136.39110170115677,
          139.89636716094645,
          140.8615785525571
         ],
         "xaxis": "x",
         "y": [
          -12.272201365238642,
          -22.580923835165958,
          -18.889481409842453,
          -44.585840246941395,
          -46.52107505277135,
          -43.80380491433041,
          -48.86933543061191,
          -49.01925199163409,
          -47.733282963302536,
          -48.19275474867521,
          -45.47988491101895,
          -47.58087946103582,
          -44.98386102712856,
          -33.495857608628796,
          -47.8876400842739,
          -45.634216486327155,
          -49.71047927191017,
          -49.71047927191017,
          -51.49581263364475,
          -47.1531626205921,
          -51.31482067234252,
          -44.43966406334639,
          -48.70306005527219,
          -58.39287751396087,
          -32.491643109142466,
          -33.79930484547944,
          -42.593795506277125,
          -27.717756606162265,
          -32.91873685468011,
          -34.63422933352528,
          -53.84255343524834,
          -18.03623149816189,
          -39.698999526624306,
          -38.12568856132934,
          -36.48841722974772,
          -35.664464758712356,
          -14.690674228287556,
          -39.283889176164365,
          -27.44265609485718,
          -38.06930709869236,
          -39.4380771006804,
          -24.20964671402847,
          -0.26164335585388676,
          -12.33932173600043,
          -32.799177330963374,
          -29.276181644926314,
          -27.180879470763273,
          -22.03374001844943,
          -14.61218876678021,
          -14.419247468594707,
          -13.345750015842581,
          -13.746728453082774,
          -15.010600613132151,
          -10.685011735003599,
          -1.6863732907964206,
          18.134578533615908,
          1.2235454203720038,
          25.988717217204297,
          11.231561355742954,
          24.92360766020423,
          15.761024582621229,
          30.305752378007295,
          33.224045588469664,
          39.36807990659352,
          47.10622908818561,
          48.85538656442156,
          51.9582542493441,
          54.860021827980326,
          59.72236817926861
         ],
         "yaxis": "y"
        },
        {
         "hovertemplate": "<b>%{hovertext}</b><br><br>Generative=False<br>x=%{x}<br>y=%{y}<extra></extra>",
         "hovertext": [
          "AI-Sweden-Models/roberta-large-1160k",
          "ltg/norbert3-large",
          "AI-Sweden-Models/roberta-large-1350k",
          "danish-foundation-models/encoder-large-v1",
          "KennethEnevoldsen/dfm-sentence-encoder-large-1",
          "KennethEnevoldsen/dfm-sentence-encoder-large-2",
          "google/rembert",
          "intfloat/multilingual-e5-large",
          "NbAiLab/nb-roberta-base-scandi",
          "microsoft/mdeberta-v3-base",
          "ltg/norbert3-base",
          "NbAiLab/nb-roberta-base-scandi-1e4",
          "FacebookAI/xlm-roberta-large",
          "sentence-transformers/use-cmlm-multilingual",
          "KennethEnevoldsen/dfm-sentence-encoder-medium-3",
          "vesteinn/ScandiBERT-no-faroese",
          "NbAiLab/nb-bert-base",
          "vesteinn/FoBERT",
          "pere/roberta-debug-8",
          "pere/roberta-base-exp-8",
          "setu4993/LaBSE",
          "pere/roberta-debug-32",
          "pere/roberta-base-exp-32",
          "AI-Sweden-Models/bert-large-nordic-pile-1M-steps",
          "pere/roberta-base-exp-32B",
          "vesteinn/DanskBERT",
          "ltg/norbert3-small",
          "KBLab/megatron-bert-large-swedish-cased-165k",
          "cardiffnlp/twitter-xlm-roberta-base",
          "AI-Nordics/bert-large-swedish-cased",
          "KBLab/megatron-bert-large-swedish-cased-110k",
          "microsoft/infoxlm-large",
          "google-bert/bert-base-multilingual-uncased",
          "Geotrend/bert-base-en-fr-de-no-da-cased",
          "KB/bert-base-swedish-cased",
          "KBLab/megatron-bert-base-swedish-cased-600k",
          "Geotrend/bert-base-25lang-cased",
          "google-bert/bert-base-multilingual-cased",
          "Geotrend/bert-base-en-no-cased",
          "KBLab/bert-base-swedish-cased",
          "microsoft/xlm-align-base",
          "facebook/xlm-v-base",
          "Geotrend/bert-base-en-da-cased",
          "jonfd/electra-small-nordic",
          "Geotrend/bert-base-da-cased",
          "microsoft/infoxlm-base",
          "KBLab/megatron-bert-base-swedish-cased-125k",
          "clips/mfaq",
          "flax-community/nordic-roberta-wiki",
          "jhu-clsp/bernice",
          "DDSC/roberta-base-scandinavian",
          "KBLab/bert-base-swedish-cased-new",
          "sentence-transformers/paraphrase-multilingual-mpnet-base-v2",
          "sentence-transformers/paraphrase-xlm-r-multilingual-v1",
          "flax-community/swe-roberta-wiki-oscar",
          "sentence-transformers/stsb-xlm-r-multilingual",
          "distilbert/distilbert-base-multilingual-cased",
          "Geotrend/distilbert-base-25lang-cased",
          "Geotrend/distilbert-base-en-fr-de-no-da-cased",
          "Geotrend/distilbert-base-en-no-cased",
          "Geotrend/distilbert-base-en-da-cased",
          "Twitter/twhin-bert-large",
          "Geotrend/distilbert-base-da-cased",
          "sarnikowski/convbert-medium-small-da-cased",
          "Addedk/kbbert-distilled-cased",
          "sentence-transformers/paraphrase-multilingual-MiniLM-L12-v2",
          "danish-foundation-models/encoder-medium-v1",
          "jannikskytt/MeDa-Bert",
          "DDSC/roberta-base-danish",
          "Maltehb/danish-bert-botxo",
          "ltg/norbert3-xs",
          "birgermoell/roberta-swedish-scandi",
          "Addedk/mbert-swedish-distilled-cased",
          "sarnikowski/electra-small-discriminator-da-256-cased",
          "sarnikowski/convbert-small-da-cased",
          "sentence-transformers/distilbert-multilingual-nli-stsb-quora-ranking",
          "sentence-transformers/quora-distilbert-multilingual",
          "dbmdz/bert-base-historic-multilingual-cased",
          "Maltehb/aelaectra-danish-electra-small-cased",
          "dbmdz/bert-medium-historic-multilingual-cased",
          "Maltehb/aelaectra-danish-electra-small-uncased",
          "jjzha/dajobbert-base-uncased",
          "sentence-transformers/distiluse-base-multilingual-cased-v1",
          "KBLab/albert-base-swedish-cased-alpha",
          "dbmdz/bert-mini-historic-multilingual-cased",
          "jannesg/bertsson",
          "alexanderfalk/danbert-small-cased",
          "3ebdola/Dialectal-Arabic-XLM-R-Base",
          "RabotaRu/HRBert-mini",
          "fresh-xlm-roberta-base",
          "fresh-electra-small"
         ],
         "legendgroup": "False",
         "marker": {
          "color": "#EF553B",
          "symbol": "circle"
         },
         "mode": "markers",
         "name": "False",
         "orientation": "v",
         "showlegend": true,
         "type": "scatter",
         "x": [
          -113.61957524607544,
          -115.3318807197025,
          -112.8105448910509,
          -98.73560920704924,
          -98.28411048087086,
          -98.68692096259444,
          -99.3049880912059,
          -86.55811618125604,
          -104.72879964972633,
          -100.5991206728953,
          -95.81310209294867,
          -103.4766513726731,
          -81.48645589659714,
          -85.5757724914928,
          -100.95679473186601,
          -99.1819989122046,
          -100.1331399327655,
          -95.99319219031122,
          -94.88253202120158,
          -89.34658443313464,
          -82.3721102903121,
          -91.58143523009731,
          -84.16402765481752,
          -69.39049090177389,
          -76.1048080069007,
          -64.07932025190638,
          -72.98562572297331,
          -51.51050404082173,
          -64.53813236553563,
          -52.631794734941636,
          -45.3956934623658,
          -26.872141686745035,
          -53.739436066566746,
          -45.07605142945579,
          -53.856601438065766,
          -39.97871374536153,
          -46.96399053919406,
          -49.68045327782812,
          -45.65521112773456,
          -52.77637729559423,
          -25.307892593911895,
          -45.561300035915146,
          -42.44774321122594,
          -76.39375084637483,
          -38.774399167329705,
          -18.51918695520135,
          -32.83307505134269,
          -31.479046769187768,
          -43.088640410472365,
          -44.367782860053026,
          -10.71617998459346,
          -24.172561971081365,
          -25.518251145168822,
          -32.33580519515099,
          -27.395640300982535,
          -26.12650048850955,
          -29.8742588058282,
          -25.991653786640054,
          -26.873744936572106,
          -26.839929298636598,
          -23.976373985527133,
          -5.067888213607253,
          -24.442673205834843,
          -23.191641881767318,
          -16.24213955063117,
          -12.629220226933207,
          1.1193236148445662,
          0.7107800837577799,
          10.9702078236381,
          0.8088203883610556,
          3.688144530316951,
          -2.750614791603936,
          -13.43783368018774,
          -14.094880382163085,
          -10.663266155902054,
          10.105487267456981,
          10.1891554751401,
          13.752088023833696,
          -11.951615720862243,
          16.66246635568352,
          5.421805710465647,
          19.676997769419607,
          43.00929123076308,
          39.218316662850256,
          44.403109012982995,
          58.04591842051767,
          70.069616641415,
          60.93975493419974,
          87.97679105503833,
          99.88523206413215,
          108.69435912180526
         ],
         "xaxis": "x",
         "y": [
          -6.359590639066236,
          -6.728416133387612,
          -5.964642326330583,
          -4.727229058768226,
          -3.1722271863001206,
          -2.6153608680255807,
          -0.8095575616593697,
          -13.906626458578563,
          16.39968942247584,
          5.572942218234104,
          0.43091943987777676,
          18.49569375111389,
          -10.573198748903849,
          -7.303684638648346,
          18.748970200903376,
          16.274260463729977,
          20.513202344525666,
          19.214755884217126,
          18.854754870171,
          16.426567705196334,
          0.9312323286833093,
          23.370545452905052,
          10.768900006282934,
          1.9920199292466403,
          19.05796407285788,
          8.955126133966285,
          12.014497720677554,
          -7.709560512995313,
          23.835775406153534,
          -2.7076461834674,
          -7.247504790718404,
          -31.555461256083856,
          10.38696897393223,
          1.6501501978039608,
          16.586644643249425,
          0.1510163186625357,
          3.1666881470010977,
          3.7298064050700748,
          2.263318929549761,
          16.36338128313168,
          -18.562960154909707,
          7.297822901170986,
          2.2597733608342496,
          63.123696656988905,
          4.634954523697278,
          -16.114707051282423,
          10.055855287745375,
          23.771164783461487,
          36.16913743524814,
          41.07823789882054,
          -0.9919646977930481,
          7.154251503656194,
          25.312855682934877,
          31.684117535375197,
          23.212419882901656,
          28.073579278501477,
          21.303594881615034,
          19.134860322733456,
          20.774420974549468,
          21.51280111796095,
          20.08745599742055,
          1.2147687578095325,
          22.875773292742636,
          35.28276293551488,
          22.960604482678978,
          27.325890734225617,
          15.239967863720128,
          17.012373702818962,
          -0.8375655377625898,
          24.80610891990627,
          1.9845215026923488,
          20.85942892896646,
          30.26590528828691,
          44.020353706005174,
          39.31276224214786,
          22.133307755576773,
          22.871150867001063,
          8.199756486844128,
          63.66749666474318,
          14.700475111639975,
          58.495906985038715,
          34.26815803196188,
          24.843104067883566,
          28.492959849736934,
          26.601308887832772,
          22.967515321101637,
          41.8322571516094,
          41.98219696602552,
          40.160579229664435,
          42.23235432852883,
          40.811752132606976
         ],
         "yaxis": "y"
        }
       ],
       "layout": {
        "height": 500,
        "legend": {
         "title": {
          "text": "Generative"
         },
         "tracegroupgap": 0
        },
        "template": {
         "data": {
          "bar": [
           {
            "error_x": {
             "color": "#2a3f5f"
            },
            "error_y": {
             "color": "#2a3f5f"
            },
            "marker": {
             "line": {
              "color": "#E5ECF6",
              "width": 0.5
             },
             "pattern": {
              "fillmode": "overlay",
              "size": 10,
              "solidity": 0.2
             }
            },
            "type": "bar"
           }
          ],
          "barpolar": [
           {
            "marker": {
             "line": {
              "color": "#E5ECF6",
              "width": 0.5
             },
             "pattern": {
              "fillmode": "overlay",
              "size": 10,
              "solidity": 0.2
             }
            },
            "type": "barpolar"
           }
          ],
          "carpet": [
           {
            "aaxis": {
             "endlinecolor": "#2a3f5f",
             "gridcolor": "white",
             "linecolor": "white",
             "minorgridcolor": "white",
             "startlinecolor": "#2a3f5f"
            },
            "baxis": {
             "endlinecolor": "#2a3f5f",
             "gridcolor": "white",
             "linecolor": "white",
             "minorgridcolor": "white",
             "startlinecolor": "#2a3f5f"
            },
            "type": "carpet"
           }
          ],
          "choropleth": [
           {
            "colorbar": {
             "outlinewidth": 0,
             "ticks": ""
            },
            "type": "choropleth"
           }
          ],
          "contour": [
           {
            "colorbar": {
             "outlinewidth": 0,
             "ticks": ""
            },
            "colorscale": [
             [
              0,
              "#0d0887"
             ],
             [
              0.1111111111111111,
              "#46039f"
             ],
             [
              0.2222222222222222,
              "#7201a8"
             ],
             [
              0.3333333333333333,
              "#9c179e"
             ],
             [
              0.4444444444444444,
              "#bd3786"
             ],
             [
              0.5555555555555556,
              "#d8576b"
             ],
             [
              0.6666666666666666,
              "#ed7953"
             ],
             [
              0.7777777777777778,
              "#fb9f3a"
             ],
             [
              0.8888888888888888,
              "#fdca26"
             ],
             [
              1,
              "#f0f921"
             ]
            ],
            "type": "contour"
           }
          ],
          "contourcarpet": [
           {
            "colorbar": {
             "outlinewidth": 0,
             "ticks": ""
            },
            "type": "contourcarpet"
           }
          ],
          "heatmap": [
           {
            "colorbar": {
             "outlinewidth": 0,
             "ticks": ""
            },
            "colorscale": [
             [
              0,
              "#0d0887"
             ],
             [
              0.1111111111111111,
              "#46039f"
             ],
             [
              0.2222222222222222,
              "#7201a8"
             ],
             [
              0.3333333333333333,
              "#9c179e"
             ],
             [
              0.4444444444444444,
              "#bd3786"
             ],
             [
              0.5555555555555556,
              "#d8576b"
             ],
             [
              0.6666666666666666,
              "#ed7953"
             ],
             [
              0.7777777777777778,
              "#fb9f3a"
             ],
             [
              0.8888888888888888,
              "#fdca26"
             ],
             [
              1,
              "#f0f921"
             ]
            ],
            "type": "heatmap"
           }
          ],
          "heatmapgl": [
           {
            "colorbar": {
             "outlinewidth": 0,
             "ticks": ""
            },
            "colorscale": [
             [
              0,
              "#0d0887"
             ],
             [
              0.1111111111111111,
              "#46039f"
             ],
             [
              0.2222222222222222,
              "#7201a8"
             ],
             [
              0.3333333333333333,
              "#9c179e"
             ],
             [
              0.4444444444444444,
              "#bd3786"
             ],
             [
              0.5555555555555556,
              "#d8576b"
             ],
             [
              0.6666666666666666,
              "#ed7953"
             ],
             [
              0.7777777777777778,
              "#fb9f3a"
             ],
             [
              0.8888888888888888,
              "#fdca26"
             ],
             [
              1,
              "#f0f921"
             ]
            ],
            "type": "heatmapgl"
           }
          ],
          "histogram": [
           {
            "marker": {
             "pattern": {
              "fillmode": "overlay",
              "size": 10,
              "solidity": 0.2
             }
            },
            "type": "histogram"
           }
          ],
          "histogram2d": [
           {
            "colorbar": {
             "outlinewidth": 0,
             "ticks": ""
            },
            "colorscale": [
             [
              0,
              "#0d0887"
             ],
             [
              0.1111111111111111,
              "#46039f"
             ],
             [
              0.2222222222222222,
              "#7201a8"
             ],
             [
              0.3333333333333333,
              "#9c179e"
             ],
             [
              0.4444444444444444,
              "#bd3786"
             ],
             [
              0.5555555555555556,
              "#d8576b"
             ],
             [
              0.6666666666666666,
              "#ed7953"
             ],
             [
              0.7777777777777778,
              "#fb9f3a"
             ],
             [
              0.8888888888888888,
              "#fdca26"
             ],
             [
              1,
              "#f0f921"
             ]
            ],
            "type": "histogram2d"
           }
          ],
          "histogram2dcontour": [
           {
            "colorbar": {
             "outlinewidth": 0,
             "ticks": ""
            },
            "colorscale": [
             [
              0,
              "#0d0887"
             ],
             [
              0.1111111111111111,
              "#46039f"
             ],
             [
              0.2222222222222222,
              "#7201a8"
             ],
             [
              0.3333333333333333,
              "#9c179e"
             ],
             [
              0.4444444444444444,
              "#bd3786"
             ],
             [
              0.5555555555555556,
              "#d8576b"
             ],
             [
              0.6666666666666666,
              "#ed7953"
             ],
             [
              0.7777777777777778,
              "#fb9f3a"
             ],
             [
              0.8888888888888888,
              "#fdca26"
             ],
             [
              1,
              "#f0f921"
             ]
            ],
            "type": "histogram2dcontour"
           }
          ],
          "mesh3d": [
           {
            "colorbar": {
             "outlinewidth": 0,
             "ticks": ""
            },
            "type": "mesh3d"
           }
          ],
          "parcoords": [
           {
            "line": {
             "colorbar": {
              "outlinewidth": 0,
              "ticks": ""
             }
            },
            "type": "parcoords"
           }
          ],
          "pie": [
           {
            "automargin": true,
            "type": "pie"
           }
          ],
          "scatter": [
           {
            "fillpattern": {
             "fillmode": "overlay",
             "size": 10,
             "solidity": 0.2
            },
            "type": "scatter"
           }
          ],
          "scatter3d": [
           {
            "line": {
             "colorbar": {
              "outlinewidth": 0,
              "ticks": ""
             }
            },
            "marker": {
             "colorbar": {
              "outlinewidth": 0,
              "ticks": ""
             }
            },
            "type": "scatter3d"
           }
          ],
          "scattercarpet": [
           {
            "marker": {
             "colorbar": {
              "outlinewidth": 0,
              "ticks": ""
             }
            },
            "type": "scattercarpet"
           }
          ],
          "scattergeo": [
           {
            "marker": {
             "colorbar": {
              "outlinewidth": 0,
              "ticks": ""
             }
            },
            "type": "scattergeo"
           }
          ],
          "scattergl": [
           {
            "marker": {
             "colorbar": {
              "outlinewidth": 0,
              "ticks": ""
             }
            },
            "type": "scattergl"
           }
          ],
          "scattermapbox": [
           {
            "marker": {
             "colorbar": {
              "outlinewidth": 0,
              "ticks": ""
             }
            },
            "type": "scattermapbox"
           }
          ],
          "scatterpolar": [
           {
            "marker": {
             "colorbar": {
              "outlinewidth": 0,
              "ticks": ""
             }
            },
            "type": "scatterpolar"
           }
          ],
          "scatterpolargl": [
           {
            "marker": {
             "colorbar": {
              "outlinewidth": 0,
              "ticks": ""
             }
            },
            "type": "scatterpolargl"
           }
          ],
          "scatterternary": [
           {
            "marker": {
             "colorbar": {
              "outlinewidth": 0,
              "ticks": ""
             }
            },
            "type": "scatterternary"
           }
          ],
          "surface": [
           {
            "colorbar": {
             "outlinewidth": 0,
             "ticks": ""
            },
            "colorscale": [
             [
              0,
              "#0d0887"
             ],
             [
              0.1111111111111111,
              "#46039f"
             ],
             [
              0.2222222222222222,
              "#7201a8"
             ],
             [
              0.3333333333333333,
              "#9c179e"
             ],
             [
              0.4444444444444444,
              "#bd3786"
             ],
             [
              0.5555555555555556,
              "#d8576b"
             ],
             [
              0.6666666666666666,
              "#ed7953"
             ],
             [
              0.7777777777777778,
              "#fb9f3a"
             ],
             [
              0.8888888888888888,
              "#fdca26"
             ],
             [
              1,
              "#f0f921"
             ]
            ],
            "type": "surface"
           }
          ],
          "table": [
           {
            "cells": {
             "fill": {
              "color": "#EBF0F8"
             },
             "line": {
              "color": "white"
             }
            },
            "header": {
             "fill": {
              "color": "#C8D4E3"
             },
             "line": {
              "color": "white"
             }
            },
            "type": "table"
           }
          ]
         },
         "layout": {
          "annotationdefaults": {
           "arrowcolor": "#2a3f5f",
           "arrowhead": 0,
           "arrowwidth": 1
          },
          "autotypenumbers": "strict",
          "coloraxis": {
           "colorbar": {
            "outlinewidth": 0,
            "ticks": ""
           }
          },
          "colorscale": {
           "diverging": [
            [
             0,
             "#8e0152"
            ],
            [
             0.1,
             "#c51b7d"
            ],
            [
             0.2,
             "#de77ae"
            ],
            [
             0.3,
             "#f1b6da"
            ],
            [
             0.4,
             "#fde0ef"
            ],
            [
             0.5,
             "#f7f7f7"
            ],
            [
             0.6,
             "#e6f5d0"
            ],
            [
             0.7,
             "#b8e186"
            ],
            [
             0.8,
             "#7fbc41"
            ],
            [
             0.9,
             "#4d9221"
            ],
            [
             1,
             "#276419"
            ]
           ],
           "sequential": [
            [
             0,
             "#0d0887"
            ],
            [
             0.1111111111111111,
             "#46039f"
            ],
            [
             0.2222222222222222,
             "#7201a8"
            ],
            [
             0.3333333333333333,
             "#9c179e"
            ],
            [
             0.4444444444444444,
             "#bd3786"
            ],
            [
             0.5555555555555556,
             "#d8576b"
            ],
            [
             0.6666666666666666,
             "#ed7953"
            ],
            [
             0.7777777777777778,
             "#fb9f3a"
            ],
            [
             0.8888888888888888,
             "#fdca26"
            ],
            [
             1,
             "#f0f921"
            ]
           ],
           "sequentialminus": [
            [
             0,
             "#0d0887"
            ],
            [
             0.1111111111111111,
             "#46039f"
            ],
            [
             0.2222222222222222,
             "#7201a8"
            ],
            [
             0.3333333333333333,
             "#9c179e"
            ],
            [
             0.4444444444444444,
             "#bd3786"
            ],
            [
             0.5555555555555556,
             "#d8576b"
            ],
            [
             0.6666666666666666,
             "#ed7953"
            ],
            [
             0.7777777777777778,
             "#fb9f3a"
            ],
            [
             0.8888888888888888,
             "#fdca26"
            ],
            [
             1,
             "#f0f921"
            ]
           ]
          },
          "colorway": [
           "#636efa",
           "#EF553B",
           "#00cc96",
           "#ab63fa",
           "#FFA15A",
           "#19d3f3",
           "#FF6692",
           "#B6E880",
           "#FF97FF",
           "#FECB52"
          ],
          "font": {
           "color": "#2a3f5f"
          },
          "geo": {
           "bgcolor": "white",
           "lakecolor": "white",
           "landcolor": "#E5ECF6",
           "showlakes": true,
           "showland": true,
           "subunitcolor": "white"
          },
          "hoverlabel": {
           "align": "left"
          },
          "hovermode": "closest",
          "mapbox": {
           "style": "light"
          },
          "paper_bgcolor": "white",
          "plot_bgcolor": "#E5ECF6",
          "polar": {
           "angularaxis": {
            "gridcolor": "white",
            "linecolor": "white",
            "ticks": ""
           },
           "bgcolor": "#E5ECF6",
           "radialaxis": {
            "gridcolor": "white",
            "linecolor": "white",
            "ticks": ""
           }
          },
          "scene": {
           "xaxis": {
            "backgroundcolor": "#E5ECF6",
            "gridcolor": "white",
            "gridwidth": 2,
            "linecolor": "white",
            "showbackground": true,
            "ticks": "",
            "zerolinecolor": "white"
           },
           "yaxis": {
            "backgroundcolor": "#E5ECF6",
            "gridcolor": "white",
            "gridwidth": 2,
            "linecolor": "white",
            "showbackground": true,
            "ticks": "",
            "zerolinecolor": "white"
           },
           "zaxis": {
            "backgroundcolor": "#E5ECF6",
            "gridcolor": "white",
            "gridwidth": 2,
            "linecolor": "white",
            "showbackground": true,
            "ticks": "",
            "zerolinecolor": "white"
           }
          },
          "shapedefaults": {
           "line": {
            "color": "#2a3f5f"
           }
          },
          "ternary": {
           "aaxis": {
            "gridcolor": "white",
            "linecolor": "white",
            "ticks": ""
           },
           "baxis": {
            "gridcolor": "white",
            "linecolor": "white",
            "ticks": ""
           },
           "bgcolor": "#E5ECF6",
           "caxis": {
            "gridcolor": "white",
            "linecolor": "white",
            "ticks": ""
           }
          },
          "title": {
           "x": 0.05
          },
          "xaxis": {
           "automargin": true,
           "gridcolor": "white",
           "linecolor": "white",
           "ticks": "",
           "title": {
            "standoff": 15
           },
           "zerolinecolor": "white",
           "zerolinewidth": 2
          },
          "yaxis": {
           "automargin": true,
           "gridcolor": "white",
           "linecolor": "white",
           "ticks": "",
           "title": {
            "standoff": 15
           },
           "zerolinecolor": "white",
           "zerolinewidth": 2
          }
         }
        },
        "title": {
         "text": "PCA Projection of Model Performance"
        },
        "width": 650,
        "xaxis": {
         "anchor": "y",
         "autorange": true,
         "domain": [
          0,
          1
         ],
         "range": [
          -132.1451570533787,
          157.6748548862333
         ],
         "title": {
          "text": "x"
         },
         "type": "linear"
        },
        "yaxis": {
         "anchor": "x",
         "autorange": true,
         "domain": [
          0,
          1
         ],
         "range": [
          -66.98714628411918,
          72.26176543490149
         ],
         "title": {
          "text": "y"
         },
         "type": "linear"
        }
       }
      },
      "image/png": "[encoded data removed]",
      "text/html": [
       "<div>                            <div id=\"061cbd23-aae0-4a19-98c6-907a2d94f4a1\" class=\"plotly-graph-div\" style=\"height:500px; width:650px;\"></div>            <script type=\"text/javascript\">                require([\"plotly\"], function(Plotly) {                    window.PLOTLYENV=window.PLOTLYENV || {};                                    if (document.getElementById(\"061cbd23-aae0-4a19-98c6-907a2d94f4a1\")) {                    Plotly.newPlot(                        \"061cbd23-aae0-4a19-98c6-907a2d94f4a1\",                        [{\"hovertemplate\":\"\\u003cb\\u003e%{hovertext}\\u003c\\u002fb\\u003e\\u003cbr\\u003e\\u003cbr\\u003eGenerative=True\\u003cbr\\u003ex=%{x}\\u003cbr\\u003ey=%{y}\\u003cextra\\u003e\\u003c\\u002fextra\\u003e\",\"hovertext\":[\"gpt-4-0613 (few-shot, val)\",\"gpt-3.5-turbo-0613 (few-shot)\",\"gpt-3.5-turbo-0613 (few-shot, val)\",\"RJuro\\u002fmunin-neuralbeagle-7b (few-shot, val)\",\"timpal0l\\u002fBeagleCatMunin (few-shot, val)\",\"merge-crew\\u002fda-sv-dare-ties-density-0.9 (few-shot, val)\",\"merge-crew\\u002fda-sv-slerp (few-shot, val)\",\"merge-crew\\u002fda-sv-task-arithmetic (few-shot, val)\",\"birgermoell\\u002fFlashback-Bellman (few-shot, val)\",\"mhenrichsen\\u002fdanskgpt-chat-v2.1 (few-shot)\",\"Mabeck\\u002fHeidrun-Mistral-7B-chat (few-shot)\",\"birgermoell\\u002fBeagleCatMunin-Flashback-Bellman (few-shot, val)\",\"birgermoell\\u002fRapid-Cycling (few-shot, val)\",\"mlabonne\\u002fNeuralBeagle14-7B (few-shot, val)\",\"timpal0l\\u002fBeagleCatMunin2 (few-shot, val)\",\"merge-crew\\u002fda-sv-ties (few-shot, val)\",\"birgermoell\\u002fMunin-NeuralBeagle-NorskGPT (few-shot, val)\",\"birgermoell\\u002fWestLake-Munin-Cat-NorskGPT (few-shot, val)\",\"merge-crew\\u002fda-sv-dare-ties-density-0.6 (few-shot, val)\",\"RJuro\\u002fmunin-neuralbeagle-SkoleGPTOpenOrca-7b (few-shot, val)\",\"bineric\\u002fNorskGPT-Mistral-7b (few-shot)\",\"Mabeck\\u002fHeidrun-Mistral-7B-base (few-shot)\",\"ThatsGroes\\u002fmunin-SkoleGPTOpenOrca-7b-16bit (few-shot)\",\"KennethEnevoldsen\\u002fmunin_mistral-7b (few-shot, val)\",\"timpal0l\\u002fMistral-7B-v0.1-flashback-v2 (few-shot)\",\"birgermoell\\u002fNeuralBeagle-Flashback (few-shot, val)\",\"RuterNorway\\u002fLlama-2-13b-chat-norwegian (few-shot)\",\"mistralai\\u002fMistral-7B-Instruct-v0.2 (few-shot)\",\"mistralai\\u002fMistral-7B-v0.1 (few-shot)\",\"mistralai\\u002fMistral-7B-Instruct-v0.1 (few-shot)\",\"occiglot\\u002focciglot-7b-eu5 (few-shot)\",\"neph1\\u002fbellman-7b-mistral-instruct-v0.2 (few-shot)\",\"merge-crew\\u002fda-sv-dare-ties-density-0.3 (few-shot, val)\",\"meta-llama\\u002fLlama-2-7b-chat-hf (few-shot)\",\"AI-Sweden-Models\\u002fgpt-sw3-20b (few-shot)\",\"norallm\\u002fnormistral-7b-warm (few-shot)\",\"danish-foundation-models\\u002fmunin-7b-alpha (few-shot)\",\"Qwen\\u002fQwen1.5-4B-Chat (few-shot)\",\"meta-llama\\u002fLlama-2-7b-hf (few-shot)\",\"01-ai\\u002fYi-6B (few-shot)\",\"google\\u002fgemma-2b (few-shot)\",\"Qwen\\u002fQwen1.5-4B (few-shot)\",\"occiglot\\u002focciglot-7b-eu5-instruct (few-shot)\",\"AI-Sweden-Models\\u002fgpt-sw3-6.7b-v2 (few-shot)\",\"AI-Sweden-Models\\u002fgpt-sw3-1.3b-instruct (few-shot)\",\"AI-Sweden-Models\\u002fgpt-sw3-1.3b (few-shot)\",\"AI-Sweden-Models\\u002fgpt-sw3-6.7b (few-shot)\",\"norallm\\u002fnormistral-7b-scratch (few-shot)\",\"google\\u002fgemma-2b-it (few-shot)\",\"AI-Sweden-Models\\u002fgpt-sw3-6.7b-v2-instruct (few-shot)\",\"NbAiLab\\u002fnb-gpt-j-6B-alpaca (few-shot)\",\"AI-Sweden-Models\\u002fgpt-sw3-356m-instruct (few-shot)\",\"Qwen\\u002fQwen1.5-1.8B (few-shot)\",\"Qwen\\u002fQwen1.5-1.8B-Chat (few-shot)\",\"AI-Sweden-Models\\u002fgpt-sw3-356m (few-shot)\",\"mhenrichsen\\u002fdanskgpt-tiny-chat (few-shot)\",\"RuterNorway\\u002fLlama-2-7b-chat-norwegian (few-shot)\",\"mhenrichsen\\u002fdanskgpt-tiny (few-shot)\",\"Qwen\\u002fQwen1.5-0.5B-Chat (few-shot)\",\"allenai\\u002fOLMo-1B (few-shot)\",\"Qwen\\u002fQwen1.5-0.5B (few-shot)\",\"NbAiLab\\u002fnb-gpt-j-6B-v2 (few-shot)\",\"AI-Sweden-Models\\u002fgpt-sw3-126m-instruct (few-shot)\",\"NbAiLab\\u002fnb-gpt-j-6B@sharded (few-shot)\",\"AI-Sweden-Models\\u002fgpt-sw3-126m (few-shot)\",\"RJuro\\u002fkanelsnegl-v0.1 (few-shot)\",\"RJuro\\u002fkanelsnegl-v0.2 (few-shot)\",\"ai-forever\\u002fmGPT (few-shot)\",\"peter-sk\\u002fgpt-neox-da (few-shot)\"],\"legendgroup\":\"True\",\"marker\":{\"color\":\"#636efa\",\"symbol\":\"circle\"},\"mode\":\"markers\",\"name\":\"True\",\"orientation\":\"v\",\"showlegend\":true,\"x\":[-102.74730283199717,-62.01647220820747,-65.48192229233904,-6.788701866430724,1.6791596309809593,0.3700718154523456,7.178975285558159,7.218918233047753,4.355055565089054,3.8535329528414373,0.2122671261879452,6.0706762372642915,5.161588096987534,-3.6406614551327654,3.4649275878745582,7.819399762913281,4.622125749658361,4.622125749658361,15.128852867741204,9.229704566454073,11.429184964034453,18.10129693635381,20.191155360988457,30.327510727997087,13.70149447090675,14.033083248948351,20.6032562360606,15.367619915409868,24.233786599266,24.897172499499824,41.73498183254807,16.8978060156316,42.13788450712218,39.83228885372425,44.63831830461567,43.88304063420912,35.76737147362527,58.52111642142428,49.05298844192792,47.4953190672729,79.57867852174579,63.907869049209566,48.87071711406009,62.467781774927246,77.65520891071536,92.84439526901059,82.15420043468157,88.94248686325544,72.12091782000275,77.45058524089247,86.38479521168628,91.95870841272438,90.00486314149558,81.89292291241841,83.40332690779873,85.42458304937813,99.9559993862146,95.31749911230536,104.92958215818602,100.25318250375878,100.5545105376642,123.04314509554818,100.8329125543394,130.82105532966105,127.10415301142747,134.39451004625306,136.39110170115677,139.89636716094645,140.8615785525571],\"xaxis\":\"x\",\"y\":[-12.272201365238642,-22.580923835165958,-18.889481409842453,-44.585840246941395,-46.52107505277135,-43.80380491433041,-48.86933543061191,-49.01925199163409,-47.733282963302536,-48.19275474867521,-45.47988491101895,-47.58087946103582,-44.98386102712856,-33.495857608628796,-47.8876400842739,-45.634216486327155,-49.71047927191017,-49.71047927191017,-51.49581263364475,-47.1531626205921,-51.31482067234252,-44.43966406334639,-48.70306005527219,-58.39287751396087,-32.491643109142466,-33.79930484547944,-42.593795506277125,-27.717756606162265,-32.91873685468011,-34.63422933352528,-53.84255343524834,-18.03623149816189,-39.698999526624306,-38.12568856132934,-36.48841722974772,-35.664464758712356,-14.690674228287556,-39.283889176164365,-27.44265609485718,-38.06930709869236,-39.4380771006804,-24.20964671402847,-0.26164335585388676,-12.33932173600043,-32.799177330963374,-29.276181644926314,-27.180879470763273,-22.03374001844943,-14.61218876678021,-14.419247468594707,-13.345750015842581,-13.746728453082774,-15.010600613132151,-10.685011735003599,-1.6863732907964206,18.134578533615908,1.2235454203720038,25.988717217204297,11.231561355742954,24.92360766020423,15.761024582621229,30.305752378007295,33.224045588469664,39.36807990659352,47.10622908818561,48.85538656442156,51.9582542493441,54.860021827980326,59.72236817926861],\"yaxis\":\"y\",\"type\":\"scatter\"},{\"hovertemplate\":\"\\u003cb\\u003e%{hovertext}\\u003c\\u002fb\\u003e\\u003cbr\\u003e\\u003cbr\\u003eGenerative=False\\u003cbr\\u003ex=%{x}\\u003cbr\\u003ey=%{y}\\u003cextra\\u003e\\u003c\\u002fextra\\u003e\",\"hovertext\":[\"AI-Sweden-Models\\u002froberta-large-1160k\",\"ltg\\u002fnorbert3-large\",\"AI-Sweden-Models\\u002froberta-large-1350k\",\"danish-foundation-models\\u002fencoder-large-v1\",\"KennethEnevoldsen\\u002fdfm-sentence-encoder-large-1\",\"KennethEnevoldsen\\u002fdfm-sentence-encoder-large-2\",\"google\\u002frembert\",\"intfloat\\u002fmultilingual-e5-large\",\"NbAiLab\\u002fnb-roberta-base-scandi\",\"microsoft\\u002fmdeberta-v3-base\",\"ltg\\u002fnorbert3-base\",\"NbAiLab\\u002fnb-roberta-base-scandi-1e4\",\"FacebookAI\\u002fxlm-roberta-large\",\"sentence-transformers\\u002fuse-cmlm-multilingual\",\"KennethEnevoldsen\\u002fdfm-sentence-encoder-medium-3\",\"vesteinn\\u002fScandiBERT-no-faroese\",\"NbAiLab\\u002fnb-bert-base\",\"vesteinn\\u002fFoBERT\",\"pere\\u002froberta-debug-8\",\"pere\\u002froberta-base-exp-8\",\"setu4993\\u002fLaBSE\",\"pere\\u002froberta-debug-32\",\"pere\\u002froberta-base-exp-32\",\"AI-Sweden-Models\\u002fbert-large-nordic-pile-1M-steps\",\"pere\\u002froberta-base-exp-32B\",\"vesteinn\\u002fDanskBERT\",\"ltg\\u002fnorbert3-small\",\"KBLab\\u002fmegatron-bert-large-swedish-cased-165k\",\"cardiffnlp\\u002ftwitter-xlm-roberta-base\",\"AI-Nordics\\u002fbert-large-swedish-cased\",\"KBLab\\u002fmegatron-bert-large-swedish-cased-110k\",\"microsoft\\u002finfoxlm-large\",\"google-bert\\u002fbert-base-multilingual-uncased\",\"Geotrend\\u002fbert-base-en-fr-de-no-da-cased\",\"KB\\u002fbert-base-swedish-cased\",\"KBLab\\u002fmegatron-bert-base-swedish-cased-600k\",\"Geotrend\\u002fbert-base-25lang-cased\",\"google-bert\\u002fbert-base-multilingual-cased\",\"Geotrend\\u002fbert-base-en-no-cased\",\"KBLab\\u002fbert-base-swedish-cased\",\"microsoft\\u002fxlm-align-base\",\"facebook\\u002fxlm-v-base\",\"Geotrend\\u002fbert-base-en-da-cased\",\"jonfd\\u002felectra-small-nordic\",\"Geotrend\\u002fbert-base-da-cased\",\"microsoft\\u002finfoxlm-base\",\"KBLab\\u002fmegatron-bert-base-swedish-cased-125k\",\"clips\\u002fmfaq\",\"flax-community\\u002fnordic-roberta-wiki\",\"jhu-clsp\\u002fbernice\",\"DDSC\\u002froberta-base-scandinavian\",\"KBLab\\u002fbert-base-swedish-cased-new\",\"sentence-transformers\\u002fparaphrase-multilingual-mpnet-base-v2\",\"sentence-transformers\\u002fparaphrase-xlm-r-multilingual-v1\",\"flax-community\\u002fswe-roberta-wiki-oscar\",\"sentence-transformers\\u002fstsb-xlm-r-multilingual\",\"distilbert\\u002fdistilbert-base-multilingual-cased\",\"Geotrend\\u002fdistilbert-base-25lang-cased\",\"Geotrend\\u002fdistilbert-base-en-fr-de-no-da-cased\",\"Geotrend\\u002fdistilbert-base-en-no-cased\",\"Geotrend\\u002fdistilbert-base-en-da-cased\",\"Twitter\\u002ftwhin-bert-large\",\"Geotrend\\u002fdistilbert-base-da-cased\",\"sarnikowski\\u002fconvbert-medium-small-da-cased\",\"Addedk\\u002fkbbert-distilled-cased\",\"sentence-transformers\\u002fparaphrase-multilingual-MiniLM-L12-v2\",\"danish-foundation-models\\u002fencoder-medium-v1\",\"jannikskytt\\u002fMeDa-Bert\",\"DDSC\\u002froberta-base-danish\",\"Maltehb\\u002fdanish-bert-botxo\",\"ltg\\u002fnorbert3-xs\",\"birgermoell\\u002froberta-swedish-scandi\",\"Addedk\\u002fmbert-swedish-distilled-cased\",\"sarnikowski\\u002felectra-small-discriminator-da-256-cased\",\"sarnikowski\\u002fconvbert-small-da-cased\",\"sentence-transformers\\u002fdistilbert-multilingual-nli-stsb-quora-ranking\",\"sentence-transformers\\u002fquora-distilbert-multilingual\",\"dbmdz\\u002fbert-base-historic-multilingual-cased\",\"Maltehb\\u002faelaectra-danish-electra-small-cased\",\"dbmdz\\u002fbert-medium-historic-multilingual-cased\",\"Maltehb\\u002faelaectra-danish-electra-small-uncased\",\"jjzha\\u002fdajobbert-base-uncased\",\"sentence-transformers\\u002fdistiluse-base-multilingual-cased-v1\",\"KBLab\\u002falbert-base-swedish-cased-alpha\",\"dbmdz\\u002fbert-mini-historic-multilingual-cased\",\"jannesg\\u002fbertsson\",\"alexanderfalk\\u002fdanbert-small-cased\",\"3ebdola\\u002fDialectal-Arabic-XLM-R-Base\",\"RabotaRu\\u002fHRBert-mini\",\"fresh-xlm-roberta-base\",\"fresh-electra-small\"],\"legendgroup\":\"False\",\"marker\":{\"color\":\"#EF553B\",\"symbol\":\"circle\"},\"mode\":\"markers\",\"name\":\"False\",\"orientation\":\"v\",\"showlegend\":true,\"x\":[-113.61957524607544,-115.3318807197025,-112.8105448910509,-98.73560920704924,-98.28411048087086,-98.68692096259444,-99.3049880912059,-86.55811618125604,-104.72879964972633,-100.5991206728953,-95.81310209294867,-103.4766513726731,-81.48645589659714,-85.5757724914928,-100.95679473186601,-99.1819989122046,-100.1331399327655,-95.99319219031122,-94.88253202120158,-89.34658443313464,-82.3721102903121,-91.58143523009731,-84.16402765481752,-69.39049090177389,-76.1048080069007,-64.07932025190638,-72.98562572297331,-51.51050404082173,-64.53813236553563,-52.631794734941636,-45.3956934623658,-26.872141686745035,-53.739436066566746,-45.07605142945579,-53.856601438065766,-39.97871374536153,-46.96399053919406,-49.68045327782812,-45.65521112773456,-52.77637729559423,-25.307892593911895,-45.561300035915146,-42.44774321122594,-76.39375084637483,-38.774399167329705,-18.51918695520135,-32.83307505134269,-31.479046769187768,-43.088640410472365,-44.367782860053026,-10.71617998459346,-24.172561971081365,-25.518251145168822,-32.33580519515099,-27.395640300982535,-26.12650048850955,-29.8742588058282,-25.991653786640054,-26.873744936572106,-26.839929298636598,-23.976373985527133,-5.067888213607253,-24.442673205834843,-23.191641881767318,-16.24213955063117,-12.629220226933207,1.1193236148445662,0.7107800837577799,10.9702078236381,0.8088203883610556,3.688144530316951,-2.750614791603936,-13.43783368018774,-14.094880382163085,-10.663266155902054,10.105487267456981,10.1891554751401,13.752088023833696,-11.951615720862243,16.66246635568352,5.421805710465647,19.676997769419607,43.00929123076308,39.218316662850256,44.403109012982995,58.04591842051767,70.069616641415,60.93975493419974,87.97679105503833,99.88523206413215,108.69435912180526],\"xaxis\":\"x\",\"y\":[-6.359590639066236,-6.728416133387612,-5.964642326330583,-4.727229058768226,-3.1722271863001206,-2.6153608680255807,-0.8095575616593697,-13.906626458578563,16.39968942247584,5.572942218234104,0.43091943987777676,18.49569375111389,-10.573198748903849,-7.303684638648346,18.748970200903376,16.274260463729977,20.513202344525666,19.214755884217126,18.854754870171,16.426567705196334,0.9312323286833093,23.370545452905052,10.768900006282934,1.9920199292466403,19.05796407285788,8.955126133966285,12.014497720677554,-7.709560512995313,23.835775406153534,-2.7076461834674,-7.247504790718404,-31.555461256083856,10.38696897393223,1.6501501978039608,16.586644643249425,0.1510163186625357,3.1666881470010977,3.7298064050700748,2.263318929549761,16.36338128313168,-18.562960154909707,7.297822901170986,2.2597733608342496,63.123696656988905,4.634954523697278,-16.114707051282423,10.055855287745375,23.771164783461487,36.16913743524814,41.07823789882054,-0.9919646977930481,7.154251503656194,25.312855682934877,31.684117535375197,23.212419882901656,28.073579278501477,21.303594881615034,19.134860322733456,20.774420974549468,21.51280111796095,20.08745599742055,1.2147687578095325,22.875773292742636,35.28276293551488,22.960604482678978,27.325890734225617,15.239967863720128,17.012373702818962,-0.8375655377625898,24.80610891990627,1.9845215026923488,20.85942892896646,30.26590528828691,44.020353706005174,39.31276224214786,22.133307755576773,22.871150867001063,8.199756486844128,63.66749666474318,14.700475111639975,58.495906985038715,34.26815803196188,24.843104067883566,28.492959849736934,26.601308887832772,22.967515321101637,41.8322571516094,41.98219696602552,40.160579229664435,42.23235432852883,40.811752132606976],\"yaxis\":\"y\",\"type\":\"scatter\"}],                        {\"template\":{\"data\":{\"histogram2dcontour\":[{\"type\":\"histogram2dcontour\",\"colorbar\":{\"outlinewidth\":0,\"ticks\":\"\"},\"colorscale\":[[0.0,\"#0d0887\"],[0.1111111111111111,\"#46039f\"],[0.2222222222222222,\"#7201a8\"],[0.3333333333333333,\"#9c179e\"],[0.4444444444444444,\"#bd3786\"],[0.5555555555555556,\"#d8576b\"],[0.6666666666666666,\"#ed7953\"],[0.7777777777777778,\"#fb9f3a\"],[0.8888888888888888,\"#fdca26\"],[1.0,\"#f0f921\"]]}],\"choropleth\":[{\"type\":\"choropleth\",\"colorbar\":{\"outlinewidth\":0,\"ticks\":\"\"}}],\"histogram2d\":[{\"type\":\"histogram2d\",\"colorbar\":{\"outlinewidth\":0,\"ticks\":\"\"},\"colorscale\":[[0.0,\"#0d0887\"],[0.1111111111111111,\"#46039f\"],[0.2222222222222222,\"#7201a8\"],[0.3333333333333333,\"#9c179e\"],[0.4444444444444444,\"#bd3786\"],[0.5555555555555556,\"#d8576b\"],[0.6666666666666666,\"#ed7953\"],[0.7777777777777778,\"#fb9f3a\"],[0.8888888888888888,\"#fdca26\"],[1.0,\"#f0f921\"]]}],\"heatmap\":[{\"type\":\"heatmap\",\"colorbar\":{\"outlinewidth\":0,\"ticks\":\"\"},\"colorscale\":[[0.0,\"#0d0887\"],[0.1111111111111111,\"#46039f\"],[0.2222222222222222,\"#7201a8\"],[0.3333333333333333,\"#9c179e\"],[0.4444444444444444,\"#bd3786\"],[0.5555555555555556,\"#d8576b\"],[0.6666666666666666,\"#ed7953\"],[0.7777777777777778,\"#fb9f3a\"],[0.8888888888888888,\"#fdca26\"],[1.0,\"#f0f921\"]]}],\"heatmapgl\":[{\"type\":\"heatmapgl\",\"colorbar\":{\"outlinewidth\":0,\"ticks\":\"\"},\"colorscale\":[[0.0,\"#0d0887\"],[0.1111111111111111,\"#46039f\"],[0.2222222222222222,\"#7201a8\"],[0.3333333333333333,\"#9c179e\"],[0.4444444444444444,\"#bd3786\"],[0.5555555555555556,\"#d8576b\"],[0.6666666666666666,\"#ed7953\"],[0.7777777777777778,\"#fb9f3a\"],[0.8888888888888888,\"#fdca26\"],[1.0,\"#f0f921\"]]}],\"contourcarpet\":[{\"type\":\"contourcarpet\",\"colorbar\":{\"outlinewidth\":0,\"ticks\":\"\"}}],\"contour\":[{\"type\":\"contour\",\"colorbar\":{\"outlinewidth\":0,\"ticks\":\"\"},\"colorscale\":[[0.0,\"#0d0887\"],[0.1111111111111111,\"#46039f\"],[0.2222222222222222,\"#7201a8\"],[0.3333333333333333,\"#9c179e\"],[0.4444444444444444,\"#bd3786\"],[0.5555555555555556,\"#d8576b\"],[0.6666666666666666,\"#ed7953\"],[0.7777777777777778,\"#fb9f3a\"],[0.8888888888888888,\"#fdca26\"],[1.0,\"#f0f921\"]]}],\"surface\":[{\"type\":\"surface\",\"colorbar\":{\"outlinewidth\":0,\"ticks\":\"\"},\"colorscale\":[[0.0,\"#0d0887\"],[0.1111111111111111,\"#46039f\"],[0.2222222222222222,\"#7201a8\"],[0.3333333333333333,\"#9c179e\"],[0.4444444444444444,\"#bd3786\"],[0.5555555555555556,\"#d8576b\"],[0.6666666666666666,\"#ed7953\"],[0.7777777777777778,\"#fb9f3a\"],[0.8888888888888888,\"#fdca26\"],[1.0,\"#f0f921\"]]}],\"mesh3d\":[{\"type\":\"mesh3d\",\"colorbar\":{\"outlinewidth\":0,\"ticks\":\"\"}}],\"scatter\":[{\"fillpattern\":{\"fillmode\":\"overlay\",\"size\":10,\"solidity\":0.2},\"type\":\"scatter\"}],\"parcoords\":[{\"type\":\"parcoords\",\"line\":{\"colorbar\":{\"outlinewidth\":0,\"ticks\":\"\"}}}],\"scatterpolargl\":[{\"type\":\"scatterpolargl\",\"marker\":{\"colorbar\":{\"outlinewidth\":0,\"ticks\":\"\"}}}],\"bar\":[{\"error_x\":{\"color\":\"#2a3f5f\"},\"error_y\":{\"color\":\"#2a3f5f\"},\"marker\":{\"line\":{\"color\":\"#E5ECF6\",\"width\":0.5},\"pattern\":{\"fillmode\":\"overlay\",\"size\":10,\"solidity\":0.2}},\"type\":\"bar\"}],\"scattergeo\":[{\"type\":\"scattergeo\",\"marker\":{\"colorbar\":{\"outlinewidth\":0,\"ticks\":\"\"}}}],\"scatterpolar\":[{\"type\":\"scatterpolar\",\"marker\":{\"colorbar\":{\"outlinewidth\":0,\"ticks\":\"\"}}}],\"histogram\":[{\"marker\":{\"pattern\":{\"fillmode\":\"overlay\",\"size\":10,\"solidity\":0.2}},\"type\":\"histogram\"}],\"scattergl\":[{\"type\":\"scattergl\",\"marker\":{\"colorbar\":{\"outlinewidth\":0,\"ticks\":\"\"}}}],\"scatter3d\":[{\"type\":\"scatter3d\",\"line\":{\"colorbar\":{\"outlinewidth\":0,\"ticks\":\"\"}},\"marker\":{\"colorbar\":{\"outlinewidth\":0,\"ticks\":\"\"}}}],\"scattermapbox\":[{\"type\":\"scattermapbox\",\"marker\":{\"colorbar\":{\"outlinewidth\":0,\"ticks\":\"\"}}}],\"scatterternary\":[{\"type\":\"scatterternary\",\"marker\":{\"colorbar\":{\"outlinewidth\":0,\"ticks\":\"\"}}}],\"scattercarpet\":[{\"type\":\"scattercarpet\",\"marker\":{\"colorbar\":{\"outlinewidth\":0,\"ticks\":\"\"}}}],\"carpet\":[{\"aaxis\":{\"endlinecolor\":\"#2a3f5f\",\"gridcolor\":\"white\",\"linecolor\":\"white\",\"minorgridcolor\":\"white\",\"startlinecolor\":\"#2a3f5f\"},\"baxis\":{\"endlinecolor\":\"#2a3f5f\",\"gridcolor\":\"white\",\"linecolor\":\"white\",\"minorgridcolor\":\"white\",\"startlinecolor\":\"#2a3f5f\"},\"type\":\"carpet\"}],\"table\":[{\"cells\":{\"fill\":{\"color\":\"#EBF0F8\"},\"line\":{\"color\":\"white\"}},\"header\":{\"fill\":{\"color\":\"#C8D4E3\"},\"line\":{\"color\":\"white\"}},\"type\":\"table\"}],\"barpolar\":[{\"marker\":{\"line\":{\"color\":\"#E5ECF6\",\"width\":0.5},\"pattern\":{\"fillmode\":\"overlay\",\"size\":10,\"solidity\":0.2}},\"type\":\"barpolar\"}],\"pie\":[{\"automargin\":true,\"type\":\"pie\"}]},\"layout\":{\"autotypenumbers\":\"strict\",\"colorway\":[\"#636efa\",\"#EF553B\",\"#00cc96\",\"#ab63fa\",\"#FFA15A\",\"#19d3f3\",\"#FF6692\",\"#B6E880\",\"#FF97FF\",\"#FECB52\"],\"font\":{\"color\":\"#2a3f5f\"},\"hovermode\":\"closest\",\"hoverlabel\":{\"align\":\"left\"},\"paper_bgcolor\":\"white\",\"plot_bgcolor\":\"#E5ECF6\",\"polar\":{\"bgcolor\":\"#E5ECF6\",\"angularaxis\":{\"gridcolor\":\"white\",\"linecolor\":\"white\",\"ticks\":\"\"},\"radialaxis\":{\"gridcolor\":\"white\",\"linecolor\":\"white\",\"ticks\":\"\"}},\"ternary\":{\"bgcolor\":\"#E5ECF6\",\"aaxis\":{\"gridcolor\":\"white\",\"linecolor\":\"white\",\"ticks\":\"\"},\"baxis\":{\"gridcolor\":\"white\",\"linecolor\":\"white\",\"ticks\":\"\"},\"caxis\":{\"gridcolor\":\"white\",\"linecolor\":\"white\",\"ticks\":\"\"}},\"coloraxis\":{\"colorbar\":{\"outlinewidth\":0,\"ticks\":\"\"}},\"colorscale\":{\"sequential\":[[0.0,\"#0d0887\"],[0.1111111111111111,\"#46039f\"],[0.2222222222222222,\"#7201a8\"],[0.3333333333333333,\"#9c179e\"],[0.4444444444444444,\"#bd3786\"],[0.5555555555555556,\"#d8576b\"],[0.6666666666666666,\"#ed7953\"],[0.7777777777777778,\"#fb9f3a\"],[0.8888888888888888,\"#fdca26\"],[1.0,\"#f0f921\"]],\"sequentialminus\":[[0.0,\"#0d0887\"],[0.1111111111111111,\"#46039f\"],[0.2222222222222222,\"#7201a8\"],[0.3333333333333333,\"#9c179e\"],[0.4444444444444444,\"#bd3786\"],[0.5555555555555556,\"#d8576b\"],[0.6666666666666666,\"#ed7953\"],[0.7777777777777778,\"#fb9f3a\"],[0.8888888888888888,\"#fdca26\"],[1.0,\"#f0f921\"]],\"diverging\":[[0,\"#8e0152\"],[0.1,\"#c51b7d\"],[0.2,\"#de77ae\"],[0.3,\"#f1b6da\"],[0.4,\"#fde0ef\"],[0.5,\"#f7f7f7\"],[0.6,\"#e6f5d0\"],[0.7,\"#b8e186\"],[0.8,\"#7fbc41\"],[0.9,\"#4d9221\"],[1,\"#276419\"]]},\"xaxis\":{\"gridcolor\":\"white\",\"linecolor\":\"white\",\"ticks\":\"\",\"title\":{\"standoff\":15},\"zerolinecolor\":\"white\",\"automargin\":true,\"zerolinewidth\":2},\"yaxis\":{\"gridcolor\":\"white\",\"linecolor\":\"white\",\"ticks\":\"\",\"title\":{\"standoff\":15},\"zerolinecolor\":\"white\",\"automargin\":true,\"zerolinewidth\":2},\"scene\":{\"xaxis\":{\"backgroundcolor\":\"#E5ECF6\",\"gridcolor\":\"white\",\"linecolor\":\"white\",\"showbackground\":true,\"ticks\":\"\",\"zerolinecolor\":\"white\",\"gridwidth\":2},\"yaxis\":{\"backgroundcolor\":\"#E5ECF6\",\"gridcolor\":\"white\",\"linecolor\":\"white\",\"showbackground\":true,\"ticks\":\"\",\"zerolinecolor\":\"white\",\"gridwidth\":2},\"zaxis\":{\"backgroundcolor\":\"#E5ECF6\",\"gridcolor\":\"white\",\"linecolor\":\"white\",\"showbackground\":true,\"ticks\":\"\",\"zerolinecolor\":\"white\",\"gridwidth\":2}},\"shapedefaults\":{\"line\":{\"color\":\"#2a3f5f\"}},\"annotationdefaults\":{\"arrowcolor\":\"#2a3f5f\",\"arrowhead\":0,\"arrowwidth\":1},\"geo\":{\"bgcolor\":\"white\",\"landcolor\":\"#E5ECF6\",\"subunitcolor\":\"white\",\"showland\":true,\"showlakes\":true,\"lakecolor\":\"white\"},\"title\":{\"x\":0.05},\"mapbox\":{\"style\":\"light\"}}},\"xaxis\":{\"anchor\":\"y\",\"domain\":[0.0,1.0],\"title\":{\"text\":\"x\"}},\"yaxis\":{\"anchor\":\"x\",\"domain\":[0.0,1.0],\"title\":{\"text\":\"y\"}},\"legend\":{\"title\":{\"text\":\"Generative\"},\"tracegroupgap\":0},\"title\":{\"text\":\"PCA Projection of Model Performance\"},\"height\":500,\"width\":650},                        {\"responsive\": true}                    ).then(function(){\n",
       "                            \n",
       "var gd = document.getElementById('061cbd23-aae0-4a19-98c6-907a2d94f4a1');\n",
       "var x = new MutationObserver(function (mutations, observer) {{\n",
       "        var display = window.getComputedStyle(gd).display;\n",
       "        if (!display || display === 'none') {{\n",
       "            console.log([gd, 'removed!']);\n",
       "            Plotly.purge(gd);\n",
       "            observer.disconnect();\n",
       "        }}\n",
       "}});\n",
       "\n",
       "// Listen for the removal of the full notebook cells\n",
       "var notebookContainer = gd.closest('#notebook-container');\n",
       "if (notebookContainer) {{\n",
       "    x.observe(notebookContainer, {childList: true});\n",
       "}}\n",
       "\n",
       "// Listen for the clearing of the current output cell\n",
       "var outputEl = gd.closest('.output');\n",
       "if (outputEl) {{\n",
       "    x.observe(outputEl, {childList: true});\n",
       "}}\n",
       "\n",
       "                        })                };                });            </script>        </div>"
      ]
     },
     "metadata": {},
     "output_type": "display_data"
    }
   ],
   "source": [
    "pca = PCA(n_components=2)\n",
    "pca_projection = pca.fit_transform(df.drop(columns=\"generative\"))\n",
    "px.scatter(\n",
    "    x=pca_projection[:, 0], \n",
    "    y=pca_projection[:, 1], \n",
    "    color=df.generative,\n",
    "    hover_name=df.index.tolist(),\n",
    "    width=650,\n",
    "    height=500,\n",
    "    title=\"PCA Projection of Model Performance\",\n",
    "    labels=dict(color=\"Generative\"),\n",
    ")"
   ]
  },
  {
   "cell_type": "code",
   "execution_count": 13,
   "id": "305f85ea-418f-4c86-8745-82c571860556",
   "metadata": {},
   "outputs": [
    {
     "data": {
      "application/vnd.plotly.v1+json": {
       "config": {
        "plotlyServerURL": "https://plot.ly"
       },
       "data": [
        {
         "hovertemplate": "<b>%{hovertext}</b><br><br>Generative=True<br>x=%{x}<br>y=%{y}<extra></extra>",
         "hovertext": [
          "gpt-4-0613 (few-shot, val)",
          "gpt-3.5-turbo-0613 (few-shot)",
          "gpt-3.5-turbo-0613 (few-shot, val)",
          "RJuro/munin-neuralbeagle-7b (few-shot, val)",
          "timpal0l/BeagleCatMunin (few-shot, val)",
          "merge-crew/da-sv-dare-ties-density-0.9 (few-shot, val)",
          "merge-crew/da-sv-slerp (few-shot, val)",
          "merge-crew/da-sv-task-arithmetic (few-shot, val)",
          "birgermoell/Flashback-Bellman (few-shot, val)",
          "mhenrichsen/danskgpt-chat-v2.1 (few-shot)",
          "Mabeck/Heidrun-Mistral-7B-chat (few-shot)",
          "birgermoell/BeagleCatMunin-Flashback-Bellman (few-shot, val)",
          "birgermoell/Rapid-Cycling (few-shot, val)",
          "mlabonne/NeuralBeagle14-7B (few-shot, val)",
          "timpal0l/BeagleCatMunin2 (few-shot, val)",
          "merge-crew/da-sv-ties (few-shot, val)",
          "birgermoell/Munin-NeuralBeagle-NorskGPT (few-shot, val)",
          "birgermoell/WestLake-Munin-Cat-NorskGPT (few-shot, val)",
          "merge-crew/da-sv-dare-ties-density-0.6 (few-shot, val)",
          "RJuro/munin-neuralbeagle-SkoleGPTOpenOrca-7b (few-shot, val)",
          "bineric/NorskGPT-Mistral-7b (few-shot)",
          "Mabeck/Heidrun-Mistral-7B-base (few-shot)",
          "ThatsGroes/munin-SkoleGPTOpenOrca-7b-16bit (few-shot)",
          "KennethEnevoldsen/munin_mistral-7b (few-shot, val)",
          "timpal0l/Mistral-7B-v0.1-flashback-v2 (few-shot)",
          "birgermoell/NeuralBeagle-Flashback (few-shot, val)",
          "RuterNorway/Llama-2-13b-chat-norwegian (few-shot)",
          "mistralai/Mistral-7B-Instruct-v0.2 (few-shot)",
          "mistralai/Mistral-7B-v0.1 (few-shot)",
          "mistralai/Mistral-7B-Instruct-v0.1 (few-shot)",
          "occiglot/occiglot-7b-eu5 (few-shot)",
          "neph1/bellman-7b-mistral-instruct-v0.2 (few-shot)",
          "merge-crew/da-sv-dare-ties-density-0.3 (few-shot, val)",
          "meta-llama/Llama-2-7b-chat-hf (few-shot)",
          "AI-Sweden-Models/gpt-sw3-20b (few-shot)",
          "norallm/normistral-7b-warm (few-shot)",
          "danish-foundation-models/munin-7b-alpha (few-shot)",
          "Qwen/Qwen1.5-4B-Chat (few-shot)",
          "meta-llama/Llama-2-7b-hf (few-shot)",
          "01-ai/Yi-6B (few-shot)",
          "google/gemma-2b (few-shot)",
          "Qwen/Qwen1.5-4B (few-shot)",
          "occiglot/occiglot-7b-eu5-instruct (few-shot)",
          "AI-Sweden-Models/gpt-sw3-6.7b-v2 (few-shot)",
          "AI-Sweden-Models/gpt-sw3-1.3b-instruct (few-shot)",
          "AI-Sweden-Models/gpt-sw3-1.3b (few-shot)",
          "AI-Sweden-Models/gpt-sw3-6.7b (few-shot)",
          "norallm/normistral-7b-scratch (few-shot)",
          "google/gemma-2b-it (few-shot)",
          "AI-Sweden-Models/gpt-sw3-6.7b-v2-instruct (few-shot)",
          "NbAiLab/nb-gpt-j-6B-alpaca (few-shot)",
          "AI-Sweden-Models/gpt-sw3-356m-instruct (few-shot)",
          "Qwen/Qwen1.5-1.8B (few-shot)",
          "Qwen/Qwen1.5-1.8B-Chat (few-shot)",
          "AI-Sweden-Models/gpt-sw3-356m (few-shot)",
          "mhenrichsen/danskgpt-tiny-chat (few-shot)",
          "RuterNorway/Llama-2-7b-chat-norwegian (few-shot)",
          "mhenrichsen/danskgpt-tiny (few-shot)",
          "Qwen/Qwen1.5-0.5B-Chat (few-shot)",
          "allenai/OLMo-1B (few-shot)",
          "Qwen/Qwen1.5-0.5B (few-shot)",
          "NbAiLab/nb-gpt-j-6B-v2 (few-shot)",
          "AI-Sweden-Models/gpt-sw3-126m-instruct (few-shot)",
          "NbAiLab/nb-gpt-j-6B@sharded (few-shot)",
          "AI-Sweden-Models/gpt-sw3-126m (few-shot)",
          "RJuro/kanelsnegl-v0.1 (few-shot)",
          "RJuro/kanelsnegl-v0.2 (few-shot)",
          "ai-forever/mGPT (few-shot)",
          "peter-sk/gpt-neox-da (few-shot)"
         ],
         "legendgroup": "True",
         "marker": {
          "color": "#636efa",
          "symbol": "circle"
         },
         "mode": "markers",
         "name": "True",
         "orientation": "v",
         "showlegend": true,
         "type": "scatter",
         "x": [
          -3.556884765625,
          -2.82055401802063,
          -2.8749377727508545,
          8.956324577331543,
          9.095536231994629,
          9.256026268005371,
          9.669838905334473,
          9.672398567199707,
          8.618699073791504,
          9.628925323486328,
          8.810269355773926,
          8.399669647216797,
          8.4015531539917,
          8.743099212646484,
          8.155516624450684,
          8.631537437438965,
          7.820437431335449,
          7.8207926750183105,
          8.31769847869873,
          9.10811710357666,
          7.526330947875977,
          7.858484745025635,
          7.868272304534912,
          7.057951927185059,
          8.707602500915527,
          8.869138717651367,
          7.384749412536621,
          7.961379051208496,
          6.836610794067383,
          7.1771769523620605,
          6.428112983703613,
          7.860989570617676,
          5.921380996704102,
          6.423562526702881,
          5.099514961242676,
          5.8061652183532715,
          5.276576519012451,
          4.476585388183594,
          5.428606033325195,
          5.88737678527832,
          3.503751039505005,
          2.625838279724121,
          0.11085521429777145,
          3.530240058898926,
          3.3054733276367188,
          2.9001591205596924,
          2.759730815887451,
          2.754718065261841,
          2.2975306510925293,
          2.3555374145507812,
          2.2576305866241455,
          2.11041259765625,
          1.9463520050048828,
          1.963982343673706,
          1.4435418844223022,
          0.19264905154705048,
          0.9521970748901367,
          0.044536296278238297,
          0.6235185265541077,
          0.05650336667895317,
          0.4653666615486145,
          -0.8164337277412415,
          -0.04564099758863449,
          -1.2711825370788574,
          -0.8041554689407349,
          -1.5075188875198364,
          -1.5033570528030396,
          -1.2074536085128784,
          -1.3717939853668213
         ],
         "xaxis": "x",
         "y": [
          -13.022126197814941,
          -10.206886291503906,
          -10.289560317993164,
          3.5988779067993164,
          4.914021015167236,
          5.561905860900879,
          5.042949199676514,
          5.0004658699035645,
          4.349074363708496,
          4.156482696533203,
          4.105212211608887,
          4.348484992980957,
          4.364194869995117,
          3.4876527786254883,
          3.593181848526001,
          5.337168216705322,
          3.0141475200653076,
          3.013725757598877,
          5.036554336547852,
          4.532497882843018,
          3.335078001022339,
          5.121334552764893,
          5.03312349319458,
          5.050146579742432,
          5.852662086486816,
          6.695829391479492,
          4.5567307472229,
          6.003696918487549,
          4.642075538635254,
          5.597774505615234,
          5.494951248168945,
          6.336719036102295,
          6.1926469802856445,
          5.829413414001465,
          6.746555328369141,
          5.76028299331665,
          5.2377400398254395,
          6.773800849914551,
          5.698795795440674,
          7.054434299468994,
          7.879816055297852,
          5.7731499671936035,
          3.1095075607299805,
          7.188467502593994,
          7.651095867156982,
          8.172572135925293,
          7.284664154052734,
          7.886733055114746,
          6.644616603851318,
          8.265046119689941,
          7.584753036499023,
          7.790862083435059,
          7.497060775756836,
          7.089873790740967,
          6.866458892822266,
          6.135443210601807,
          7.7377400398254395,
          6.70878267288208,
          7.48213005065918,
          6.9029860496521,
          7.481507301330566,
          7.618707180023193,
          7.575320243835449,
          7.556412220001221,
          8.08776569366455,
          7.601522445678711,
          7.8363037109375,
          8.390997886657715,
          8.328826904296875
         ],
         "yaxis": "y"
        },
        {
         "hovertemplate": "<b>%{hovertext}</b><br><br>Generative=False<br>x=%{x}<br>y=%{y}<extra></extra>",
         "hovertext": [
          "AI-Sweden-Models/roberta-large-1160k",
          "ltg/norbert3-large",
          "AI-Sweden-Models/roberta-large-1350k",
          "danish-foundation-models/encoder-large-v1",
          "KennethEnevoldsen/dfm-sentence-encoder-large-1",
          "KennethEnevoldsen/dfm-sentence-encoder-large-2",
          "google/rembert",
          "intfloat/multilingual-e5-large",
          "NbAiLab/nb-roberta-base-scandi",
          "microsoft/mdeberta-v3-base",
          "ltg/norbert3-base",
          "NbAiLab/nb-roberta-base-scandi-1e4",
          "FacebookAI/xlm-roberta-large",
          "sentence-transformers/use-cmlm-multilingual",
          "KennethEnevoldsen/dfm-sentence-encoder-medium-3",
          "vesteinn/ScandiBERT-no-faroese",
          "NbAiLab/nb-bert-base",
          "vesteinn/FoBERT",
          "pere/roberta-debug-8",
          "pere/roberta-base-exp-8",
          "setu4993/LaBSE",
          "pere/roberta-debug-32",
          "pere/roberta-base-exp-32",
          "AI-Sweden-Models/bert-large-nordic-pile-1M-steps",
          "pere/roberta-base-exp-32B",
          "vesteinn/DanskBERT",
          "ltg/norbert3-small",
          "KBLab/megatron-bert-large-swedish-cased-165k",
          "cardiffnlp/twitter-xlm-roberta-base",
          "AI-Nordics/bert-large-swedish-cased",
          "KBLab/megatron-bert-large-swedish-cased-110k",
          "microsoft/infoxlm-large",
          "google-bert/bert-base-multilingual-uncased",
          "Geotrend/bert-base-en-fr-de-no-da-cased",
          "KB/bert-base-swedish-cased",
          "KBLab/megatron-bert-base-swedish-cased-600k",
          "Geotrend/bert-base-25lang-cased",
          "google-bert/bert-base-multilingual-cased",
          "Geotrend/bert-base-en-no-cased",
          "KBLab/bert-base-swedish-cased",
          "microsoft/xlm-align-base",
          "facebook/xlm-v-base",
          "Geotrend/bert-base-en-da-cased",
          "jonfd/electra-small-nordic",
          "Geotrend/bert-base-da-cased",
          "microsoft/infoxlm-base",
          "KBLab/megatron-bert-base-swedish-cased-125k",
          "clips/mfaq",
          "flax-community/nordic-roberta-wiki",
          "jhu-clsp/bernice",
          "DDSC/roberta-base-scandinavian",
          "KBLab/bert-base-swedish-cased-new",
          "sentence-transformers/paraphrase-multilingual-mpnet-base-v2",
          "sentence-transformers/paraphrase-xlm-r-multilingual-v1",
          "flax-community/swe-roberta-wiki-oscar",
          "sentence-transformers/stsb-xlm-r-multilingual",
          "distilbert/distilbert-base-multilingual-cased",
          "Geotrend/distilbert-base-25lang-cased",
          "Geotrend/distilbert-base-en-fr-de-no-da-cased",
          "Geotrend/distilbert-base-en-no-cased",
          "Geotrend/distilbert-base-en-da-cased",
          "Twitter/twhin-bert-large",
          "Geotrend/distilbert-base-da-cased",
          "sarnikowski/convbert-medium-small-da-cased",
          "Addedk/kbbert-distilled-cased",
          "sentence-transformers/paraphrase-multilingual-MiniLM-L12-v2",
          "danish-foundation-models/encoder-medium-v1",
          "jannikskytt/MeDa-Bert",
          "DDSC/roberta-base-danish",
          "Maltehb/danish-bert-botxo",
          "ltg/norbert3-xs",
          "birgermoell/roberta-swedish-scandi",
          "Addedk/mbert-swedish-distilled-cased",
          "sarnikowski/electra-small-discriminator-da-256-cased",
          "sarnikowski/convbert-small-da-cased",
          "sentence-transformers/distilbert-multilingual-nli-stsb-quora-ranking",
          "sentence-transformers/quora-distilbert-multilingual",
          "dbmdz/bert-base-historic-multilingual-cased",
          "Maltehb/aelaectra-danish-electra-small-cased",
          "dbmdz/bert-medium-historic-multilingual-cased",
          "Maltehb/aelaectra-danish-electra-small-uncased",
          "jjzha/dajobbert-base-uncased",
          "sentence-transformers/distiluse-base-multilingual-cased-v1",
          "KBLab/albert-base-swedish-cased-alpha",
          "dbmdz/bert-mini-historic-multilingual-cased",
          "jannesg/bertsson",
          "alexanderfalk/danbert-small-cased",
          "3ebdola/Dialectal-Arabic-XLM-R-Base",
          "RabotaRu/HRBert-mini",
          "fresh-xlm-roberta-base",
          "fresh-electra-small"
         ],
         "legendgroup": "False",
         "marker": {
          "color": "#EF553B",
          "symbol": "circle"
         },
         "mode": "markers",
         "name": "False",
         "orientation": "v",
         "showlegend": true,
         "type": "scatter",
         "x": [
          -4.340831756591797,
          -4.730978965759277,
          -4.344736576080322,
          -3.676865577697754,
          -4.10409688949585,
          -3.942575454711914,
          -4.080296516418457,
          -3.3469557762145996,
          -5.317986011505127,
          -4.592822551727295,
          -4.606540679931641,
          -5.534130096435547,
          -3.7325148582458496,
          -3.8252532482147217,
          -5.812614440917969,
          -5.035908222198486,
          -5.913936138153076,
          -5.285711288452148,
          -5.393990993499756,
          -5.3863844871521,
          -4.226644039154053,
          -5.869872570037842,
          -5.181390762329102,
          -5.24951696395874,
          -5.170016765594482,
          -3.808001756668091,
          -4.811986446380615,
          -5.724662780761719,
          -4.732425212860107,
          -5.3601975440979,
          -5.872356414794922,
          0.6298635005950928,
          -3.4634196758270264,
          -3.007478713989258,
          -5.315673828125,
          -5.691858291625977,
          -3.2880795001983643,
          -3.491715908050537,
          -2.977304458618164,
          -5.318017959594727,
          0.3463533818721771,
          -2.2654056549072266,
          -3.14009428024292,
          -6.798151016235352,
          -3.042689323425293,
          0.30448299646377563,
          -5.563407897949219,
          -3.7886803150177,
          -4.3922319412231445,
          -4.612501621246338,
          -1.8891650438308716,
          -6.10360050201416,
          -4.1485795974731445,
          -4.338116645812988,
          -5.252571105957031,
          -4.179605960845947,
          -3.221078634262085,
          -2.9236042499542236,
          -3.0187878608703613,
          -3.0816876888275146,
          -2.8951714038848877,
          -1.0464156866073608,
          -3.1330819129943848,
          -5.194190979003906,
          -2.7784953117370605,
          -3.708263397216797,
          -4.582181453704834,
          -4.545657157897949,
          -0.7973424792289734,
          -4.597273826599121,
          -0.7888498902320862,
          -2.6031503677368164,
          -2.8339755535125732,
          -5.430473804473877,
          -5.102231979370117,
          -1.9090195894241333,
          -1.922892451286316,
          -1.3833469152450562,
          -5.774540901184082,
          -1.4219790697097778,
          -5.67584228515625,
          -4.387843608856201,
          -1.0124770402908325,
          -1.1337281465530396,
          -1.0171053409576416,
          -0.7588639855384827,
          -0.7015410661697388,
          -1.0344302654266357,
          -0.6209887862205505,
          -0.8032912015914917,
          -1.0528383255004883
         ],
         "xaxis": "x",
         "y": [
          -12.974264144897461,
          -13.20258617401123,
          -12.877613067626953,
          -12.077689170837402,
          -12.331228256225586,
          -12.27812385559082,
          -11.926307678222656,
          -11.003429412841797,
          -12.429875373840332,
          -12.048253059387207,
          -11.390641212463379,
          -12.367070198059082,
          -10.55179500579834,
          -10.961501121520996,
          -12.238553047180176,
          -12.102688789367676,
          -11.929644584655762,
          -11.707444190979004,
          -11.576654434204102,
          -11.22598648071289,
          -10.669374465942383,
          -11.469992637634277,
          -10.610687255859375,
          -7.233173370361328,
          -9.979934692382812,
          -9.099491119384766,
          -10.078897476196289,
          -6.250848770141602,
          -8.65428352355957,
          -6.465485572814941,
          -5.96516227722168,
          -2.070491313934326,
          -7.248754024505615,
          -6.045299053192139,
          -5.851951599121094,
          -5.642413139343262,
          -6.375825881958008,
          -6.461032390594482,
          -6.178727626800537,
          -5.825932502746582,
          -1.886948823928833,
          -6.428370952606201,
          -5.848666191101074,
          -10.842414855957031,
          -5.624134540557861,
          -1.8287659883499146,
          -5.195496559143066,
          -2.6289374828338623,
          -4.104311466217041,
          -3.582918405532837,
          -3.245717763900757,
          -4.741576671600342,
          -2.5916409492492676,
          -2.966660261154175,
          -4.298900127410889,
          -2.7577531337738037,
          -4.4774627685546875,
          -4.113119602203369,
          -4.296908855438232,
          -4.326182842254639,
          -4.06610107421875,
          -1.1477707624435425,
          -4.018860816955566,
          -1.0708743333816528,
          -2.3335227966308594,
          -2.2244129180908203,
          -0.08437304198741913,
          -0.06296621263027191,
          -0.7660475373268127,
          -0.22937236726284027,
          -1.0046006441116333,
          -2.067187786102295,
          -2.8487038612365723,
          -0.8394668102264404,
          -0.829602062702179,
          -0.6317030191421509,
          -0.6244409084320068,
          0.14410193264484406,
          -0.5375021696090698,
          0.16380544006824493,
          -0.16270548105239868,
          0.22614574432373047,
          2.4363722801208496,
          2.177159309387207,
          2.5149762630462646,
          3.141442060470581,
          5.18129301071167,
          3.411297082901001,
          5.910434722900391,
          6.4378275871276855,
          6.713357448577881
         ],
         "yaxis": "y"
        }
       ],
       "layout": {
        "height": 500,
        "legend": {
         "title": {
          "text": "Generative"
         },
         "tracegroupgap": 0
        },
        "template": {
         "data": {
          "bar": [
           {
            "error_x": {
             "color": "#2a3f5f"
            },
            "error_y": {
             "color": "#2a3f5f"
            },
            "marker": {
             "line": {
              "color": "#E5ECF6",
              "width": 0.5
             },
             "pattern": {
              "fillmode": "overlay",
              "size": 10,
              "solidity": 0.2
             }
            },
            "type": "bar"
           }
          ],
          "barpolar": [
           {
            "marker": {
             "line": {
              "color": "#E5ECF6",
              "width": 0.5
             },
             "pattern": {
              "fillmode": "overlay",
              "size": 10,
              "solidity": 0.2
             }
            },
            "type": "barpolar"
           }
          ],
          "carpet": [
           {
            "aaxis": {
             "endlinecolor": "#2a3f5f",
             "gridcolor": "white",
             "linecolor": "white",
             "minorgridcolor": "white",
             "startlinecolor": "#2a3f5f"
            },
            "baxis": {
             "endlinecolor": "#2a3f5f",
             "gridcolor": "white",
             "linecolor": "white",
             "minorgridcolor": "white",
             "startlinecolor": "#2a3f5f"
            },
            "type": "carpet"
           }
          ],
          "choropleth": [
           {
            "colorbar": {
             "outlinewidth": 0,
             "ticks": ""
            },
            "type": "choropleth"
           }
          ],
          "contour": [
           {
            "colorbar": {
             "outlinewidth": 0,
             "ticks": ""
            },
            "colorscale": [
             [
              0,
              "#0d0887"
             ],
             [
              0.1111111111111111,
              "#46039f"
             ],
             [
              0.2222222222222222,
              "#7201a8"
             ],
             [
              0.3333333333333333,
              "#9c179e"
             ],
             [
              0.4444444444444444,
              "#bd3786"
             ],
             [
              0.5555555555555556,
              "#d8576b"
             ],
             [
              0.6666666666666666,
              "#ed7953"
             ],
             [
              0.7777777777777778,
              "#fb9f3a"
             ],
             [
              0.8888888888888888,
              "#fdca26"
             ],
             [
              1,
              "#f0f921"
             ]
            ],
            "type": "contour"
           }
          ],
          "contourcarpet": [
           {
            "colorbar": {
             "outlinewidth": 0,
             "ticks": ""
            },
            "type": "contourcarpet"
           }
          ],
          "heatmap": [
           {
            "colorbar": {
             "outlinewidth": 0,
             "ticks": ""
            },
            "colorscale": [
             [
              0,
              "#0d0887"
             ],
             [
              0.1111111111111111,
              "#46039f"
             ],
             [
              0.2222222222222222,
              "#7201a8"
             ],
             [
              0.3333333333333333,
              "#9c179e"
             ],
             [
              0.4444444444444444,
              "#bd3786"
             ],
             [
              0.5555555555555556,
              "#d8576b"
             ],
             [
              0.6666666666666666,
              "#ed7953"
             ],
             [
              0.7777777777777778,
              "#fb9f3a"
             ],
             [
              0.8888888888888888,
              "#fdca26"
             ],
             [
              1,
              "#f0f921"
             ]
            ],
            "type": "heatmap"
           }
          ],
          "heatmapgl": [
           {
            "colorbar": {
             "outlinewidth": 0,
             "ticks": ""
            },
            "colorscale": [
             [
              0,
              "#0d0887"
             ],
             [
              0.1111111111111111,
              "#46039f"
             ],
             [
              0.2222222222222222,
              "#7201a8"
             ],
             [
              0.3333333333333333,
              "#9c179e"
             ],
             [
              0.4444444444444444,
              "#bd3786"
             ],
             [
              0.5555555555555556,
              "#d8576b"
             ],
             [
              0.6666666666666666,
              "#ed7953"
             ],
             [
              0.7777777777777778,
              "#fb9f3a"
             ],
             [
              0.8888888888888888,
              "#fdca26"
             ],
             [
              1,
              "#f0f921"
             ]
            ],
            "type": "heatmapgl"
           }
          ],
          "histogram": [
           {
            "marker": {
             "pattern": {
              "fillmode": "overlay",
              "size": 10,
              "solidity": 0.2
             }
            },
            "type": "histogram"
           }
          ],
          "histogram2d": [
           {
            "colorbar": {
             "outlinewidth": 0,
             "ticks": ""
            },
            "colorscale": [
             [
              0,
              "#0d0887"
             ],
             [
              0.1111111111111111,
              "#46039f"
             ],
             [
              0.2222222222222222,
              "#7201a8"
             ],
             [
              0.3333333333333333,
              "#9c179e"
             ],
             [
              0.4444444444444444,
              "#bd3786"
             ],
             [
              0.5555555555555556,
              "#d8576b"
             ],
             [
              0.6666666666666666,
              "#ed7953"
             ],
             [
              0.7777777777777778,
              "#fb9f3a"
             ],
             [
              0.8888888888888888,
              "#fdca26"
             ],
             [
              1,
              "#f0f921"
             ]
            ],
            "type": "histogram2d"
           }
          ],
          "histogram2dcontour": [
           {
            "colorbar": {
             "outlinewidth": 0,
             "ticks": ""
            },
            "colorscale": [
             [
              0,
              "#0d0887"
             ],
             [
              0.1111111111111111,
              "#46039f"
             ],
             [
              0.2222222222222222,
              "#7201a8"
             ],
             [
              0.3333333333333333,
              "#9c179e"
             ],
             [
              0.4444444444444444,
              "#bd3786"
             ],
             [
              0.5555555555555556,
              "#d8576b"
             ],
             [
              0.6666666666666666,
              "#ed7953"
             ],
             [
              0.7777777777777778,
              "#fb9f3a"
             ],
             [
              0.8888888888888888,
              "#fdca26"
             ],
             [
              1,
              "#f0f921"
             ]
            ],
            "type": "histogram2dcontour"
           }
          ],
          "mesh3d": [
           {
            "colorbar": {
             "outlinewidth": 0,
             "ticks": ""
            },
            "type": "mesh3d"
           }
          ],
          "parcoords": [
           {
            "line": {
             "colorbar": {
              "outlinewidth": 0,
              "ticks": ""
             }
            },
            "type": "parcoords"
           }
          ],
          "pie": [
           {
            "automargin": true,
            "type": "pie"
           }
          ],
          "scatter": [
           {
            "fillpattern": {
             "fillmode": "overlay",
             "size": 10,
             "solidity": 0.2
            },
            "type": "scatter"
           }
          ],
          "scatter3d": [
           {
            "line": {
             "colorbar": {
              "outlinewidth": 0,
              "ticks": ""
             }
            },
            "marker": {
             "colorbar": {
              "outlinewidth": 0,
              "ticks": ""
             }
            },
            "type": "scatter3d"
           }
          ],
          "scattercarpet": [
           {
            "marker": {
             "colorbar": {
              "outlinewidth": 0,
              "ticks": ""
             }
            },
            "type": "scattercarpet"
           }
          ],
          "scattergeo": [
           {
            "marker": {
             "colorbar": {
              "outlinewidth": 0,
              "ticks": ""
             }
            },
            "type": "scattergeo"
           }
          ],
          "scattergl": [
           {
            "marker": {
             "colorbar": {
              "outlinewidth": 0,
              "ticks": ""
             }
            },
            "type": "scattergl"
           }
          ],
          "scattermapbox": [
           {
            "marker": {
             "colorbar": {
              "outlinewidth": 0,
              "ticks": ""
             }
            },
            "type": "scattermapbox"
           }
          ],
          "scatterpolar": [
           {
            "marker": {
             "colorbar": {
              "outlinewidth": 0,
              "ticks": ""
             }
            },
            "type": "scatterpolar"
           }
          ],
          "scatterpolargl": [
           {
            "marker": {
             "colorbar": {
              "outlinewidth": 0,
              "ticks": ""
             }
            },
            "type": "scatterpolargl"
           }
          ],
          "scatterternary": [
           {
            "marker": {
             "colorbar": {
              "outlinewidth": 0,
              "ticks": ""
             }
            },
            "type": "scatterternary"
           }
          ],
          "surface": [
           {
            "colorbar": {
             "outlinewidth": 0,
             "ticks": ""
            },
            "colorscale": [
             [
              0,
              "#0d0887"
             ],
             [
              0.1111111111111111,
              "#46039f"
             ],
             [
              0.2222222222222222,
              "#7201a8"
             ],
             [
              0.3333333333333333,
              "#9c179e"
             ],
             [
              0.4444444444444444,
              "#bd3786"
             ],
             [
              0.5555555555555556,
              "#d8576b"
             ],
             [
              0.6666666666666666,
              "#ed7953"
             ],
             [
              0.7777777777777778,
              "#fb9f3a"
             ],
             [
              0.8888888888888888,
              "#fdca26"
             ],
             [
              1,
              "#f0f921"
             ]
            ],
            "type": "surface"
           }
          ],
          "table": [
           {
            "cells": {
             "fill": {
              "color": "#EBF0F8"
             },
             "line": {
              "color": "white"
             }
            },
            "header": {
             "fill": {
              "color": "#C8D4E3"
             },
             "line": {
              "color": "white"
             }
            },
            "type": "table"
           }
          ]
         },
         "layout": {
          "annotationdefaults": {
           "arrowcolor": "#2a3f5f",
           "arrowhead": 0,
           "arrowwidth": 1
          },
          "autotypenumbers": "strict",
          "coloraxis": {
           "colorbar": {
            "outlinewidth": 0,
            "ticks": ""
           }
          },
          "colorscale": {
           "diverging": [
            [
             0,
             "#8e0152"
            ],
            [
             0.1,
             "#c51b7d"
            ],
            [
             0.2,
             "#de77ae"
            ],
            [
             0.3,
             "#f1b6da"
            ],
            [
             0.4,
             "#fde0ef"
            ],
            [
             0.5,
             "#f7f7f7"
            ],
            [
             0.6,
             "#e6f5d0"
            ],
            [
             0.7,
             "#b8e186"
            ],
            [
             0.8,
             "#7fbc41"
            ],
            [
             0.9,
             "#4d9221"
            ],
            [
             1,
             "#276419"
            ]
           ],
           "sequential": [
            [
             0,
             "#0d0887"
            ],
            [
             0.1111111111111111,
             "#46039f"
            ],
            [
             0.2222222222222222,
             "#7201a8"
            ],
            [
             0.3333333333333333,
             "#9c179e"
            ],
            [
             0.4444444444444444,
             "#bd3786"
            ],
            [
             0.5555555555555556,
             "#d8576b"
            ],
            [
             0.6666666666666666,
             "#ed7953"
            ],
            [
             0.7777777777777778,
             "#fb9f3a"
            ],
            [
             0.8888888888888888,
             "#fdca26"
            ],
            [
             1,
             "#f0f921"
            ]
           ],
           "sequentialminus": [
            [
             0,
             "#0d0887"
            ],
            [
             0.1111111111111111,
             "#46039f"
            ],
            [
             0.2222222222222222,
             "#7201a8"
            ],
            [
             0.3333333333333333,
             "#9c179e"
            ],
            [
             0.4444444444444444,
             "#bd3786"
            ],
            [
             0.5555555555555556,
             "#d8576b"
            ],
            [
             0.6666666666666666,
             "#ed7953"
            ],
            [
             0.7777777777777778,
             "#fb9f3a"
            ],
            [
             0.8888888888888888,
             "#fdca26"
            ],
            [
             1,
             "#f0f921"
            ]
           ]
          },
          "colorway": [
           "#636efa",
           "#EF553B",
           "#00cc96",
           "#ab63fa",
           "#FFA15A",
           "#19d3f3",
           "#FF6692",
           "#B6E880",
           "#FF97FF",
           "#FECB52"
          ],
          "font": {
           "color": "#2a3f5f"
          },
          "geo": {
           "bgcolor": "white",
           "lakecolor": "white",
           "landcolor": "#E5ECF6",
           "showlakes": true,
           "showland": true,
           "subunitcolor": "white"
          },
          "hoverlabel": {
           "align": "left"
          },
          "hovermode": "closest",
          "mapbox": {
           "style": "light"
          },
          "paper_bgcolor": "white",
          "plot_bgcolor": "#E5ECF6",
          "polar": {
           "angularaxis": {
            "gridcolor": "white",
            "linecolor": "white",
            "ticks": ""
           },
           "bgcolor": "#E5ECF6",
           "radialaxis": {
            "gridcolor": "white",
            "linecolor": "white",
            "ticks": ""
           }
          },
          "scene": {
           "xaxis": {
            "backgroundcolor": "#E5ECF6",
            "gridcolor": "white",
            "gridwidth": 2,
            "linecolor": "white",
            "showbackground": true,
            "ticks": "",
            "zerolinecolor": "white"
           },
           "yaxis": {
            "backgroundcolor": "#E5ECF6",
            "gridcolor": "white",
            "gridwidth": 2,
            "linecolor": "white",
            "showbackground": true,
            "ticks": "",
            "zerolinecolor": "white"
           },
           "zaxis": {
            "backgroundcolor": "#E5ECF6",
            "gridcolor": "white",
            "gridwidth": 2,
            "linecolor": "white",
            "showbackground": true,
            "ticks": "",
            "zerolinecolor": "white"
           }
          },
          "shapedefaults": {
           "line": {
            "color": "#2a3f5f"
           }
          },
          "ternary": {
           "aaxis": {
            "gridcolor": "white",
            "linecolor": "white",
            "ticks": ""
           },
           "baxis": {
            "gridcolor": "white",
            "linecolor": "white",
            "ticks": ""
           },
           "bgcolor": "#E5ECF6",
           "caxis": {
            "gridcolor": "white",
            "linecolor": "white",
            "ticks": ""
           }
          },
          "title": {
           "x": 0.05
          },
          "xaxis": {
           "automargin": true,
           "gridcolor": "white",
           "linecolor": "white",
           "ticks": "",
           "title": {
            "standoff": 15
           },
           "zerolinecolor": "white",
           "zerolinewidth": 2
          },
          "yaxis": {
           "automargin": true,
           "gridcolor": "white",
           "linecolor": "white",
           "ticks": "",
           "title": {
            "standoff": 15
           },
           "zerolinecolor": "white",
           "zerolinewidth": 2
          }
         }
        },
        "title": {
         "text": "T-SNE Projection of Model Performance"
        },
        "width": 650,
        "xaxis": {
         "anchor": "y",
         "autorange": true,
         "domain": [
          0,
          1
         ],
         "range": [
          -7.879068157135187,
          10.753315708099542
         ],
         "title": {
          "text": "x"
         },
         "type": "linear"
        },
        "yaxis": {
         "anchor": "x",
         "autorange": true,
         "domain": [
          0,
          1
         ],
         "range": [
          -14.72299004281056,
          9.911401755457044
         ],
         "title": {
          "text": "y"
         },
         "type": "linear"
        }
       }
      },
      "image/png": "[encoded data removed]",
      "text/html": [
       "<div>                            <div id=\"2b779294-5d49-4e5b-a43d-46654a98412b\" class=\"plotly-graph-div\" style=\"height:500px; width:650px;\"></div>            <script type=\"text/javascript\">                require([\"plotly\"], function(Plotly) {                    window.PLOTLYENV=window.PLOTLYENV || {};                                    if (document.getElementById(\"2b779294-5d49-4e5b-a43d-46654a98412b\")) {                    Plotly.newPlot(                        \"2b779294-5d49-4e5b-a43d-46654a98412b\",                        [{\"hovertemplate\":\"\\u003cb\\u003e%{hovertext}\\u003c\\u002fb\\u003e\\u003cbr\\u003e\\u003cbr\\u003eGenerative=True\\u003cbr\\u003ex=%{x}\\u003cbr\\u003ey=%{y}\\u003cextra\\u003e\\u003c\\u002fextra\\u003e\",\"hovertext\":[\"gpt-4-0613 (few-shot, val)\",\"gpt-3.5-turbo-0613 (few-shot)\",\"gpt-3.5-turbo-0613 (few-shot, val)\",\"RJuro\\u002fmunin-neuralbeagle-7b (few-shot, val)\",\"timpal0l\\u002fBeagleCatMunin (few-shot, val)\",\"merge-crew\\u002fda-sv-dare-ties-density-0.9 (few-shot, val)\",\"merge-crew\\u002fda-sv-slerp (few-shot, val)\",\"merge-crew\\u002fda-sv-task-arithmetic (few-shot, val)\",\"birgermoell\\u002fFlashback-Bellman (few-shot, val)\",\"mhenrichsen\\u002fdanskgpt-chat-v2.1 (few-shot)\",\"Mabeck\\u002fHeidrun-Mistral-7B-chat (few-shot)\",\"birgermoell\\u002fBeagleCatMunin-Flashback-Bellman (few-shot, val)\",\"birgermoell\\u002fRapid-Cycling (few-shot, val)\",\"mlabonne\\u002fNeuralBeagle14-7B (few-shot, val)\",\"timpal0l\\u002fBeagleCatMunin2 (few-shot, val)\",\"merge-crew\\u002fda-sv-ties (few-shot, val)\",\"birgermoell\\u002fMunin-NeuralBeagle-NorskGPT (few-shot, val)\",\"birgermoell\\u002fWestLake-Munin-Cat-NorskGPT (few-shot, val)\",\"merge-crew\\u002fda-sv-dare-ties-density-0.6 (few-shot, val)\",\"RJuro\\u002fmunin-neuralbeagle-SkoleGPTOpenOrca-7b (few-shot, val)\",\"bineric\\u002fNorskGPT-Mistral-7b (few-shot)\",\"Mabeck\\u002fHeidrun-Mistral-7B-base (few-shot)\",\"ThatsGroes\\u002fmunin-SkoleGPTOpenOrca-7b-16bit (few-shot)\",\"KennethEnevoldsen\\u002fmunin_mistral-7b (few-shot, val)\",\"timpal0l\\u002fMistral-7B-v0.1-flashback-v2 (few-shot)\",\"birgermoell\\u002fNeuralBeagle-Flashback (few-shot, val)\",\"RuterNorway\\u002fLlama-2-13b-chat-norwegian (few-shot)\",\"mistralai\\u002fMistral-7B-Instruct-v0.2 (few-shot)\",\"mistralai\\u002fMistral-7B-v0.1 (few-shot)\",\"mistralai\\u002fMistral-7B-Instruct-v0.1 (few-shot)\",\"occiglot\\u002focciglot-7b-eu5 (few-shot)\",\"neph1\\u002fbellman-7b-mistral-instruct-v0.2 (few-shot)\",\"merge-crew\\u002fda-sv-dare-ties-density-0.3 (few-shot, val)\",\"meta-llama\\u002fLlama-2-7b-chat-hf (few-shot)\",\"AI-Sweden-Models\\u002fgpt-sw3-20b (few-shot)\",\"norallm\\u002fnormistral-7b-warm (few-shot)\",\"danish-foundation-models\\u002fmunin-7b-alpha (few-shot)\",\"Qwen\\u002fQwen1.5-4B-Chat (few-shot)\",\"meta-llama\\u002fLlama-2-7b-hf (few-shot)\",\"01-ai\\u002fYi-6B (few-shot)\",\"google\\u002fgemma-2b (few-shot)\",\"Qwen\\u002fQwen1.5-4B (few-shot)\",\"occiglot\\u002focciglot-7b-eu5-instruct (few-shot)\",\"AI-Sweden-Models\\u002fgpt-sw3-6.7b-v2 (few-shot)\",\"AI-Sweden-Models\\u002fgpt-sw3-1.3b-instruct (few-shot)\",\"AI-Sweden-Models\\u002fgpt-sw3-1.3b (few-shot)\",\"AI-Sweden-Models\\u002fgpt-sw3-6.7b (few-shot)\",\"norallm\\u002fnormistral-7b-scratch (few-shot)\",\"google\\u002fgemma-2b-it (few-shot)\",\"AI-Sweden-Models\\u002fgpt-sw3-6.7b-v2-instruct (few-shot)\",\"NbAiLab\\u002fnb-gpt-j-6B-alpaca (few-shot)\",\"AI-Sweden-Models\\u002fgpt-sw3-356m-instruct (few-shot)\",\"Qwen\\u002fQwen1.5-1.8B (few-shot)\",\"Qwen\\u002fQwen1.5-1.8B-Chat (few-shot)\",\"AI-Sweden-Models\\u002fgpt-sw3-356m (few-shot)\",\"mhenrichsen\\u002fdanskgpt-tiny-chat (few-shot)\",\"RuterNorway\\u002fLlama-2-7b-chat-norwegian (few-shot)\",\"mhenrichsen\\u002fdanskgpt-tiny (few-shot)\",\"Qwen\\u002fQwen1.5-0.5B-Chat (few-shot)\",\"allenai\\u002fOLMo-1B (few-shot)\",\"Qwen\\u002fQwen1.5-0.5B (few-shot)\",\"NbAiLab\\u002fnb-gpt-j-6B-v2 (few-shot)\",\"AI-Sweden-Models\\u002fgpt-sw3-126m-instruct (few-shot)\",\"NbAiLab\\u002fnb-gpt-j-6B@sharded (few-shot)\",\"AI-Sweden-Models\\u002fgpt-sw3-126m (few-shot)\",\"RJuro\\u002fkanelsnegl-v0.1 (few-shot)\",\"RJuro\\u002fkanelsnegl-v0.2 (few-shot)\",\"ai-forever\\u002fmGPT (few-shot)\",\"peter-sk\\u002fgpt-neox-da (few-shot)\"],\"legendgroup\":\"True\",\"marker\":{\"color\":\"#636efa\",\"symbol\":\"circle\"},\"mode\":\"markers\",\"name\":\"True\",\"orientation\":\"v\",\"showlegend\":true,\"x\":[-3.556884765625,-2.82055401802063,-2.8749377727508545,8.956324577331543,9.095536231994629,9.256026268005371,9.669838905334473,9.672398567199707,8.618699073791504,9.628925323486328,8.810269355773926,8.399669647216797,8.4015531539917,8.743099212646484,8.155516624450684,8.631537437438965,7.820437431335449,7.8207926750183105,8.31769847869873,9.10811710357666,7.526330947875977,7.858484745025635,7.868272304534912,7.057951927185059,8.707602500915527,8.869138717651367,7.384749412536621,7.961379051208496,6.836610794067383,7.1771769523620605,6.428112983703613,7.860989570617676,5.921380996704102,6.423562526702881,5.099514961242676,5.8061652183532715,5.276576519012451,4.476585388183594,5.428606033325195,5.88737678527832,3.503751039505005,2.625838279724121,0.11085521429777145,3.530240058898926,3.3054733276367188,2.9001591205596924,2.759730815887451,2.754718065261841,2.2975306510925293,2.3555374145507812,2.2576305866241455,2.11041259765625,1.9463520050048828,1.963982343673706,1.4435418844223022,0.19264905154705048,0.9521970748901367,0.044536296278238297,0.6235185265541077,0.05650336667895317,0.4653666615486145,-0.8164337277412415,-0.04564099758863449,-1.2711825370788574,-0.8041554689407349,-1.5075188875198364,-1.5033570528030396,-1.2074536085128784,-1.3717939853668213],\"xaxis\":\"x\",\"y\":[-13.022126197814941,-10.206886291503906,-10.289560317993164,3.5988779067993164,4.914021015167236,5.561905860900879,5.042949199676514,5.0004658699035645,4.349074363708496,4.156482696533203,4.105212211608887,4.348484992980957,4.364194869995117,3.4876527786254883,3.593181848526001,5.337168216705322,3.0141475200653076,3.013725757598877,5.036554336547852,4.532497882843018,3.335078001022339,5.121334552764893,5.03312349319458,5.050146579742432,5.852662086486816,6.695829391479492,4.5567307472229,6.003696918487549,4.642075538635254,5.597774505615234,5.494951248168945,6.336719036102295,6.1926469802856445,5.829413414001465,6.746555328369141,5.76028299331665,5.2377400398254395,6.773800849914551,5.698795795440674,7.054434299468994,7.879816055297852,5.7731499671936035,3.1095075607299805,7.188467502593994,7.651095867156982,8.172572135925293,7.284664154052734,7.886733055114746,6.644616603851318,8.265046119689941,7.584753036499023,7.790862083435059,7.497060775756836,7.089873790740967,6.866458892822266,6.135443210601807,7.7377400398254395,6.70878267288208,7.48213005065918,6.9029860496521,7.481507301330566,7.618707180023193,7.575320243835449,7.556412220001221,8.08776569366455,7.601522445678711,7.8363037109375,8.390997886657715,8.328826904296875],\"yaxis\":\"y\",\"type\":\"scatter\"},{\"hovertemplate\":\"\\u003cb\\u003e%{hovertext}\\u003c\\u002fb\\u003e\\u003cbr\\u003e\\u003cbr\\u003eGenerative=False\\u003cbr\\u003ex=%{x}\\u003cbr\\u003ey=%{y}\\u003cextra\\u003e\\u003c\\u002fextra\\u003e\",\"hovertext\":[\"AI-Sweden-Models\\u002froberta-large-1160k\",\"ltg\\u002fnorbert3-large\",\"AI-Sweden-Models\\u002froberta-large-1350k\",\"danish-foundation-models\\u002fencoder-large-v1\",\"KennethEnevoldsen\\u002fdfm-sentence-encoder-large-1\",\"KennethEnevoldsen\\u002fdfm-sentence-encoder-large-2\",\"google\\u002frembert\",\"intfloat\\u002fmultilingual-e5-large\",\"NbAiLab\\u002fnb-roberta-base-scandi\",\"microsoft\\u002fmdeberta-v3-base\",\"ltg\\u002fnorbert3-base\",\"NbAiLab\\u002fnb-roberta-base-scandi-1e4\",\"FacebookAI\\u002fxlm-roberta-large\",\"sentence-transformers\\u002fuse-cmlm-multilingual\",\"KennethEnevoldsen\\u002fdfm-sentence-encoder-medium-3\",\"vesteinn\\u002fScandiBERT-no-faroese\",\"NbAiLab\\u002fnb-bert-base\",\"vesteinn\\u002fFoBERT\",\"pere\\u002froberta-debug-8\",\"pere\\u002froberta-base-exp-8\",\"setu4993\\u002fLaBSE\",\"pere\\u002froberta-debug-32\",\"pere\\u002froberta-base-exp-32\",\"AI-Sweden-Models\\u002fbert-large-nordic-pile-1M-steps\",\"pere\\u002froberta-base-exp-32B\",\"vesteinn\\u002fDanskBERT\",\"ltg\\u002fnorbert3-small\",\"KBLab\\u002fmegatron-bert-large-swedish-cased-165k\",\"cardiffnlp\\u002ftwitter-xlm-roberta-base\",\"AI-Nordics\\u002fbert-large-swedish-cased\",\"KBLab\\u002fmegatron-bert-large-swedish-cased-110k\",\"microsoft\\u002finfoxlm-large\",\"google-bert\\u002fbert-base-multilingual-uncased\",\"Geotrend\\u002fbert-base-en-fr-de-no-da-cased\",\"KB\\u002fbert-base-swedish-cased\",\"KBLab\\u002fmegatron-bert-base-swedish-cased-600k\",\"Geotrend\\u002fbert-base-25lang-cased\",\"google-bert\\u002fbert-base-multilingual-cased\",\"Geotrend\\u002fbert-base-en-no-cased\",\"KBLab\\u002fbert-base-swedish-cased\",\"microsoft\\u002fxlm-align-base\",\"facebook\\u002fxlm-v-base\",\"Geotrend\\u002fbert-base-en-da-cased\",\"jonfd\\u002felectra-small-nordic\",\"Geotrend\\u002fbert-base-da-cased\",\"microsoft\\u002finfoxlm-base\",\"KBLab\\u002fmegatron-bert-base-swedish-cased-125k\",\"clips\\u002fmfaq\",\"flax-community\\u002fnordic-roberta-wiki\",\"jhu-clsp\\u002fbernice\",\"DDSC\\u002froberta-base-scandinavian\",\"KBLab\\u002fbert-base-swedish-cased-new\",\"sentence-transformers\\u002fparaphrase-multilingual-mpnet-base-v2\",\"sentence-transformers\\u002fparaphrase-xlm-r-multilingual-v1\",\"flax-community\\u002fswe-roberta-wiki-oscar\",\"sentence-transformers\\u002fstsb-xlm-r-multilingual\",\"distilbert\\u002fdistilbert-base-multilingual-cased\",\"Geotrend\\u002fdistilbert-base-25lang-cased\",\"Geotrend\\u002fdistilbert-base-en-fr-de-no-da-cased\",\"Geotrend\\u002fdistilbert-base-en-no-cased\",\"Geotrend\\u002fdistilbert-base-en-da-cased\",\"Twitter\\u002ftwhin-bert-large\",\"Geotrend\\u002fdistilbert-base-da-cased\",\"sarnikowski\\u002fconvbert-medium-small-da-cased\",\"Addedk\\u002fkbbert-distilled-cased\",\"sentence-transformers\\u002fparaphrase-multilingual-MiniLM-L12-v2\",\"danish-foundation-models\\u002fencoder-medium-v1\",\"jannikskytt\\u002fMeDa-Bert\",\"DDSC\\u002froberta-base-danish\",\"Maltehb\\u002fdanish-bert-botxo\",\"ltg\\u002fnorbert3-xs\",\"birgermoell\\u002froberta-swedish-scandi\",\"Addedk\\u002fmbert-swedish-distilled-cased\",\"sarnikowski\\u002felectra-small-discriminator-da-256-cased\",\"sarnikowski\\u002fconvbert-small-da-cased\",\"sentence-transformers\\u002fdistilbert-multilingual-nli-stsb-quora-ranking\",\"sentence-transformers\\u002fquora-distilbert-multilingual\",\"dbmdz\\u002fbert-base-historic-multilingual-cased\",\"Maltehb\\u002faelaectra-danish-electra-small-cased\",\"dbmdz\\u002fbert-medium-historic-multilingual-cased\",\"Maltehb\\u002faelaectra-danish-electra-small-uncased\",\"jjzha\\u002fdajobbert-base-uncased\",\"sentence-transformers\\u002fdistiluse-base-multilingual-cased-v1\",\"KBLab\\u002falbert-base-swedish-cased-alpha\",\"dbmdz\\u002fbert-mini-historic-multilingual-cased\",\"jannesg\\u002fbertsson\",\"alexanderfalk\\u002fdanbert-small-cased\",\"3ebdola\\u002fDialectal-Arabic-XLM-R-Base\",\"RabotaRu\\u002fHRBert-mini\",\"fresh-xlm-roberta-base\",\"fresh-electra-small\"],\"legendgroup\":\"False\",\"marker\":{\"color\":\"#EF553B\",\"symbol\":\"circle\"},\"mode\":\"markers\",\"name\":\"False\",\"orientation\":\"v\",\"showlegend\":true,\"x\":[-4.340831756591797,-4.730978965759277,-4.344736576080322,-3.676865577697754,-4.10409688949585,-3.942575454711914,-4.080296516418457,-3.3469557762145996,-5.317986011505127,-4.592822551727295,-4.606540679931641,-5.534130096435547,-3.7325148582458496,-3.8252532482147217,-5.812614440917969,-5.035908222198486,-5.913936138153076,-5.285711288452148,-5.393990993499756,-5.3863844871521,-4.226644039154053,-5.869872570037842,-5.181390762329102,-5.24951696395874,-5.170016765594482,-3.808001756668091,-4.811986446380615,-5.724662780761719,-4.732425212860107,-5.3601975440979,-5.872356414794922,0.6298635005950928,-3.4634196758270264,-3.007478713989258,-5.315673828125,-5.691858291625977,-3.2880795001983643,-3.491715908050537,-2.977304458618164,-5.318017959594727,0.3463533818721771,-2.2654056549072266,-3.14009428024292,-6.798151016235352,-3.042689323425293,0.30448299646377563,-5.563407897949219,-3.7886803150177,-4.3922319412231445,-4.612501621246338,-1.8891650438308716,-6.10360050201416,-4.1485795974731445,-4.338116645812988,-5.252571105957031,-4.179605960845947,-3.221078634262085,-2.9236042499542236,-3.0187878608703613,-3.0816876888275146,-2.8951714038848877,-1.0464156866073608,-3.1330819129943848,-5.194190979003906,-2.7784953117370605,-3.708263397216797,-4.582181453704834,-4.545657157897949,-0.7973424792289734,-4.597273826599121,-0.7888498902320862,-2.6031503677368164,-2.8339755535125732,-5.430473804473877,-5.102231979370117,-1.9090195894241333,-1.922892451286316,-1.3833469152450562,-5.774540901184082,-1.4219790697097778,-5.67584228515625,-4.387843608856201,-1.0124770402908325,-1.1337281465530396,-1.0171053409576416,-0.7588639855384827,-0.7015410661697388,-1.0344302654266357,-0.6209887862205505,-0.8032912015914917,-1.0528383255004883],\"xaxis\":\"x\",\"y\":[-12.974264144897461,-13.20258617401123,-12.877613067626953,-12.077689170837402,-12.331228256225586,-12.27812385559082,-11.926307678222656,-11.003429412841797,-12.429875373840332,-12.048253059387207,-11.390641212463379,-12.367070198059082,-10.55179500579834,-10.961501121520996,-12.238553047180176,-12.102688789367676,-11.929644584655762,-11.707444190979004,-11.576654434204102,-11.22598648071289,-10.669374465942383,-11.469992637634277,-10.610687255859375,-7.233173370361328,-9.979934692382812,-9.099491119384766,-10.078897476196289,-6.250848770141602,-8.65428352355957,-6.465485572814941,-5.96516227722168,-2.070491313934326,-7.248754024505615,-6.045299053192139,-5.851951599121094,-5.642413139343262,-6.375825881958008,-6.461032390594482,-6.178727626800537,-5.825932502746582,-1.886948823928833,-6.428370952606201,-5.848666191101074,-10.842414855957031,-5.624134540557861,-1.8287659883499146,-5.195496559143066,-2.6289374828338623,-4.104311466217041,-3.582918405532837,-3.245717763900757,-4.741576671600342,-2.5916409492492676,-2.966660261154175,-4.298900127410889,-2.7577531337738037,-4.4774627685546875,-4.113119602203369,-4.296908855438232,-4.326182842254639,-4.06610107421875,-1.1477707624435425,-4.018860816955566,-1.0708743333816528,-2.3335227966308594,-2.2244129180908203,-0.08437304198741913,-0.06296621263027191,-0.7660475373268127,-0.22937236726284027,-1.0046006441116333,-2.067187786102295,-2.8487038612365723,-0.8394668102264404,-0.829602062702179,-0.6317030191421509,-0.6244409084320068,0.14410193264484406,-0.5375021696090698,0.16380544006824493,-0.16270548105239868,0.22614574432373047,2.4363722801208496,2.177159309387207,2.5149762630462646,3.141442060470581,5.18129301071167,3.411297082901001,5.910434722900391,6.4378275871276855,6.713357448577881],\"yaxis\":\"y\",\"type\":\"scatter\"}],                        {\"template\":{\"data\":{\"histogram2dcontour\":[{\"type\":\"histogram2dcontour\",\"colorbar\":{\"outlinewidth\":0,\"ticks\":\"\"},\"colorscale\":[[0.0,\"#0d0887\"],[0.1111111111111111,\"#46039f\"],[0.2222222222222222,\"#7201a8\"],[0.3333333333333333,\"#9c179e\"],[0.4444444444444444,\"#bd3786\"],[0.5555555555555556,\"#d8576b\"],[0.6666666666666666,\"#ed7953\"],[0.7777777777777778,\"#fb9f3a\"],[0.8888888888888888,\"#fdca26\"],[1.0,\"#f0f921\"]]}],\"choropleth\":[{\"type\":\"choropleth\",\"colorbar\":{\"outlinewidth\":0,\"ticks\":\"\"}}],\"histogram2d\":[{\"type\":\"histogram2d\",\"colorbar\":{\"outlinewidth\":0,\"ticks\":\"\"},\"colorscale\":[[0.0,\"#0d0887\"],[0.1111111111111111,\"#46039f\"],[0.2222222222222222,\"#7201a8\"],[0.3333333333333333,\"#9c179e\"],[0.4444444444444444,\"#bd3786\"],[0.5555555555555556,\"#d8576b\"],[0.6666666666666666,\"#ed7953\"],[0.7777777777777778,\"#fb9f3a\"],[0.8888888888888888,\"#fdca26\"],[1.0,\"#f0f921\"]]}],\"heatmap\":[{\"type\":\"heatmap\",\"colorbar\":{\"outlinewidth\":0,\"ticks\":\"\"},\"colorscale\":[[0.0,\"#0d0887\"],[0.1111111111111111,\"#46039f\"],[0.2222222222222222,\"#7201a8\"],[0.3333333333333333,\"#9c179e\"],[0.4444444444444444,\"#bd3786\"],[0.5555555555555556,\"#d8576b\"],[0.6666666666666666,\"#ed7953\"],[0.7777777777777778,\"#fb9f3a\"],[0.8888888888888888,\"#fdca26\"],[1.0,\"#f0f921\"]]}],\"heatmapgl\":[{\"type\":\"heatmapgl\",\"colorbar\":{\"outlinewidth\":0,\"ticks\":\"\"},\"colorscale\":[[0.0,\"#0d0887\"],[0.1111111111111111,\"#46039f\"],[0.2222222222222222,\"#7201a8\"],[0.3333333333333333,\"#9c179e\"],[0.4444444444444444,\"#bd3786\"],[0.5555555555555556,\"#d8576b\"],[0.6666666666666666,\"#ed7953\"],[0.7777777777777778,\"#fb9f3a\"],[0.8888888888888888,\"#fdca26\"],[1.0,\"#f0f921\"]]}],\"contourcarpet\":[{\"type\":\"contourcarpet\",\"colorbar\":{\"outlinewidth\":0,\"ticks\":\"\"}}],\"contour\":[{\"type\":\"contour\",\"colorbar\":{\"outlinewidth\":0,\"ticks\":\"\"},\"colorscale\":[[0.0,\"#0d0887\"],[0.1111111111111111,\"#46039f\"],[0.2222222222222222,\"#7201a8\"],[0.3333333333333333,\"#9c179e\"],[0.4444444444444444,\"#bd3786\"],[0.5555555555555556,\"#d8576b\"],[0.6666666666666666,\"#ed7953\"],[0.7777777777777778,\"#fb9f3a\"],[0.8888888888888888,\"#fdca26\"],[1.0,\"#f0f921\"]]}],\"surface\":[{\"type\":\"surface\",\"colorbar\":{\"outlinewidth\":0,\"ticks\":\"\"},\"colorscale\":[[0.0,\"#0d0887\"],[0.1111111111111111,\"#46039f\"],[0.2222222222222222,\"#7201a8\"],[0.3333333333333333,\"#9c179e\"],[0.4444444444444444,\"#bd3786\"],[0.5555555555555556,\"#d8576b\"],[0.6666666666666666,\"#ed7953\"],[0.7777777777777778,\"#fb9f3a\"],[0.8888888888888888,\"#fdca26\"],[1.0,\"#f0f921\"]]}],\"mesh3d\":[{\"type\":\"mesh3d\",\"colorbar\":{\"outlinewidth\":0,\"ticks\":\"\"}}],\"scatter\":[{\"fillpattern\":{\"fillmode\":\"overlay\",\"size\":10,\"solidity\":0.2},\"type\":\"scatter\"}],\"parcoords\":[{\"type\":\"parcoords\",\"line\":{\"colorbar\":{\"outlinewidth\":0,\"ticks\":\"\"}}}],\"scatterpolargl\":[{\"type\":\"scatterpolargl\",\"marker\":{\"colorbar\":{\"outlinewidth\":0,\"ticks\":\"\"}}}],\"bar\":[{\"error_x\":{\"color\":\"#2a3f5f\"},\"error_y\":{\"color\":\"#2a3f5f\"},\"marker\":{\"line\":{\"color\":\"#E5ECF6\",\"width\":0.5},\"pattern\":{\"fillmode\":\"overlay\",\"size\":10,\"solidity\":0.2}},\"type\":\"bar\"}],\"scattergeo\":[{\"type\":\"scattergeo\",\"marker\":{\"colorbar\":{\"outlinewidth\":0,\"ticks\":\"\"}}}],\"scatterpolar\":[{\"type\":\"scatterpolar\",\"marker\":{\"colorbar\":{\"outlinewidth\":0,\"ticks\":\"\"}}}],\"histogram\":[{\"marker\":{\"pattern\":{\"fillmode\":\"overlay\",\"size\":10,\"solidity\":0.2}},\"type\":\"histogram\"}],\"scattergl\":[{\"type\":\"scattergl\",\"marker\":{\"colorbar\":{\"outlinewidth\":0,\"ticks\":\"\"}}}],\"scatter3d\":[{\"type\":\"scatter3d\",\"line\":{\"colorbar\":{\"outlinewidth\":0,\"ticks\":\"\"}},\"marker\":{\"colorbar\":{\"outlinewidth\":0,\"ticks\":\"\"}}}],\"scattermapbox\":[{\"type\":\"scattermapbox\",\"marker\":{\"colorbar\":{\"outlinewidth\":0,\"ticks\":\"\"}}}],\"scatterternary\":[{\"type\":\"scatterternary\",\"marker\":{\"colorbar\":{\"outlinewidth\":0,\"ticks\":\"\"}}}],\"scattercarpet\":[{\"type\":\"scattercarpet\",\"marker\":{\"colorbar\":{\"outlinewidth\":0,\"ticks\":\"\"}}}],\"carpet\":[{\"aaxis\":{\"endlinecolor\":\"#2a3f5f\",\"gridcolor\":\"white\",\"linecolor\":\"white\",\"minorgridcolor\":\"white\",\"startlinecolor\":\"#2a3f5f\"},\"baxis\":{\"endlinecolor\":\"#2a3f5f\",\"gridcolor\":\"white\",\"linecolor\":\"white\",\"minorgridcolor\":\"white\",\"startlinecolor\":\"#2a3f5f\"},\"type\":\"carpet\"}],\"table\":[{\"cells\":{\"fill\":{\"color\":\"#EBF0F8\"},\"line\":{\"color\":\"white\"}},\"header\":{\"fill\":{\"color\":\"#C8D4E3\"},\"line\":{\"color\":\"white\"}},\"type\":\"table\"}],\"barpolar\":[{\"marker\":{\"line\":{\"color\":\"#E5ECF6\",\"width\":0.5},\"pattern\":{\"fillmode\":\"overlay\",\"size\":10,\"solidity\":0.2}},\"type\":\"barpolar\"}],\"pie\":[{\"automargin\":true,\"type\":\"pie\"}]},\"layout\":{\"autotypenumbers\":\"strict\",\"colorway\":[\"#636efa\",\"#EF553B\",\"#00cc96\",\"#ab63fa\",\"#FFA15A\",\"#19d3f3\",\"#FF6692\",\"#B6E880\",\"#FF97FF\",\"#FECB52\"],\"font\":{\"color\":\"#2a3f5f\"},\"hovermode\":\"closest\",\"hoverlabel\":{\"align\":\"left\"},\"paper_bgcolor\":\"white\",\"plot_bgcolor\":\"#E5ECF6\",\"polar\":{\"bgcolor\":\"#E5ECF6\",\"angularaxis\":{\"gridcolor\":\"white\",\"linecolor\":\"white\",\"ticks\":\"\"},\"radialaxis\":{\"gridcolor\":\"white\",\"linecolor\":\"white\",\"ticks\":\"\"}},\"ternary\":{\"bgcolor\":\"#E5ECF6\",\"aaxis\":{\"gridcolor\":\"white\",\"linecolor\":\"white\",\"ticks\":\"\"},\"baxis\":{\"gridcolor\":\"white\",\"linecolor\":\"white\",\"ticks\":\"\"},\"caxis\":{\"gridcolor\":\"white\",\"linecolor\":\"white\",\"ticks\":\"\"}},\"coloraxis\":{\"colorbar\":{\"outlinewidth\":0,\"ticks\":\"\"}},\"colorscale\":{\"sequential\":[[0.0,\"#0d0887\"],[0.1111111111111111,\"#46039f\"],[0.2222222222222222,\"#7201a8\"],[0.3333333333333333,\"#9c179e\"],[0.4444444444444444,\"#bd3786\"],[0.5555555555555556,\"#d8576b\"],[0.6666666666666666,\"#ed7953\"],[0.7777777777777778,\"#fb9f3a\"],[0.8888888888888888,\"#fdca26\"],[1.0,\"#f0f921\"]],\"sequentialminus\":[[0.0,\"#0d0887\"],[0.1111111111111111,\"#46039f\"],[0.2222222222222222,\"#7201a8\"],[0.3333333333333333,\"#9c179e\"],[0.4444444444444444,\"#bd3786\"],[0.5555555555555556,\"#d8576b\"],[0.6666666666666666,\"#ed7953\"],[0.7777777777777778,\"#fb9f3a\"],[0.8888888888888888,\"#fdca26\"],[1.0,\"#f0f921\"]],\"diverging\":[[0,\"#8e0152\"],[0.1,\"#c51b7d\"],[0.2,\"#de77ae\"],[0.3,\"#f1b6da\"],[0.4,\"#fde0ef\"],[0.5,\"#f7f7f7\"],[0.6,\"#e6f5d0\"],[0.7,\"#b8e186\"],[0.8,\"#7fbc41\"],[0.9,\"#4d9221\"],[1,\"#276419\"]]},\"xaxis\":{\"gridcolor\":\"white\",\"linecolor\":\"white\",\"ticks\":\"\",\"title\":{\"standoff\":15},\"zerolinecolor\":\"white\",\"automargin\":true,\"zerolinewidth\":2},\"yaxis\":{\"gridcolor\":\"white\",\"linecolor\":\"white\",\"ticks\":\"\",\"title\":{\"standoff\":15},\"zerolinecolor\":\"white\",\"automargin\":true,\"zerolinewidth\":2},\"scene\":{\"xaxis\":{\"backgroundcolor\":\"#E5ECF6\",\"gridcolor\":\"white\",\"linecolor\":\"white\",\"showbackground\":true,\"ticks\":\"\",\"zerolinecolor\":\"white\",\"gridwidth\":2},\"yaxis\":{\"backgroundcolor\":\"#E5ECF6\",\"gridcolor\":\"white\",\"linecolor\":\"white\",\"showbackground\":true,\"ticks\":\"\",\"zerolinecolor\":\"white\",\"gridwidth\":2},\"zaxis\":{\"backgroundcolor\":\"#E5ECF6\",\"gridcolor\":\"white\",\"linecolor\":\"white\",\"showbackground\":true,\"ticks\":\"\",\"zerolinecolor\":\"white\",\"gridwidth\":2}},\"shapedefaults\":{\"line\":{\"color\":\"#2a3f5f\"}},\"annotationdefaults\":{\"arrowcolor\":\"#2a3f5f\",\"arrowhead\":0,\"arrowwidth\":1},\"geo\":{\"bgcolor\":\"white\",\"landcolor\":\"#E5ECF6\",\"subunitcolor\":\"white\",\"showland\":true,\"showlakes\":true,\"lakecolor\":\"white\"},\"title\":{\"x\":0.05},\"mapbox\":{\"style\":\"light\"}}},\"xaxis\":{\"anchor\":\"y\",\"domain\":[0.0,1.0],\"title\":{\"text\":\"x\"}},\"yaxis\":{\"anchor\":\"x\",\"domain\":[0.0,1.0],\"title\":{\"text\":\"y\"}},\"legend\":{\"title\":{\"text\":\"Generative\"},\"tracegroupgap\":0},\"title\":{\"text\":\"T-SNE Projection of Model Performance\"},\"height\":500,\"width\":650},                        {\"responsive\": true}                    ).then(function(){\n",
       "                            \n",
       "var gd = document.getElementById('2b779294-5d49-4e5b-a43d-46654a98412b');\n",
       "var x = new MutationObserver(function (mutations, observer) {{\n",
       "        var display = window.getComputedStyle(gd).display;\n",
       "        if (!display || display === 'none') {{\n",
       "            console.log([gd, 'removed!']);\n",
       "            Plotly.purge(gd);\n",
       "            observer.disconnect();\n",
       "        }}\n",
       "}});\n",
       "\n",
       "// Listen for the removal of the full notebook cells\n",
       "var notebookContainer = gd.closest('#notebook-container');\n",
       "if (notebookContainer) {{\n",
       "    x.observe(notebookContainer, {childList: true});\n",
       "}}\n",
       "\n",
       "// Listen for the clearing of the current output cell\n",
       "var outputEl = gd.closest('.output');\n",
       "if (outputEl) {{\n",
       "    x.observe(outputEl, {childList: true});\n",
       "}}\n",
       "\n",
       "                        })                };                });            </script>        </div>"
      ]
     },
     "metadata": {},
     "output_type": "display_data"
    }
   ],
   "source": [
    "tsne = TSNE(n_components=2)\n",
    "tsne_projection = tsne.fit_transform(df.drop(columns=\"generative\"))\n",
    "px.scatter(\n",
    "    x=tsne_projection[:, 0], \n",
    "    y=tsne_projection[:, 1], \n",
    "    color=df.generative,\n",
    "    hover_name=df.index.tolist(),\n",
    "    width=650,\n",
    "    height=500,\n",
    "    title=\"T-SNE Projection of Model Performance\",\n",
    "    labels=dict(color=\"Generative\"),\n",
    ")"
   ]
  }
 ],
 "metadata": {
  "kernelspec": {
   "display_name": "Python 3 (ipykernel)",
   "language": "python",
   "name": "python3"
  },
  "language_info": {
   "codemirror_mode": {
    "name": "ipython",
    "version": 3
   },
   "file_extension": ".py",
   "mimetype": "text/x-python",
   "name": "python",
   "nbconvert_exporter": "python",
   "pygments_lexer": "ipython3",
   "version": "3.10.13"
  }
 },
 "nbformat": 4,
 "nbformat_minor": 5
}
