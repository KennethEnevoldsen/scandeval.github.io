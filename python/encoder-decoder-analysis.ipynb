{
 "cells": [
  {
   "cell_type": "code",
   "execution_count": 42,
   "id": "4c64a2ba-fed6-4df7-a98b-d18b0028e0dc",
   "metadata": {},
   "outputs": [],
   "source": [
    "LANGUAGE = 'dutch'"
   ]
  },
  {
   "cell_type": "markdown",
   "id": "e72944f3-da8e-468a-8116-d8df90844920",
   "metadata": {
    "jp-MarkdownHeadingCollapsed": true
   },
   "source": [
    "### Setting Up"
   ]
  },
  {
   "cell_type": "code",
   "execution_count": 43,
   "id": "5b28808d-d8a6-47ba-9d73-5d09579c61f2",
   "metadata": {},
   "outputs": [],
   "source": [
    "import pandas as pd\n",
    "import seaborn as sns\n",
    "import plotly.express as px\n",
    "from umap import UMAP\n",
    "import matplotlib.pyplot as plt\n",
    "import numpy as np\n",
    "plt.style.use('ggplot')"
   ]
  },
  {
   "cell_type": "code",
   "execution_count": 44,
   "id": "f8ac3474-7346-4734-b500-c88cd7f1664d",
   "metadata": {},
   "outputs": [],
   "source": [
    "def load_results_dataframe(language: str) -> pd.DataFrame:\n",
    "    df = pd.read_csv(f'https://scandeval.com/{language}-nlu.csv')\n",
    "\n",
    "    datasets = ['model_id', 'rank']\n",
    "    for task in ['ner', 'sent', 'la', 'qa']:\n",
    "        datasets.extend([\n",
    "            dataset\n",
    "            for dataset in df.columns\n",
    "            if dataset_to_task.get(dataset) == task\n",
    "        ])\n",
    "    df = df[datasets]\n",
    "    \n",
    "    df['generative'] = df.model_id.map(lambda x: \"few-shot\" in x)\n",
    "    df.set_index('model_id', inplace=True)\n",
    "    \n",
    "    return df"
   ]
  },
  {
   "cell_type": "code",
   "execution_count": 45,
   "id": "77f00b44-55ce-402d-97f8-7a2d321fb097",
   "metadata": {},
   "outputs": [],
   "source": [
    "dataset_to_task = dict(\n",
    "    # Danish\n",
    "    dansk='ner',\n",
    "    angry_tweets='sent',\n",
    "    scala_da='la',\n",
    "    scandiqa_da='qa',\n",
    "\n",
    "    # Norwegian\n",
    "    norne_nb='ner',\n",
    "    norne_nn='ner',\n",
    "    norec='sent',\n",
    "    scala_nb='la',\n",
    "    scala_nn='la',\n",
    "    norquad='qa',\n",
    "\n",
    "    # Swedish\n",
    "    suc3='ner',\n",
    "    swerec='sent',\n",
    "    scala_sv='la',\n",
    "    scandiqa_sv='qa',\n",
    "\n",
    "    # Icelandic\n",
    "    mim_gold_ner='ner',\n",
    "    scala_is='la',\n",
    "    nqii='qa',\n",
    "\n",
    "    # Faroese\n",
    "    fone='ner',\n",
    "    scala_fo='la',\n",
    "\n",
    "    # German\n",
    "    germeval='ner',\n",
    "    sb10k='sent',\n",
    "    scala_de='la',\n",
    "    germanquad='qa',\n",
    "\n",
    "    # Dutch\n",
    "    conll_nl='ner',\n",
    "    dutch_social='sent',\n",
    "    scala_nl='la',\n",
    "    squad_nl='qa',\n",
    "\n",
    "    # English\n",
    "    conll_en='ner',\n",
    "    sst5='sent',\n",
    "    scala_en='la',\n",
    "    squad='qa',\n",
    ")\n",
    "language_title = LANGUAGE.replace('-', ' ').title()"
   ]
  },
  {
   "cell_type": "code",
   "execution_count": 46,
   "id": "4b566a32-7053-4b65-a72f-179750856760",
   "metadata": {},
   "outputs": [
    {
     "data": {
      "text/html": [
       "<div>\n",
       "<style scoped>\n",
       "    .dataframe tbody tr th:only-of-type {\n",
       "        vertical-align: middle;\n",
       "    }\n",
       "\n",
       "    .dataframe tbody tr th {\n",
       "        vertical-align: top;\n",
       "    }\n",
       "\n",
       "    .dataframe thead th {\n",
       "        text-align: right;\n",
       "    }\n",
       "</style>\n",
       "<table border=\"1\" class=\"dataframe\">\n",
       "  <thead>\n",
       "    <tr style=\"text-align: right;\">\n",
       "      <th></th>\n",
       "      <th>rank</th>\n",
       "      <th>conll_nl</th>\n",
       "      <th>dutch_social</th>\n",
       "      <th>scala_nl</th>\n",
       "      <th>squad_nl</th>\n",
       "      <th>generative</th>\n",
       "    </tr>\n",
       "    <tr>\n",
       "      <th>model_id</th>\n",
       "      <th></th>\n",
       "      <th></th>\n",
       "      <th></th>\n",
       "      <th></th>\n",
       "      <th></th>\n",
       "      <th></th>\n",
       "    </tr>\n",
       "  </thead>\n",
       "  <tbody>\n",
       "    <tr>\n",
       "      <th>intfloat/multilingual-e5-large</th>\n",
       "      <td>1.40</td>\n",
       "      <td>82.31</td>\n",
       "      <td>32.64</td>\n",
       "      <td>58.51</td>\n",
       "      <td>45.32</td>\n",
       "      <td>False</td>\n",
       "    </tr>\n",
       "    <tr>\n",
       "      <th>setu4993/LaBSE</th>\n",
       "      <td>1.48</td>\n",
       "      <td>82.02</td>\n",
       "      <td>33.99</td>\n",
       "      <td>60.77</td>\n",
       "      <td>41.55</td>\n",
       "      <td>False</td>\n",
       "    </tr>\n",
       "    <tr>\n",
       "      <th>DTAI-KULeuven/robbert-2022-dutch-base</th>\n",
       "      <td>1.75</td>\n",
       "      <td>79.84</td>\n",
       "      <td>24.58</td>\n",
       "      <td>68.76</td>\n",
       "      <td>27.63</td>\n",
       "      <td>False</td>\n",
       "    </tr>\n",
       "    <tr>\n",
       "      <th>gpt-4-1106-preview (few-shot)</th>\n",
       "      <td>1.76</td>\n",
       "      <td>66.44</td>\n",
       "      <td>15.05</td>\n",
       "      <td>74.01</td>\n",
       "      <td>57.81</td>\n",
       "      <td>True</td>\n",
       "    </tr>\n",
       "    <tr>\n",
       "      <th>pdelobelle/robbert-v2-dutch-base</th>\n",
       "      <td>1.79</td>\n",
       "      <td>78.30</td>\n",
       "      <td>26.68</td>\n",
       "      <td>63.83</td>\n",
       "      <td>28.34</td>\n",
       "      <td>False</td>\n",
       "    </tr>\n",
       "  </tbody>\n",
       "</table>\n",
       "</div>"
      ],
      "text/plain": [
       "                                       rank  conll_nl  dutch_social  scala_nl  \\\n",
       "model_id                                                                        \n",
       "intfloat/multilingual-e5-large         1.40     82.31         32.64     58.51   \n",
       "setu4993/LaBSE                         1.48     82.02         33.99     60.77   \n",
       "DTAI-KULeuven/robbert-2022-dutch-base  1.75     79.84         24.58     68.76   \n",
       "gpt-4-1106-preview (few-shot)          1.76     66.44         15.05     74.01   \n",
       "pdelobelle/robbert-v2-dutch-base       1.79     78.30         26.68     63.83   \n",
       "\n",
       "                                       squad_nl  generative  \n",
       "model_id                                                     \n",
       "intfloat/multilingual-e5-large            45.32       False  \n",
       "setu4993/LaBSE                            41.55       False  \n",
       "DTAI-KULeuven/robbert-2022-dutch-base     27.63       False  \n",
       "gpt-4-1106-preview (few-shot)             57.81        True  \n",
       "pdelobelle/robbert-v2-dutch-base          28.34       False  "
      ]
     },
     "execution_count": 46,
     "metadata": {},
     "output_type": "execute_result"
    }
   ],
   "source": [
    "df = load_results_dataframe(language=LANGUAGE)\n",
    "df.head()"
   ]
  },
  {
   "cell_type": "markdown",
   "id": "7245054d-4af0-4dca-a65d-c17f5d17db0c",
   "metadata": {},
   "source": [
    "## Plots"
   ]
  },
  {
   "cell_type": "code",
   "execution_count": 47,
   "id": "67c68697-b69b-44f2-b620-a265c5712345",
   "metadata": {},
   "outputs": [
    {
     "data": {
      "image/png": "[encoded data removed]",
      "text/plain": [
       "<Figure size 300x200 with 2 Axes>"
      ]
     },
     "metadata": {},
     "output_type": "display_data"
    }
   ],
   "source": [
    "num_languages = (len(df.columns) - 1) // 4\n",
    "plt.figure(figsize=(3 * num_languages, 2 * num_languages))\n",
    "sns.heatmap(\n",
    "    df.drop(columns='rank').corr(), \n",
    "    annot=True, \n",
    "    fmt=\".1f\", \n",
    "    vmin=-1, \n",
    "    vmax=1, \n",
    "    cmap=sns.diverging_palette(145, 300, s=60, as_cmap=True)\n",
    ")\n",
    "plt.title(f\"Correlations of {language_title} Model Performance\", fontsize=9 + 2 * num_languages)\n",
    "plt.savefig(f\"/Users/dan/Downloads/correlation-{LANGUAGE}.png\", bbox_inches='tight')\n",
    "plt.show()"
   ]
  },
  {
   "cell_type": "code",
   "execution_count": 48,
   "id": "784afb6e-a03a-4395-8c85-625a809d56a2",
   "metadata": {},
   "outputs": [
    {
     "name": "stdout",
     "output_type": "stream",
     "text": [
      "Using 73 neighbours.\n"
     ]
    },
    {
     "data": {
      "application/vnd.plotly.v1+json": {
       "config": {
        "plotlyServerURL": "https://plot.ly"
       },
       "data": [
        {
         "hovertemplate": "<b>%{hovertext}</b><br><br>Generative=False<br>x=%{x}<br>y=%{y}<br>size=%{marker.size}<br>Rank Score=%{marker.color}<extra></extra>",
         "hovertext": [
          "intfloat/multilingual-e5-large",
          "setu4993/LaBSE",
          "DTAI-KULeuven/robbert-2022-dutch-base",
          "pdelobelle/robbert-v2-dutch-base",
          "ZurichNLP/unsup-simcse-xlm-roberta-base",
          "intfloat/multilingual-e5-base",
          "FacebookAI/xlm-roberta-large",
          "DTAI-KULeuven/robbertje-1-gb-non-shuffled",
          "DTAI-KULeuven/robbert-2023-dutch-base",
          "DTAI-KULeuven/robbertje-1-gb-merged",
          "jhu-clsp/bernice",
          "microsoft/mdeberta-v3-base",
          "DTAI-KULeuven/robbertje-1-gb-shuffled",
          "DTAI-KULeuven/robbert-2023-dutch-large",
          "cardiffnlp/twitter-xlm-roberta-base",
          "sentence-transformers/paraphrase-xlm-r-multilingual-v1",
          "DTAI-KULeuven/robbertje-1-gb-bort",
          "microsoft/xlm-align-base",
          "sentence-transformers/quora-distilbert-multilingual",
          "Geotrend/distilbert-base-25lang-cased",
          "EuropeanParliament/EUBERT",
          "Twitter/twhin-bert-base",
          "Twitter/twhin-bert-large",
          "AI-Sweden-Models/roberta-large-1350k",
          "AI-Sweden-Models/roberta-large-1160k",
          "sentence-transformers/distiluse-base-multilingual-cased-v1",
          "sentence-transformers/distiluse-base-multilingual-cased",
          "jpostma/DagoBERT",
          "dbmdz/bert-tiny-historic-multilingual-cased",
          "3ebdola/Dialectal-Arabic-XLM-R-Base",
          "fresh-xlm-roberta-base",
          "fresh-electra-small"
         ],
         "legendgroup": "False",
         "marker": {
          "color": [
           1.4,
           1.48,
           1.75,
           1.79,
           1.82,
           1.96,
           2.02,
           2.04,
           2.07,
           2.12,
           2.14,
           2.16,
           2.19,
           2.21,
           2.36,
           2.38,
           2.45,
           2.67,
           2.68,
           2.75,
           2.87,
           2.9,
           2.9,
           3.07,
           3.11,
           3.22,
           3.38,
           3.46,
           3.72,
           3.77,
           4.38,
           4.4
          ],
          "coloraxis": "coloraxis",
          "size": [
           20,
           20,
           20,
           20,
           20,
           20,
           20,
           20,
           20,
           20,
           20,
           20,
           20,
           20,
           20,
           20,
           20,
           20,
           20,
           20,
           20,
           20,
           20,
           20,
           20,
           20,
           20,
           20,
           20,
           20,
           20,
           20
          ],
          "sizemode": "area",
          "sizeref": 0.24691358024691357,
          "symbol": "star"
         },
         "mode": "markers",
         "name": "False",
         "orientation": "v",
         "showlegend": true,
         "type": "scatter",
         "x": [
          0.6457833647727966,
          0.7215890288352966,
          0.31237199902534485,
          0.40553733706474304,
          0.16889716684818268,
          0.2280406802892685,
          1.0644739866256714,
          -0.20241118967533112,
          -0.441854327917099,
          -0.8008188009262085,
          -0.7949283719062805,
          1.0370210409164429,
          -0.6107571721076965,
          -0.23483549058437347,
          -0.330269455909729,
          -0.9709332585334778,
          -1.1085906028747559,
          0.3264201879501343,
          -1.406456708908081,
          -0.37838268280029297,
          -1.2936030626296997,
          -0.8208987712860107,
          -0.09455521404743195,
          -0.030561091378331184,
          -0.17369097471237183,
          -1.863303303718567,
          -1.8181926012039185,
          -1.5214122533798218,
          -2.0991244316101074,
          -2.24416446685791,
          -2.730841636657715,
          -2.9616775512695312
         ],
         "xaxis": "x",
         "y": [
          9.509965896606445,
          9.220900535583496,
          9.09636402130127,
          8.92348575592041,
          9.340438842773438,
          9.848405838012695,
          9.793389320373535,
          9.126452445983887,
          9.114641189575195,
          9.009804725646973,
          8.886701583862305,
          9.666111946105957,
          8.736626625061035,
          8.656426429748535,
          8.984495162963867,
          9.312088012695312,
          9.756571769714355,
          11.262945175170898,
          10.070697784423828,
          9.629067420959473,
          10.55015754699707,
          9.613337516784668,
          10.96851921081543,
          11.45104694366455,
          11.470269203186035,
          10.760843276977539,
          10.434257507324219,
          10.536165237426758,
          11.25904655456543,
          10.999431610107422,
          11.586366653442383,
          11.420135498046875
         ],
         "yaxis": "y"
        },
        {
         "hovertemplate": "<b>%{hovertext}</b><br><br>Generative=True<br>x=%{x}<br>y=%{y}<br>size=%{marker.size}<br>Rank Score=%{marker.color}<extra></extra>",
         "hovertext": [
          "gpt-4-1106-preview (few-shot)",
          "Nexusflow/Starling-LM-7B-beta (few-shot)",
          "gpt-3.5-turbo-0613 (few-shot, val)",
          "upstage/SOLAR-10.7B-v1.0 (few-shot)",
          "robinsmits/Qwen1.5-7B-Dutch-Chat (few-shot)",
          "robinsmits/Qwen1.5-7B-Dutch-Chat-Sft-Bf16 (few-shot)",
          "mistralai/Mistral-7B-Instruct-v0.2 (few-shot)",
          "mlabonne/NeuralBeagle14-7B (few-shot, val)",
          "mistralai/Mistral-7B-v0.1 (few-shot)",
          "Rijgersberg/Mistral-7B-v0.1-chat-nl (few-shot)",
          "alpindale/Mistral-7B-v0.2-hf (few-shot)",
          "mlabonne/AlphaMonarch-7B (few-shot, val)",
          "BramVanroy/GEITje-7B-ultra (few-shot)",
          "occiglot/occiglot-7b-eu5-instruct (few-shot)",
          "Rijgersberg/GEITje-7B-chat-v2 (few-shot)",
          "RuterNorway/Llama-2-13b-chat-norwegian (few-shot)",
          "Qwen/Qwen1.5-4B-Chat (few-shot)",
          "occiglot/occiglot-7b-eu5 (few-shot)",
          "meta-llama/Llama-2-7b-chat-hf (few-shot)",
          "Rijgersberg/GEITje-7B-chat (few-shot)",
          "Rijgersberg/GEITje-7B (few-shot)",
          "mistralai/Mistral-7B-Instruct-v0.1 (few-shot)",
          "timpal0l/Mistral-7B-v0.1-flashback-v2 (few-shot)",
          "meta-llama/Llama-2-7b-hf (few-shot)",
          "Qwen/Qwen1.5-4B (few-shot)",
          "AI-Sweden-Models/gpt-sw3-20b (few-shot)",
          "01-ai/Yi-6B (few-shot)",
          "BramVanroy/GEITje-7B-ultra-sft (few-shot)",
          "AI-Sweden-Models/gpt-sw3-20b-instruct (few-shot)",
          "google/gemma-2b-it (few-shot)",
          "RuterNorway/Llama-2-7b-chat-norwegian (few-shot)",
          "LumiOpen/Viking-13B (few-shot)",
          "allenai/OLMo-7B (few-shot)",
          "google/gemma-2b (few-shot)",
          "Qwen/Qwen1.5-1.8B-Chat (few-shot)",
          "Qwen/Qwen1.5-0.5B-Chat (few-shot)",
          "allenai/OLMo-7B-Twin-2T (few-shot)",
          "Qwen/Qwen1.5-1.8B (few-shot)",
          "Qwen/Qwen1.5-0.5B (few-shot)",
          "allenai/OLMo-1B (few-shot)",
          "RJuro/kanelsnegl-v0.1 (few-shot)",
          "ai-forever/mGPT (few-shot)"
         ],
         "legendgroup": "True",
         "marker": {
          "color": [
           1.76,
           2.09,
           2.16,
           2.25,
           2.42,
           2.44,
           2.55,
           2.55,
           2.66,
           2.67,
           2.68,
           2.68,
           2.7,
           2.79,
           2.8,
           2.81,
           2.83,
           2.87,
           2.88,
           2.89,
           2.9,
           2.91,
           2.92,
           2.94,
           2.96,
           3.06,
           3.07,
           3.07,
           3.24,
           3.28,
           3.34,
           3.41,
           3.41,
           3.49,
           3.63,
           3.74,
           3.77,
           3.83,
           3.88,
           4.09,
           4.58,
           4.6
          ],
          "coloraxis": "coloraxis",
          "size": [
           20,
           20,
           20,
           20,
           20,
           20,
           20,
           20,
           20,
           20,
           20,
           20,
           20,
           20,
           20,
           20,
           20,
           20,
           20,
           20,
           20,
           20,
           20,
           20,
           20,
           20,
           20,
           20,
           20,
           20,
           20,
           20,
           20,
           20,
           20,
           20,
           20,
           20,
           20,
           20,
           20,
           20
          ],
          "sizemode": "area",
          "sizeref": 0.24691358024691357,
          "symbol": "square"
         },
         "mode": "markers",
         "name": "True",
         "orientation": "v",
         "showlegend": true,
         "type": "scatter",
         "x": [
          1.0642133951187134,
          1.1171432733535767,
          1.116580843925476,
          1.2261872291564941,
          0.604553759098053,
          0.6461777687072754,
          0.34797203540802,
          1.0510135889053345,
          1.2641485929489136,
          0.9520353674888611,
          1.039149284362793,
          0.7437217831611633,
          -0.4581846594810486,
          0.6139600872993469,
          -0.15996891260147095,
          0.39747998118400574,
          -0.9751603603363037,
          -0.06514273583889008,
          -0.17719176411628723,
          0.41615402698516846,
          0.6572623252868652,
          0.12017709761857986,
          -0.012870408594608307,
          -0.21181350946426392,
          -1.4045603275299072,
          -1.674009919166565,
          -0.8517323136329651,
          -0.6874470114707947,
          -2.028919219970703,
          -1.5181553363800049,
          -1.9070565700531006,
          -2.1762986183166504,
          -1.7426329851150513,
          -2.061643362045288,
          -2.2490272521972656,
          -2.5723838806152344,
          -2.3879129886627197,
          -2.614100456237793,
          -2.445012331008911,
          -2.649437189102173,
          -2.947082996368408,
          -3.1488099098205566
         ],
         "xaxis": "x",
         "y": [
          9.898465156555176,
          11.02112865447998,
          10.21252727508545,
          11.397486686706543,
          12.300443649291992,
          12.014457702636719,
          12.131086349487305,
          11.948200225830078,
          12.532581329345703,
          12.395862579345703,
          12.688772201538086,
          11.525997161865234,
          12.737974166870117,
          12.815099716186523,
          13.070962905883789,
          12.57187271118164,
          12.490851402282715,
          12.771697998046875,
          12.30422592163086,
          12.967832565307617,
          13.210155487060547,
          12.611681938171387,
          12.425554275512695,
          13.179460525512695,
          12.581889152526855,
          12.802371978759766,
          12.597618103027344,
          13.156109809875488,
          12.674969673156738,
          12.383013725280762,
          12.416486740112305,
          12.13572883605957,
          12.087783813476562,
          12.897096633911133,
          12.261548042297363,
          12.479613304138184,
          12.711371421813965,
          12.484956741333008,
          11.939270973205566,
          11.617667198181152,
          11.833276748657227,
          11.663494110107422
         ],
         "yaxis": "y"
        }
       ],
       "layout": {
        "coloraxis": {
         "cmax": 3,
         "cmin": 1,
         "colorbar": {
          "dtick": 1,
          "len": 0.8,
          "ticks": "outside",
          "title": {
           "text": "Rank Score"
          },
          "x": 1.03,
          "y": 0.78,
          "yanchor": "top"
         },
         "colorscale": [
          [
           0,
           "#0d0887"
          ],
          [
           0.1111111111111111,
           "#46039f"
          ],
          [
           0.2222222222222222,
           "#7201a8"
          ],
          [
           0.3333333333333333,
           "#9c179e"
          ],
          [
           0.4444444444444444,
           "#bd3786"
          ],
          [
           0.5555555555555556,
           "#d8576b"
          ],
          [
           0.6666666666666666,
           "#ed7953"
          ],
          [
           0.7777777777777778,
           "#fb9f3a"
          ],
          [
           0.8888888888888888,
           "#fdca26"
          ],
          [
           1,
           "#f0f921"
          ]
         ]
        },
        "height": 600,
        "legend": {
         "itemsizing": "constant",
         "title": {
          "text": "Generative"
         },
         "tracegroupgap": 0
        },
        "template": {
         "data": {
          "bar": [
           {
            "error_x": {
             "color": "#2a3f5f"
            },
            "error_y": {
             "color": "#2a3f5f"
            },
            "marker": {
             "line": {
              "color": "#E5ECF6",
              "width": 0.5
             },
             "pattern": {
              "fillmode": "overlay",
              "size": 10,
              "solidity": 0.2
             }
            },
            "type": "bar"
           }
          ],
          "barpolar": [
           {
            "marker": {
             "line": {
              "color": "#E5ECF6",
              "width": 0.5
             },
             "pattern": {
              "fillmode": "overlay",
              "size": 10,
              "solidity": 0.2
             }
            },
            "type": "barpolar"
           }
          ],
          "carpet": [
           {
            "aaxis": {
             "endlinecolor": "#2a3f5f",
             "gridcolor": "white",
             "linecolor": "white",
             "minorgridcolor": "white",
             "startlinecolor": "#2a3f5f"
            },
            "baxis": {
             "endlinecolor": "#2a3f5f",
             "gridcolor": "white",
             "linecolor": "white",
             "minorgridcolor": "white",
             "startlinecolor": "#2a3f5f"
            },
            "type": "carpet"
           }
          ],
          "choropleth": [
           {
            "colorbar": {
             "outlinewidth": 0,
             "ticks": ""
            },
            "type": "choropleth"
           }
          ],
          "contour": [
           {
            "colorbar": {
             "outlinewidth": 0,
             "ticks": ""
            },
            "colorscale": [
             [
              0,
              "#0d0887"
             ],
             [
              0.1111111111111111,
              "#46039f"
             ],
             [
              0.2222222222222222,
              "#7201a8"
             ],
             [
              0.3333333333333333,
              "#9c179e"
             ],
             [
              0.4444444444444444,
              "#bd3786"
             ],
             [
              0.5555555555555556,
              "#d8576b"
             ],
             [
              0.6666666666666666,
              "#ed7953"
             ],
             [
              0.7777777777777778,
              "#fb9f3a"
             ],
             [
              0.8888888888888888,
              "#fdca26"
             ],
             [
              1,
              "#f0f921"
             ]
            ],
            "type": "contour"
           }
          ],
          "contourcarpet": [
           {
            "colorbar": {
             "outlinewidth": 0,
             "ticks": ""
            },
            "type": "contourcarpet"
           }
          ],
          "heatmap": [
           {
            "colorbar": {
             "outlinewidth": 0,
             "ticks": ""
            },
            "colorscale": [
             [
              0,
              "#0d0887"
             ],
             [
              0.1111111111111111,
              "#46039f"
             ],
             [
              0.2222222222222222,
              "#7201a8"
             ],
             [
              0.3333333333333333,
              "#9c179e"
             ],
             [
              0.4444444444444444,
              "#bd3786"
             ],
             [
              0.5555555555555556,
              "#d8576b"
             ],
             [
              0.6666666666666666,
              "#ed7953"
             ],
             [
              0.7777777777777778,
              "#fb9f3a"
             ],
             [
              0.8888888888888888,
              "#fdca26"
             ],
             [
              1,
              "#f0f921"
             ]
            ],
            "type": "heatmap"
           }
          ],
          "heatmapgl": [
           {
            "colorbar": {
             "outlinewidth": 0,
             "ticks": ""
            },
            "colorscale": [
             [
              0,
              "#0d0887"
             ],
             [
              0.1111111111111111,
              "#46039f"
             ],
             [
              0.2222222222222222,
              "#7201a8"
             ],
             [
              0.3333333333333333,
              "#9c179e"
             ],
             [
              0.4444444444444444,
              "#bd3786"
             ],
             [
              0.5555555555555556,
              "#d8576b"
             ],
             [
              0.6666666666666666,
              "#ed7953"
             ],
             [
              0.7777777777777778,
              "#fb9f3a"
             ],
             [
              0.8888888888888888,
              "#fdca26"
             ],
             [
              1,
              "#f0f921"
             ]
            ],
            "type": "heatmapgl"
           }
          ],
          "histogram": [
           {
            "marker": {
             "pattern": {
              "fillmode": "overlay",
              "size": 10,
              "solidity": 0.2
             }
            },
            "type": "histogram"
           }
          ],
          "histogram2d": [
           {
            "colorbar": {
             "outlinewidth": 0,
             "ticks": ""
            },
            "colorscale": [
             [
              0,
              "#0d0887"
             ],
             [
              0.1111111111111111,
              "#46039f"
             ],
             [
              0.2222222222222222,
              "#7201a8"
             ],
             [
              0.3333333333333333,
              "#9c179e"
             ],
             [
              0.4444444444444444,
              "#bd3786"
             ],
             [
              0.5555555555555556,
              "#d8576b"
             ],
             [
              0.6666666666666666,
              "#ed7953"
             ],
             [
              0.7777777777777778,
              "#fb9f3a"
             ],
             [
              0.8888888888888888,
              "#fdca26"
             ],
             [
              1,
              "#f0f921"
             ]
            ],
            "type": "histogram2d"
           }
          ],
          "histogram2dcontour": [
           {
            "colorbar": {
             "outlinewidth": 0,
             "ticks": ""
            },
            "colorscale": [
             [
              0,
              "#0d0887"
             ],
             [
              0.1111111111111111,
              "#46039f"
             ],
             [
              0.2222222222222222,
              "#7201a8"
             ],
             [
              0.3333333333333333,
              "#9c179e"
             ],
             [
              0.4444444444444444,
              "#bd3786"
             ],
             [
              0.5555555555555556,
              "#d8576b"
             ],
             [
              0.6666666666666666,
              "#ed7953"
             ],
             [
              0.7777777777777778,
              "#fb9f3a"
             ],
             [
              0.8888888888888888,
              "#fdca26"
             ],
             [
              1,
              "#f0f921"
             ]
            ],
            "type": "histogram2dcontour"
           }
          ],
          "mesh3d": [
           {
            "colorbar": {
             "outlinewidth": 0,
             "ticks": ""
            },
            "type": "mesh3d"
           }
          ],
          "parcoords": [
           {
            "line": {
             "colorbar": {
              "outlinewidth": 0,
              "ticks": ""
             }
            },
            "type": "parcoords"
           }
          ],
          "pie": [
           {
            "automargin": true,
            "type": "pie"
           }
          ],
          "scatter": [
           {
            "fillpattern": {
             "fillmode": "overlay",
             "size": 10,
             "solidity": 0.2
            },
            "type": "scatter"
           }
          ],
          "scatter3d": [
           {
            "line": {
             "colorbar": {
              "outlinewidth": 0,
              "ticks": ""
             }
            },
            "marker": {
             "colorbar": {
              "outlinewidth": 0,
              "ticks": ""
             }
            },
            "type": "scatter3d"
           }
          ],
          "scattercarpet": [
           {
            "marker": {
             "colorbar": {
              "outlinewidth": 0,
              "ticks": ""
             }
            },
            "type": "scattercarpet"
           }
          ],
          "scattergeo": [
           {
            "marker": {
             "colorbar": {
              "outlinewidth": 0,
              "ticks": ""
             }
            },
            "type": "scattergeo"
           }
          ],
          "scattergl": [
           {
            "marker": {
             "colorbar": {
              "outlinewidth": 0,
              "ticks": ""
             }
            },
            "type": "scattergl"
           }
          ],
          "scattermapbox": [
           {
            "marker": {
             "colorbar": {
              "outlinewidth": 0,
              "ticks": ""
             }
            },
            "type": "scattermapbox"
           }
          ],
          "scatterpolar": [
           {
            "marker": {
             "colorbar": {
              "outlinewidth": 0,
              "ticks": ""
             }
            },
            "type": "scatterpolar"
           }
          ],
          "scatterpolargl": [
           {
            "marker": {
             "colorbar": {
              "outlinewidth": 0,
              "ticks": ""
             }
            },
            "type": "scatterpolargl"
           }
          ],
          "scatterternary": [
           {
            "marker": {
             "colorbar": {
              "outlinewidth": 0,
              "ticks": ""
             }
            },
            "type": "scatterternary"
           }
          ],
          "surface": [
           {
            "colorbar": {
             "outlinewidth": 0,
             "ticks": ""
            },
            "colorscale": [
             [
              0,
              "#0d0887"
             ],
             [
              0.1111111111111111,
              "#46039f"
             ],
             [
              0.2222222222222222,
              "#7201a8"
             ],
             [
              0.3333333333333333,
              "#9c179e"
             ],
             [
              0.4444444444444444,
              "#bd3786"
             ],
             [
              0.5555555555555556,
              "#d8576b"
             ],
             [
              0.6666666666666666,
              "#ed7953"
             ],
             [
              0.7777777777777778,
              "#fb9f3a"
             ],
             [
              0.8888888888888888,
              "#fdca26"
             ],
             [
              1,
              "#f0f921"
             ]
            ],
            "type": "surface"
           }
          ],
          "table": [
           {
            "cells": {
             "fill": {
              "color": "#EBF0F8"
             },
             "line": {
              "color": "white"
             }
            },
            "header": {
             "fill": {
              "color": "#C8D4E3"
             },
             "line": {
              "color": "white"
             }
            },
            "type": "table"
           }
          ]
         },
         "layout": {
          "annotationdefaults": {
           "arrowcolor": "#2a3f5f",
           "arrowhead": 0,
           "arrowwidth": 1
          },
          "autotypenumbers": "strict",
          "coloraxis": {
           "colorbar": {
            "outlinewidth": 0,
            "ticks": ""
           }
          },
          "colorscale": {
           "diverging": [
            [
             0,
             "#8e0152"
            ],
            [
             0.1,
             "#c51b7d"
            ],
            [
             0.2,
             "#de77ae"
            ],
            [
             0.3,
             "#f1b6da"
            ],
            [
             0.4,
             "#fde0ef"
            ],
            [
             0.5,
             "#f7f7f7"
            ],
            [
             0.6,
             "#e6f5d0"
            ],
            [
             0.7,
             "#b8e186"
            ],
            [
             0.8,
             "#7fbc41"
            ],
            [
             0.9,
             "#4d9221"
            ],
            [
             1,
             "#276419"
            ]
           ],
           "sequential": [
            [
             0,
             "#0d0887"
            ],
            [
             0.1111111111111111,
             "#46039f"
            ],
            [
             0.2222222222222222,
             "#7201a8"
            ],
            [
             0.3333333333333333,
             "#9c179e"
            ],
            [
             0.4444444444444444,
             "#bd3786"
            ],
            [
             0.5555555555555556,
             "#d8576b"
            ],
            [
             0.6666666666666666,
             "#ed7953"
            ],
            [
             0.7777777777777778,
             "#fb9f3a"
            ],
            [
             0.8888888888888888,
             "#fdca26"
            ],
            [
             1,
             "#f0f921"
            ]
           ],
           "sequentialminus": [
            [
             0,
             "#0d0887"
            ],
            [
             0.1111111111111111,
             "#46039f"
            ],
            [
             0.2222222222222222,
             "#7201a8"
            ],
            [
             0.3333333333333333,
             "#9c179e"
            ],
            [
             0.4444444444444444,
             "#bd3786"
            ],
            [
             0.5555555555555556,
             "#d8576b"
            ],
            [
             0.6666666666666666,
             "#ed7953"
            ],
            [
             0.7777777777777778,
             "#fb9f3a"
            ],
            [
             0.8888888888888888,
             "#fdca26"
            ],
            [
             1,
             "#f0f921"
            ]
           ]
          },
          "colorway": [
           "#636efa",
           "#EF553B",
           "#00cc96",
           "#ab63fa",
           "#FFA15A",
           "#19d3f3",
           "#FF6692",
           "#B6E880",
           "#FF97FF",
           "#FECB52"
          ],
          "font": {
           "color": "#2a3f5f"
          },
          "geo": {
           "bgcolor": "white",
           "lakecolor": "white",
           "landcolor": "#E5ECF6",
           "showlakes": true,
           "showland": true,
           "subunitcolor": "white"
          },
          "hoverlabel": {
           "align": "left"
          },
          "hovermode": "closest",
          "mapbox": {
           "style": "light"
          },
          "paper_bgcolor": "white",
          "plot_bgcolor": "#E5ECF6",
          "polar": {
           "angularaxis": {
            "gridcolor": "white",
            "linecolor": "white",
            "ticks": ""
           },
           "bgcolor": "#E5ECF6",
           "radialaxis": {
            "gridcolor": "white",
            "linecolor": "white",
            "ticks": ""
           }
          },
          "scene": {
           "xaxis": {
            "backgroundcolor": "#E5ECF6",
            "gridcolor": "white",
            "gridwidth": 2,
            "linecolor": "white",
            "showbackground": true,
            "ticks": "",
            "zerolinecolor": "white"
           },
           "yaxis": {
            "backgroundcolor": "#E5ECF6",
            "gridcolor": "white",
            "gridwidth": 2,
            "linecolor": "white",
            "showbackground": true,
            "ticks": "",
            "zerolinecolor": "white"
           },
           "zaxis": {
            "backgroundcolor": "#E5ECF6",
            "gridcolor": "white",
            "gridwidth": 2,
            "linecolor": "white",
            "showbackground": true,
            "ticks": "",
            "zerolinecolor": "white"
           }
          },
          "shapedefaults": {
           "line": {
            "color": "#2a3f5f"
           }
          },
          "ternary": {
           "aaxis": {
            "gridcolor": "white",
            "linecolor": "white",
            "ticks": ""
           },
           "baxis": {
            "gridcolor": "white",
            "linecolor": "white",
            "ticks": ""
           },
           "bgcolor": "#E5ECF6",
           "caxis": {
            "gridcolor": "white",
            "linecolor": "white",
            "ticks": ""
           }
          },
          "title": {
           "x": 0.05
          },
          "xaxis": {
           "automargin": true,
           "gridcolor": "white",
           "linecolor": "white",
           "ticks": "",
           "title": {
            "standoff": 15
           },
           "zerolinecolor": "white",
           "zerolinewidth": 2
          },
          "yaxis": {
           "automargin": true,
           "gridcolor": "white",
           "linecolor": "white",
           "ticks": "",
           "title": {
            "standoff": 15
           },
           "zerolinecolor": "white",
           "zerolinewidth": 2
          }
         }
        },
        "title": {
         "text": "UMAP Projection of Dutch Model Performance"
        },
        "width": 800,
        "xaxis": {
         "anchor": "y",
         "autorange": true,
         "domain": [
          0,
          1
         ],
         "range": [
          -3.4613676240595566,
          1.5767063071879135
         ],
         "title": {
          "text": "x"
         },
         "type": "linear"
        },
        "yaxis": {
         "anchor": "x",
         "autorange": true,
         "domain": [
          0,
          1
         ],
         "range": [
          8.304476713558062,
          13.56210520325102
         ],
         "title": {
          "text": "y"
         },
         "type": "linear"
        }
       }
      },
      "image/png": "[encoded data removed]",
      "text/html": [
       "<div>                            <div id=\"d8794378-48fa-4389-ae45-b8639c7157a4\" class=\"plotly-graph-div\" style=\"height:600px; width:800px;\"></div>            <script type=\"text/javascript\">                require([\"plotly\"], function(Plotly) {                    window.PLOTLYENV=window.PLOTLYENV || {};                                    if (document.getElementById(\"d8794378-48fa-4389-ae45-b8639c7157a4\")) {                    Plotly.newPlot(                        \"d8794378-48fa-4389-ae45-b8639c7157a4\",                        [{\"hovertemplate\":\"\\u003cb\\u003e%{hovertext}\\u003c\\u002fb\\u003e\\u003cbr\\u003e\\u003cbr\\u003eGenerative=False\\u003cbr\\u003ex=%{x}\\u003cbr\\u003ey=%{y}\\u003cbr\\u003esize=%{marker.size}\\u003cbr\\u003eRank Score=%{marker.color}\\u003cextra\\u003e\\u003c\\u002fextra\\u003e\",\"hovertext\":[\"intfloat\\u002fmultilingual-e5-large\",\"setu4993\\u002fLaBSE\",\"DTAI-KULeuven\\u002frobbert-2022-dutch-base\",\"pdelobelle\\u002frobbert-v2-dutch-base\",\"ZurichNLP\\u002funsup-simcse-xlm-roberta-base\",\"intfloat\\u002fmultilingual-e5-base\",\"FacebookAI\\u002fxlm-roberta-large\",\"DTAI-KULeuven\\u002frobbertje-1-gb-non-shuffled\",\"DTAI-KULeuven\\u002frobbert-2023-dutch-base\",\"DTAI-KULeuven\\u002frobbertje-1-gb-merged\",\"jhu-clsp\\u002fbernice\",\"microsoft\\u002fmdeberta-v3-base\",\"DTAI-KULeuven\\u002frobbertje-1-gb-shuffled\",\"DTAI-KULeuven\\u002frobbert-2023-dutch-large\",\"cardiffnlp\\u002ftwitter-xlm-roberta-base\",\"sentence-transformers\\u002fparaphrase-xlm-r-multilingual-v1\",\"DTAI-KULeuven\\u002frobbertje-1-gb-bort\",\"microsoft\\u002fxlm-align-base\",\"sentence-transformers\\u002fquora-distilbert-multilingual\",\"Geotrend\\u002fdistilbert-base-25lang-cased\",\"EuropeanParliament\\u002fEUBERT\",\"Twitter\\u002ftwhin-bert-base\",\"Twitter\\u002ftwhin-bert-large\",\"AI-Sweden-Models\\u002froberta-large-1350k\",\"AI-Sweden-Models\\u002froberta-large-1160k\",\"sentence-transformers\\u002fdistiluse-base-multilingual-cased-v1\",\"sentence-transformers\\u002fdistiluse-base-multilingual-cased\",\"jpostma\\u002fDagoBERT\",\"dbmdz\\u002fbert-tiny-historic-multilingual-cased\",\"3ebdola\\u002fDialectal-Arabic-XLM-R-Base\",\"fresh-xlm-roberta-base\",\"fresh-electra-small\"],\"legendgroup\":\"False\",\"marker\":{\"color\":[1.4,1.48,1.75,1.79,1.82,1.96,2.02,2.04,2.07,2.12,2.14,2.16,2.19,2.21,2.36,2.38,2.45,2.67,2.68,2.75,2.87,2.9,2.9,3.07,3.11,3.22,3.38,3.46,3.72,3.77,4.38,4.4],\"coloraxis\":\"coloraxis\",\"size\":[20,20,20,20,20,20,20,20,20,20,20,20,20,20,20,20,20,20,20,20,20,20,20,20,20,20,20,20,20,20,20,20],\"sizemode\":\"area\",\"sizeref\":0.24691358024691357,\"symbol\":\"star\"},\"mode\":\"markers\",\"name\":\"False\",\"orientation\":\"v\",\"showlegend\":true,\"x\":[0.6457833647727966,0.7215890288352966,0.31237199902534485,0.40553733706474304,0.16889716684818268,0.2280406802892685,1.0644739866256714,-0.20241118967533112,-0.441854327917099,-0.8008188009262085,-0.7949283719062805,1.0370210409164429,-0.6107571721076965,-0.23483549058437347,-0.330269455909729,-0.9709332585334778,-1.1085906028747559,0.3264201879501343,-1.406456708908081,-0.37838268280029297,-1.2936030626296997,-0.8208987712860107,-0.09455521404743195,-0.030561091378331184,-0.17369097471237183,-1.863303303718567,-1.8181926012039185,-1.5214122533798218,-2.0991244316101074,-2.24416446685791,-2.730841636657715,-2.9616775512695312],\"xaxis\":\"x\",\"y\":[9.509965896606445,9.220900535583496,9.09636402130127,8.92348575592041,9.340438842773438,9.848405838012695,9.793389320373535,9.126452445983887,9.114641189575195,9.009804725646973,8.886701583862305,9.666111946105957,8.736626625061035,8.656426429748535,8.984495162963867,9.312088012695312,9.756571769714355,11.262945175170898,10.070697784423828,9.629067420959473,10.55015754699707,9.613337516784668,10.96851921081543,11.45104694366455,11.470269203186035,10.760843276977539,10.434257507324219,10.536165237426758,11.25904655456543,10.999431610107422,11.586366653442383,11.420135498046875],\"yaxis\":\"y\",\"type\":\"scatter\"},{\"hovertemplate\":\"\\u003cb\\u003e%{hovertext}\\u003c\\u002fb\\u003e\\u003cbr\\u003e\\u003cbr\\u003eGenerative=True\\u003cbr\\u003ex=%{x}\\u003cbr\\u003ey=%{y}\\u003cbr\\u003esize=%{marker.size}\\u003cbr\\u003eRank Score=%{marker.color}\\u003cextra\\u003e\\u003c\\u002fextra\\u003e\",\"hovertext\":[\"gpt-4-1106-preview (few-shot)\",\"Nexusflow\\u002fStarling-LM-7B-beta (few-shot)\",\"gpt-3.5-turbo-0613 (few-shot, val)\",\"upstage\\u002fSOLAR-10.7B-v1.0 (few-shot)\",\"robinsmits\\u002fQwen1.5-7B-Dutch-Chat (few-shot)\",\"robinsmits\\u002fQwen1.5-7B-Dutch-Chat-Sft-Bf16 (few-shot)\",\"mistralai\\u002fMistral-7B-Instruct-v0.2 (few-shot)\",\"mlabonne\\u002fNeuralBeagle14-7B (few-shot, val)\",\"mistralai\\u002fMistral-7B-v0.1 (few-shot)\",\"Rijgersberg\\u002fMistral-7B-v0.1-chat-nl (few-shot)\",\"alpindale\\u002fMistral-7B-v0.2-hf (few-shot)\",\"mlabonne\\u002fAlphaMonarch-7B (few-shot, val)\",\"BramVanroy\\u002fGEITje-7B-ultra (few-shot)\",\"occiglot\\u002focciglot-7b-eu5-instruct (few-shot)\",\"Rijgersberg\\u002fGEITje-7B-chat-v2 (few-shot)\",\"RuterNorway\\u002fLlama-2-13b-chat-norwegian (few-shot)\",\"Qwen\\u002fQwen1.5-4B-Chat (few-shot)\",\"occiglot\\u002focciglot-7b-eu5 (few-shot)\",\"meta-llama\\u002fLlama-2-7b-chat-hf (few-shot)\",\"Rijgersberg\\u002fGEITje-7B-chat (few-shot)\",\"Rijgersberg\\u002fGEITje-7B (few-shot)\",\"mistralai\\u002fMistral-7B-Instruct-v0.1 (few-shot)\",\"timpal0l\\u002fMistral-7B-v0.1-flashback-v2 (few-shot)\",\"meta-llama\\u002fLlama-2-7b-hf (few-shot)\",\"Qwen\\u002fQwen1.5-4B (few-shot)\",\"AI-Sweden-Models\\u002fgpt-sw3-20b (few-shot)\",\"01-ai\\u002fYi-6B (few-shot)\",\"BramVanroy\\u002fGEITje-7B-ultra-sft (few-shot)\",\"AI-Sweden-Models\\u002fgpt-sw3-20b-instruct (few-shot)\",\"google\\u002fgemma-2b-it (few-shot)\",\"RuterNorway\\u002fLlama-2-7b-chat-norwegian (few-shot)\",\"LumiOpen\\u002fViking-13B (few-shot)\",\"allenai\\u002fOLMo-7B (few-shot)\",\"google\\u002fgemma-2b (few-shot)\",\"Qwen\\u002fQwen1.5-1.8B-Chat (few-shot)\",\"Qwen\\u002fQwen1.5-0.5B-Chat (few-shot)\",\"allenai\\u002fOLMo-7B-Twin-2T (few-shot)\",\"Qwen\\u002fQwen1.5-1.8B (few-shot)\",\"Qwen\\u002fQwen1.5-0.5B (few-shot)\",\"allenai\\u002fOLMo-1B (few-shot)\",\"RJuro\\u002fkanelsnegl-v0.1 (few-shot)\",\"ai-forever\\u002fmGPT (few-shot)\"],\"legendgroup\":\"True\",\"marker\":{\"color\":[1.76,2.09,2.16,2.25,2.42,2.44,2.55,2.55,2.66,2.67,2.68,2.68,2.7,2.79,2.8,2.81,2.83,2.87,2.88,2.89,2.9,2.91,2.92,2.94,2.96,3.06,3.07,3.07,3.24,3.28,3.34,3.41,3.41,3.49,3.63,3.74,3.77,3.83,3.88,4.09,4.58,4.6],\"coloraxis\":\"coloraxis\",\"size\":[20,20,20,20,20,20,20,20,20,20,20,20,20,20,20,20,20,20,20,20,20,20,20,20,20,20,20,20,20,20,20,20,20,20,20,20,20,20,20,20,20,20],\"sizemode\":\"area\",\"sizeref\":0.24691358024691357,\"symbol\":\"square\"},\"mode\":\"markers\",\"name\":\"True\",\"orientation\":\"v\",\"showlegend\":true,\"x\":[1.0642133951187134,1.1171432733535767,1.116580843925476,1.2261872291564941,0.604553759098053,0.6461777687072754,0.34797203540802,1.0510135889053345,1.2641485929489136,0.9520353674888611,1.039149284362793,0.7437217831611633,-0.4581846594810486,0.6139600872993469,-0.15996891260147095,0.39747998118400574,-0.9751603603363037,-0.06514273583889008,-0.17719176411628723,0.41615402698516846,0.6572623252868652,0.12017709761857986,-0.012870408594608307,-0.21181350946426392,-1.4045603275299072,-1.674009919166565,-0.8517323136329651,-0.6874470114707947,-2.028919219970703,-1.5181553363800049,-1.9070565700531006,-2.1762986183166504,-1.7426329851150513,-2.061643362045288,-2.2490272521972656,-2.5723838806152344,-2.3879129886627197,-2.614100456237793,-2.445012331008911,-2.649437189102173,-2.947082996368408,-3.1488099098205566],\"xaxis\":\"x\",\"y\":[9.898465156555176,11.02112865447998,10.21252727508545,11.397486686706543,12.300443649291992,12.014457702636719,12.131086349487305,11.948200225830078,12.532581329345703,12.395862579345703,12.688772201538086,11.525997161865234,12.737974166870117,12.815099716186523,13.070962905883789,12.57187271118164,12.490851402282715,12.771697998046875,12.30422592163086,12.967832565307617,13.210155487060547,12.611681938171387,12.425554275512695,13.179460525512695,12.581889152526855,12.802371978759766,12.597618103027344,13.156109809875488,12.674969673156738,12.383013725280762,12.416486740112305,12.13572883605957,12.087783813476562,12.897096633911133,12.261548042297363,12.479613304138184,12.711371421813965,12.484956741333008,11.939270973205566,11.617667198181152,11.833276748657227,11.663494110107422],\"yaxis\":\"y\",\"type\":\"scatter\"}],                        {\"template\":{\"data\":{\"histogram2dcontour\":[{\"type\":\"histogram2dcontour\",\"colorbar\":{\"outlinewidth\":0,\"ticks\":\"\"},\"colorscale\":[[0.0,\"#0d0887\"],[0.1111111111111111,\"#46039f\"],[0.2222222222222222,\"#7201a8\"],[0.3333333333333333,\"#9c179e\"],[0.4444444444444444,\"#bd3786\"],[0.5555555555555556,\"#d8576b\"],[0.6666666666666666,\"#ed7953\"],[0.7777777777777778,\"#fb9f3a\"],[0.8888888888888888,\"#fdca26\"],[1.0,\"#f0f921\"]]}],\"choropleth\":[{\"type\":\"choropleth\",\"colorbar\":{\"outlinewidth\":0,\"ticks\":\"\"}}],\"histogram2d\":[{\"type\":\"histogram2d\",\"colorbar\":{\"outlinewidth\":0,\"ticks\":\"\"},\"colorscale\":[[0.0,\"#0d0887\"],[0.1111111111111111,\"#46039f\"],[0.2222222222222222,\"#7201a8\"],[0.3333333333333333,\"#9c179e\"],[0.4444444444444444,\"#bd3786\"],[0.5555555555555556,\"#d8576b\"],[0.6666666666666666,\"#ed7953\"],[0.7777777777777778,\"#fb9f3a\"],[0.8888888888888888,\"#fdca26\"],[1.0,\"#f0f921\"]]}],\"heatmap\":[{\"type\":\"heatmap\",\"colorbar\":{\"outlinewidth\":0,\"ticks\":\"\"},\"colorscale\":[[0.0,\"#0d0887\"],[0.1111111111111111,\"#46039f\"],[0.2222222222222222,\"#7201a8\"],[0.3333333333333333,\"#9c179e\"],[0.4444444444444444,\"#bd3786\"],[0.5555555555555556,\"#d8576b\"],[0.6666666666666666,\"#ed7953\"],[0.7777777777777778,\"#fb9f3a\"],[0.8888888888888888,\"#fdca26\"],[1.0,\"#f0f921\"]]}],\"heatmapgl\":[{\"type\":\"heatmapgl\",\"colorbar\":{\"outlinewidth\":0,\"ticks\":\"\"},\"colorscale\":[[0.0,\"#0d0887\"],[0.1111111111111111,\"#46039f\"],[0.2222222222222222,\"#7201a8\"],[0.3333333333333333,\"#9c179e\"],[0.4444444444444444,\"#bd3786\"],[0.5555555555555556,\"#d8576b\"],[0.6666666666666666,\"#ed7953\"],[0.7777777777777778,\"#fb9f3a\"],[0.8888888888888888,\"#fdca26\"],[1.0,\"#f0f921\"]]}],\"contourcarpet\":[{\"type\":\"contourcarpet\",\"colorbar\":{\"outlinewidth\":0,\"ticks\":\"\"}}],\"contour\":[{\"type\":\"contour\",\"colorbar\":{\"outlinewidth\":0,\"ticks\":\"\"},\"colorscale\":[[0.0,\"#0d0887\"],[0.1111111111111111,\"#46039f\"],[0.2222222222222222,\"#7201a8\"],[0.3333333333333333,\"#9c179e\"],[0.4444444444444444,\"#bd3786\"],[0.5555555555555556,\"#d8576b\"],[0.6666666666666666,\"#ed7953\"],[0.7777777777777778,\"#fb9f3a\"],[0.8888888888888888,\"#fdca26\"],[1.0,\"#f0f921\"]]}],\"surface\":[{\"type\":\"surface\",\"colorbar\":{\"outlinewidth\":0,\"ticks\":\"\"},\"colorscale\":[[0.0,\"#0d0887\"],[0.1111111111111111,\"#46039f\"],[0.2222222222222222,\"#7201a8\"],[0.3333333333333333,\"#9c179e\"],[0.4444444444444444,\"#bd3786\"],[0.5555555555555556,\"#d8576b\"],[0.6666666666666666,\"#ed7953\"],[0.7777777777777778,\"#fb9f3a\"],[0.8888888888888888,\"#fdca26\"],[1.0,\"#f0f921\"]]}],\"mesh3d\":[{\"type\":\"mesh3d\",\"colorbar\":{\"outlinewidth\":0,\"ticks\":\"\"}}],\"scatter\":[{\"fillpattern\":{\"fillmode\":\"overlay\",\"size\":10,\"solidity\":0.2},\"type\":\"scatter\"}],\"parcoords\":[{\"type\":\"parcoords\",\"line\":{\"colorbar\":{\"outlinewidth\":0,\"ticks\":\"\"}}}],\"scatterpolargl\":[{\"type\":\"scatterpolargl\",\"marker\":{\"colorbar\":{\"outlinewidth\":0,\"ticks\":\"\"}}}],\"bar\":[{\"error_x\":{\"color\":\"#2a3f5f\"},\"error_y\":{\"color\":\"#2a3f5f\"},\"marker\":{\"line\":{\"color\":\"#E5ECF6\",\"width\":0.5},\"pattern\":{\"fillmode\":\"overlay\",\"size\":10,\"solidity\":0.2}},\"type\":\"bar\"}],\"scattergeo\":[{\"type\":\"scattergeo\",\"marker\":{\"colorbar\":{\"outlinewidth\":0,\"ticks\":\"\"}}}],\"scatterpolar\":[{\"type\":\"scatterpolar\",\"marker\":{\"colorbar\":{\"outlinewidth\":0,\"ticks\":\"\"}}}],\"histogram\":[{\"marker\":{\"pattern\":{\"fillmode\":\"overlay\",\"size\":10,\"solidity\":0.2}},\"type\":\"histogram\"}],\"scattergl\":[{\"type\":\"scattergl\",\"marker\":{\"colorbar\":{\"outlinewidth\":0,\"ticks\":\"\"}}}],\"scatter3d\":[{\"type\":\"scatter3d\",\"line\":{\"colorbar\":{\"outlinewidth\":0,\"ticks\":\"\"}},\"marker\":{\"colorbar\":{\"outlinewidth\":0,\"ticks\":\"\"}}}],\"scattermapbox\":[{\"type\":\"scattermapbox\",\"marker\":{\"colorbar\":{\"outlinewidth\":0,\"ticks\":\"\"}}}],\"scatterternary\":[{\"type\":\"scatterternary\",\"marker\":{\"colorbar\":{\"outlinewidth\":0,\"ticks\":\"\"}}}],\"scattercarpet\":[{\"type\":\"scattercarpet\",\"marker\":{\"colorbar\":{\"outlinewidth\":0,\"ticks\":\"\"}}}],\"carpet\":[{\"aaxis\":{\"endlinecolor\":\"#2a3f5f\",\"gridcolor\":\"white\",\"linecolor\":\"white\",\"minorgridcolor\":\"white\",\"startlinecolor\":\"#2a3f5f\"},\"baxis\":{\"endlinecolor\":\"#2a3f5f\",\"gridcolor\":\"white\",\"linecolor\":\"white\",\"minorgridcolor\":\"white\",\"startlinecolor\":\"#2a3f5f\"},\"type\":\"carpet\"}],\"table\":[{\"cells\":{\"fill\":{\"color\":\"#EBF0F8\"},\"line\":{\"color\":\"white\"}},\"header\":{\"fill\":{\"color\":\"#C8D4E3\"},\"line\":{\"color\":\"white\"}},\"type\":\"table\"}],\"barpolar\":[{\"marker\":{\"line\":{\"color\":\"#E5ECF6\",\"width\":0.5},\"pattern\":{\"fillmode\":\"overlay\",\"size\":10,\"solidity\":0.2}},\"type\":\"barpolar\"}],\"pie\":[{\"automargin\":true,\"type\":\"pie\"}]},\"layout\":{\"autotypenumbers\":\"strict\",\"colorway\":[\"#636efa\",\"#EF553B\",\"#00cc96\",\"#ab63fa\",\"#FFA15A\",\"#19d3f3\",\"#FF6692\",\"#B6E880\",\"#FF97FF\",\"#FECB52\"],\"font\":{\"color\":\"#2a3f5f\"},\"hovermode\":\"closest\",\"hoverlabel\":{\"align\":\"left\"},\"paper_bgcolor\":\"white\",\"plot_bgcolor\":\"#E5ECF6\",\"polar\":{\"bgcolor\":\"#E5ECF6\",\"angularaxis\":{\"gridcolor\":\"white\",\"linecolor\":\"white\",\"ticks\":\"\"},\"radialaxis\":{\"gridcolor\":\"white\",\"linecolor\":\"white\",\"ticks\":\"\"}},\"ternary\":{\"bgcolor\":\"#E5ECF6\",\"aaxis\":{\"gridcolor\":\"white\",\"linecolor\":\"white\",\"ticks\":\"\"},\"baxis\":{\"gridcolor\":\"white\",\"linecolor\":\"white\",\"ticks\":\"\"},\"caxis\":{\"gridcolor\":\"white\",\"linecolor\":\"white\",\"ticks\":\"\"}},\"coloraxis\":{\"colorbar\":{\"outlinewidth\":0,\"ticks\":\"\"}},\"colorscale\":{\"sequential\":[[0.0,\"#0d0887\"],[0.1111111111111111,\"#46039f\"],[0.2222222222222222,\"#7201a8\"],[0.3333333333333333,\"#9c179e\"],[0.4444444444444444,\"#bd3786\"],[0.5555555555555556,\"#d8576b\"],[0.6666666666666666,\"#ed7953\"],[0.7777777777777778,\"#fb9f3a\"],[0.8888888888888888,\"#fdca26\"],[1.0,\"#f0f921\"]],\"sequentialminus\":[[0.0,\"#0d0887\"],[0.1111111111111111,\"#46039f\"],[0.2222222222222222,\"#7201a8\"],[0.3333333333333333,\"#9c179e\"],[0.4444444444444444,\"#bd3786\"],[0.5555555555555556,\"#d8576b\"],[0.6666666666666666,\"#ed7953\"],[0.7777777777777778,\"#fb9f3a\"],[0.8888888888888888,\"#fdca26\"],[1.0,\"#f0f921\"]],\"diverging\":[[0,\"#8e0152\"],[0.1,\"#c51b7d\"],[0.2,\"#de77ae\"],[0.3,\"#f1b6da\"],[0.4,\"#fde0ef\"],[0.5,\"#f7f7f7\"],[0.6,\"#e6f5d0\"],[0.7,\"#b8e186\"],[0.8,\"#7fbc41\"],[0.9,\"#4d9221\"],[1,\"#276419\"]]},\"xaxis\":{\"gridcolor\":\"white\",\"linecolor\":\"white\",\"ticks\":\"\",\"title\":{\"standoff\":15},\"zerolinecolor\":\"white\",\"automargin\":true,\"zerolinewidth\":2},\"yaxis\":{\"gridcolor\":\"white\",\"linecolor\":\"white\",\"ticks\":\"\",\"title\":{\"standoff\":15},\"zerolinecolor\":\"white\",\"automargin\":true,\"zerolinewidth\":2},\"scene\":{\"xaxis\":{\"backgroundcolor\":\"#E5ECF6\",\"gridcolor\":\"white\",\"linecolor\":\"white\",\"showbackground\":true,\"ticks\":\"\",\"zerolinecolor\":\"white\",\"gridwidth\":2},\"yaxis\":{\"backgroundcolor\":\"#E5ECF6\",\"gridcolor\":\"white\",\"linecolor\":\"white\",\"showbackground\":true,\"ticks\":\"\",\"zerolinecolor\":\"white\",\"gridwidth\":2},\"zaxis\":{\"backgroundcolor\":\"#E5ECF6\",\"gridcolor\":\"white\",\"linecolor\":\"white\",\"showbackground\":true,\"ticks\":\"\",\"zerolinecolor\":\"white\",\"gridwidth\":2}},\"shapedefaults\":{\"line\":{\"color\":\"#2a3f5f\"}},\"annotationdefaults\":{\"arrowcolor\":\"#2a3f5f\",\"arrowhead\":0,\"arrowwidth\":1},\"geo\":{\"bgcolor\":\"white\",\"landcolor\":\"#E5ECF6\",\"subunitcolor\":\"white\",\"showland\":true,\"showlakes\":true,\"lakecolor\":\"white\"},\"title\":{\"x\":0.05},\"mapbox\":{\"style\":\"light\"}}},\"xaxis\":{\"anchor\":\"y\",\"domain\":[0.0,1.0],\"title\":{\"text\":\"x\"}},\"yaxis\":{\"anchor\":\"x\",\"domain\":[0.0,1.0],\"title\":{\"text\":\"y\"}},\"coloraxis\":{\"colorbar\":{\"title\":{\"text\":\"Rank Score\"},\"yanchor\":\"top\",\"y\":0.78,\"x\":1.03,\"ticks\":\"outside\",\"len\":0.8,\"dtick\":1},\"colorscale\":[[0.0,\"#0d0887\"],[0.1111111111111111,\"#46039f\"],[0.2222222222222222,\"#7201a8\"],[0.3333333333333333,\"#9c179e\"],[0.4444444444444444,\"#bd3786\"],[0.5555555555555556,\"#d8576b\"],[0.6666666666666666,\"#ed7953\"],[0.7777777777777778,\"#fb9f3a\"],[0.8888888888888888,\"#fdca26\"],[1.0,\"#f0f921\"]],\"cmin\":1,\"cmax\":3},\"legend\":{\"title\":{\"text\":\"Generative\"},\"tracegroupgap\":0,\"itemsizing\":\"constant\"},\"title\":{\"text\":\"UMAP Projection of Dutch Model Performance\"},\"height\":600,\"width\":800},                        {\"responsive\": true}                    ).then(function(){\n",
       "                            \n",
       "var gd = document.getElementById('d8794378-48fa-4389-ae45-b8639c7157a4');\n",
       "var x = new MutationObserver(function (mutations, observer) {{\n",
       "        var display = window.getComputedStyle(gd).display;\n",
       "        if (!display || display === 'none') {{\n",
       "            console.log([gd, 'removed!']);\n",
       "            Plotly.purge(gd);\n",
       "            observer.disconnect();\n",
       "        }}\n",
       "}});\n",
       "\n",
       "// Listen for the removal of the full notebook cells\n",
       "var notebookContainer = gd.closest('#notebook-container');\n",
       "if (notebookContainer) {{\n",
       "    x.observe(notebookContainer, {childList: true});\n",
       "}}\n",
       "\n",
       "// Listen for the clearing of the current output cell\n",
       "var outputEl = gd.closest('.output');\n",
       "if (outputEl) {{\n",
       "    x.observe(outputEl, {childList: true});\n",
       "}}\n",
       "\n",
       "                        })                };                });            </script>        </div>"
      ]
     },
     "metadata": {},
     "output_type": "display_data"
    }
   ],
   "source": [
    "n_neighbours = len(df) - 1\n",
    "print(f\"Using {n_neighbours} neighbours.\")\n",
    "umap = UMAP(n_neighbors=n_neighbours, n_components=2, random_state=4242, n_jobs=1)\n",
    "umap_projection = umap.fit_transform(df.drop(columns=[\"generative\", \"rank\"]))\n",
    "\n",
    "fig = px.scatter(\n",
    "    x=umap_projection[:, 0], \n",
    "    y=umap_projection[:, 1], \n",
    "    color=df['rank'],\n",
    "    color_continuous_scale=px.colors.sequential.Plasma,\n",
    "    range_color=[1, 3],\n",
    "    symbol=df.generative,\n",
    "    symbol_sequence=[\"star\", \"square\"],\n",
    "    size=[20] * len(df),\n",
    "    size_max=9,\n",
    "    hover_name=df.index.tolist(),\n",
    "    width=800,\n",
    "    height=600,\n",
    "    title=f\"UMAP Projection of {language_title} Model Performance\",\n",
    "    labels=dict(color=\"Rank Score\", symbol='Generative'),\n",
    "    template='plotly',\n",
    ")\n",
    "fig.update_layout(\n",
    "    coloraxis_colorbar=dict(\n",
    "        yanchor=\"top\", y=0.78, x=1.03, ticks=\"outside\", len=0.8, dtick=1\n",
    "    )\n",
    ")"
   ]
  }
 ],
 "metadata": {
  "kernelspec": {
   "display_name": "Python 3 (ipykernel)",
   "language": "python",
   "name": "python3"
  },
  "language_info": {
   "codemirror_mode": {
    "name": "ipython",
    "version": 3
   },
   "file_extension": ".py",
   "mimetype": "text/x-python",
   "name": "python",
   "nbconvert_exporter": "python",
   "pygments_lexer": "ipython3",
   "version": "3.10.14"
  }
 },
 "nbformat": 4,
 "nbformat_minor": 5
}
