{
 "cells": [
  {
   "cell_type": "code",
   "execution_count": 1,
   "id": "7c76e81b-17d6-49b3-9f7f-03b69f229812",
   "metadata": {},
   "outputs": [],
   "source": [
    "import plotly.graph_objects as go\n",
    "import plotly\n",
    "import json\n",
    "from pathlib import Path\n",
    "import numpy as np\n",
    "from collections import defaultdict\n",
    "import pandas as pd"
   ]
  },
  {
   "cell_type": "code",
   "execution_count": 2,
   "id": "af7abb4c-bd0f-4929-b47e-26b3e83f31f4",
   "metadata": {},
   "outputs": [
    {
     "data": {
      "text/plain": [
       "3178"
      ]
     },
     "execution_count": 2,
     "metadata": {},
     "output_type": "execute_result"
    }
   ],
   "source": [
    "with Path('../scandeval_benchmark_results.jsonl').open() as f:\n",
    "    records = [json.loads(dct_str) for dct_str in f if dct_str.strip(\"\\n\")]\n",
    "len(records)"
   ]
  },
  {
   "cell_type": "code",
   "execution_count": 3,
   "id": "301c0b58-ec07-4f61-869b-74042e560317",
   "metadata": {},
   "outputs": [
    {
     "data": {
      "text/html": [
       "<div>\n",
       "<style scoped>\n",
       "    .dataframe tbody tr th:only-of-type {\n",
       "        vertical-align: middle;\n",
       "    }\n",
       "\n",
       "    .dataframe tbody tr th {\n",
       "        vertical-align: top;\n",
       "    }\n",
       "\n",
       "    .dataframe thead th {\n",
       "        text-align: right;\n",
       "    }\n",
       "</style>\n",
       "<table border=\"1\" class=\"dataframe\">\n",
       "  <thead>\n",
       "    <tr style=\"text-align: right;\">\n",
       "      <th></th>\n",
       "      <th>task</th>\n",
       "      <th>language</th>\n",
       "      <th>metric</th>\n",
       "    </tr>\n",
       "    <tr>\n",
       "      <th>dataset</th>\n",
       "      <th></th>\n",
       "      <th></th>\n",
       "      <th></th>\n",
       "    </tr>\n",
       "  </thead>\n",
       "  <tbody>\n",
       "    <tr>\n",
       "      <th>swerec</th>\n",
       "      <td>text classification</td>\n",
       "      <td>sv</td>\n",
       "      <td>mcc</td>\n",
       "    </tr>\n",
       "    <tr>\n",
       "      <th>angry-tweets</th>\n",
       "      <td>text classification</td>\n",
       "      <td>da</td>\n",
       "      <td>mcc</td>\n",
       "    </tr>\n",
       "    <tr>\n",
       "      <th>norec</th>\n",
       "      <td>text classification</td>\n",
       "      <td>no</td>\n",
       "      <td>mcc</td>\n",
       "    </tr>\n",
       "    <tr>\n",
       "      <th>sb10k</th>\n",
       "      <td>text classification</td>\n",
       "      <td>de</td>\n",
       "      <td>mcc</td>\n",
       "    </tr>\n",
       "    <tr>\n",
       "      <th>dutch-social</th>\n",
       "      <td>text classification</td>\n",
       "      <td>nl</td>\n",
       "      <td>mcc</td>\n",
       "    </tr>\n",
       "  </tbody>\n",
       "</table>\n",
       "</div>"
      ],
      "text/plain": [
       "                             task language metric\n",
       "dataset                                          \n",
       "swerec        text classification       sv    mcc\n",
       "angry-tweets  text classification       da    mcc\n",
       "norec         text classification       no    mcc\n",
       "sb10k         text classification       de    mcc\n",
       "dutch-social  text classification       nl    mcc"
      ]
     },
     "execution_count": 3,
     "metadata": {},
     "output_type": "execute_result"
    }
   ],
   "source": [
    "dataset_df = pd.DataFrame.from_records([\n",
    "    {'dataset': 'swerec', 'task': 'text classification', 'language': 'sv', 'metric': 'mcc'},\n",
    "    {'dataset': 'angry-tweets', 'task': 'text classification', 'language': 'da', 'metric': 'mcc'},\n",
    "    {'dataset': 'norec', 'task': 'text classification', 'language': 'no', 'metric': 'mcc'},\n",
    "    {'dataset': 'sb10k', 'task': 'text classification', 'language': 'de', 'metric': 'mcc'},\n",
    "    {'dataset': 'dutch-social', 'task': 'text classification', 'language': 'nl', 'metric': 'mcc'},\n",
    "    {'dataset': 'sst5', 'task': 'text classification', 'language': 'en', 'metric': 'mcc'},\n",
    "    {'dataset': 'suc3', 'task': 'information extraction', 'language': 'sv', 'metric': 'micro_f1_no_misc'},\n",
    "    {'dataset': 'dansk', 'task': 'information extraction', 'language': 'da', 'metric': 'micro_f1_no_misc'},\n",
    "    {'dataset': 'norne-nb', 'task': 'information extraction', 'language': 'no', 'metric': 'micro_f1_no_misc'},\n",
    "    {'dataset': 'norne-nn', 'task': 'information extraction', 'language': 'no', 'metric': 'micro_f1_no_misc'},\n",
    "    {'dataset': 'mim-gold-ner', 'task': 'information extraction', 'language': 'is', 'metric': 'micro_f1_no_misc'},\n",
    "    {'dataset': 'fone', 'task': 'information extraction', 'language': 'fo', 'metric': 'micro_f1_no_misc'},\n",
    "    {'dataset': 'germeval', 'task': 'information extraction', 'language': 'de', 'metric': 'micro_f1_no_misc'},\n",
    "    {'dataset': 'conll-nl', 'task': 'information extraction', 'language': 'nl', 'metric': 'micro_f1_no_misc'},\n",
    "    {'dataset': 'conll-en', 'task': 'information extraction', 'language': 'en', 'metric': 'micro_f1_no_misc'},\n",
    "    {'dataset': 'scala-sv', 'task': 'grammar', 'language': 'sv', 'metric': 'mcc'},\n",
    "    {'dataset': 'scala-da', 'task': 'grammar', 'language': 'da', 'metric': 'mcc'},\n",
    "    {'dataset': 'scala-nb', 'task': 'grammar', 'language': 'no', 'metric': 'mcc'},\n",
    "    {'dataset': 'scala-nn', 'task': 'grammar', 'language': 'no', 'metric': 'mcc'},\n",
    "    {'dataset': 'scala-is', 'task': 'grammar', 'language': 'is', 'metric': 'mcc'},\n",
    "    {'dataset': 'scala-fo', 'task': 'grammar', 'language': 'fo', 'metric': 'mcc'},\n",
    "    {'dataset': 'scala-de', 'task': 'grammar', 'language': 'de', 'metric': 'mcc'},\n",
    "    {'dataset': 'scala-nl', 'task': 'grammar', 'language': 'nl', 'metric': 'mcc'},\n",
    "    {'dataset': 'scala-en', 'task': 'grammar', 'language': 'en', 'metric': 'mcc'},\n",
    "    {'dataset': 'scandiqa-da', 'task': 'question answering', 'language': 'da', 'metric': 'em'},\n",
    "    {'dataset': 'norquad', 'task': 'question answering', 'language': 'no', 'metric': 'em'},\n",
    "    {'dataset': 'scandiqa-sv', 'task': 'question answering', 'language': 'sv', 'metric': 'em'},\n",
    "    {'dataset': 'nqii', 'task': 'question answering', 'language': 'is', 'metric': 'em'},\n",
    "    {'dataset': 'germanquad', 'task': 'question answering', 'language': 'de', 'metric': 'em'},\n",
    "    {'dataset': 'squad', 'task': 'question answering', 'language': 'en', 'metric': 'em'},\n",
    "    {'dataset': 'squad-nl', 'task': 'question answering', 'language': 'nl', 'metric': 'em'},\n",
    "    {'dataset': 'nordjylland-news', 'task': 'summarisation', 'language': 'da', 'metric': 'bertscore'},\n",
    "    {'dataset': 'mlsum', 'task': 'summarisation', 'language': 'de', 'metric': 'bertscore'},\n",
    "    {'dataset': 'rrn', 'task': 'summarisation', 'language': 'is', 'metric': 'bertscore'},\n",
    "    {'dataset': 'no-sammendrag', 'task': 'summarisation', 'language': 'no', 'metric': 'bertscore'},\n",
    "    {'dataset': 'wiki-lingua-nl', 'task': 'summarisation', 'language': 'nl', 'metric': 'bertscore'},\n",
    "    {'dataset': 'swedn', 'task': 'summarisation', 'language': 'sv', 'metric': 'bertscore'},\n",
    "    {'dataset': 'cnn-dailymail', 'task': 'summarisation', 'language': 'en', 'metric': 'bertscore'},\n",
    "    {'dataset': 'mmlu-da', 'task': 'knowledge', 'language': 'da', 'metric': 'accuracy'},\n",
    "    {'dataset': 'mmlu-no', 'task': 'knowledge', 'language': 'no', 'metric': 'accuracy'},\n",
    "    {'dataset': 'mmlu-sv', 'task': 'knowledge', 'language': 'sv', 'metric': 'accuracy'},\n",
    "    {'dataset': 'mmlu-is', 'task': 'knowledge', 'language': 'is', 'metric': 'accuracy'},\n",
    "    {'dataset': 'mmlu-de', 'task': 'knowledge', 'language': 'de', 'metric': 'accuracy'},\n",
    "    {'dataset': 'mmlu-nl', 'task': 'knowledge', 'language': 'nl', 'metric': 'accuracy'},\n",
    "    {'dataset': 'mmlu', 'task': 'knowledge', 'language': 'en', 'metric': 'accuracy'},\n",
    "    {'dataset': 'arc-da', 'task': 'knowledge', 'language': 'da', 'metric': 'accuracy'},\n",
    "    {'dataset': 'arc-no', 'task': 'knowledge', 'language': 'no', 'metric': 'accuracy'},\n",
    "    {'dataset': 'arc-sv', 'task': 'knowledge', 'language': 'sv', 'metric': 'accuracy'},\n",
    "    {'dataset': 'arc-is', 'task': 'knowledge', 'language': 'is', 'metric': 'accuracy'},\n",
    "    {'dataset': 'arc-de', 'task': 'knowledge', 'language': 'de', 'metric': 'accuracy'},\n",
    "    {'dataset': 'arc-nl', 'task': 'knowledge', 'language': 'nl', 'metric': 'accuracy'},\n",
    "    {'dataset': 'arc', 'task': 'knowledge', 'language': 'en', 'metric': 'accuracy'},\n",
    "    {'dataset': 'hellaswag-da', 'task': 'reasoning', 'language': 'da', 'metric': 'accuracy'},\n",
    "    {'dataset': 'hellaswag-no', 'task': 'reasoning', 'language': 'no', 'metric': 'accuracy'},\n",
    "    {'dataset': 'hellaswag-sv', 'task': 'reasoning', 'language': 'sv', 'metric': 'accuracy'},\n",
    "    {'dataset': 'hellaswag-is', 'task': 'reasoning', 'language': 'is', 'metric': 'accuracy'},\n",
    "    {'dataset': 'hellaswag-de', 'task': 'reasoning', 'language': 'de', 'metric': 'accuracy'},\n",
    "    {'dataset': 'hellaswag-nl', 'task': 'reasoning', 'language': 'nl', 'metric': 'accuracy'},\n",
    "    {'dataset': 'hellaswag', 'task': 'reasoning', 'language': 'en', 'metric': 'accuracy'},\n",
    "])\n",
    "dataset_df.set_index('dataset', inplace=True)\n",
    "dataset_df.head()"
   ]
  },
  {
   "cell_type": "code",
   "execution_count": 4,
   "id": "3958af17-fd11-4eca-977b-86df6f9ed8e5",
   "metadata": {},
   "outputs": [],
   "source": [
    "language_mapping = {\n",
    "    'da': 'Danish', \n",
    "    'sv': 'Swedish',\n",
    "    'no': 'Norwegian',\n",
    "    'is': 'Icelandic',\n",
    "    'fo': 'Faroese',\n",
    "    'de': 'German',\n",
    "    'nl': 'Dutch',\n",
    "    'en': 'English',\n",
    "}"
   ]
  },
  {
   "cell_type": "code",
   "execution_count": 5,
   "id": "af11c19d-9909-4442-833e-5efc1899f960",
   "metadata": {},
   "outputs": [
    {
     "name": "stdout",
     "output_type": "stream",
     "text": [
      "sv 142\n",
      "da 142\n",
      "no 142\n",
      "de 30\n",
      "nl 32\n",
      "en 16\n",
      "is 69\n",
      "fo 80\n"
     ]
    },
    {
     "data": {
      "text/html": [
       "<div>\n",
       "<style scoped>\n",
       "    .dataframe tbody tr th:only-of-type {\n",
       "        vertical-align: middle;\n",
       "    }\n",
       "\n",
       "    .dataframe tbody tr th {\n",
       "        vertical-align: top;\n",
       "    }\n",
       "\n",
       "    .dataframe thead th {\n",
       "        text-align: right;\n",
       "    }\n",
       "</style>\n",
       "<table border=\"1\" class=\"dataframe\">\n",
       "  <thead>\n",
       "    <tr style=\"text-align: right;\">\n",
       "      <th></th>\n",
       "      <th>text classification</th>\n",
       "      <th>grammar</th>\n",
       "      <th>question answering</th>\n",
       "      <th>information extraction</th>\n",
       "      <th>knowledge</th>\n",
       "      <th>reasoning</th>\n",
       "      <th>summarisation</th>\n",
       "    </tr>\n",
       "  </thead>\n",
       "  <tbody>\n",
       "    <tr>\n",
       "      <th>NbAiLab/nb-bert-base</th>\n",
       "      <td>46.318746</td>\n",
       "      <td>66.408849</td>\n",
       "      <td>36.422372</td>\n",
       "      <td>70.361393</td>\n",
       "      <td>NaN</td>\n",
       "      <td>NaN</td>\n",
       "      <td>NaN</td>\n",
       "    </tr>\n",
       "    <tr>\n",
       "      <th>pere/roberta-base-exp-8</th>\n",
       "      <td>49.662121</td>\n",
       "      <td>60.132599</td>\n",
       "      <td>32.604644</td>\n",
       "      <td>68.767906</td>\n",
       "      <td>NaN</td>\n",
       "      <td>NaN</td>\n",
       "      <td>NaN</td>\n",
       "    </tr>\n",
       "    <tr>\n",
       "      <th>ltg/norbert2</th>\n",
       "      <td>39.427808</td>\n",
       "      <td>50.755320</td>\n",
       "      <td>NaN</td>\n",
       "      <td>NaN</td>\n",
       "      <td>NaN</td>\n",
       "      <td>NaN</td>\n",
       "      <td>NaN</td>\n",
       "    </tr>\n",
       "    <tr>\n",
       "      <th>cardiffnlp/twitter-xlm-roberta-base</th>\n",
       "      <td>45.302430</td>\n",
       "      <td>51.744944</td>\n",
       "      <td>22.014608</td>\n",
       "      <td>70.096889</td>\n",
       "      <td>NaN</td>\n",
       "      <td>NaN</td>\n",
       "      <td>NaN</td>\n",
       "    </tr>\n",
       "    <tr>\n",
       "      <th>Geotrend/bert-base-en-fr-de-no-da-cased</th>\n",
       "      <td>34.783474</td>\n",
       "      <td>41.080549</td>\n",
       "      <td>40.320538</td>\n",
       "      <td>63.379064</td>\n",
       "      <td>NaN</td>\n",
       "      <td>NaN</td>\n",
       "      <td>NaN</td>\n",
       "    </tr>\n",
       "  </tbody>\n",
       "</table>\n",
       "</div>"
      ],
      "text/plain": [
       "                                         text classification    grammar  \\\n",
       "NbAiLab/nb-bert-base                               46.318746  66.408849   \n",
       "pere/roberta-base-exp-8                            49.662121  60.132599   \n",
       "ltg/norbert2                                       39.427808  50.755320   \n",
       "cardiffnlp/twitter-xlm-roberta-base                45.302430  51.744944   \n",
       "Geotrend/bert-base-en-fr-de-no-da-cased            34.783474  41.080549   \n",
       "\n",
       "                                         question answering  \\\n",
       "NbAiLab/nb-bert-base                              36.422372   \n",
       "pere/roberta-base-exp-8                           32.604644   \n",
       "ltg/norbert2                                            NaN   \n",
       "cardiffnlp/twitter-xlm-roberta-base               22.014608   \n",
       "Geotrend/bert-base-en-fr-de-no-da-cased           40.320538   \n",
       "\n",
       "                                         information extraction  knowledge  \\\n",
       "NbAiLab/nb-bert-base                                  70.361393        NaN   \n",
       "pere/roberta-base-exp-8                               68.767906        NaN   \n",
       "ltg/norbert2                                                NaN        NaN   \n",
       "cardiffnlp/twitter-xlm-roberta-base                   70.096889        NaN   \n",
       "Geotrend/bert-base-en-fr-de-no-da-cased               63.379064        NaN   \n",
       "\n",
       "                                         reasoning  summarisation  \n",
       "NbAiLab/nb-bert-base                           NaN            NaN  \n",
       "pere/roberta-base-exp-8                        NaN            NaN  \n",
       "ltg/norbert2                                   NaN            NaN  \n",
       "cardiffnlp/twitter-xlm-roberta-base            NaN            NaN  \n",
       "Geotrend/bert-base-en-fr-de-no-da-cased        NaN            NaN  "
      ]
     },
     "execution_count": 5,
     "metadata": {},
     "output_type": "execute_result"
    }
   ],
   "source": [
    "results_dfs = dict()\n",
    "\n",
    "for language in dataset_df.language.unique():\n",
    "    data_dict = defaultdict(dict)\n",
    "    for record in records:\n",
    "        model = record[\"model\"]\n",
    "        dataset = record[\"dataset\"]\n",
    "        if dataset in dataset_df.index:\n",
    "            if dataset_df.loc[dataset].language != language:\n",
    "                continue\n",
    "            task = dataset_df.loc[dataset].task\n",
    "            metric = dataset_df.loc[dataset].metric\n",
    "            results_dict = record['results']['total']\n",
    "            score = results_dict.get(f\"test_{metric}\", results_dict.get(metric))\n",
    "            if task in data_dict[model]:\n",
    "                data_dict[model][task].append(score)\n",
    "            else:\n",
    "                data_dict[model][task] = [score]\n",
    "    results_df = pd.DataFrame(data_dict).T.map(\n",
    "        lambda list_or_nan: np.mean(list_or_nan) if list_or_nan == list_or_nan else list_or_nan\n",
    "    )\n",
    "    results_dfs[language] = results_df\n",
    "\n",
    "for language, df in results_dfs.items():\n",
    "    print(language, len(df))\n",
    "\n",
    "results_dfs['da'].head()"
   ]
  },
  {
   "cell_type": "code",
   "execution_count": 6,
   "id": "9596acff-7736-4488-948a-19047b3dc50e",
   "metadata": {},
   "outputs": [],
   "source": [
    "def create_radial_plot(\n",
    "    model_ids: list[str], languages: list[str], tasks: list[str] | None = None\n",
    ") -> None:\n",
    "    \"\"\"Creates a radial plot with the performance of the model.\n",
    "\n",
    "    Args:\n",
    "        model_ids:\n",
    "            The IDs of the models to compare.\n",
    "        languages:\n",
    "            list of languages to compare on.\n",
    "        tasks:\n",
    "            The list of tasks to compare the models on. All models must have been\n",
    "            evaluated on all of the tasks. If None then we find the largest set\n",
    "            of tasks which all the models have been evaluated on. Defaults to None.\n",
    "\n",
    "    Raises:\n",
    "        AssertionError:\n",
    "            If any of the models have not been evaluated on all of the tasks.\n",
    "    \"\"\"\n",
    "    if tasks == None:\n",
    "        tasks = dataset_df.task.unique().tolist()\n",
    "        for model_id in model_ids:\n",
    "            for language, results_df in results_dfs.items():\n",
    "                if language not in languages:\n",
    "                    continue\n",
    "                tasks = list(set(tasks).intersection(results_df.loc[model_id].dropna().index.tolist()))\n",
    "    \n",
    "    # Add all the evaluation results for each model\n",
    "    results: list[list[float]] = list()\n",
    "    for model_id in model_ids:\n",
    "        result_list = list()\n",
    "        for task in tasks:\n",
    "            win_ratios = list()\n",
    "            scores = list()\n",
    "            for language in languages:\n",
    "                score = results_dfs[language].loc[model_id][task]\n",
    "                assert score == score, f\"The model {model!r} has not been benchmarked on the task {task!r}!\"\n",
    "                win_ratio = np.mean([\n",
    "                    score >= other_score\n",
    "                    for other_score in results_dfs[language][task].dropna()\n",
    "                ])\n",
    "                win_ratios.append(win_ratio)\n",
    "                scores.append(score)\n",
    "            result_list.append(np.mean(scores))\n",
    "        results.append(result_list)\n",
    "\n",
    "    # Add the results to a plotly figure\n",
    "    fig = go.Figure()\n",
    "    for model_id, result_list in zip(model_ids, results):\n",
    "        fig.add_trace(go.Scatterpolar(\n",
    "            r=result_list,\n",
    "            theta=tasks,\n",
    "            fill='toself',\n",
    "            name=model_id,\n",
    "        ))\n",
    "\n",
    "    languages_str = \"\"\n",
    "    if len(languages) > 1:\n",
    "        languages_str = \", \".join([language_mapping[language] for language in languages[:-1]])\n",
    "        languages_str += \" and \"\n",
    "    languages_str += language_mapping[languages[-1]]\n",
    "\n",
    "    # Builds the radial plot from the results\n",
    "    margin = plotly.graph_objects.layout.Margin(l=200, r=200)\n",
    "    fig.update_layout(\n",
    "        polar=dict(radialaxis=dict(\n",
    "            visible=True, \n",
    "            #range=[0, 100],\n",
    "        )), \n",
    "        showlegend=True,\n",
    "        width=1000,\n",
    "        height=500,\n",
    "        margin=margin,\n",
    "        title=f'LLM Performance on {languages_str} Language Tasks',\n",
    "    )\n",
    "    \n",
    "    fig.write_html('/Users/dan/Downloads/radial_plot.html')\n",
    "    fig.show()"
   ]
  },
  {
   "cell_type": "code",
   "execution_count": 14,
   "id": "9f88bfe7-7cb7-4480-859f-9f75e2315ed7",
   "metadata": {},
   "outputs": [
    {
     "data": {
      "application/vnd.plotly.v1+json": {
       "config": {
        "plotlyServerURL": "https://plot.ly"
       },
       "data": [
        {
         "fill": "toself",
         "name": "gpt-3.5-turbo-0613",
         "r": [
          53.82228454804969,
          59.508999988542804,
          69.1796875,
          64.0625,
          51.16922570892659,
          66.37869088444859,
          55.894081842282105
         ],
         "theta": [
          "question answering",
          "information extraction",
          "reasoning",
          "knowledge",
          "text classification",
          "summarisation",
          "grammar"
         ],
         "type": "scatterpolar"
        },
        {
         "fill": "toself",
         "name": "danish-foundation-models/munin-7b-alpha",
         "r": [
          39.772302545570646,
          38.31057198065794,
          42.9345703125,
          60.31005859375,
          37.13302460978657,
          62.95587799773784,
          26.460219763263698
         ],
         "theta": [
          "question answering",
          "information extraction",
          "reasoning",
          "knowledge",
          "text classification",
          "summarisation",
          "grammar"
         ],
         "type": "scatterpolar"
        }
       ],
       "layout": {
        "height": 500,
        "margin": {
         "l": 200,
         "r": 200
        },
        "polar": {
         "angularaxis": {
          "type": "category"
         },
         "radialaxis": {
          "autorange": true,
          "range": [
           0,
           70.84
          ],
          "type": "linear",
          "visible": true
         }
        },
        "showlegend": true,
        "template": {
         "data": {
          "bar": [
           {
            "error_x": {
             "color": "#2a3f5f"
            },
            "error_y": {
             "color": "#2a3f5f"
            },
            "marker": {
             "line": {
              "color": "#E5ECF6",
              "width": 0.5
             },
             "pattern": {
              "fillmode": "overlay",
              "size": 10,
              "solidity": 0.2
             }
            },
            "type": "bar"
           }
          ],
          "barpolar": [
           {
            "marker": {
             "line": {
              "color": "#E5ECF6",
              "width": 0.5
             },
             "pattern": {
              "fillmode": "overlay",
              "size": 10,
              "solidity": 0.2
             }
            },
            "type": "barpolar"
           }
          ],
          "carpet": [
           {
            "aaxis": {
             "endlinecolor": "#2a3f5f",
             "gridcolor": "white",
             "linecolor": "white",
             "minorgridcolor": "white",
             "startlinecolor": "#2a3f5f"
            },
            "baxis": {
             "endlinecolor": "#2a3f5f",
             "gridcolor": "white",
             "linecolor": "white",
             "minorgridcolor": "white",
             "startlinecolor": "#2a3f5f"
            },
            "type": "carpet"
           }
          ],
          "choropleth": [
           {
            "colorbar": {
             "outlinewidth": 0,
             "ticks": ""
            },
            "type": "choropleth"
           }
          ],
          "contour": [
           {
            "colorbar": {
             "outlinewidth": 0,
             "ticks": ""
            },
            "colorscale": [
             [
              0,
              "#0d0887"
             ],
             [
              0.1111111111111111,
              "#46039f"
             ],
             [
              0.2222222222222222,
              "#7201a8"
             ],
             [
              0.3333333333333333,
              "#9c179e"
             ],
             [
              0.4444444444444444,
              "#bd3786"
             ],
             [
              0.5555555555555556,
              "#d8576b"
             ],
             [
              0.6666666666666666,
              "#ed7953"
             ],
             [
              0.7777777777777778,
              "#fb9f3a"
             ],
             [
              0.8888888888888888,
              "#fdca26"
             ],
             [
              1,
              "#f0f921"
             ]
            ],
            "type": "contour"
           }
          ],
          "contourcarpet": [
           {
            "colorbar": {
             "outlinewidth": 0,
             "ticks": ""
            },
            "type": "contourcarpet"
           }
          ],
          "heatmap": [
           {
            "colorbar": {
             "outlinewidth": 0,
             "ticks": ""
            },
            "colorscale": [
             [
              0,
              "#0d0887"
             ],
             [
              0.1111111111111111,
              "#46039f"
             ],
             [
              0.2222222222222222,
              "#7201a8"
             ],
             [
              0.3333333333333333,
              "#9c179e"
             ],
             [
              0.4444444444444444,
              "#bd3786"
             ],
             [
              0.5555555555555556,
              "#d8576b"
             ],
             [
              0.6666666666666666,
              "#ed7953"
             ],
             [
              0.7777777777777778,
              "#fb9f3a"
             ],
             [
              0.8888888888888888,
              "#fdca26"
             ],
             [
              1,
              "#f0f921"
             ]
            ],
            "type": "heatmap"
           }
          ],
          "heatmapgl": [
           {
            "colorbar": {
             "outlinewidth": 0,
             "ticks": ""
            },
            "colorscale": [
             [
              0,
              "#0d0887"
             ],
             [
              0.1111111111111111,
              "#46039f"
             ],
             [
              0.2222222222222222,
              "#7201a8"
             ],
             [
              0.3333333333333333,
              "#9c179e"
             ],
             [
              0.4444444444444444,
              "#bd3786"
             ],
             [
              0.5555555555555556,
              "#d8576b"
             ],
             [
              0.6666666666666666,
              "#ed7953"
             ],
             [
              0.7777777777777778,
              "#fb9f3a"
             ],
             [
              0.8888888888888888,
              "#fdca26"
             ],
             [
              1,
              "#f0f921"
             ]
            ],
            "type": "heatmapgl"
           }
          ],
          "histogram": [
           {
            "marker": {
             "pattern": {
              "fillmode": "overlay",
              "size": 10,
              "solidity": 0.2
             }
            },
            "type": "histogram"
           }
          ],
          "histogram2d": [
           {
            "colorbar": {
             "outlinewidth": 0,
             "ticks": ""
            },
            "colorscale": [
             [
              0,
              "#0d0887"
             ],
             [
              0.1111111111111111,
              "#46039f"
             ],
             [
              0.2222222222222222,
              "#7201a8"
             ],
             [
              0.3333333333333333,
              "#9c179e"
             ],
             [
              0.4444444444444444,
              "#bd3786"
             ],
             [
              0.5555555555555556,
              "#d8576b"
             ],
             [
              0.6666666666666666,
              "#ed7953"
             ],
             [
              0.7777777777777778,
              "#fb9f3a"
             ],
             [
              0.8888888888888888,
              "#fdca26"
             ],
             [
              1,
              "#f0f921"
             ]
            ],
            "type": "histogram2d"
           }
          ],
          "histogram2dcontour": [
           {
            "colorbar": {
             "outlinewidth": 0,
             "ticks": ""
            },
            "colorscale": [
             [
              0,
              "#0d0887"
             ],
             [
              0.1111111111111111,
              "#46039f"
             ],
             [
              0.2222222222222222,
              "#7201a8"
             ],
             [
              0.3333333333333333,
              "#9c179e"
             ],
             [
              0.4444444444444444,
              "#bd3786"
             ],
             [
              0.5555555555555556,
              "#d8576b"
             ],
             [
              0.6666666666666666,
              "#ed7953"
             ],
             [
              0.7777777777777778,
              "#fb9f3a"
             ],
             [
              0.8888888888888888,
              "#fdca26"
             ],
             [
              1,
              "#f0f921"
             ]
            ],
            "type": "histogram2dcontour"
           }
          ],
          "mesh3d": [
           {
            "colorbar": {
             "outlinewidth": 0,
             "ticks": ""
            },
            "type": "mesh3d"
           }
          ],
          "parcoords": [
           {
            "line": {
             "colorbar": {
              "outlinewidth": 0,
              "ticks": ""
             }
            },
            "type": "parcoords"
           }
          ],
          "pie": [
           {
            "automargin": true,
            "type": "pie"
           }
          ],
          "scatter": [
           {
            "fillpattern": {
             "fillmode": "overlay",
             "size": 10,
             "solidity": 0.2
            },
            "type": "scatter"
           }
          ],
          "scatter3d": [
           {
            "line": {
             "colorbar": {
              "outlinewidth": 0,
              "ticks": ""
             }
            },
            "marker": {
             "colorbar": {
              "outlinewidth": 0,
              "ticks": ""
             }
            },
            "type": "scatter3d"
           }
          ],
          "scattercarpet": [
           {
            "marker": {
             "colorbar": {
              "outlinewidth": 0,
              "ticks": ""
             }
            },
            "type": "scattercarpet"
           }
          ],
          "scattergeo": [
           {
            "marker": {
             "colorbar": {
              "outlinewidth": 0,
              "ticks": ""
             }
            },
            "type": "scattergeo"
           }
          ],
          "scattergl": [
           {
            "marker": {
             "colorbar": {
              "outlinewidth": 0,
              "ticks": ""
             }
            },
            "type": "scattergl"
           }
          ],
          "scattermapbox": [
           {
            "marker": {
             "colorbar": {
              "outlinewidth": 0,
              "ticks": ""
             }
            },
            "type": "scattermapbox"
           }
          ],
          "scatterpolar": [
           {
            "marker": {
             "colorbar": {
              "outlinewidth": 0,
              "ticks": ""
             }
            },
            "type": "scatterpolar"
           }
          ],
          "scatterpolargl": [
           {
            "marker": {
             "colorbar": {
              "outlinewidth": 0,
              "ticks": ""
             }
            },
            "type": "scatterpolargl"
           }
          ],
          "scatterternary": [
           {
            "marker": {
             "colorbar": {
              "outlinewidth": 0,
              "ticks": ""
             }
            },
            "type": "scatterternary"
           }
          ],
          "surface": [
           {
            "colorbar": {
             "outlinewidth": 0,
             "ticks": ""
            },
            "colorscale": [
             [
              0,
              "#0d0887"
             ],
             [
              0.1111111111111111,
              "#46039f"
             ],
             [
              0.2222222222222222,
              "#7201a8"
             ],
             [
              0.3333333333333333,
              "#9c179e"
             ],
             [
              0.4444444444444444,
              "#bd3786"
             ],
             [
              0.5555555555555556,
              "#d8576b"
             ],
             [
              0.6666666666666666,
              "#ed7953"
             ],
             [
              0.7777777777777778,
              "#fb9f3a"
             ],
             [
              0.8888888888888888,
              "#fdca26"
             ],
             [
              1,
              "#f0f921"
             ]
            ],
            "type": "surface"
           }
          ],
          "table": [
           {
            "cells": {
             "fill": {
              "color": "#EBF0F8"
             },
             "line": {
              "color": "white"
             }
            },
            "header": {
             "fill": {
              "color": "#C8D4E3"
             },
             "line": {
              "color": "white"
             }
            },
            "type": "table"
           }
          ]
         },
         "layout": {
          "annotationdefaults": {
           "arrowcolor": "#2a3f5f",
           "arrowhead": 0,
           "arrowwidth": 1
          },
          "autotypenumbers": "strict",
          "coloraxis": {
           "colorbar": {
            "outlinewidth": 0,
            "ticks": ""
           }
          },
          "colorscale": {
           "diverging": [
            [
             0,
             "#8e0152"
            ],
            [
             0.1,
             "#c51b7d"
            ],
            [
             0.2,
             "#de77ae"
            ],
            [
             0.3,
             "#f1b6da"
            ],
            [
             0.4,
             "#fde0ef"
            ],
            [
             0.5,
             "#f7f7f7"
            ],
            [
             0.6,
             "#e6f5d0"
            ],
            [
             0.7,
             "#b8e186"
            ],
            [
             0.8,
             "#7fbc41"
            ],
            [
             0.9,
             "#4d9221"
            ],
            [
             1,
             "#276419"
            ]
           ],
           "sequential": [
            [
             0,
             "#0d0887"
            ],
            [
             0.1111111111111111,
             "#46039f"
            ],
            [
             0.2222222222222222,
             "#7201a8"
            ],
            [
             0.3333333333333333,
             "#9c179e"
            ],
            [
             0.4444444444444444,
             "#bd3786"
            ],
            [
             0.5555555555555556,
             "#d8576b"
            ],
            [
             0.6666666666666666,
             "#ed7953"
            ],
            [
             0.7777777777777778,
             "#fb9f3a"
            ],
            [
             0.8888888888888888,
             "#fdca26"
            ],
            [
             1,
             "#f0f921"
            ]
           ],
           "sequentialminus": [
            [
             0,
             "#0d0887"
            ],
            [
             0.1111111111111111,
             "#46039f"
            ],
            [
             0.2222222222222222,
             "#7201a8"
            ],
            [
             0.3333333333333333,
             "#9c179e"
            ],
            [
             0.4444444444444444,
             "#bd3786"
            ],
            [
             0.5555555555555556,
             "#d8576b"
            ],
            [
             0.6666666666666666,
             "#ed7953"
            ],
            [
             0.7777777777777778,
             "#fb9f3a"
            ],
            [
             0.8888888888888888,
             "#fdca26"
            ],
            [
             1,
             "#f0f921"
            ]
           ]
          },
          "colorway": [
           "#636efa",
           "#EF553B",
           "#00cc96",
           "#ab63fa",
           "#FFA15A",
           "#19d3f3",
           "#FF6692",
           "#B6E880",
           "#FF97FF",
           "#FECB52"
          ],
          "font": {
           "color": "#2a3f5f"
          },
          "geo": {
           "bgcolor": "white",
           "lakecolor": "white",
           "landcolor": "#E5ECF6",
           "showlakes": true,
           "showland": true,
           "subunitcolor": "white"
          },
          "hoverlabel": {
           "align": "left"
          },
          "hovermode": "closest",
          "mapbox": {
           "style": "light"
          },
          "paper_bgcolor": "white",
          "plot_bgcolor": "#E5ECF6",
          "polar": {
           "angularaxis": {
            "gridcolor": "white",
            "linecolor": "white",
            "ticks": ""
           },
           "bgcolor": "#E5ECF6",
           "radialaxis": {
            "gridcolor": "white",
            "linecolor": "white",
            "ticks": ""
           }
          },
          "scene": {
           "xaxis": {
            "backgroundcolor": "#E5ECF6",
            "gridcolor": "white",
            "gridwidth": 2,
            "linecolor": "white",
            "showbackground": true,
            "ticks": "",
            "zerolinecolor": "white"
           },
           "yaxis": {
            "backgroundcolor": "#E5ECF6",
            "gridcolor": "white",
            "gridwidth": 2,
            "linecolor": "white",
            "showbackground": true,
            "ticks": "",
            "zerolinecolor": "white"
           },
           "zaxis": {
            "backgroundcolor": "#E5ECF6",
            "gridcolor": "white",
            "gridwidth": 2,
            "linecolor": "white",
            "showbackground": true,
            "ticks": "",
            "zerolinecolor": "white"
           }
          },
          "shapedefaults": {
           "line": {
            "color": "#2a3f5f"
           }
          },
          "ternary": {
           "aaxis": {
            "gridcolor": "white",
            "linecolor": "white",
            "ticks": ""
           },
           "baxis": {
            "gridcolor": "white",
            "linecolor": "white",
            "ticks": ""
           },
           "bgcolor": "#E5ECF6",
           "caxis": {
            "gridcolor": "white",
            "linecolor": "white",
            "ticks": ""
           }
          },
          "title": {
           "x": 0.05
          },
          "xaxis": {
           "automargin": true,
           "gridcolor": "white",
           "linecolor": "white",
           "ticks": "",
           "title": {
            "standoff": 15
           },
           "zerolinecolor": "white",
           "zerolinewidth": 2
          },
          "yaxis": {
           "automargin": true,
           "gridcolor": "white",
           "linecolor": "white",
           "ticks": "",
           "title": {
            "standoff": 15
           },
           "zerolinecolor": "white",
           "zerolinewidth": 2
          }
         }
        },
        "title": {
         "text": "LLM Performance on Danish Language Tasks"
        },
        "width": 1000
       }
      },
      "image/png": "[encoded data removed]",
      "text/html": [
       "<div>                            <div id=\"2facd03e-ea38-4da4-bdd9-1679f4f98227\" class=\"plotly-graph-div\" style=\"height:500px; width:1000px;\"></div>            <script type=\"text/javascript\">                require([\"plotly\"], function(Plotly) {                    window.PLOTLYENV=window.PLOTLYENV || {};                                    if (document.getElementById(\"2facd03e-ea38-4da4-bdd9-1679f4f98227\")) {                    Plotly.newPlot(                        \"2facd03e-ea38-4da4-bdd9-1679f4f98227\",                        [{\"fill\":\"toself\",\"name\":\"gpt-3.5-turbo-0613\",\"r\":[53.82228454804969,59.508999988542804,69.1796875,64.0625,51.16922570892659,66.37869088444859,55.894081842282105],\"theta\":[\"question answering\",\"information extraction\",\"reasoning\",\"knowledge\",\"text classification\",\"summarisation\",\"grammar\"],\"type\":\"scatterpolar\"},{\"fill\":\"toself\",\"name\":\"danish-foundation-models\\u002fmunin-7b-alpha\",\"r\":[39.772302545570646,38.31057198065794,42.9345703125,60.31005859375,37.13302460978657,62.95587799773784,26.460219763263698],\"theta\":[\"question answering\",\"information extraction\",\"reasoning\",\"knowledge\",\"text classification\",\"summarisation\",\"grammar\"],\"type\":\"scatterpolar\"}],                        {\"template\":{\"data\":{\"histogram2dcontour\":[{\"type\":\"histogram2dcontour\",\"colorbar\":{\"outlinewidth\":0,\"ticks\":\"\"},\"colorscale\":[[0.0,\"#0d0887\"],[0.1111111111111111,\"#46039f\"],[0.2222222222222222,\"#7201a8\"],[0.3333333333333333,\"#9c179e\"],[0.4444444444444444,\"#bd3786\"],[0.5555555555555556,\"#d8576b\"],[0.6666666666666666,\"#ed7953\"],[0.7777777777777778,\"#fb9f3a\"],[0.8888888888888888,\"#fdca26\"],[1.0,\"#f0f921\"]]}],\"choropleth\":[{\"type\":\"choropleth\",\"colorbar\":{\"outlinewidth\":0,\"ticks\":\"\"}}],\"histogram2d\":[{\"type\":\"histogram2d\",\"colorbar\":{\"outlinewidth\":0,\"ticks\":\"\"},\"colorscale\":[[0.0,\"#0d0887\"],[0.1111111111111111,\"#46039f\"],[0.2222222222222222,\"#7201a8\"],[0.3333333333333333,\"#9c179e\"],[0.4444444444444444,\"#bd3786\"],[0.5555555555555556,\"#d8576b\"],[0.6666666666666666,\"#ed7953\"],[0.7777777777777778,\"#fb9f3a\"],[0.8888888888888888,\"#fdca26\"],[1.0,\"#f0f921\"]]}],\"heatmap\":[{\"type\":\"heatmap\",\"colorbar\":{\"outlinewidth\":0,\"ticks\":\"\"},\"colorscale\":[[0.0,\"#0d0887\"],[0.1111111111111111,\"#46039f\"],[0.2222222222222222,\"#7201a8\"],[0.3333333333333333,\"#9c179e\"],[0.4444444444444444,\"#bd3786\"],[0.5555555555555556,\"#d8576b\"],[0.6666666666666666,\"#ed7953\"],[0.7777777777777778,\"#fb9f3a\"],[0.8888888888888888,\"#fdca26\"],[1.0,\"#f0f921\"]]}],\"heatmapgl\":[{\"type\":\"heatmapgl\",\"colorbar\":{\"outlinewidth\":0,\"ticks\":\"\"},\"colorscale\":[[0.0,\"#0d0887\"],[0.1111111111111111,\"#46039f\"],[0.2222222222222222,\"#7201a8\"],[0.3333333333333333,\"#9c179e\"],[0.4444444444444444,\"#bd3786\"],[0.5555555555555556,\"#d8576b\"],[0.6666666666666666,\"#ed7953\"],[0.7777777777777778,\"#fb9f3a\"],[0.8888888888888888,\"#fdca26\"],[1.0,\"#f0f921\"]]}],\"contourcarpet\":[{\"type\":\"contourcarpet\",\"colorbar\":{\"outlinewidth\":0,\"ticks\":\"\"}}],\"contour\":[{\"type\":\"contour\",\"colorbar\":{\"outlinewidth\":0,\"ticks\":\"\"},\"colorscale\":[[0.0,\"#0d0887\"],[0.1111111111111111,\"#46039f\"],[0.2222222222222222,\"#7201a8\"],[0.3333333333333333,\"#9c179e\"],[0.4444444444444444,\"#bd3786\"],[0.5555555555555556,\"#d8576b\"],[0.6666666666666666,\"#ed7953\"],[0.7777777777777778,\"#fb9f3a\"],[0.8888888888888888,\"#fdca26\"],[1.0,\"#f0f921\"]]}],\"surface\":[{\"type\":\"surface\",\"colorbar\":{\"outlinewidth\":0,\"ticks\":\"\"},\"colorscale\":[[0.0,\"#0d0887\"],[0.1111111111111111,\"#46039f\"],[0.2222222222222222,\"#7201a8\"],[0.3333333333333333,\"#9c179e\"],[0.4444444444444444,\"#bd3786\"],[0.5555555555555556,\"#d8576b\"],[0.6666666666666666,\"#ed7953\"],[0.7777777777777778,\"#fb9f3a\"],[0.8888888888888888,\"#fdca26\"],[1.0,\"#f0f921\"]]}],\"mesh3d\":[{\"type\":\"mesh3d\",\"colorbar\":{\"outlinewidth\":0,\"ticks\":\"\"}}],\"scatter\":[{\"fillpattern\":{\"fillmode\":\"overlay\",\"size\":10,\"solidity\":0.2},\"type\":\"scatter\"}],\"parcoords\":[{\"type\":\"parcoords\",\"line\":{\"colorbar\":{\"outlinewidth\":0,\"ticks\":\"\"}}}],\"scatterpolargl\":[{\"type\":\"scatterpolargl\",\"marker\":{\"colorbar\":{\"outlinewidth\":0,\"ticks\":\"\"}}}],\"bar\":[{\"error_x\":{\"color\":\"#2a3f5f\"},\"error_y\":{\"color\":\"#2a3f5f\"},\"marker\":{\"line\":{\"color\":\"#E5ECF6\",\"width\":0.5},\"pattern\":{\"fillmode\":\"overlay\",\"size\":10,\"solidity\":0.2}},\"type\":\"bar\"}],\"scattergeo\":[{\"type\":\"scattergeo\",\"marker\":{\"colorbar\":{\"outlinewidth\":0,\"ticks\":\"\"}}}],\"scatterpolar\":[{\"type\":\"scatterpolar\",\"marker\":{\"colorbar\":{\"outlinewidth\":0,\"ticks\":\"\"}}}],\"histogram\":[{\"marker\":{\"pattern\":{\"fillmode\":\"overlay\",\"size\":10,\"solidity\":0.2}},\"type\":\"histogram\"}],\"scattergl\":[{\"type\":\"scattergl\",\"marker\":{\"colorbar\":{\"outlinewidth\":0,\"ticks\":\"\"}}}],\"scatter3d\":[{\"type\":\"scatter3d\",\"line\":{\"colorbar\":{\"outlinewidth\":0,\"ticks\":\"\"}},\"marker\":{\"colorbar\":{\"outlinewidth\":0,\"ticks\":\"\"}}}],\"scattermapbox\":[{\"type\":\"scattermapbox\",\"marker\":{\"colorbar\":{\"outlinewidth\":0,\"ticks\":\"\"}}}],\"scatterternary\":[{\"type\":\"scatterternary\",\"marker\":{\"colorbar\":{\"outlinewidth\":0,\"ticks\":\"\"}}}],\"scattercarpet\":[{\"type\":\"scattercarpet\",\"marker\":{\"colorbar\":{\"outlinewidth\":0,\"ticks\":\"\"}}}],\"carpet\":[{\"aaxis\":{\"endlinecolor\":\"#2a3f5f\",\"gridcolor\":\"white\",\"linecolor\":\"white\",\"minorgridcolor\":\"white\",\"startlinecolor\":\"#2a3f5f\"},\"baxis\":{\"endlinecolor\":\"#2a3f5f\",\"gridcolor\":\"white\",\"linecolor\":\"white\",\"minorgridcolor\":\"white\",\"startlinecolor\":\"#2a3f5f\"},\"type\":\"carpet\"}],\"table\":[{\"cells\":{\"fill\":{\"color\":\"#EBF0F8\"},\"line\":{\"color\":\"white\"}},\"header\":{\"fill\":{\"color\":\"#C8D4E3\"},\"line\":{\"color\":\"white\"}},\"type\":\"table\"}],\"barpolar\":[{\"marker\":{\"line\":{\"color\":\"#E5ECF6\",\"width\":0.5},\"pattern\":{\"fillmode\":\"overlay\",\"size\":10,\"solidity\":0.2}},\"type\":\"barpolar\"}],\"pie\":[{\"automargin\":true,\"type\":\"pie\"}]},\"layout\":{\"autotypenumbers\":\"strict\",\"colorway\":[\"#636efa\",\"#EF553B\",\"#00cc96\",\"#ab63fa\",\"#FFA15A\",\"#19d3f3\",\"#FF6692\",\"#B6E880\",\"#FF97FF\",\"#FECB52\"],\"font\":{\"color\":\"#2a3f5f\"},\"hovermode\":\"closest\",\"hoverlabel\":{\"align\":\"left\"},\"paper_bgcolor\":\"white\",\"plot_bgcolor\":\"#E5ECF6\",\"polar\":{\"bgcolor\":\"#E5ECF6\",\"angularaxis\":{\"gridcolor\":\"white\",\"linecolor\":\"white\",\"ticks\":\"\"},\"radialaxis\":{\"gridcolor\":\"white\",\"linecolor\":\"white\",\"ticks\":\"\"}},\"ternary\":{\"bgcolor\":\"#E5ECF6\",\"aaxis\":{\"gridcolor\":\"white\",\"linecolor\":\"white\",\"ticks\":\"\"},\"baxis\":{\"gridcolor\":\"white\",\"linecolor\":\"white\",\"ticks\":\"\"},\"caxis\":{\"gridcolor\":\"white\",\"linecolor\":\"white\",\"ticks\":\"\"}},\"coloraxis\":{\"colorbar\":{\"outlinewidth\":0,\"ticks\":\"\"}},\"colorscale\":{\"sequential\":[[0.0,\"#0d0887\"],[0.1111111111111111,\"#46039f\"],[0.2222222222222222,\"#7201a8\"],[0.3333333333333333,\"#9c179e\"],[0.4444444444444444,\"#bd3786\"],[0.5555555555555556,\"#d8576b\"],[0.6666666666666666,\"#ed7953\"],[0.7777777777777778,\"#fb9f3a\"],[0.8888888888888888,\"#fdca26\"],[1.0,\"#f0f921\"]],\"sequentialminus\":[[0.0,\"#0d0887\"],[0.1111111111111111,\"#46039f\"],[0.2222222222222222,\"#7201a8\"],[0.3333333333333333,\"#9c179e\"],[0.4444444444444444,\"#bd3786\"],[0.5555555555555556,\"#d8576b\"],[0.6666666666666666,\"#ed7953\"],[0.7777777777777778,\"#fb9f3a\"],[0.8888888888888888,\"#fdca26\"],[1.0,\"#f0f921\"]],\"diverging\":[[0,\"#8e0152\"],[0.1,\"#c51b7d\"],[0.2,\"#de77ae\"],[0.3,\"#f1b6da\"],[0.4,\"#fde0ef\"],[0.5,\"#f7f7f7\"],[0.6,\"#e6f5d0\"],[0.7,\"#b8e186\"],[0.8,\"#7fbc41\"],[0.9,\"#4d9221\"],[1,\"#276419\"]]},\"xaxis\":{\"gridcolor\":\"white\",\"linecolor\":\"white\",\"ticks\":\"\",\"title\":{\"standoff\":15},\"zerolinecolor\":\"white\",\"automargin\":true,\"zerolinewidth\":2},\"yaxis\":{\"gridcolor\":\"white\",\"linecolor\":\"white\",\"ticks\":\"\",\"title\":{\"standoff\":15},\"zerolinecolor\":\"white\",\"automargin\":true,\"zerolinewidth\":2},\"scene\":{\"xaxis\":{\"backgroundcolor\":\"#E5ECF6\",\"gridcolor\":\"white\",\"linecolor\":\"white\",\"showbackground\":true,\"ticks\":\"\",\"zerolinecolor\":\"white\",\"gridwidth\":2},\"yaxis\":{\"backgroundcolor\":\"#E5ECF6\",\"gridcolor\":\"white\",\"linecolor\":\"white\",\"showbackground\":true,\"ticks\":\"\",\"zerolinecolor\":\"white\",\"gridwidth\":2},\"zaxis\":{\"backgroundcolor\":\"#E5ECF6\",\"gridcolor\":\"white\",\"linecolor\":\"white\",\"showbackground\":true,\"ticks\":\"\",\"zerolinecolor\":\"white\",\"gridwidth\":2}},\"shapedefaults\":{\"line\":{\"color\":\"#2a3f5f\"}},\"annotationdefaults\":{\"arrowcolor\":\"#2a3f5f\",\"arrowhead\":0,\"arrowwidth\":1},\"geo\":{\"bgcolor\":\"white\",\"landcolor\":\"#E5ECF6\",\"subunitcolor\":\"white\",\"showland\":true,\"showlakes\":true,\"lakecolor\":\"white\"},\"title\":{\"x\":0.05},\"mapbox\":{\"style\":\"light\"}}},\"polar\":{\"radialaxis\":{\"visible\":true}},\"showlegend\":true,\"width\":1000,\"height\":500,\"margin\":{\"l\":200,\"r\":200},\"title\":{\"text\":\"LLM Performance on Danish Language Tasks\"}},                        {\"responsive\": true}                    ).then(function(){\n",
       "                            \n",
       "var gd = document.getElementById('2facd03e-ea38-4da4-bdd9-1679f4f98227');\n",
       "var x = new MutationObserver(function (mutations, observer) {{\n",
       "        var display = window.getComputedStyle(gd).display;\n",
       "        if (!display || display === 'none') {{\n",
       "            console.log([gd, 'removed!']);\n",
       "            Plotly.purge(gd);\n",
       "            observer.disconnect();\n",
       "        }}\n",
       "}});\n",
       "\n",
       "// Listen for the removal of the full notebook cells\n",
       "var notebookContainer = gd.closest('#notebook-container');\n",
       "if (notebookContainer) {{\n",
       "    x.observe(notebookContainer, {childList: true});\n",
       "}}\n",
       "\n",
       "// Listen for the clearing of the current output cell\n",
       "var outputEl = gd.closest('.output');\n",
       "if (outputEl) {{\n",
       "    x.observe(outputEl, {childList: true});\n",
       "}}\n",
       "\n",
       "                        })                };                });            </script>        </div>"
      ]
     },
     "metadata": {},
     "output_type": "display_data"
    }
   ],
   "source": [
    "create_radial_plot(\n",
    "    model_ids=[\n",
    "        #'gpt-4-0613',\n",
    "        'gpt-3.5-turbo-0613', \n",
    "        'danish-foundation-models/munin-7b-alpha',\n",
    "        #'KennethEnevoldsen/dfm-sentence-encoder-large-2',\n",
    "    ],\n",
    "    languages=[\n",
    "        'da', \n",
    "        #'sv', \n",
    "        #'no',\n",
    "    ],\n",
    "    tasks=None,\n",
    ")"
   ]
  }
 ],
 "metadata": {
  "kernelspec": {
   "display_name": "Python 3 (ipykernel)",
   "language": "python",
   "name": "python3"
  },
  "language_info": {
   "codemirror_mode": {
    "name": "ipython",
    "version": 3
   },
   "file_extension": ".py",
   "mimetype": "text/x-python",
   "name": "python",
   "nbconvert_exporter": "python",
   "pygments_lexer": "ipython3",
   "version": "3.10.13"
  }
 },
 "nbformat": 4,
 "nbformat_minor": 5
}
