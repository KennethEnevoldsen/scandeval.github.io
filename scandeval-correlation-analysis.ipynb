{
 "cells": [
  {
   "cell_type": "code",
   "execution_count": 1,
   "id": "a35a902d-df91-4380-b918-67a6b4ac786c",
   "metadata": {},
   "outputs": [],
   "source": [
    "import json\n",
    "import pandas as pd\n",
    "import matplotlib.pyplot as plt\n",
    "from sklearn.linear_model import LinearRegression\n",
    "from pathlib import Path\n",
    "import numpy as np\n",
    "import plotly.express as px\n",
    "import plotly.io as pio\n",
    "pio.renderers.default = 'iframe'\n",
    "plt.style.use('ggplot')"
   ]
  },
  {
   "cell_type": "code",
   "execution_count": 2,
   "id": "4fabb3a3-2353-48f3-80bb-fb638a603395",
   "metadata": {},
   "outputs": [
    {
     "data": {
      "text/plain": [
       "3310"
      ]
     },
     "execution_count": 2,
     "metadata": {},
     "output_type": "execute_result"
    }
   ],
   "source": [
    "with Path('scandeval_benchmark_results.jsonl').open() as f:\n",
    "    records = [json.loads(dct_str) for dct_str in f if dct_str.strip(\"\\n\")]\n",
    "len(records)"
   ]
  },
  {
   "cell_type": "code",
   "execution_count": 3,
   "id": "bb8632b8-17b6-4267-96e5-998deab0b145",
   "metadata": {},
   "outputs": [
    {
     "data": {
      "text/plain": [
       "dict_keys(['dataset', 'task', 'dataset_languages', 'model', 'results', 'num_model_parameters', 'max_sequence_length', 'vocabulary_size', 'few_shot'])"
      ]
     },
     "execution_count": 3,
     "metadata": {},
     "output_type": "execute_result"
    }
   ],
   "source": [
    "records[0].keys()"
   ]
  },
  {
   "cell_type": "code",
   "execution_count": 4,
   "id": "2d217e75-e3c1-4d8e-9cbb-31567dd148eb",
   "metadata": {},
   "outputs": [
    {
     "name": "stdout",
     "output_type": "stream",
     "text": [
      "Correlation: 63.36%\n"
     ]
    },
    {
     "data": {
      "text/html": [
       "<iframe\n",
       "    scrolling=\"no\"\n",
       "    width=\"100%\"\n",
       "    height=\"545px\"\n",
       "    src=\"iframe_figures/figure_4.html\"\n",
       "    frameborder=\"0\"\n",
       "    allowfullscreen\n",
       "></iframe>\n"
      ]
     },
     "metadata": {},
     "output_type": "display_data"
    }
   ],
   "source": [
    "dane_model_ids = {record['model'] for record in records if record['dataset'] == 'dane'}\n",
    "dansk_model_ids = {record['model'] for record in records if record['dataset'] == 'dansk'}\n",
    "relevant_model_ids = list(dansk_model_ids.intersection(dane_model_ids))\n",
    "\n",
    "dane_scores = [\n",
    "    [\n",
    "        record['results']['total']['test_micro_f1'] \n",
    "        for record in records\n",
    "        if record['model'] == model_id and record['dataset'] == 'dane'\n",
    "    ][0]\n",
    "    for model_id in relevant_model_ids\n",
    "]\n",
    "dansk_scores = [\n",
    "    [\n",
    "        record['results']['total']['test_micro_f1'] \n",
    "        for record in records\n",
    "        if record['model'] == model_id and record['dataset'] == 'dansk'\n",
    "    ][0]\n",
    "    for model_id in relevant_model_ids\n",
    "]\n",
    "\n",
    "corr = np.corrcoef(x=dane_scores, y=dansk_scores)[0, 1]\n",
    "print(f\"Correlation: {corr:.2%}\")\n",
    "\n",
    "fig = px.scatter(\n",
    "    x=dane_scores, \n",
    "    y=dansk_scores,\n",
    "    title='Correlation between Danish NER datasets',\n",
    "    trendline='ols',\n",
    "    hover_name=relevant_model_ids,\n",
    "    labels=dict(x='DaNE Micro-F1 score', y='DANSK Micro-F1 score'),\n",
    ")\n",
    "fig.write_html('/Users/dan/Downloads/dane-dansk-correlation.html')\n",
    "fig.show()"
   ]
  },
  {
   "cell_type": "code",
   "execution_count": 5,
   "id": "882b1974-f919-483d-abcb-b5f683593a70",
   "metadata": {},
   "outputs": [
    {
     "name": "stdout",
     "output_type": "stream",
     "text": [
      "Correlation: 79.02%\n"
     ]
    },
    {
     "data": {
      "text/html": [
       "<iframe\n",
       "    scrolling=\"no\"\n",
       "    width=\"100%\"\n",
       "    height=\"545px\"\n",
       "    src=\"iframe_figures/figure_5.html\"\n",
       "    frameborder=\"0\"\n",
       "    allowfullscreen\n",
       "></iframe>\n"
      ]
     },
     "metadata": {},
     "output_type": "display_data"
    }
   ],
   "source": [
    "scandiqa_no_model_ids = {record['model'] for record in records if record['dataset'] == 'scandiqa-no'}\n",
    "norquad_model_ids = {record['model'] for record in records if record['dataset'] == 'norquad'}\n",
    "relevant_model_ids = list(norquad_model_ids.intersection(scandiqa_no_model_ids))\n",
    "\n",
    "scandiqa_no_scores = [\n",
    "    [\n",
    "        record['results']['total']['test_em'] \n",
    "        for record in records\n",
    "        if record['model'] == model_id and record['dataset'] == 'scandiqa-no'\n",
    "    ][0]\n",
    "    for model_id in relevant_model_ids\n",
    "]\n",
    "norquad_scores = [\n",
    "    [\n",
    "        record['results']['total']['test_em'] \n",
    "        for record in records\n",
    "        if record['model'] == model_id and record['dataset'] == 'norquad'\n",
    "    ][0]\n",
    "    for model_id in relevant_model_ids\n",
    "]\n",
    "\n",
    "corr = np.corrcoef(x=scandiqa_no_scores, y=norquad_scores)[0, 1]\n",
    "print(f\"Correlation: {corr:.2%}\")\n",
    "\n",
    "fig = px.scatter(\n",
    "    x=scandiqa_no_scores, \n",
    "    y=norquad_scores,\n",
    "    title='Correlation between Norwegian QA datasets',\n",
    "    trendline='ols',\n",
    "    hover_name=relevant_model_ids,\n",
    "    labels=dict(x='ScandiQA-no exact match score', y='NorQuAD exact match score'),\n",
    ")\n",
    "fig.write_html('/Users/dan/Downloads/scandiqa-no-norquad-correlation.html')\n",
    "fig.show()"
   ]
  }
 ],
 "metadata": {
  "kernelspec": {
   "display_name": "Python 3 (ipykernel)",
   "language": "python",
   "name": "python3"
  },
  "language_info": {
   "codemirror_mode": {
    "name": "ipython",
    "version": 3
   },
   "file_extension": ".py",
   "mimetype": "text/x-python",
   "name": "python",
   "nbconvert_exporter": "python",
   "pygments_lexer": "ipython3",
   "version": "3.10.13"
  }
 },
 "nbformat": 4,
 "nbformat_minor": 5
}
